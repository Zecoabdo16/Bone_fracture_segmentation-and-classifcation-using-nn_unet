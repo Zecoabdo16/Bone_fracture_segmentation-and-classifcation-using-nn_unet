{
  "nbformat": 4,
  "nbformat_minor": 0,
  "metadata": {
    "colab": {
      "provenance": [],
      "gpuType": "T4"
    },
    "kernelspec": {
      "name": "python3",
      "display_name": "Python 3"
    },
    "language_info": {
      "name": "python"
    },
    "accelerator": "GPU"
  },
  "cells": [
    {
      "cell_type": "code",
      "execution_count": 2,
      "metadata": {
        "id": "pNBi9nR5y2Z-"
      },
      "outputs": [],
      "source": [
        "# import cv2\n",
        "# from ultralytics import YOLO\n",
        "# import numpy as np\n",
        "# import torch\n",
        "\n",
        "# img= cv2.imread('ultralytics/assets/bus.jpg')\n",
        "# model = YOLO('yolov8m-seg.pt')\n",
        "# results = model.predict(source=img.copy(), save=True, save_txt=False, stream=True)\n",
        "# for result in results:\n",
        "#     # get array results\n",
        "#     masks = result.masks.data\n",
        "#     boxes = result.boxes.data\n",
        "#     # extract classes\n",
        "#     clss = boxes[:, 5]\n",
        "#     # get indices of results where class is 0 (people in COCO)\n",
        "#     people_indices = torch.where(clss == 0)\n",
        "#     # use these indices to extract the relevant masks\n",
        "#     people_masks = masks[people_indices]\n",
        "#     # scale for visualizing results\n",
        "#     people_mask = torch.any(people_masks, dim=0).int() * 255\n",
        "#     # save to file\n",
        "#     cv2.imwrite(str(model.predictor.save_dir / 'merged_segs.jpg'), people_mask.cpu().numpy())"
      ]
    },
    {
      "cell_type": "code",
      "source": [
        "!pip install ultralytics"
      ],
      "metadata": {
        "id": "0WXjbU2a0oYX"
      },
      "execution_count": null,
      "outputs": []
    },
    {
      "cell_type": "code",
      "source": [
        "!git clone https://github.com/XLR8-07/FracAtlas.git"
      ],
      "metadata": {
        "id": "LnPRrMQ8c-aW"
      },
      "execution_count": null,
      "outputs": []
    },
    {
      "cell_type": "code",
      "source": [
        "import ultralytics\n",
        "from ultralytics import YOLO\n",
        "from IPython.display import display, Image\n",
        "import cv2\n",
        "ultralytics.checks()"
      ],
      "metadata": {
        "colab": {
          "base_uri": "https://localhost:8080/"
        },
        "id": "0a0xJA1falaB",
        "outputId": "e6f82eca-2ff5-4f82-9440-5e6d9b5a5f97"
      },
      "execution_count": 31,
      "outputs": [
        {
          "output_type": "stream",
          "name": "stderr",
          "text": [
            "Ultralytics YOLOv8.0.207 🚀 Python-3.10.12 torch-2.1.0+cu118 CUDA:0 (Tesla T4, 15102MiB)\n",
            "Setup complete ✅ (2 CPUs, 12.7 GB RAM, 29.1/78.2 GB disk)\n"
          ]
        }
      ]
    },
    {
      "cell_type": "code",
      "source": [
        "!unzip /'content/drive/MyDrive/bayena/FracAtlas.zip' -d '/content/seg/' #unziping the folder that contains the images"
      ],
      "metadata": {
        "id": "c5qbiDNE0rXn"
      },
      "execution_count": null,
      "outputs": []
    },
    {
      "cell_type": "code",
      "source": [
        "# !yolo task=segment mode=predict save=True model=/content/FracAtlas/weights/yolov8_segmentation_fractureAtlas.pt conf=0.25 source=\"/content/seg/FracAtlas/images/Fractured\" hide_labels=True"
      ],
      "metadata": {
        "id": "fyxVRWfkYa-y"
      },
      "execution_count": 16,
      "outputs": []
    },
    {
      "cell_type": "code",
      "source": [
        "# model = YOLO('/content/FracAtlas/weights/yolov8_segmentation_fractureAtlas.pt')  # load a custom model\n",
        "# # Predict with the model\n",
        "# results = model('/content/seg/FracAtlas/images/Fractured/IMG0000142.jpg', retina_masks=True)"
      ],
      "metadata": {
        "id": "RYNq1cvYMKGi"
      },
      "execution_count": 17,
      "outputs": []
    },
    {
      "cell_type": "code",
      "source": [
        "## FRACTURED MASKS\n",
        "\n",
        "import numpy as np\n",
        "import nibabel as nib\n",
        "import os\n",
        "import torch\n",
        "\n",
        "os.mkdir('./image_masks/')\n",
        "os.mkdir('./image_masks/images')\n",
        "os.mkdir('./image_masks/masks')\n",
        "\n",
        "model = YOLO('/content/FracAtlas/weights/yolov8_segmentation_fractureAtlas.pt')  # load a custom model\n",
        "folder_path = '/content/seg/FracAtlas/images/Fractured' # path to the image directory\n",
        "img_name_list = os.listdir(folder_path)\n",
        "\n",
        "for img_name in img_name_list:\n",
        "\n",
        "  img = cv2.imread(folder_path +'/'+ img_name  )\n",
        "  # Predict with the model\n",
        "  results = model(img, retina_masks=True)\n",
        "\n",
        "  if results[0].masks == None:\n",
        "    masks_array = np.zeros((img.shape[:-1]))\n",
        "  else:\n",
        "    masks_array = results[0].masks.data\n",
        "    masks_array = torch.any(masks_array, dim=0).int() # *255 to display as the mask is in binary(0,1)\n",
        "    masks_array = masks_array.cpu().numpy()\n",
        "\n",
        "\n",
        "  cv2.imwrite('/content/image_masks/images/'+ img_name , img)   #saving the images with full resolution\n",
        "  cv2.imwrite('/content/image_masks/masks/'+ img_name, masks_array)  #saving the masks with full resolution\n"
      ],
      "metadata": {
        "id": "puP6FEacaXP8"
      },
      "execution_count": null,
      "outputs": []
    },
    {
      "cell_type": "code",
      "source": [
        "## NON FRACTURED BLACK MASKS as it has no fracture yet it has to have a label\n",
        "\n",
        "folder_path = '/content/seg/FracAtlas/images/Non_fractured' # path to the image directory\n",
        "img_name_list = os.listdir(folder_path)\n",
        "\n",
        "for img_name in img_name_list:\n",
        "\n",
        "  img = cv2.imread(folder_path +'/'+ img_name  )\n",
        "  masks_array = np.zeros((img.shape[:-1]))\n",
        "\n",
        "\n",
        "  cv2.imwrite('/content/image_masks/images/'+ img_name , img) #saving the images with full resolution\n",
        "  cv2.imwrite('/content/image_masks/masks/'+ img_name, masks_array) #saving the black masks with full resolution\n"
      ],
      "metadata": {
        "id": "tCkIDYlQYeJR"
      },
      "execution_count": 21,
      "outputs": []
    },
    {
      "cell_type": "code",
      "source": [
        "!tar -cvf \"/content/drive/MyDrive/bayena/full_res_images_masks.tar\" \"/content/image_masks\"     #[run this cell to create tar files]"
      ],
      "metadata": {
        "id": "qMl9IO5JSPS7"
      },
      "execution_count": null,
      "outputs": []
    },
    {
      "cell_type": "code",
      "source": [
        "# import numpy as np\n",
        "# import nibabel as nib\n",
        "\n",
        "# converted_array = np.array(masks_array, dtype=np.float32) # You need to replace normal array by yours\n",
        "# affine = np.eye(4)\n",
        "# nifti_file = nib.Nifti1Image(converted_array, affine)\n",
        "\n",
        "# nib.save(nifti_file, 'merged_segs.nii.gz') # Here you put the path + the extionsion 'nii' or 'nii.gz'"
      ],
      "metadata": {
        "id": "DBcX2S5oSPr0"
      },
      "execution_count": 24,
      "outputs": []
    },
    {
      "cell_type": "code",
      "source": [
        "# images_name_list = os.listdir('/content/seg/FracAtlas/images/Fractured')"
      ],
      "metadata": {
        "id": "5biAjQdkEzDr"
      },
      "execution_count": 40,
      "outputs": []
    },
    {
      "cell_type": "code",
      "source": [
        "# images_name_list[0][:-4]"
      ],
      "metadata": {
        "colab": {
          "base_uri": "https://localhost:8080/",
          "height": 35
        },
        "id": "sNkHvWgzKYVk",
        "outputId": "25c87140-93ee-4735-a566-2833c365d388"
      },
      "execution_count": 43,
      "outputs": [
        {
          "output_type": "execute_result",
          "data": {
            "text/plain": [
              "'IMG0001363'"
            ],
            "application/vnd.google.colaboratory.intrinsic+json": {
              "type": "string"
            }
          },
          "metadata": {},
          "execution_count": 43
        }
      ]
    },
    {
      "cell_type": "code",
      "source": [],
      "metadata": {
        "id": "xE5G3UfeLWIY"
      },
      "execution_count": null,
      "outputs": []
    }
  ]
}
