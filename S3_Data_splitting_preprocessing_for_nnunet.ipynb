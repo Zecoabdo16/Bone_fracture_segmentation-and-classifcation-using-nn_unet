{
  "nbformat": 4,
  "nbformat_minor": 0,
  "metadata": {
    "colab": {
      "provenance": []
    },
    "kernelspec": {
      "name": "python3",
      "display_name": "Python 3"
    },
    "language_info": {
      "name": "python"
    }
  },
  "cells": [
    {
      "cell_type": "markdown",
      "source": [
        "# This notebook is to preprocess a number of images for nn-net training based on the CSV splits yet it can be skipped as we will have to re run all again on the next notebook.\n"
      ],
      "metadata": {
        "id": "YQNcqCQ1OyJz"
      }
    },
    {
      "cell_type": "code",
      "execution_count": 1,
      "metadata": {
        "colab": {
          "base_uri": "https://localhost:8080/"
        },
        "id": "JID-lFJlOZlB",
        "outputId": "fdcb14e6-5d5c-4d9e-9488-382d08eb1d57"
      },
      "outputs": [
        {
          "output_type": "stream",
          "name": "stdout",
          "text": [
            "Cloning into 'FracAtlas'...\n",
            "remote: Enumerating objects: 113, done.\u001b[K\n",
            "remote: Counting objects: 100% (66/66), done.\u001b[K\n",
            "remote: Compressing objects: 100% (51/51), done.\u001b[K\n",
            "remote: Total 113 (delta 29), reused 41 (delta 14), pack-reused 47\u001b[K\n",
            "Receiving objects: 100% (113/113), 44.95 MiB | 28.24 MiB/s, done.\n",
            "Resolving deltas: 100% (41/41), done.\n",
            "Requirement already satisfied: nibabel in /usr/local/lib/python3.10/dist-packages (4.0.2)\n",
            "Requirement already satisfied: numpy>=1.17 in /usr/local/lib/python3.10/dist-packages (from nibabel) (1.23.5)\n",
            "Requirement already satisfied: packaging>=17.0 in /usr/local/lib/python3.10/dist-packages (from nibabel) (23.2)\n",
            "Requirement already satisfied: setuptools in /usr/local/lib/python3.10/dist-packages (from nibabel) (67.7.2)\n"
          ]
        }
      ],
      "source": [
        "!git clone https://github.com/XLR8-07/FracAtlas.git\n",
        "!pip install nibabel"
      ]
    },
    {
      "cell_type": "code",
      "source": [
        "!unzip /'content/drive/MyDrive/bayena/FracAtlas.zip' -d '/content/seg/' > /dev/null\n"
      ],
      "metadata": {
        "id": "L3Rye8HjOtig"
      },
      "execution_count": null,
      "outputs": []
    },
    {
      "cell_type": "code",
      "source": [
        "!tar -xvf \"/content/drive/MyDrive/bayena/full_res_images_masks.tar\"  > /dev/null"
      ],
      "metadata": {
        "id": "YM6vP9piHSDb"
      },
      "execution_count": null,
      "outputs": []
    },
    {
      "cell_type": "code",
      "source": [
        "# creating the folder paths need for MSD format\n",
        "import os\n",
        "os.makedirs('./MSD/Dataset100_FracAtles/imagesTr')\n",
        "os.makedirs('./MSD/Dataset100_FracAtles/imagesTs')\n",
        "os.makedirs('./MSD/Dataset100_FracAtles/labelsTr')\n"
      ],
      "metadata": {
        "id": "XEsJT7BpVT8Y"
      },
      "execution_count": 4,
      "outputs": []
    },
    {
      "cell_type": "code",
      "source": [
        "##Data preparetion\n",
        "import pandas as pd\n",
        "import cv2\n",
        "import numpy as np\n",
        "import nibabel as nib\n",
        "\n",
        "data_csv = pd.read_csv('/content/seg/FracAtlas/Utilities/Fracture Split/train.csv')\n",
        "images_folder_path = './content/image_masks/images'\n",
        "masks_folder_path =   './content/image_masks/masks'\n",
        "image_size = 224\n",
        "mode = 'Train'\n",
        "\n",
        "\n",
        "\n",
        "if mode =='Train':\n",
        "  #Read and resize the images to 224\n",
        "  for img_id in data_csv['image_id']:\n",
        "\n",
        "    img = cv2.imread(images_folder_path +'/'+ img_id )\n",
        "    img = cv2.resize(img, dsize=(image_size, image_size))\n",
        "\n",
        "    mask_labels = cv2.imread(masks_folder_path +'/'+ img_id )\n",
        "    mask_labels = cv2.resize(mask_labels, dsize=(image_size, image_size))\n",
        "\n",
        "  # Converting to nii.gz\n",
        "    affine = np.eye(4)\n",
        "    img_converted_array = np.array(img, dtype=np.float32) # You need to replace normal array by yours\n",
        "    mask_labels_converted_array = np.array(mask_labels, dtype=np.float32) # You need to replace normal array by yours\n",
        "\n",
        "    img_nifti = nib.Nifti1Image(img_converted_array, affine)\n",
        "    mask_labels_nifti = nib.Nifti1Image(mask_labels_converted_array, affine)\n",
        "\n",
        "  #savin the image and the mask in nii.gz format\n",
        "\n",
        "    nib.save(img_nifti,'/content/MSD/Dataset100_FracAtles/imagesTr/FRAC_' + img_id[6:10]+'_0000.nii.gz') # Here you put the path + the extionsion 'nii' or 'nii.gz'\n",
        "    nib.save(mask_labels_nifti,'/content/MSD/Dataset100_FracAtles/labelsTr/FRAC_' + img_id[6:10]+'.nii.gz') # Here you put the path + the extionsion 'nii' or 'nii.gz'\n",
        "\n",
        "\n",
        "\n",
        "\n",
        "\n"
      ],
      "metadata": {
        "id": "oJz7pEtqO1ch"
      },
      "execution_count": 5,
      "outputs": []
    },
    {
      "cell_type": "code",
      "source": [
        "\n",
        "from collections import OrderedDict\n",
        "import json\n",
        "\n",
        "\n",
        "task_folder_name = '/content/MSD/Dataset100_FracAtles'\n",
        "train_label_dir = '/content/MSD/Dataset100_FracAtles/imagesTr'\n",
        "dataset_name = 'Dataset100_FracAtles'\n",
        "\n",
        "\n",
        "\n",
        "overwrite_json_file = True #make it True if you want to overwrite the dataset.json file in Dataset_folder\n",
        "json_file_exist = False\n",
        "\n",
        "if os.path.exists(os.path.join(task_folder_name,'dataset.json')):\n",
        "    print('dataset.json already exist!')\n",
        "    json_file_exist = True\n",
        "\n",
        "if json_file_exist==False or overwrite_json_file:\n",
        "\n",
        "    json_dict = OrderedDict()\n",
        "    json_dict['name'] = dataset_name\n",
        "    json_dict['description'] = \"FracAtlas: A Dataset for Fracture Classification, Localization and Segmentation of Musculoskeletal Radiographs\"\n",
        "    json_dict['tensorImageSize'] = \"3D\"\n",
        "    json_dict['reference'] = \"see challenge website\"\n",
        "    json_dict['licence'] = \"see challenge website\"\n",
        "    json_dict['release'] = \"0.0\"\n",
        "\n",
        "    #you may mention more than one modality\n",
        "    json_dict['channel_names'] = {\n",
        "        \"0\": \"CT\"\n",
        "    }\n",
        "\n",
        "    # set expected file ending\n",
        "    json_dict[\"file_ending\"] = \".nii.gz\"\n",
        "\n",
        "    #label names should be mentioned for all the labels in the dataset\n",
        "    json_dict['labels'] = {\n",
        "        \"background\": 0,\n",
        "        \"Fracture\": 1,\n",
        "    }\n",
        "\n",
        "    train_ids = os.listdir(train_label_dir)\n",
        "    # test_ids = os.listdir(test_dir)\n",
        "    json_dict['numTraining'] = len(train_ids)\n",
        "    # json_dict['numTest'] = len(test_ids)\n",
        "\n",
        "\n",
        "    with open(os.path.join(task_folder_name,\"dataset.json\"), 'w') as f:\n",
        "        json.dump(json_dict, f, indent=4, sort_keys=True)\n",
        "\n",
        "    if os.path.exists(os.path.join(task_folder_name,'dataset.json')):\n",
        "        if json_file_exist==False:\n",
        "            print('dataset.json created!')\n",
        "        else:\n",
        "            print('dataset.json overwritten!')"
      ],
      "metadata": {
        "colab": {
          "base_uri": "https://localhost:8080/"
        },
        "id": "Yktqy5BEIgE-",
        "outputId": "7cb4ba52-d839-407d-86d2-ff6c0693887a"
      },
      "execution_count": 8,
      "outputs": [
        {
          "output_type": "stream",
          "name": "stdout",
          "text": [
            "dataset.json created!\n"
          ]
        }
      ]
    },
    {
      "cell_type": "code",
      "source": [],
      "metadata": {
        "id": "xgP1f-ivXQOl"
      },
      "execution_count": null,
      "outputs": []
    }
  ]
}
