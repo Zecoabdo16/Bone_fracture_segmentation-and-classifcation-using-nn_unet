{
  "nbformat": 4,
  "nbformat_minor": 0,
  "metadata": {
    "colab": {
      "provenance": [],
      "gpuType": "T4"
    },
    "kernelspec": {
      "name": "python3",
      "display_name": "Python 3"
    },
    "language_info": {
      "name": "python"
    },
    "accelerator": "GPU"
  },
  "cells": [
    {
      "cell_type": "markdown",
      "source": [
        "#please mount your drive\n"
      ],
      "metadata": {
        "id": "l0RHL1WoTDrv"
      }
    },
    {
      "cell_type": "code",
      "execution_count": null,
      "metadata": {
        "colab": {
          "base_uri": "https://localhost:8080/"
        },
        "id": "JID-lFJlOZlB",
        "outputId": "e3a8f92b-aafc-441a-96fc-59888ee8c69c"
      },
      "outputs": [
        {
          "output_type": "stream",
          "name": "stdout",
          "text": [
            "Cloning into 'FracAtlas'...\n",
            "remote: Enumerating objects: 113, done.\u001b[K\n",
            "remote: Counting objects: 100% (66/66), done.\u001b[K\n",
            "remote: Compressing objects: 100% (51/51), done.\u001b[K\n",
            "remote: Total 113 (delta 29), reused 41 (delta 14), pack-reused 47\u001b[K\n",
            "Receiving objects: 100% (113/113), 44.95 MiB | 11.63 MiB/s, done.\n",
            "Resolving deltas: 100% (41/41), done.\n",
            "Requirement already satisfied: nibabel in /usr/local/lib/python3.10/dist-packages (4.0.2)\n",
            "Requirement already satisfied: numpy>=1.17 in /usr/local/lib/python3.10/dist-packages (from nibabel) (1.23.5)\n",
            "Requirement already satisfied: packaging>=17.0 in /usr/local/lib/python3.10/dist-packages (from nibabel) (23.2)\n",
            "Requirement already satisfied: setuptools in /usr/local/lib/python3.10/dist-packages (from nibabel) (67.7.2)\n"
          ]
        }
      ],
      "source": [
        "!git clone https://github.com/XLR8-07/FracAtlas.git\n",
        "!pip install nibabel"
      ]
    },
    {
      "cell_type": "code",
      "source": [
        "!unzip /'content/drive/MyDrive/bayena/FracAtlas.zip' -d '/content/seg/' > /dev/null\n"
      ],
      "metadata": {
        "id": "L3Rye8HjOtig"
      },
      "execution_count": null,
      "outputs": []
    },
    {
      "cell_type": "code",
      "source": [
        "!tar -xvf \"/content/drive/MyDrive/bayena/full_res_images_masks.tar\" > /dev/null"
      ],
      "metadata": {
        "id": "YM6vP9piHSDb"
      },
      "execution_count": null,
      "outputs": []
    },
    {
      "cell_type": "code",
      "source": [
        "# creating the folder paths need for MSD format\n",
        "import os\n",
        "os.makedirs('./content/drive/MyDrive/Colab Notebooks/nnUNet_raw/Dataset100_FracAtles/imagesTr')\n",
        "os.makedirs('./content/drive/MyDrive/Colab Notebooks/nnUNet_raw/Dataset100_FracAtles/imagesTs')\n",
        "os.makedirs('./content/drive/MyDrive/Colab Notebooks/nnUNet_raw/Dataset100_FracAtles/labelsTr')\n",
        "# /content/drive/MyDrive/Colab Notebooks/nnUNet_raw/Dataset100_FracAtles created!\n",
        "# /content/drive/MyDrive/Colab Notebooks/nnUNet_raw/Dataset100_FracAtles/imagesTr created!\n",
        "# /content/drive/MyDrive/Colab Notebooks/nnUNet_raw/Dataset100_FracAtles/labelsTr created!\n",
        "# /content/drive/MyDrive/Colab Notebooks/nnUNet_raw/Dataset100_FracAtles/imagesTs"
      ],
      "metadata": {
        "id": "XEsJT7BpVT8Y"
      },
      "execution_count": 1,
      "outputs": []
    },
    {
      "cell_type": "code",
      "source": [
        "##Data preparetion\n",
        "import pandas as pd\n",
        "import cv2\n",
        "import numpy as np\n",
        "import nibabel as nib\n",
        "\n",
        "# data_csv = pd.read_csv('/content/seg/FracAtlas/Utilities/Fracture Split/train.csv') we skip the split as it only split 700 and we need 1500.\n",
        "image_names = os.listdir('/content/seg/FracAtlas/images/Fractured')\n",
        "print(len(image_names))\n",
        "\n",
        "images_folder_path = './content/image_masks/images'\n",
        "masks_folder_path =   './content/image_masks/masks'\n",
        "image_size = 224\n",
        "\n",
        "\n",
        "#Read and resize the images to 224\n",
        "# for img_id in data_csv['image_id']:\n",
        "for img_id in image_names:\n",
        "\n",
        "  img = cv2.imread(images_folder_path +'/'+ img_id )\n",
        "  img = cv2.resize(img, dsize=(image_size, image_size))\n",
        "\n",
        "  mask_labels = cv2.imread(masks_folder_path +'/'+ img_id )\n",
        "  mask_labels = cv2.resize(mask_labels, dsize=(image_size, image_size))\n",
        "\n",
        "# Converting to nii.gz\n",
        "  affine = np.eye(4)\n",
        "  img_converted_array = np.array(img, dtype=np.float32) # You need to replace normal array by yours\n",
        "  mask_labels_converted_array = np.array(mask_labels, dtype=np.float32) # You need to replace normal array by yours\n",
        "\n",
        "  img_nifti = nib.Nifti1Image(img_converted_array, affine)\n",
        "  mask_labels_nifti = nib.Nifti1Image(mask_labels_converted_array, affine)\n",
        "\n",
        "#savin the image and the mask in nii.gz format\n",
        "\n",
        "  nib.save(img_nifti,'/content/drive/MyDrive/Colab Notebooks/nnUNet_raw/Dataset100_FracAtles/imagesTr/FRAC_' + img_id[6:10]+'_0000.nii.gz') # Here you put the path + the extionsion 'nii' or 'nii.gz'\n",
        "  nib.save(mask_labels_nifti,'/content/drive/MyDrive/Colab Notebooks/nnUNet_raw/Dataset100_FracAtles/labelsTr/FRAC_' + img_id[6:10]+'.nii.gz') # Here you put the path + the extionsion 'nii' or 'nii.gz'\n",
        "\n",
        "\n",
        "\n"
      ],
      "metadata": {
        "id": "oJz7pEtqO1ch",
        "colab": {
          "base_uri": "https://localhost:8080/"
        },
        "outputId": "9e334e51-dfa6-4d55-a1d0-ee7d5abe10e4"
      },
      "execution_count": null,
      "outputs": [
        {
          "output_type": "stream",
          "name": "stdout",
          "text": [
            "717\n"
          ]
        }
      ]
    },
    {
      "cell_type": "code",
      "source": [
        "##Data preparetion\n",
        "import pandas as pd\n",
        "import cv2\n",
        "import numpy as np\n",
        "import nibabel as nib\n",
        "\n",
        "# data_csv = pd.read_csv('/content/seg/FracAtlas/Utilities/Fracture Split/train.csv') we skip the split as it only split 700 and we need 1500.\n",
        "image_names = os.listdir('/content/seg/FracAtlas/images/Non_fractured')[:800]\n",
        "print(len(image_names))\n",
        "images_folder_path = './content/image_masks/images'\n",
        "masks_folder_path =   './content/image_masks/masks'\n",
        "image_size = 224\n",
        "\n",
        "\n",
        "\n",
        "#Read and resize the images to 224\n",
        "# for img_id in data_csv['image_id']:\n",
        "for img_id in image_names:\n",
        "\n",
        "  img = cv2.imread(images_folder_path +'/'+ img_id )\n",
        "  img = cv2.resize(img, dsize=(image_size, image_size))\n",
        "\n",
        "  mask_labels = cv2.imread(masks_folder_path +'/'+ img_id )\n",
        "  mask_labels = cv2.resize(mask_labels, dsize=(image_size, image_size))\n",
        "\n",
        "# Converting to nii.gz\n",
        "  affine = np.eye(4)\n",
        "  img_converted_array = np.array(img, dtype=np.float32) # You need to replace normal array by yours\n",
        "  mask_labels_converted_array = np.array(mask_labels, dtype=np.float32) # You need to replace normal array by yours\n",
        "\n",
        "  img_nifti = nib.Nifti1Image(img_converted_array, affine)\n",
        "  mask_labels_nifti = nib.Nifti1Image(mask_labels_converted_array, affine)\n",
        "\n",
        "#savin the image and the mask in nii.gz format\n",
        "\n",
        "  nib.save(img_nifti,'/content/drive/MyDrive/Colab Notebooks/nnUNet_raw/Dataset100_FracAtles/imagesTr/FRAC_' + img_id[6:10]+'_0000.nii.gz') # Here you put the path + the extionsion 'nii' or 'nii.gz'\n",
        "  nib.save(mask_labels_nifti,'/content/drive/MyDrive/Colab Notebooks/nnUNet_raw/Dataset100_FracAtles/labelsTr/FRAC_' + img_id[6:10]+'.nii.gz') # Here you put the path + the extionsion 'nii' or 'nii.gz'\n",
        "\n",
        "\n",
        "\n"
      ],
      "metadata": {
        "colab": {
          "base_uri": "https://localhost:8080/"
        },
        "id": "QXD-612LAix2",
        "outputId": "28239924-ac53-40e5-dcba-c8285bea8237"
      },
      "execution_count": null,
      "outputs": [
        {
          "output_type": "stream",
          "name": "stdout",
          "text": [
            "800\n"
          ]
        }
      ]
    },
    {
      "cell_type": "code",
      "source": [
        "#Creating the dataset.json file necessary for nn-unet\n",
        "from collections import OrderedDict\n",
        "import json\n",
        "\n",
        "\n",
        "task_folder_name = '/content/drive/MyDrive/Colab Notebooks/nnUNet_raw/Dataset100_FracAtles'\n",
        "train_label_dir = '/content/drive/MyDrive/Colab Notebooks/nnUNet_raw/Dataset100_FracAtles/labelsTr'\n",
        "dataset_name = 'Dataset100_FracAtles'\n",
        "\n",
        "\n",
        "\n",
        "overwrite_json_file = True #make it True if you want to overwrite the dataset.json file in Dataset_folder\n",
        "json_file_exist = False\n",
        "\n",
        "if os.path.exists(os.path.join(task_folder_name,'dataset.json')):\n",
        "    print('dataset.json already exist!')\n",
        "    json_file_exist = True\n",
        "\n",
        "if json_file_exist==False or overwrite_json_file:\n",
        "\n",
        "    json_dict = OrderedDict()\n",
        "    json_dict['name'] = dataset_name\n",
        "    json_dict['description'] = \"FracAtlas: A Dataset for Fracture Classification, Localization and Segmentation of Musculoskeletal Radiographs\"\n",
        "    json_dict['tensorImageSize'] = \"3D\"\n",
        "    json_dict['reference'] = \"contact: zecoabdo16@gmail.com\"\n",
        "    json_dict['licence'] = \"contact: zecoabdo16@gmail.com\"\n",
        "    json_dict['release'] = \"0.0\"\n",
        "\n",
        "    #you may mention more than one modality\n",
        "    json_dict['channel_names'] = {\n",
        "        \"0\": \"CT\"\n",
        "    }\n",
        "\n",
        "    # set expected file ending\n",
        "    json_dict[\"file_ending\"] = \".nii.gz\"\n",
        "\n",
        "    #label names should be mentioned for all the labels in the dataset\n",
        "    json_dict['labels'] = {\n",
        "        \"background\": 0,\n",
        "        \"Fracture\": 1,\n",
        "        \"2nd_Fracture\": 2,\n",
        "    }\n",
        "\n",
        "    train_ids = os.listdir(train_label_dir)\n",
        "    # test_ids = os.listdir(test_dir)\n",
        "    json_dict['numTraining'] = len(train_ids)\n",
        "    # json_dict['numTest'] = len(test_ids)\n",
        "\n",
        "\n",
        "    with open(os.path.join(task_folder_name,\"dataset.json\"), 'w') as f:\n",
        "        json.dump(json_dict, f, indent=4, sort_keys=True)\n",
        "\n",
        "    if os.path.exists(os.path.join(task_folder_name,'dataset.json')):\n",
        "        if json_file_exist==False:\n",
        "            print('dataset.json created!')\n",
        "        else:\n",
        "            print('dataset.json overwritten!')"
      ],
      "metadata": {
        "colab": {
          "base_uri": "https://localhost:8080/"
        },
        "id": "Yktqy5BEIgE-",
        "outputId": "9d7de591-6daf-46ee-df6a-b831f312237f"
      },
      "execution_count": null,
      "outputs": [
        {
          "output_type": "stream",
          "name": "stdout",
          "text": [
            "dataset.json already exist!\n",
            "dataset.json overwritten!\n"
          ]
        }
      ]
    },
    {
      "cell_type": "code",
      "source": [
        "# Import basic packages for later use\n",
        "import os\n",
        "import shutil\n",
        "from collections import OrderedDict\n",
        "\n",
        "import json\n",
        "import matplotlib.pyplot as plt\n",
        "import nibabel as nib\n",
        "\n",
        "import numpy as np\n",
        "import torch"
      ],
      "metadata": {
        "id": "xgP1f-ivXQOl"
      },
      "execution_count": 2,
      "outputs": []
    },
    {
      "cell_type": "code",
      "source": [
        "assert torch.cuda.is_available() # if there is an error here, enable GPU in the Runtime"
      ],
      "metadata": {
        "id": "CrbnFSgmg06D"
      },
      "execution_count": 3,
      "outputs": []
    },
    {
      "cell_type": "code",
      "source": [
        "# install nnunet - yes it is that easy\n",
        "!pip install nnunetv2\n"
      ],
      "metadata": {
        "colab": {
          "base_uri": "https://localhost:8080/",
          "height": 1000
        },
        "id": "Pr4-d8mUhAQR",
        "outputId": "5e0b9f9e-5824-49ff-e18a-bbb17a307f95"
      },
      "execution_count": 4,
      "outputs": [
        {
          "output_type": "stream",
          "name": "stdout",
          "text": [
            "Collecting nnunetv2\n",
            "  Downloading nnunetv2-2.2.1.tar.gz (178 kB)\n",
            "\u001b[2K     \u001b[90m━━━━━━━━━━━━━━━━━━━━━━━━━━━━━━━━━━━━━━━━\u001b[0m \u001b[32m178.6/178.6 kB\u001b[0m \u001b[31m4.0 MB/s\u001b[0m eta \u001b[36m0:00:00\u001b[0m\n",
            "\u001b[?25h  Installing build dependencies ... \u001b[?25l\u001b[?25hdone\n",
            "  Getting requirements to build wheel ... \u001b[?25l\u001b[?25hdone\n",
            "  Preparing metadata (pyproject.toml) ... \u001b[?25l\u001b[?25hdone\n",
            "Requirement already satisfied: torch>=2.0.0 in /usr/local/lib/python3.10/dist-packages (from nnunetv2) (2.1.0+cu118)\n",
            "Collecting acvl-utils>=0.2 (from nnunetv2)\n",
            "  Downloading acvl_utils-0.2.tar.gz (18 kB)\n",
            "  Preparing metadata (setup.py) ... \u001b[?25l\u001b[?25hdone\n",
            "Collecting dynamic-network-architectures>=0.2 (from nnunetv2)\n",
            "  Downloading dynamic_network_architectures-0.2.tar.gz (20 kB)\n",
            "  Preparing metadata (setup.py) ... \u001b[?25l\u001b[?25hdone\n",
            "Requirement already satisfied: tqdm in /usr/local/lib/python3.10/dist-packages (from nnunetv2) (4.66.1)\n",
            "Collecting dicom2nifti (from nnunetv2)\n",
            "  Downloading dicom2nifti-2.4.9-py3-none-any.whl (43 kB)\n",
            "\u001b[2K     \u001b[90m━━━━━━━━━━━━━━━━━━━━━━━━━━━━━━━━━━━━━━━━\u001b[0m \u001b[32m43.7/43.7 kB\u001b[0m \u001b[31m6.3 MB/s\u001b[0m eta \u001b[36m0:00:00\u001b[0m\n",
            "\u001b[?25hRequirement already satisfied: scipy in /usr/local/lib/python3.10/dist-packages (from nnunetv2) (1.11.3)\n",
            "Collecting batchgenerators>=0.25 (from nnunetv2)\n",
            "  Downloading batchgenerators-0.25.tar.gz (61 kB)\n",
            "\u001b[2K     \u001b[90m━━━━━━━━━━━━━━━━━━━━━━━━━━━━━━━━━━━━━━━━\u001b[0m \u001b[32m61.7/61.7 kB\u001b[0m \u001b[31m10.0 MB/s\u001b[0m eta \u001b[36m0:00:00\u001b[0m\n",
            "\u001b[?25h  Preparing metadata (setup.py) ... \u001b[?25l\u001b[?25hdone\n",
            "Requirement already satisfied: numpy in /usr/local/lib/python3.10/dist-packages (from nnunetv2) (1.23.5)\n",
            "Requirement already satisfied: scikit-learn in /usr/local/lib/python3.10/dist-packages (from nnunetv2) (1.2.2)\n",
            "Requirement already satisfied: scikit-image>=0.19.3 in /usr/local/lib/python3.10/dist-packages (from nnunetv2) (0.19.3)\n",
            "Collecting SimpleITK>=2.2.1 (from nnunetv2)\n",
            "  Downloading SimpleITK-2.3.1-cp310-cp310-manylinux_2_17_x86_64.manylinux2014_x86_64.whl (52.7 MB)\n",
            "\u001b[2K     \u001b[90m━━━━━━━━━━━━━━━━━━━━━━━━━━━━━━━━━━━━━━━━\u001b[0m \u001b[32m52.7/52.7 MB\u001b[0m \u001b[31m12.3 MB/s\u001b[0m eta \u001b[36m0:00:00\u001b[0m\n",
            "\u001b[?25hRequirement already satisfied: pandas in /usr/local/lib/python3.10/dist-packages (from nnunetv2) (1.5.3)\n",
            "Requirement already satisfied: graphviz in /usr/local/lib/python3.10/dist-packages (from nnunetv2) (0.20.1)\n",
            "Requirement already satisfied: tifffile in /usr/local/lib/python3.10/dist-packages (from nnunetv2) (2023.9.26)\n",
            "Requirement already satisfied: requests in /usr/local/lib/python3.10/dist-packages (from nnunetv2) (2.31.0)\n",
            "Requirement already satisfied: nibabel in /usr/local/lib/python3.10/dist-packages (from nnunetv2) (4.0.2)\n",
            "Requirement already satisfied: matplotlib in /usr/local/lib/python3.10/dist-packages (from nnunetv2) (3.7.1)\n",
            "Requirement already satisfied: seaborn in /usr/local/lib/python3.10/dist-packages (from nnunetv2) (0.12.2)\n",
            "Collecting imagecodecs (from nnunetv2)\n",
            "  Downloading imagecodecs-2023.9.18-cp310-cp310-manylinux_2_17_x86_64.manylinux2014_x86_64.whl (37.3 MB)\n",
            "\u001b[2K     \u001b[90m━━━━━━━━━━━━━━━━━━━━━━━━━━━━━━━━━━━━━━━━\u001b[0m \u001b[32m37.3/37.3 MB\u001b[0m \u001b[31m45.9 MB/s\u001b[0m eta \u001b[36m0:00:00\u001b[0m\n",
            "\u001b[?25hCollecting yacs (from nnunetv2)\n",
            "  Downloading yacs-0.1.8-py3-none-any.whl (14 kB)\n",
            "Collecting connected-components-3d (from acvl-utils>=0.2->nnunetv2)\n",
            "  Downloading connected_components_3d-3.12.3-cp310-cp310-manylinux_2_17_x86_64.manylinux2014_x86_64.whl (3.1 MB)\n",
            "\u001b[2K     \u001b[90m━━━━━━━━━━━━━━━━━━━━━━━━━━━━━━━━━━━━━━━━\u001b[0m \u001b[32m3.1/3.1 MB\u001b[0m \u001b[31m105.5 MB/s\u001b[0m eta \u001b[36m0:00:00\u001b[0m\n",
            "\u001b[?25hRequirement already satisfied: pillow>=7.1.2 in /usr/local/lib/python3.10/dist-packages (from batchgenerators>=0.25->nnunetv2) (9.4.0)\n",
            "Requirement already satisfied: future in /usr/local/lib/python3.10/dist-packages (from batchgenerators>=0.25->nnunetv2) (0.18.3)\n",
            "Collecting unittest2 (from batchgenerators>=0.25->nnunetv2)\n",
            "  Downloading unittest2-1.1.0-py2.py3-none-any.whl (96 kB)\n",
            "\u001b[2K     \u001b[90m━━━━━━━━━━━━━━━━━━━━━━━━━━━━━━━━━━━━━━━━\u001b[0m \u001b[32m96.4/96.4 kB\u001b[0m \u001b[31m15.1 MB/s\u001b[0m eta \u001b[36m0:00:00\u001b[0m\n",
            "\u001b[?25hRequirement already satisfied: threadpoolctl in /usr/local/lib/python3.10/dist-packages (from batchgenerators>=0.25->nnunetv2) (3.2.0)\n",
            "Requirement already satisfied: networkx>=2.2 in /usr/local/lib/python3.10/dist-packages (from scikit-image>=0.19.3->nnunetv2) (3.2.1)\n",
            "Requirement already satisfied: imageio>=2.4.1 in /usr/local/lib/python3.10/dist-packages (from scikit-image>=0.19.3->nnunetv2) (2.31.6)\n",
            "Requirement already satisfied: PyWavelets>=1.1.1 in /usr/local/lib/python3.10/dist-packages (from scikit-image>=0.19.3->nnunetv2) (1.4.1)\n",
            "Requirement already satisfied: packaging>=20.0 in /usr/local/lib/python3.10/dist-packages (from scikit-image>=0.19.3->nnunetv2) (23.2)\n",
            "Requirement already satisfied: filelock in /usr/local/lib/python3.10/dist-packages (from torch>=2.0.0->nnunetv2) (3.13.1)\n",
            "Requirement already satisfied: typing-extensions in /usr/local/lib/python3.10/dist-packages (from torch>=2.0.0->nnunetv2) (4.5.0)\n",
            "Requirement already satisfied: sympy in /usr/local/lib/python3.10/dist-packages (from torch>=2.0.0->nnunetv2) (1.12)\n",
            "Requirement already satisfied: jinja2 in /usr/local/lib/python3.10/dist-packages (from torch>=2.0.0->nnunetv2) (3.1.2)\n",
            "Requirement already satisfied: fsspec in /usr/local/lib/python3.10/dist-packages (from torch>=2.0.0->nnunetv2) (2023.6.0)\n",
            "Requirement already satisfied: triton==2.1.0 in /usr/local/lib/python3.10/dist-packages (from torch>=2.0.0->nnunetv2) (2.1.0)\n",
            "Collecting pydicom>=2.2.0 (from dicom2nifti->nnunetv2)\n",
            "  Downloading pydicom-2.4.3-py3-none-any.whl (1.8 MB)\n",
            "\u001b[2K     \u001b[90m━━━━━━━━━━━━━━━━━━━━━━━━━━━━━━━━━━━━━━━━\u001b[0m \u001b[32m1.8/1.8 MB\u001b[0m \u001b[31m89.3 MB/s\u001b[0m eta \u001b[36m0:00:00\u001b[0m\n",
            "\u001b[?25hCollecting python-gdcm (from dicom2nifti->nnunetv2)\n",
            "  Downloading python_gdcm-3.0.22-cp310-cp310-manylinux_2_17_x86_64.manylinux2014_x86_64.whl (13.0 MB)\n",
            "\u001b[2K     \u001b[90m━━━━━━━━━━━━━━━━━━━━━━━━━━━━━━━━━━━━━━━━\u001b[0m \u001b[32m13.0/13.0 MB\u001b[0m \u001b[31m105.5 MB/s\u001b[0m eta \u001b[36m0:00:00\u001b[0m\n",
            "\u001b[?25hRequirement already satisfied: contourpy>=1.0.1 in /usr/local/lib/python3.10/dist-packages (from matplotlib->nnunetv2) (1.2.0)\n",
            "Requirement already satisfied: cycler>=0.10 in /usr/local/lib/python3.10/dist-packages (from matplotlib->nnunetv2) (0.12.1)\n",
            "Requirement already satisfied: fonttools>=4.22.0 in /usr/local/lib/python3.10/dist-packages (from matplotlib->nnunetv2) (4.44.0)\n",
            "Requirement already satisfied: kiwisolver>=1.0.1 in /usr/local/lib/python3.10/dist-packages (from matplotlib->nnunetv2) (1.4.5)\n",
            "Requirement already satisfied: pyparsing>=2.3.1 in /usr/local/lib/python3.10/dist-packages (from matplotlib->nnunetv2) (3.1.1)\n",
            "Requirement already satisfied: python-dateutil>=2.7 in /usr/local/lib/python3.10/dist-packages (from matplotlib->nnunetv2) (2.8.2)\n",
            "Requirement already satisfied: setuptools in /usr/local/lib/python3.10/dist-packages (from nibabel->nnunetv2) (67.7.2)\n",
            "Requirement already satisfied: pytz>=2020.1 in /usr/local/lib/python3.10/dist-packages (from pandas->nnunetv2) (2023.3.post1)\n",
            "Requirement already satisfied: charset-normalizer<4,>=2 in /usr/local/lib/python3.10/dist-packages (from requests->nnunetv2) (3.3.2)\n",
            "Requirement already satisfied: idna<4,>=2.5 in /usr/local/lib/python3.10/dist-packages (from requests->nnunetv2) (3.4)\n",
            "Requirement already satisfied: urllib3<3,>=1.21.1 in /usr/local/lib/python3.10/dist-packages (from requests->nnunetv2) (2.0.7)\n",
            "Requirement already satisfied: certifi>=2017.4.17 in /usr/local/lib/python3.10/dist-packages (from requests->nnunetv2) (2023.7.22)\n",
            "Requirement already satisfied: joblib>=1.1.1 in /usr/local/lib/python3.10/dist-packages (from scikit-learn->nnunetv2) (1.3.2)\n",
            "Requirement already satisfied: PyYAML in /usr/local/lib/python3.10/dist-packages (from yacs->nnunetv2) (6.0.1)\n",
            "Requirement already satisfied: six>=1.5 in /usr/local/lib/python3.10/dist-packages (from python-dateutil>=2.7->matplotlib->nnunetv2) (1.16.0)\n",
            "Requirement already satisfied: MarkupSafe>=2.0 in /usr/local/lib/python3.10/dist-packages (from jinja2->torch>=2.0.0->nnunetv2) (2.1.3)\n",
            "Requirement already satisfied: mpmath>=0.19 in /usr/local/lib/python3.10/dist-packages (from sympy->torch>=2.0.0->nnunetv2) (1.3.0)\n",
            "Collecting argparse (from unittest2->batchgenerators>=0.25->nnunetv2)\n",
            "  Downloading argparse-1.4.0-py2.py3-none-any.whl (23 kB)\n",
            "Collecting traceback2 (from unittest2->batchgenerators>=0.25->nnunetv2)\n",
            "  Downloading traceback2-1.4.0-py2.py3-none-any.whl (16 kB)\n",
            "Collecting linecache2 (from traceback2->unittest2->batchgenerators>=0.25->nnunetv2)\n",
            "  Downloading linecache2-1.0.0-py2.py3-none-any.whl (12 kB)\n",
            "Building wheels for collected packages: nnunetv2, acvl-utils, batchgenerators, dynamic-network-architectures\n",
            "  Building wheel for nnunetv2 (pyproject.toml) ... \u001b[?25l\u001b[?25hdone\n",
            "  Created wheel for nnunetv2: filename=nnunetv2-2.2.1-py3-none-any.whl size=237458 sha256=7fa8e42c8482e46977c41a0fc0f218bdd29dcb220d4eafe8dbe52b500bfbc88e\n",
            "  Stored in directory: /root/.cache/pip/wheels/36/e6/3d/07df6ba0314f461a916a0d08e9629a63f64ab401d2064e2325\n",
            "  Building wheel for acvl-utils (setup.py) ... \u001b[?25l\u001b[?25hdone\n",
            "  Created wheel for acvl-utils: filename=acvl_utils-0.2-py3-none-any.whl size=22436 sha256=b811f3c8d8e3b9c35421d0648de51b2922f32538bc8f9ef6a49723e20635ce80\n",
            "  Stored in directory: /root/.cache/pip/wheels/ad/f0/84/52e8897591e66339bd2796681b9540b6c5e453c1461fa92a9e\n",
            "  Building wheel for batchgenerators (setup.py) ... \u001b[?25l\u001b[?25hdone\n",
            "  Created wheel for batchgenerators: filename=batchgenerators-0.25-py3-none-any.whl size=89007 sha256=40dede1b78586bb5a38361b3c798a18293ba7192b86f80e600a72b848334a8c7\n",
            "  Stored in directory: /root/.cache/pip/wheels/9e/b0/1b/40912fb58eb167b86cbc444ddb2e6ba382b248215295f932e2\n",
            "  Building wheel for dynamic-network-architectures (setup.py) ... \u001b[?25l\u001b[?25hdone\n",
            "  Created wheel for dynamic-network-architectures: filename=dynamic_network_architectures-0.2-py3-none-any.whl size=27244 sha256=f970f215a1eebef27482329981e66b0ebecc498fb34bcb5fe4353480f5714562\n",
            "  Stored in directory: /root/.cache/pip/wheels/39/83/85/2ea6c18cc7d707fcd911586e8448ff8a9da1c0274e337f0e49\n",
            "Successfully built nnunetv2 acvl-utils batchgenerators dynamic-network-architectures\n",
            "Installing collected packages: SimpleITK, linecache2, argparse, yacs, traceback2, python-gdcm, pydicom, imagecodecs, connected-components-3d, unittest2, dicom2nifti, dynamic-network-architectures, batchgenerators, acvl-utils, nnunetv2\n",
            "Successfully installed SimpleITK-2.3.1 acvl-utils-0.2 argparse-1.4.0 batchgenerators-0.25 connected-components-3d-3.12.3 dicom2nifti-2.4.9 dynamic-network-architectures-0.2 imagecodecs-2023.9.18 linecache2-1.0.0 nnunetv2-2.2.1 pydicom-2.4.3 python-gdcm-3.0.22 traceback2-1.4.0 unittest2-1.1.0 yacs-0.1.8\n"
          ]
        },
        {
          "output_type": "display_data",
          "data": {
            "application/vnd.colab-display-data+json": {
              "pip_warning": {
                "packages": [
                  "argparse"
                ]
              }
            }
          },
          "metadata": {}
        }
      ]
    },
    {
      "cell_type": "code",
      "source": [
        "!pip install wandb"
      ],
      "metadata": {
        "colab": {
          "base_uri": "https://localhost:8080/"
        },
        "id": "JyFecVUEhXOx",
        "outputId": "804cb6e5-b8fd-4017-aa08-53561d207a57"
      },
      "execution_count": 5,
      "outputs": [
        {
          "output_type": "stream",
          "name": "stdout",
          "text": [
            "Collecting wandb\n",
            "  Downloading wandb-0.16.0-py3-none-any.whl (2.1 MB)\n",
            "\u001b[2K     \u001b[90m━━━━━━━━━━━━━━━━━━━━━━━━━━━━━━━━━━━━━━━━\u001b[0m \u001b[32m2.1/2.1 MB\u001b[0m \u001b[31m9.3 MB/s\u001b[0m eta \u001b[36m0:00:00\u001b[0m\n",
            "\u001b[?25hRequirement already satisfied: Click!=8.0.0,>=7.1 in /usr/local/lib/python3.10/dist-packages (from wandb) (8.1.7)\n",
            "Collecting GitPython!=3.1.29,>=1.0.0 (from wandb)\n",
            "  Downloading GitPython-3.1.40-py3-none-any.whl (190 kB)\n",
            "\u001b[2K     \u001b[90m━━━━━━━━━━━━━━━━━━━━━━━━━━━━━━━━━━━━━━━━\u001b[0m \u001b[32m190.6/190.6 kB\u001b[0m \u001b[31m14.3 MB/s\u001b[0m eta \u001b[36m0:00:00\u001b[0m\n",
            "\u001b[?25hRequirement already satisfied: requests<3,>=2.0.0 in /usr/local/lib/python3.10/dist-packages (from wandb) (2.31.0)\n",
            "Requirement already satisfied: psutil>=5.0.0 in /usr/local/lib/python3.10/dist-packages (from wandb) (5.9.5)\n",
            "Collecting sentry-sdk>=1.0.0 (from wandb)\n",
            "  Downloading sentry_sdk-1.34.0-py2.py3-none-any.whl (243 kB)\n",
            "\u001b[2K     \u001b[90m━━━━━━━━━━━━━━━━━━━━━━━━━━━━━━━━━━━━━━━━\u001b[0m \u001b[32m243.9/243.9 kB\u001b[0m \u001b[31m12.7 MB/s\u001b[0m eta \u001b[36m0:00:00\u001b[0m\n",
            "\u001b[?25hCollecting docker-pycreds>=0.4.0 (from wandb)\n",
            "  Downloading docker_pycreds-0.4.0-py2.py3-none-any.whl (9.0 kB)\n",
            "Requirement already satisfied: PyYAML in /usr/local/lib/python3.10/dist-packages (from wandb) (6.0.1)\n",
            "Collecting setproctitle (from wandb)\n",
            "  Downloading setproctitle-1.3.3-cp310-cp310-manylinux_2_5_x86_64.manylinux1_x86_64.manylinux_2_17_x86_64.manylinux2014_x86_64.whl (30 kB)\n",
            "Requirement already satisfied: setuptools in /usr/local/lib/python3.10/dist-packages (from wandb) (67.7.2)\n",
            "Requirement already satisfied: appdirs>=1.4.3 in /usr/local/lib/python3.10/dist-packages (from wandb) (1.4.4)\n",
            "Requirement already satisfied: protobuf!=4.21.0,<5,>=3.19.0 in /usr/local/lib/python3.10/dist-packages (from wandb) (3.20.3)\n",
            "Requirement already satisfied: six>=1.4.0 in /usr/local/lib/python3.10/dist-packages (from docker-pycreds>=0.4.0->wandb) (1.16.0)\n",
            "Collecting gitdb<5,>=4.0.1 (from GitPython!=3.1.29,>=1.0.0->wandb)\n",
            "  Downloading gitdb-4.0.11-py3-none-any.whl (62 kB)\n",
            "\u001b[2K     \u001b[90m━━━━━━━━━━━━━━━━━━━━━━━━━━━━━━━━━━━━━━━━\u001b[0m \u001b[32m62.7/62.7 kB\u001b[0m \u001b[31m10.3 MB/s\u001b[0m eta \u001b[36m0:00:00\u001b[0m\n",
            "\u001b[?25hRequirement already satisfied: charset-normalizer<4,>=2 in /usr/local/lib/python3.10/dist-packages (from requests<3,>=2.0.0->wandb) (3.3.2)\n",
            "Requirement already satisfied: idna<4,>=2.5 in /usr/local/lib/python3.10/dist-packages (from requests<3,>=2.0.0->wandb) (3.4)\n",
            "Requirement already satisfied: urllib3<3,>=1.21.1 in /usr/local/lib/python3.10/dist-packages (from requests<3,>=2.0.0->wandb) (2.0.7)\n",
            "Requirement already satisfied: certifi>=2017.4.17 in /usr/local/lib/python3.10/dist-packages (from requests<3,>=2.0.0->wandb) (2023.7.22)\n",
            "Collecting smmap<6,>=3.0.1 (from gitdb<5,>=4.0.1->GitPython!=3.1.29,>=1.0.0->wandb)\n",
            "  Downloading smmap-5.0.1-py3-none-any.whl (24 kB)\n",
            "Installing collected packages: smmap, setproctitle, sentry-sdk, docker-pycreds, gitdb, GitPython, wandb\n",
            "Successfully installed GitPython-3.1.40 docker-pycreds-0.4.0 gitdb-4.0.11 sentry-sdk-1.34.0 setproctitle-1.3.3 smmap-5.0.1 wandb-0.16.0\n"
          ]
        }
      ]
    },
    {
      "cell_type": "code",
      "source": [
        "import wandb\n",
        "wandb.init(project=\"bayena_task\")\n",
        "#  5db1d7e350565d7bff6d94eef3e83bee4d3cd460\n"
      ],
      "metadata": {
        "colab": {
          "base_uri": "https://localhost:8080/",
          "height": 212
        },
        "id": "AXbokd5fhIMm",
        "outputId": "f7d29b2a-47b9-40d0-ad0a-41e602fe1a5a"
      },
      "execution_count": 6,
      "outputs": [
        {
          "output_type": "display_data",
          "data": {
            "text/plain": [
              "<IPython.core.display.Javascript object>"
            ],
            "application/javascript": [
              "\n",
              "        window._wandbApiKey = new Promise((resolve, reject) => {\n",
              "            function loadScript(url) {\n",
              "            return new Promise(function(resolve, reject) {\n",
              "                let newScript = document.createElement(\"script\");\n",
              "                newScript.onerror = reject;\n",
              "                newScript.onload = resolve;\n",
              "                document.body.appendChild(newScript);\n",
              "                newScript.src = url;\n",
              "            });\n",
              "            }\n",
              "            loadScript(\"https://cdn.jsdelivr.net/npm/postmate/build/postmate.min.js\").then(() => {\n",
              "            const iframe = document.createElement('iframe')\n",
              "            iframe.style.cssText = \"width:0;height:0;border:none\"\n",
              "            document.body.appendChild(iframe)\n",
              "            const handshake = new Postmate({\n",
              "                container: iframe,\n",
              "                url: 'https://wandb.ai/authorize'\n",
              "            });\n",
              "            const timeout = setTimeout(() => reject(\"Couldn't auto authenticate\"), 5000)\n",
              "            handshake.then(function(child) {\n",
              "                child.on('authorize', data => {\n",
              "                    clearTimeout(timeout)\n",
              "                    resolve(data)\n",
              "                });\n",
              "            });\n",
              "            })\n",
              "        });\n",
              "    "
            ]
          },
          "metadata": {}
        },
        {
          "output_type": "stream",
          "name": "stderr",
          "text": [
            "\u001b[34m\u001b[1mwandb\u001b[0m: Logging into wandb.ai. (Learn how to deploy a W&B server locally: https://wandb.me/wandb-server)\n",
            "\u001b[34m\u001b[1mwandb\u001b[0m: You can find your API key in your browser here: https://wandb.ai/authorize\n",
            "wandb: Paste an API key from your profile and hit enter, or press ctrl+c to quit:"
          ]
        },
        {
          "name": "stdout",
          "output_type": "stream",
          "text": [
            " ··········\n"
          ]
        },
        {
          "output_type": "stream",
          "name": "stderr",
          "text": [
            "\u001b[34m\u001b[1mwandb\u001b[0m: Appending key for api.wandb.ai to your netrc file: /root/.netrc\n"
          ]
        },
        {
          "output_type": "display_data",
          "data": {
            "text/plain": [
              "<IPython.core.display.HTML object>"
            ],
            "text/html": [
              "Tracking run with wandb version 0.16.0"
            ]
          },
          "metadata": {}
        },
        {
          "output_type": "display_data",
          "data": {
            "text/plain": [
              "<IPython.core.display.HTML object>"
            ],
            "text/html": [
              "Run data is saved locally in <code>/content/wandb/run-20231110_092810-hodnral5</code>"
            ]
          },
          "metadata": {}
        },
        {
          "output_type": "display_data",
          "data": {
            "text/plain": [
              "<IPython.core.display.HTML object>"
            ],
            "text/html": [
              "Syncing run <strong><a href='https://wandb.ai/zecoabdo16/nnU-Net_Workshop/runs/hodnral5' target=\"_blank\">smart-sun-12</a></strong> to <a href='https://wandb.ai/zecoabdo16/nnU-Net_Workshop' target=\"_blank\">Weights & Biases</a> (<a href='https://wandb.me/run' target=\"_blank\">docs</a>)<br/>"
            ]
          },
          "metadata": {}
        },
        {
          "output_type": "display_data",
          "data": {
            "text/plain": [
              "<IPython.core.display.HTML object>"
            ],
            "text/html": [
              " View project at <a href='https://wandb.ai/zecoabdo16/nnU-Net_Workshop' target=\"_blank\">https://wandb.ai/zecoabdo16/nnU-Net_Workshop</a>"
            ]
          },
          "metadata": {}
        },
        {
          "output_type": "display_data",
          "data": {
            "text/plain": [
              "<IPython.core.display.HTML object>"
            ],
            "text/html": [
              " View run at <a href='https://wandb.ai/zecoabdo16/nnU-Net_Workshop/runs/hodnral5' target=\"_blank\">https://wandb.ai/zecoabdo16/nnU-Net_Workshop/runs/hodnral5</a>"
            ]
          },
          "metadata": {}
        },
        {
          "output_type": "execute_result",
          "data": {
            "text/html": [
              "<button onClick=\"this.nextSibling.style.display='block';this.style.display='none';\">Display W&B run</button><iframe src='https://wandb.ai/zecoabdo16/nnU-Net_Workshop/runs/hodnral5?jupyter=true' style='border:none;width:100%;height:420px;display:none;'></iframe>"
            ],
            "text/plain": [
              "<wandb.sdk.wandb_run.Run at 0x788a16cf4c70>"
            ]
          },
          "metadata": {},
          "execution_count": 6
        }
      ]
    },
    {
      "cell_type": "code",
      "source": [
        "!pip install gdown"
      ],
      "metadata": {
        "colab": {
          "base_uri": "https://localhost:8080/"
        },
        "id": "Oj24TvwohTom",
        "outputId": "ee4a6e6f-1708-4d67-dd5b-5e0c512d98cf"
      },
      "execution_count": 7,
      "outputs": [
        {
          "output_type": "stream",
          "name": "stdout",
          "text": [
            "Requirement already satisfied: gdown in /usr/local/lib/python3.10/dist-packages (4.6.6)\n",
            "Requirement already satisfied: filelock in /usr/local/lib/python3.10/dist-packages (from gdown) (3.13.1)\n",
            "Requirement already satisfied: requests[socks] in /usr/local/lib/python3.10/dist-packages (from gdown) (2.31.0)\n",
            "Requirement already satisfied: six in /usr/local/lib/python3.10/dist-packages (from gdown) (1.16.0)\n",
            "Requirement already satisfied: tqdm in /usr/local/lib/python3.10/dist-packages (from gdown) (4.66.1)\n",
            "Requirement already satisfied: beautifulsoup4 in /usr/local/lib/python3.10/dist-packages (from gdown) (4.11.2)\n",
            "Requirement already satisfied: soupsieve>1.2 in /usr/local/lib/python3.10/dist-packages (from beautifulsoup4->gdown) (2.5)\n",
            "Requirement already satisfied: charset-normalizer<4,>=2 in /usr/local/lib/python3.10/dist-packages (from requests[socks]->gdown) (3.3.2)\n",
            "Requirement already satisfied: idna<4,>=2.5 in /usr/local/lib/python3.10/dist-packages (from requests[socks]->gdown) (3.4)\n",
            "Requirement already satisfied: urllib3<3,>=1.21.1 in /usr/local/lib/python3.10/dist-packages (from requests[socks]->gdown) (2.0.7)\n",
            "Requirement already satisfied: certifi>=2017.4.17 in /usr/local/lib/python3.10/dist-packages (from requests[socks]->gdown) (2023.7.22)\n",
            "Requirement already satisfied: PySocks!=1.5.7,>=1.5.6 in /usr/local/lib/python3.10/dist-packages (from requests[socks]->gdown) (1.7.1)\n"
          ]
        }
      ]
    },
    {
      "cell_type": "code",
      "source": [
        "# mount your drive\n",
        "from google.colab import drive\n",
        "# drive.mount('/content/drive',force_remount = True)\n",
        "\n",
        "drive_dir = \"/content/drive/MyDrive\"\n",
        "mount_dir = os.path.join(drive_dir, \"Colab Notebooks\")\n",
        "base_dir = os.getcwd()"
      ],
      "metadata": {
        "id": "dHWBmMipitp8",
        "colab": {
          "base_uri": "https://localhost:8080/"
        },
        "outputId": "525ad22c-2695-41ed-c0ba-5b2c169f6eac"
      },
      "execution_count": 8,
      "outputs": [
        {
          "output_type": "stream",
          "name": "stdout",
          "text": [
            "Mounted at /content/drive\n"
          ]
        }
      ]
    },
    {
      "cell_type": "code",
      "source": [
        "assert os.path.exists(drive_dir) # if this fails, something went wrong with mounting GoogleDrive\n",
        "if os.path.exists(mount_dir) is False:\n",
        "    os.makedirs(mount_dir)"
      ],
      "metadata": {
        "id": "zVKOkgA8ixqG"
      },
      "execution_count": 9,
      "outputs": []
    },
    {
      "cell_type": "code",
      "source": [
        "def make_if_dont_exist(folder_path,overwrite=False):\n",
        "    \"\"\"\n",
        "    creates a folder if it does not exists\n",
        "    input:\n",
        "    folder_path : relative path of the folder which needs to be created\n",
        "    over_write :(default: False) if True overwrite the existing folder\n",
        "    \"\"\"\n",
        "    if os.path.exists(folder_path):\n",
        "\n",
        "        if not overwrite:\n",
        "            print(f\"{folder_path} exists.\")\n",
        "        else:\n",
        "            print(f\"{folder_path} overwritten\")\n",
        "            shutil.rmtree(folder_path)\n",
        "            os.makedirs(folder_path)\n",
        "\n",
        "    else:\n",
        "      os.makedirs(folder_path)\n",
        "      print(f\"{folder_path} created!\")"
      ],
      "metadata": {
        "id": "SmcGApg9iJw1"
      },
      "execution_count": 10,
      "outputs": []
    },
    {
      "cell_type": "code",
      "source": [
        "# Maybe move path of preprocessed data directly on content - this may be signifcantely faster!\n",
        "print(\"Current Working Directory {}\".format(os.getcwd()))\n",
        "path_dict = {\n",
        "    \"nnUNet_raw\" : os.path.join(mount_dir, \"nnUNet_raw\"),\n",
        "    \"nnUNet_preprocessed\" : os.path.join(mount_dir, \"nnUNet_preprocessed\"), # 1 experiment: 1 epoch took 112s\n",
        "    \"nnUNet_results\" : os.path.join(mount_dir, \"nnUNet_results\"),\n",
        "    \"RAW_DATA_PATH\" : os.path.join(mount_dir, \"RawData\"), # This is used here only for convenience (not necessary for nnU-Net)!\n",
        "}\n",
        "\n",
        "# Write paths to environment variables\n",
        "for env_var, path in path_dict.items():\n",
        "  os.environ[env_var] = path\n",
        "\n",
        "# Check whether all environment variables are set correct!\n",
        "for env_var, path in path_dict.items():\n",
        "  if os.getenv(env_var) != path:\n",
        "    print(\"Error:\")\n",
        "    print(\"Environment Variable {} is not set correctly!\".format(env_var))\n",
        "    print(\"Should be {}\".format(path))\n",
        "    print(\"Variable is {}\".format(os.getenv(env_var)))\n",
        "  make_if_dont_exist(path, overwrite=False)\n",
        "\n",
        "print(\"If No Error Occured Continue Forward. =)\")"
      ],
      "metadata": {
        "colab": {
          "base_uri": "https://localhost:8080/"
        },
        "id": "oLjEN0FxiSTb",
        "outputId": "3038f473-eed1-4ffa-f49a-118d38511e6d"
      },
      "execution_count": 11,
      "outputs": [
        {
          "output_type": "stream",
          "name": "stdout",
          "text": [
            "Current Working Directory /content\n",
            "/content/drive/MyDrive/Colab Notebooks/nnUNet_raw exists.\n",
            "/content/drive/MyDrive/Colab Notebooks/nnUNet_preprocessed exists.\n",
            "/content/drive/MyDrive/Colab Notebooks/nnUNet_results exists.\n",
            "/content/drive/MyDrive/Colab Notebooks/RawData exists.\n",
            "If No Error Occured Continue Forward. =)\n"
          ]
        }
      ]
    },
    {
      "cell_type": "code",
      "source": [
        "dataset_name = 'Dataset100_FracAtles' #change here for different dataset name\n",
        "nnunet_raw_data = os.path.join(os.getenv(\"nnUNet_raw\"))\n",
        "task_folder_name = os.path.join(nnunet_raw_data,dataset_name)\n",
        "train_image_dir = os.path.join(task_folder_name,'imagesTr')\n",
        "train_label_dir = os.path.join(task_folder_name,'labelsTr')\n",
        "test_dir = os.path.join(task_folder_name,'imagesTs')\n",
        "\n",
        "# Create Folder Structure for the SCGM dataset on the system\n",
        "make_if_dont_exist(task_folder_name)\n",
        "make_if_dont_exist(train_image_dir)\n",
        "make_if_dont_exist(train_label_dir)\n",
        "make_if_dont_exist(test_dir)\n"
      ],
      "metadata": {
        "colab": {
          "base_uri": "https://localhost:8080/"
        },
        "id": "ZPYawwJ0iVq7",
        "outputId": "b3a45f23-e929-4431-ef27-a3d63b0079c3"
      },
      "execution_count": 12,
      "outputs": [
        {
          "output_type": "stream",
          "name": "stdout",
          "text": [
            "/content/drive/MyDrive/Colab Notebooks/nnUNet_raw/Dataset100_FracAtles exists.\n",
            "/content/drive/MyDrive/Colab Notebooks/nnUNet_raw/Dataset100_FracAtles/imagesTr exists.\n",
            "/content/drive/MyDrive/Colab Notebooks/nnUNet_raw/Dataset100_FracAtles/labelsTr exists.\n",
            "/content/drive/MyDrive/Colab Notebooks/nnUNet_raw/Dataset100_FracAtles/imagesTs exists.\n"
          ]
        }
      ]
    },
    {
      "cell_type": "code",
      "source": [
        "train_files = os.listdir(train_image_dir)\n",
        "label_files = os.listdir(train_label_dir)\n",
        "print(\"train image files:\",len(train_files))\n",
        "print(\"train label files:\",len(label_files))\n",
        "# print(\"Matches:\",len(set(train_files).intersection(set(label_files))))\n",
        "\n",
        "# assert len(set(train_files).intersection(set(label_files))) == 574  #should be equal to 160 for SCGM Challenge"
      ],
      "metadata": {
        "colab": {
          "base_uri": "https://localhost:8080/"
        },
        "id": "rlV7xZcSjOFr",
        "outputId": "60afec62-f5bf-4c41-cf0f-dcecb1274d33"
      },
      "execution_count": 24,
      "outputs": [
        {
          "output_type": "stream",
          "name": "stdout",
          "text": [
            "train image files: 1517\n",
            "train label files: 1517\n"
          ]
        }
      ]
    },
    {
      "cell_type": "code",
      "source": [
        "!nnUNetv2_plan_and_preprocess -d 100 -np 1 -c 3d_fullres --verify_dataset_integrity"
      ],
      "metadata": {
        "colab": {
          "base_uri": "https://localhost:8080/"
        },
        "id": "D55g9KOznLgW",
        "outputId": "f21e6446-8383-4fcc-aa8a-3d6dee4f3cf5"
      },
      "execution_count": null,
      "outputs": [
        {
          "output_type": "stream",
          "name": "stdout",
          "text": [
            "Fingerprint extraction...\n",
            "Dataset100_FracAtles\n",
            "Using <class 'nnunetv2.imageio.simpleitk_reader_writer.SimpleITKIO'> as reader/writer\n",
            "\n",
            "####################\n",
            "verify_dataset_integrity Done. \n",
            "If you didn't see any error messages then your dataset is most likely OK!\n",
            "####################\n",
            "\n",
            "Experiment planning...\n",
            "2D U-Net configuration:\n",
            "{'data_identifier': 'nnUNetPlans_2d', 'preprocessor_name': 'DefaultPreprocessor', 'batch_size': 65, 'patch_size': array([224, 224]), 'median_image_size_in_voxels': array([224., 224.]), 'spacing': array([1., 1.]), 'normalization_schemes': ['CTNormalization'], 'use_mask_for_norm': [False], 'UNet_class_name': 'PlainConvUNet', 'UNet_base_num_features': 32, 'n_conv_per_stage_encoder': (2, 2, 2, 2, 2, 2), 'n_conv_per_stage_decoder': (2, 2, 2, 2, 2), 'num_pool_per_axis': [5, 5], 'pool_op_kernel_sizes': [[1, 1], [2, 2], [2, 2], [2, 2], [2, 2], [2, 2]], 'conv_kernel_sizes': [[3, 3], [3, 3], [3, 3], [3, 3], [3, 3], [3, 3]], 'unet_max_num_features': 512, 'resampling_fn_data': 'resample_data_or_seg_to_shape', 'resampling_fn_seg': 'resample_data_or_seg_to_shape', 'resampling_fn_data_kwargs': {'is_seg': False, 'order': 3, 'order_z': 0, 'force_separate_z': None}, 'resampling_fn_seg_kwargs': {'is_seg': True, 'order': 1, 'order_z': 0, 'force_separate_z': None}, 'resampling_fn_probabilities': 'resample_data_or_seg_to_shape', 'resampling_fn_probabilities_kwargs': {'is_seg': False, 'order': 1, 'order_z': 0, 'force_separate_z': None}, 'batch_dice': True}\n",
            "\n",
            "Using <class 'nnunetv2.imageio.simpleitk_reader_writer.SimpleITKIO'> as reader/writer\n",
            "3D fullres U-Net configuration:\n",
            "{'data_identifier': 'nnUNetPlans_3d_fullres', 'preprocessor_name': 'DefaultPreprocessor', 'batch_size': 24, 'patch_size': array([  3, 224, 224]), 'median_image_size_in_voxels': array([  3., 224., 224.]), 'spacing': array([1., 1., 1.]), 'normalization_schemes': ['CTNormalization'], 'use_mask_for_norm': [False], 'UNet_class_name': 'PlainConvUNet', 'UNet_base_num_features': 32, 'n_conv_per_stage_encoder': (2, 2, 2, 2, 2, 2), 'n_conv_per_stage_decoder': (2, 2, 2, 2, 2), 'num_pool_per_axis': [0, 5, 5], 'pool_op_kernel_sizes': [[1, 1, 1], [1, 2, 2], [1, 2, 2], [1, 2, 2], [1, 2, 2], [1, 2, 2]], 'conv_kernel_sizes': [[3, 3, 3], [3, 3, 3], [3, 3, 3], [3, 3, 3], [3, 3, 3], [3, 3, 3]], 'unet_max_num_features': 320, 'resampling_fn_data': 'resample_data_or_seg_to_shape', 'resampling_fn_seg': 'resample_data_or_seg_to_shape', 'resampling_fn_data_kwargs': {'is_seg': False, 'order': 3, 'order_z': 0, 'force_separate_z': None}, 'resampling_fn_seg_kwargs': {'is_seg': True, 'order': 1, 'order_z': 0, 'force_separate_z': None}, 'resampling_fn_probabilities': 'resample_data_or_seg_to_shape', 'resampling_fn_probabilities_kwargs': {'is_seg': False, 'order': 1, 'order_z': 0, 'force_separate_z': None}, 'batch_dice': False}\n",
            "\n",
            "Plans were saved to /content/drive/MyDrive/Colab Notebooks/nnUNet_preprocessed/Dataset100_FracAtles/nnUNetPlans.json\n",
            "Preprocessing...\n",
            "Preprocessing dataset Dataset100_FracAtles\n",
            "Configuration: 3d_fullres...\n",
            "100% 1517/1517 [02:22<00:00, 10.64it/s]\n"
          ]
        }
      ]
    },
    {
      "cell_type": "code",
      "source": [
        "#visualizing some of the training images and labels\n",
        "# (re-run to see random pick-ups)\n",
        "# only maximum of first 5 slices are plotted\n",
        "train_img_name = os.listdir(train_image_dir)[np.random.randint(0,574)]\n",
        "train_img = np.array(nib.load(os.path.join(train_image_dir,train_img_name)).dataobj)[:,:,:5]\n",
        "train_label_name = train_img_name[:train_img_name.find('_0000.nii.gz')]+'.nii.gz'\n",
        "train_label = np.array(nib.load(os.path.join(train_label_dir,train_label_name)).dataobj)[:,:,:5]\n",
        "\n",
        "print(train_img.shape,train_label.shape)\n",
        "\n",
        "max_rows = 2\n",
        "max_cols = train_img.shape[2]\n",
        "\n",
        "fig, axes = plt.subplots(nrows=max_rows, ncols=max_cols, figsize=(20,8))\n",
        "for idx in range(max_cols):\n",
        "    axes[0, idx].axis(\"off\")\n",
        "    axes[0, idx].set_title('Train Image'+str(idx+1))\n",
        "    axes[0 ,idx].imshow(train_img[:,:,idx], cmap=\"gray\")\n",
        "for idx in range(max_cols):\n",
        "    axes[1, idx].axis(\"off\")\n",
        "    axes[1, idx].set_title('Train Label'+str(idx+1))\n",
        "    axes[1, idx].imshow(train_label[:,:,idx])\n",
        "\n",
        "plt.subplots_adjust(wspace=.1, hspace=.1)\n",
        "plt.show()"
      ],
      "metadata": {
        "colab": {
          "base_uri": "https://localhost:8080/",
          "height": 595
        },
        "id": "UDHin7KynbkH",
        "outputId": "f1a1daea-2bdf-435f-8c7b-dd3f0fb76929"
      },
      "execution_count": 21,
      "outputs": [
        {
          "output_type": "stream",
          "name": "stdout",
          "text": [
            "(224, 224, 3) (224, 224, 3)\n"
          ]
        },
        {
          "output_type": "display_data",
          "data": {
            "text/plain": [
              "<Figure size 2000x800 with 6 Axes>"
            ],
            "image/png": "[encoded data removed]"
          },
          "metadata": {}
        }
      ]
    },
    {
      "cell_type": "code",
      "source": [
        "!nnUNetv2_train 100 3d_fullres 4 -tr nnUNetTrainer_10epochs  --c   #the epoch calling parameter is the weirdest lol !\n",
        "# https://github.com/MIC-DKFZ/nnUNet/blob/master/nnunetv2/training/nnUNetTrainer/variants/training_length/nnUNetTrainer_Xepochs.py\n",
        "# pick the class name suitable for your training epochs."
      ],
      "metadata": {
        "id": "h_02m9AyrTcU"
      },
      "execution_count": null,
      "outputs": []
    },
    {
      "cell_type": "code",
      "source": [
        "# from google.colab import runtime\n",
        "# runtime.unassign()"
      ],
      "metadata": {
        "id": "LLv1Kw6I3KD8"
      },
      "execution_count": null,
      "outputs": []
    },
    {
      "cell_type": "code",
      "source": [
        "!nnUNetv2_predict -i '/content/drive/MyDrive/Colab Notebooks/nnUNet_raw/Dataset100_FracAtles/imagesTr' -o /content/MSD/Dataset100_FracAtles/imagesTs -d 100 -c 3d_fullres -tr nnUNetTrainer_10epochs\n",
        "#  The first path is the folder which contains the images with nii.gz foramt , the 2nd is the output folder , -d 3d_fullres is the configration , -tr the model name used in training"
      ],
      "metadata": {
        "colab": {
          "base_uri": "https://localhost:8080/"
        },
        "id": "6pTkFcAvvITm",
        "outputId": "db034e9f-7d99-4c39-cf96-931325e69cdc"
      },
      "execution_count": 14,
      "outputs": [
        {
          "output_type": "stream",
          "name": "stdout",
          "text": [
            "\u001b[1;30;43mStreaming output truncated to the last 5000 lines.\u001b[0m\n",
            "100% 1/1 [00:00<00:00, 13.39it/s]\n",
            "100% 1/1 [00:00<00:00, 16.04it/s]\n",
            "100% 1/1 [00:00<00:00, 15.13it/s]\n",
            "Prediction done, transferring to CPU if needed\n",
            "sending off prediction to background worker for resampling and export\n",
            "done with FRAC_2846\n",
            "\n",
            "Predicting FRAC_2847:\n",
            "perform_everything_on_gpu: True\n",
            "100% 1/1 [00:00<00:00, 15.45it/s]\n",
            "100% 1/1 [00:00<00:00, 14.51it/s]\n",
            "100% 1/1 [00:00<00:00, 14.98it/s]\n",
            "100% 1/1 [00:00<00:00, 15.75it/s]\n",
            "100% 1/1 [00:00<00:00, 15.63it/s]\n",
            "Prediction done, transferring to CPU if needed\n",
            "sending off prediction to background worker for resampling and export\n",
            "done with FRAC_2847\n",
            "\n",
            "Predicting FRAC_2848:\n",
            "perform_everything_on_gpu: True\n",
            "100% 1/1 [00:00<00:00, 14.04it/s]\n",
            "100% 1/1 [00:00<00:00, 15.43it/s]\n",
            "100% 1/1 [00:00<00:00, 16.16it/s]\n",
            "100% 1/1 [00:00<00:00, 15.18it/s]\n",
            "100% 1/1 [00:00<00:00, 15.22it/s]\n",
            "Prediction done, transferring to CPU if needed\n",
            "sending off prediction to background worker for resampling and export\n",
            "done with FRAC_2848\n",
            "\n",
            "Predicting FRAC_2849:\n",
            "perform_everything_on_gpu: True\n",
            "100% 1/1 [00:00<00:00, 16.27it/s]\n",
            "100% 1/1 [00:00<00:00, 12.13it/s]\n",
            "100% 1/1 [00:00<00:00, 14.74it/s]\n",
            "100% 1/1 [00:00<00:00, 11.67it/s]\n",
            "100% 1/1 [00:00<00:00, 11.10it/s]\n",
            "Prediction done, transferring to CPU if needed\n",
            "sending off prediction to background worker for resampling and export\n",
            "done with FRAC_2849\n",
            "\n",
            "Predicting FRAC_2851:\n",
            "perform_everything_on_gpu: True\n",
            "100% 1/1 [00:00<00:00, 13.69it/s]\n",
            "100% 1/1 [00:00<00:00, 14.72it/s]\n",
            "100% 1/1 [00:00<00:00,  8.29it/s]\n",
            "100% 1/1 [00:00<00:00,  9.91it/s]\n",
            "100% 1/1 [00:00<00:00, 11.53it/s]\n",
            "Prediction done, transferring to CPU if needed\n",
            "sending off prediction to background worker for resampling and export\n",
            "done with FRAC_2851\n",
            "\n",
            "Predicting FRAC_2861:\n",
            "perform_everything_on_gpu: True\n",
            "100% 1/1 [00:00<00:00, 10.84it/s]\n",
            "100% 1/1 [00:00<00:00,  8.60it/s]\n",
            "100% 1/1 [00:00<00:00, 10.22it/s]\n",
            "100% 1/1 [00:00<00:00,  8.33it/s]\n",
            "100% 1/1 [00:00<00:00,  8.08it/s]\n",
            "Prediction done, transferring to CPU if needed\n",
            "sending off prediction to background worker for resampling and export\n",
            "done with FRAC_2861\n",
            "\n",
            "Predicting FRAC_2866:\n",
            "perform_everything_on_gpu: True\n",
            "100% 1/1 [00:00<00:00, 11.17it/s]\n",
            "100% 1/1 [00:00<00:00,  9.48it/s]\n",
            "100% 1/1 [00:00<00:00,  8.37it/s]\n",
            "100% 1/1 [00:00<00:00, 10.54it/s]\n",
            "100% 1/1 [00:00<00:00,  9.89it/s]\n",
            "Prediction done, transferring to CPU if needed\n",
            "sending off prediction to background worker for resampling and export\n",
            "done with FRAC_2866\n",
            "\n",
            "Predicting FRAC_2876:\n",
            "perform_everything_on_gpu: True\n",
            "100% 1/1 [00:00<00:00, 10.92it/s]\n",
            "100% 1/1 [00:00<00:00,  8.43it/s]\n",
            "100% 1/1 [00:00<00:00, 10.22it/s]\n",
            "100% 1/1 [00:00<00:00, 11.30it/s]\n",
            "100% 1/1 [00:00<00:00,  9.37it/s]\n",
            "Prediction done, transferring to CPU if needed\n",
            "sending off prediction to background worker for resampling and export\n",
            "done with FRAC_2876\n",
            "\n",
            "Predicting FRAC_2884:\n",
            "perform_everything_on_gpu: True\n",
            "100% 1/1 [00:00<00:00,  8.76it/s]\n",
            "100% 1/1 [00:00<00:00,  9.15it/s]\n",
            "100% 1/1 [00:00<00:00,  9.58it/s]\n",
            "100% 1/1 [00:00<00:00,  9.48it/s]\n",
            "100% 1/1 [00:00<00:00,  9.24it/s]\n",
            "Prediction done, transferring to CPU if needed\n",
            "sending off prediction to background worker for resampling and export\n",
            "done with FRAC_2884\n",
            "\n",
            "Predicting FRAC_2885:\n",
            "perform_everything_on_gpu: True\n",
            "100% 1/1 [00:00<00:00, 15.90it/s]\n",
            "100% 1/1 [00:00<00:00, 13.59it/s]\n",
            "100% 1/1 [00:00<00:00, 15.17it/s]\n",
            "100% 1/1 [00:00<00:00, 15.58it/s]\n",
            "100% 1/1 [00:00<00:00, 13.64it/s]\n",
            "Prediction done, transferring to CPU if needed\n",
            "sending off prediction to background worker for resampling and export\n",
            "done with FRAC_2885\n",
            "\n",
            "Predicting FRAC_2886:\n",
            "perform_everything_on_gpu: True\n",
            "100% 1/1 [00:00<00:00, 15.30it/s]\n",
            "100% 1/1 [00:00<00:00, 14.58it/s]\n",
            "100% 1/1 [00:00<00:00, 13.11it/s]\n",
            "100% 1/1 [00:00<00:00, 14.50it/s]\n",
            "100% 1/1 [00:00<00:00, 14.43it/s]\n",
            "Prediction done, transferring to CPU if needed\n",
            "sending off prediction to background worker for resampling and export\n",
            "done with FRAC_2886\n",
            "\n",
            "Predicting FRAC_2893:\n",
            "perform_everything_on_gpu: True\n",
            "100% 1/1 [00:00<00:00, 14.99it/s]\n",
            "100% 1/1 [00:00<00:00, 13.91it/s]\n",
            "100% 1/1 [00:00<00:00, 13.47it/s]\n",
            "100% 1/1 [00:00<00:00, 12.65it/s]\n",
            "100% 1/1 [00:00<00:00, 15.99it/s]\n",
            "Prediction done, transferring to CPU if needed\n",
            "sending off prediction to background worker for resampling and export\n",
            "done with FRAC_2893\n",
            "\n",
            "Predicting FRAC_2894:\n",
            "perform_everything_on_gpu: True\n",
            "100% 1/1 [00:00<00:00, 16.21it/s]\n",
            "100% 1/1 [00:00<00:00, 16.37it/s]\n",
            "100% 1/1 [00:00<00:00, 16.01it/s]\n",
            "100% 1/1 [00:00<00:00, 13.39it/s]\n",
            "100% 1/1 [00:00<00:00, 15.30it/s]\n",
            "Prediction done, transferring to CPU if needed\n",
            "sending off prediction to background worker for resampling and export\n",
            "done with FRAC_2894\n",
            "\n",
            "Predicting FRAC_2895:\n",
            "perform_everything_on_gpu: True\n",
            "100% 1/1 [00:00<00:00, 14.92it/s]\n",
            "100% 1/1 [00:00<00:00, 15.63it/s]\n",
            "100% 1/1 [00:00<00:00, 13.12it/s]\n",
            "100% 1/1 [00:00<00:00, 15.78it/s]\n",
            "100% 1/1 [00:00<00:00, 14.93it/s]\n",
            "Prediction done, transferring to CPU if needed\n",
            "sending off prediction to background worker for resampling and export\n",
            "done with FRAC_2895\n",
            "\n",
            "Predicting FRAC_2897:\n",
            "perform_everything_on_gpu: True\n",
            "100% 1/1 [00:00<00:00, 15.71it/s]\n",
            "100% 1/1 [00:00<00:00, 13.15it/s]\n",
            "100% 1/1 [00:00<00:00, 15.62it/s]\n",
            "100% 1/1 [00:00<00:00, 15.47it/s]\n",
            "100% 1/1 [00:00<00:00, 12.88it/s]\n",
            "Prediction done, transferring to CPU if needed\n",
            "sending off prediction to background worker for resampling and export\n",
            "done with FRAC_2897\n",
            "\n",
            "Predicting FRAC_2902:\n",
            "perform_everything_on_gpu: True\n",
            "100% 1/1 [00:00<00:00, 15.31it/s]\n",
            "100% 1/1 [00:00<00:00, 16.50it/s]\n",
            "100% 1/1 [00:00<00:00, 15.69it/s]\n",
            "100% 1/1 [00:00<00:00, 12.72it/s]\n",
            "100% 1/1 [00:00<00:00, 12.43it/s]\n",
            "Prediction done, transferring to CPU if needed\n",
            "sending off prediction to background worker for resampling and export\n",
            "done with FRAC_2902\n",
            "\n",
            "Predicting FRAC_2904:\n",
            "perform_everything_on_gpu: True\n",
            "100% 1/1 [00:00<00:00, 16.81it/s]\n",
            "100% 1/1 [00:00<00:00, 14.49it/s]\n",
            "100% 1/1 [00:00<00:00, 15.29it/s]\n",
            "100% 1/1 [00:00<00:00, 16.45it/s]\n",
            "100% 1/1 [00:00<00:00, 15.99it/s]\n",
            "Prediction done, transferring to CPU if needed\n",
            "sending off prediction to background worker for resampling and export\n",
            "done with FRAC_2904\n",
            "\n",
            "Predicting FRAC_2905:\n",
            "perform_everything_on_gpu: True\n",
            "100% 1/1 [00:00<00:00, 10.76it/s]\n",
            "100% 1/1 [00:00<00:00, 10.02it/s]\n",
            "100% 1/1 [00:00<00:00,  9.95it/s]\n",
            "100% 1/1 [00:00<00:00, 11.51it/s]\n",
            "100% 1/1 [00:00<00:00, 10.98it/s]\n",
            "Prediction done, transferring to CPU if needed\n",
            "sending off prediction to background worker for resampling and export\n",
            "done with FRAC_2905\n",
            "\n",
            "Predicting FRAC_2909:\n",
            "perform_everything_on_gpu: True\n",
            "100% 1/1 [00:00<00:00,  8.35it/s]\n",
            "100% 1/1 [00:00<00:00, 10.53it/s]\n",
            "100% 1/1 [00:00<00:00,  8.72it/s]\n",
            "100% 1/1 [00:00<00:00, 10.31it/s]\n",
            "100% 1/1 [00:00<00:00,  8.65it/s]\n",
            "Prediction done, transferring to CPU if needed\n",
            "sending off prediction to background worker for resampling and export\n",
            "done with FRAC_2909\n",
            "\n",
            "Predicting FRAC_2910:\n",
            "perform_everything_on_gpu: True\n",
            "100% 1/1 [00:00<00:00,  9.06it/s]\n",
            "100% 1/1 [00:00<00:00,  7.75it/s]\n",
            "100% 1/1 [00:00<00:00,  8.75it/s]\n",
            "100% 1/1 [00:00<00:00,  5.87it/s]\n",
            "100% 1/1 [00:00<00:00, 10.00it/s]\n",
            "Prediction done, transferring to CPU if needed\n",
            "sending off prediction to background worker for resampling and export\n",
            "done with FRAC_2910\n",
            "\n",
            "Predicting FRAC_2921:\n",
            "perform_everything_on_gpu: True\n",
            "100% 1/1 [00:00<00:00, 11.25it/s]\n",
            "100% 1/1 [00:00<00:00, 10.98it/s]\n",
            "100% 1/1 [00:00<00:00,  9.53it/s]\n",
            "100% 1/1 [00:00<00:00,  9.32it/s]\n",
            "100% 1/1 [00:00<00:00,  7.56it/s]\n",
            "Prediction done, transferring to CPU if needed\n",
            "sending off prediction to background worker for resampling and export\n",
            "done with FRAC_2921\n",
            "\n",
            "Predicting FRAC_2922:\n",
            "perform_everything_on_gpu: True\n",
            "100% 1/1 [00:00<00:00,  8.49it/s]\n",
            "100% 1/1 [00:00<00:00,  8.47it/s]\n",
            "100% 1/1 [00:00<00:00,  9.64it/s]\n",
            "100% 1/1 [00:00<00:00,  8.99it/s]\n",
            "100% 1/1 [00:00<00:00,  8.95it/s]\n",
            "Prediction done, transferring to CPU if needed\n",
            "sending off prediction to background worker for resampling and export\n",
            "done with FRAC_2922\n",
            "\n",
            "Predicting FRAC_2923:\n",
            "perform_everything_on_gpu: True\n",
            "100% 1/1 [00:00<00:00,  9.48it/s]\n",
            "100% 1/1 [00:00<00:00,  8.72it/s]\n",
            "100% 1/1 [00:00<00:00,  6.57it/s]\n",
            "100% 1/1 [00:00<00:00,  8.93it/s]\n",
            "100% 1/1 [00:00<00:00,  7.75it/s]\n",
            "Prediction done, transferring to CPU if needed\n",
            "sending off prediction to background worker for resampling and export\n",
            "done with FRAC_2923\n",
            "\n",
            "Predicting FRAC_2929:\n",
            "perform_everything_on_gpu: True\n",
            "100% 1/1 [00:00<00:00,  8.12it/s]\n",
            "100% 1/1 [00:00<00:00,  8.50it/s]\n",
            "100% 1/1 [00:00<00:00, 10.63it/s]\n",
            "100% 1/1 [00:00<00:00,  9.80it/s]\n",
            "100% 1/1 [00:00<00:00, 10.04it/s]\n",
            "Prediction done, transferring to CPU if needed\n",
            "sending off prediction to background worker for resampling and export\n",
            "done with FRAC_2929\n",
            "\n",
            "Predicting FRAC_2934:\n",
            "perform_everything_on_gpu: True\n",
            "100% 1/1 [00:00<00:00,  9.17it/s]\n",
            "100% 1/1 [00:00<00:00,  7.68it/s]\n",
            "100% 1/1 [00:00<00:00,  8.44it/s]\n",
            "100% 1/1 [00:00<00:00,  8.35it/s]\n",
            "100% 1/1 [00:00<00:00,  8.80it/s]\n",
            "Prediction done, transferring to CPU if needed\n",
            "sending off prediction to background worker for resampling and export\n",
            "done with FRAC_2934\n",
            "\n",
            "Predicting FRAC_2935:\n",
            "perform_everything_on_gpu: True\n",
            "100% 1/1 [00:00<00:00, 15.40it/s]\n",
            "100% 1/1 [00:00<00:00, 15.46it/s]\n",
            "100% 1/1 [00:00<00:00, 13.43it/s]\n",
            "100% 1/1 [00:00<00:00, 13.37it/s]\n",
            "100% 1/1 [00:00<00:00, 15.90it/s]\n",
            "Prediction done, transferring to CPU if needed\n",
            "sending off prediction to background worker for resampling and export\n",
            "done with FRAC_2935\n",
            "\n",
            "Predicting FRAC_2936:\n",
            "perform_everything_on_gpu: True\n",
            "100% 1/1 [00:00<00:00, 15.83it/s]\n",
            "100% 1/1 [00:00<00:00, 14.71it/s]\n",
            "100% 1/1 [00:00<00:00, 16.29it/s]\n",
            "100% 1/1 [00:00<00:00, 15.82it/s]\n",
            "100% 1/1 [00:00<00:00, 15.67it/s]\n",
            "Prediction done, transferring to CPU if needed\n",
            "sending off prediction to background worker for resampling and export\n",
            "done with FRAC_2936\n",
            "\n",
            "Predicting FRAC_2941:\n",
            "perform_everything_on_gpu: True\n",
            "100% 1/1 [00:00<00:00, 15.59it/s]\n",
            "100% 1/1 [00:00<00:00, 13.78it/s]\n",
            "100% 1/1 [00:00<00:00, 15.47it/s]\n",
            "100% 1/1 [00:00<00:00, 16.41it/s]\n",
            "100% 1/1 [00:00<00:00, 13.40it/s]\n",
            "Prediction done, transferring to CPU if needed\n",
            "sending off prediction to background worker for resampling and export\n",
            "done with FRAC_2941\n",
            "\n",
            "Predicting FRAC_2945:\n",
            "perform_everything_on_gpu: True\n",
            "100% 1/1 [00:00<00:00, 16.10it/s]\n",
            "100% 1/1 [00:00<00:00, 13.75it/s]\n",
            "100% 1/1 [00:00<00:00, 12.16it/s]\n",
            "100% 1/1 [00:00<00:00, 13.26it/s]\n",
            "100% 1/1 [00:00<00:00, 13.58it/s]\n",
            "Prediction done, transferring to CPU if needed\n",
            "sending off prediction to background worker for resampling and export\n",
            "done with FRAC_2945\n",
            "\n",
            "Predicting FRAC_2946:\n",
            "perform_everything_on_gpu: True\n",
            "100% 1/1 [00:00<00:00, 16.06it/s]\n",
            "100% 1/1 [00:00<00:00, 13.15it/s]\n",
            "100% 1/1 [00:00<00:00, 15.94it/s]\n",
            "100% 1/1 [00:00<00:00, 16.03it/s]\n",
            "100% 1/1 [00:00<00:00, 15.35it/s]\n",
            "Prediction done, transferring to CPU if needed\n",
            "sending off prediction to background worker for resampling and export\n",
            "done with FRAC_2946\n",
            "\n",
            "Predicting FRAC_2947:\n",
            "perform_everything_on_gpu: True\n",
            "100% 1/1 [00:00<00:00, 12.49it/s]\n",
            "100% 1/1 [00:00<00:00, 15.43it/s]\n",
            "100% 1/1 [00:00<00:00, 15.05it/s]\n",
            "100% 1/1 [00:00<00:00, 15.53it/s]\n",
            "100% 1/1 [00:00<00:00, 14.86it/s]\n",
            "Prediction done, transferring to CPU if needed\n",
            "sending off prediction to background worker for resampling and export\n",
            "done with FRAC_2947\n",
            "\n",
            "Predicting FRAC_2948:\n",
            "perform_everything_on_gpu: True\n",
            "100% 1/1 [00:00<00:00, 10.28it/s]\n",
            "100% 1/1 [00:00<00:00,  8.17it/s]\n",
            "100% 1/1 [00:00<00:00,  9.13it/s]\n",
            "100% 1/1 [00:00<00:00,  8.86it/s]\n",
            "100% 1/1 [00:00<00:00,  7.93it/s]\n",
            "Prediction done, transferring to CPU if needed\n",
            "sending off prediction to background worker for resampling and export\n",
            "done with FRAC_2948\n",
            "\n",
            "Predicting FRAC_2958:\n",
            "perform_everything_on_gpu: True\n",
            "100% 1/1 [00:00<00:00,  9.49it/s]\n",
            "100% 1/1 [00:00<00:00, 10.32it/s]\n",
            "100% 1/1 [00:00<00:00, 10.22it/s]\n",
            "100% 1/1 [00:00<00:00, 10.81it/s]\n",
            "100% 1/1 [00:00<00:00, 10.00it/s]\n",
            "Prediction done, transferring to CPU if needed\n",
            "sending off prediction to background worker for resampling and export\n",
            "done with FRAC_2958\n",
            "\n",
            "Predicting FRAC_2960:\n",
            "perform_everything_on_gpu: True\n",
            "100% 1/1 [00:00<00:00, 11.06it/s]\n",
            "100% 1/1 [00:00<00:00, 10.44it/s]\n",
            "100% 1/1 [00:00<00:00,  9.34it/s]\n",
            "100% 1/1 [00:00<00:00,  9.77it/s]\n",
            "100% 1/1 [00:00<00:00, 11.79it/s]\n",
            "Prediction done, transferring to CPU if needed\n",
            "sending off prediction to background worker for resampling and export\n",
            "done with FRAC_2960\n",
            "\n",
            "Predicting FRAC_2961:\n",
            "perform_everything_on_gpu: True\n",
            "100% 1/1 [00:00<00:00, 10.52it/s]\n",
            "100% 1/1 [00:00<00:00,  8.91it/s]\n",
            "100% 1/1 [00:00<00:00,  8.49it/s]\n",
            "100% 1/1 [00:00<00:00,  9.64it/s]\n",
            "100% 1/1 [00:00<00:00,  9.94it/s]\n",
            "Prediction done, transferring to CPU if needed\n",
            "sending off prediction to background worker for resampling and export\n",
            "done with FRAC_2961\n",
            "\n",
            "Predicting FRAC_2965:\n",
            "perform_everything_on_gpu: True\n",
            "100% 1/1 [00:00<00:00,  9.61it/s]\n",
            "100% 1/1 [00:00<00:00,  8.29it/s]\n",
            "100% 1/1 [00:00<00:00,  9.62it/s]\n",
            "100% 1/1 [00:00<00:00,  8.40it/s]\n",
            "100% 1/1 [00:00<00:00, 16.06it/s]\n",
            "Prediction done, transferring to CPU if needed\n",
            "sending off prediction to background worker for resampling and export\n",
            "done with FRAC_2965\n",
            "\n",
            "Predicting FRAC_2968:\n",
            "perform_everything_on_gpu: True\n",
            "100% 1/1 [00:00<00:00, 13.44it/s]\n",
            "100% 1/1 [00:00<00:00, 14.17it/s]\n",
            "100% 1/1 [00:00<00:00, 15.51it/s]\n",
            "100% 1/1 [00:00<00:00, 15.56it/s]\n",
            "100% 1/1 [00:00<00:00, 13.61it/s]\n",
            "Prediction done, transferring to CPU if needed\n",
            "sending off prediction to background worker for resampling and export\n",
            "done with FRAC_2968\n",
            "\n",
            "Predicting FRAC_2970:\n",
            "perform_everything_on_gpu: True\n",
            "100% 1/1 [00:00<00:00, 12.13it/s]\n",
            "100% 1/1 [00:00<00:00, 15.19it/s]\n",
            "100% 1/1 [00:00<00:00, 15.39it/s]\n",
            "100% 1/1 [00:00<00:00, 15.50it/s]\n",
            "100% 1/1 [00:00<00:00, 14.46it/s]\n",
            "Prediction done, transferring to CPU if needed\n",
            "sending off prediction to background worker for resampling and export\n",
            "done with FRAC_2970\n",
            "\n",
            "Predicting FRAC_2971:\n",
            "perform_everything_on_gpu: True\n",
            "100% 1/1 [00:00<00:00, 15.74it/s]\n",
            "100% 1/1 [00:00<00:00, 14.33it/s]\n",
            "100% 1/1 [00:00<00:00, 14.09it/s]\n",
            "100% 1/1 [00:00<00:00, 15.81it/s]\n",
            "100% 1/1 [00:00<00:00, 15.94it/s]\n",
            "Prediction done, transferring to CPU if needed\n",
            "sending off prediction to background worker for resampling and export\n",
            "done with FRAC_2971\n",
            "\n",
            "Predicting FRAC_2973:\n",
            "perform_everything_on_gpu: True\n",
            "100% 1/1 [00:00<00:00, 16.27it/s]\n",
            "100% 1/1 [00:00<00:00, 14.25it/s]\n",
            "100% 1/1 [00:00<00:00, 16.16it/s]\n",
            "100% 1/1 [00:00<00:00, 16.22it/s]\n",
            "100% 1/1 [00:00<00:00, 15.70it/s]\n",
            "Prediction done, transferring to CPU if needed\n",
            "sending off prediction to background worker for resampling and export\n",
            "done with FRAC_2973\n",
            "\n",
            "Predicting FRAC_2974:\n",
            "perform_everything_on_gpu: True\n",
            "100% 1/1 [00:00<00:00, 15.94it/s]\n",
            "100% 1/1 [00:00<00:00, 15.23it/s]\n",
            "100% 1/1 [00:00<00:00, 13.76it/s]\n",
            "100% 1/1 [00:00<00:00, 16.27it/s]\n",
            "100% 1/1 [00:00<00:00, 15.35it/s]\n",
            "Prediction done, transferring to CPU if needed\n",
            "sending off prediction to background worker for resampling and export\n",
            "done with FRAC_2974\n",
            "\n",
            "Predicting FRAC_2979:\n",
            "perform_everything_on_gpu: True\n",
            "100% 1/1 [00:00<00:00, 15.59it/s]\n",
            "100% 1/1 [00:00<00:00, 15.07it/s]\n",
            "100% 1/1 [00:00<00:00, 14.90it/s]\n",
            "100% 1/1 [00:00<00:00, 12.89it/s]\n",
            "100% 1/1 [00:00<00:00, 15.40it/s]\n",
            "Prediction done, transferring to CPU if needed\n",
            "sending off prediction to background worker for resampling and export\n",
            "done with FRAC_2979\n",
            "\n",
            "Predicting FRAC_2980:\n",
            "perform_everything_on_gpu: True\n",
            "100% 1/1 [00:00<00:00, 13.44it/s]\n",
            "100% 1/1 [00:00<00:00, 14.42it/s]\n",
            "100% 1/1 [00:00<00:00, 14.29it/s]\n",
            "100% 1/1 [00:00<00:00, 15.43it/s]\n",
            "100% 1/1 [00:00<00:00, 15.54it/s]\n",
            "Prediction done, transferring to CPU if needed\n",
            "sending off prediction to background worker for resampling and export\n",
            "done with FRAC_2980\n",
            "\n",
            "Predicting FRAC_2981:\n",
            "perform_everything_on_gpu: True\n",
            "100% 1/1 [00:00<00:00, 11.48it/s]\n",
            "100% 1/1 [00:00<00:00, 14.93it/s]\n",
            "100% 1/1 [00:00<00:00,  9.04it/s]\n",
            "100% 1/1 [00:00<00:00,  8.14it/s]\n",
            "100% 1/1 [00:00<00:00,  8.90it/s]\n",
            "Prediction done, transferring to CPU if needed\n",
            "sending off prediction to background worker for resampling and export\n",
            "done with FRAC_2981\n",
            "\n",
            "Predicting FRAC_2987:\n",
            "perform_everything_on_gpu: True\n",
            "100% 1/1 [00:00<00:00, 11.32it/s]\n",
            "100% 1/1 [00:00<00:00, 10.26it/s]\n",
            "100% 1/1 [00:00<00:00,  7.47it/s]\n",
            "100% 1/1 [00:00<00:00,  8.04it/s]\n",
            "100% 1/1 [00:00<00:00,  8.20it/s]\n",
            "Prediction done, transferring to CPU if needed\n",
            "sending off prediction to background worker for resampling and export\n",
            "done with FRAC_2987\n",
            "\n",
            "Predicting FRAC_2994:\n",
            "perform_everything_on_gpu: True\n",
            "100% 1/1 [00:00<00:00, 10.79it/s]\n",
            "100% 1/1 [00:00<00:00, 11.03it/s]\n",
            "100% 1/1 [00:00<00:00, 10.14it/s]\n",
            "100% 1/1 [00:00<00:00,  9.86it/s]\n",
            "100% 1/1 [00:00<00:00, 10.15it/s]\n",
            "Prediction done, transferring to CPU if needed\n",
            "sending off prediction to background worker for resampling and export\n",
            "done with FRAC_2994\n",
            "\n",
            "Predicting FRAC_2998:\n",
            "perform_everything_on_gpu: True\n",
            "100% 1/1 [00:00<00:00,  8.69it/s]\n",
            "100% 1/1 [00:00<00:00, 11.95it/s]\n",
            "100% 1/1 [00:00<00:00, 10.42it/s]\n",
            "100% 1/1 [00:00<00:00, 11.14it/s]\n",
            "100% 1/1 [00:00<00:00,  9.82it/s]\n",
            "Prediction done, transferring to CPU if needed\n",
            "sending off prediction to background worker for resampling and export\n",
            "done with FRAC_2998\n",
            "\n",
            "Predicting FRAC_2999:\n",
            "perform_everything_on_gpu: True\n",
            "100% 1/1 [00:00<00:00,  9.21it/s]\n",
            "100% 1/1 [00:00<00:00,  9.58it/s]\n",
            "100% 1/1 [00:00<00:00,  8.04it/s]\n",
            "100% 1/1 [00:00<00:00,  6.54it/s]\n",
            "100% 1/1 [00:00<00:00,  9.15it/s]\n",
            "Prediction done, transferring to CPU if needed\n",
            "sending off prediction to background worker for resampling and export\n",
            "done with FRAC_2999\n",
            "\n",
            "Predicting FRAC_3000:\n",
            "perform_everything_on_gpu: True\n",
            "100% 1/1 [00:00<00:00,  9.06it/s]\n",
            "100% 1/1 [00:00<00:00, 12.43it/s]\n",
            "100% 1/1 [00:00<00:00, 14.07it/s]\n",
            "100% 1/1 [00:00<00:00, 15.36it/s]\n",
            "100% 1/1 [00:00<00:00, 15.20it/s]\n",
            "Prediction done, transferring to CPU if needed\n",
            "sending off prediction to background worker for resampling and export\n",
            "done with FRAC_3000\n",
            "\n",
            "Predicting FRAC_3001:\n",
            "perform_everything_on_gpu: True\n",
            "100% 1/1 [00:00<00:00, 15.26it/s]\n",
            "100% 1/1 [00:00<00:00, 14.01it/s]\n",
            "100% 1/1 [00:00<00:00, 14.47it/s]\n",
            "100% 1/1 [00:00<00:00, 13.80it/s]\n",
            "100% 1/1 [00:00<00:00, 14.84it/s]\n",
            "Prediction done, transferring to CPU if needed\n",
            "sending off prediction to background worker for resampling and export\n",
            "done with FRAC_3001\n",
            "\n",
            "Predicting FRAC_3002:\n",
            "perform_everything_on_gpu: True\n",
            "100% 1/1 [00:00<00:00, 14.35it/s]\n",
            "100% 1/1 [00:00<00:00, 15.52it/s]\n",
            "100% 1/1 [00:00<00:00, 15.24it/s]\n",
            "100% 1/1 [00:00<00:00, 15.12it/s]\n",
            "100% 1/1 [00:00<00:00, 15.20it/s]\n",
            "Prediction done, transferring to CPU if needed\n",
            "sending off prediction to background worker for resampling and export\n",
            "done with FRAC_3002\n",
            "\n",
            "Predicting FRAC_3008:\n",
            "perform_everything_on_gpu: True\n",
            "100% 1/1 [00:00<00:00, 14.97it/s]\n",
            "100% 1/1 [00:00<00:00, 15.27it/s]\n",
            "100% 1/1 [00:00<00:00, 15.52it/s]\n",
            "100% 1/1 [00:00<00:00, 14.06it/s]\n",
            "100% 1/1 [00:00<00:00, 15.04it/s]\n",
            "Prediction done, transferring to CPU if needed\n",
            "sending off prediction to background worker for resampling and export\n",
            "done with FRAC_3008\n",
            "\n",
            "Predicting FRAC_3012:\n",
            "perform_everything_on_gpu: True\n",
            "100% 1/1 [00:00<00:00, 15.86it/s]\n",
            "100% 1/1 [00:00<00:00, 13.61it/s]\n",
            "100% 1/1 [00:00<00:00, 15.29it/s]\n",
            "100% 1/1 [00:00<00:00, 15.29it/s]\n",
            "100% 1/1 [00:00<00:00, 12.09it/s]\n",
            "Prediction done, transferring to CPU if needed\n",
            "sending off prediction to background worker for resampling and export\n",
            "done with FRAC_3012\n",
            "\n",
            "Predicting FRAC_3014:\n",
            "perform_everything_on_gpu: True\n",
            "100% 1/1 [00:00<00:00, 15.04it/s]\n",
            "100% 1/1 [00:00<00:00, 13.62it/s]\n",
            "100% 1/1 [00:00<00:00, 16.16it/s]\n",
            "100% 1/1 [00:00<00:00, 15.45it/s]\n",
            "100% 1/1 [00:00<00:00, 13.38it/s]\n",
            "Prediction done, transferring to CPU if needed\n",
            "sending off prediction to background worker for resampling and export\n",
            "done with FRAC_3014\n",
            "\n",
            "Predicting FRAC_3016:\n",
            "perform_everything_on_gpu: True\n",
            "100% 1/1 [00:00<00:00, 14.42it/s]\n",
            "100% 1/1 [00:00<00:00, 13.65it/s]\n",
            "100% 1/1 [00:00<00:00, 14.04it/s]\n",
            "100% 1/1 [00:00<00:00, 14.85it/s]\n",
            "100% 1/1 [00:00<00:00, 15.42it/s]\n",
            "Prediction done, transferring to CPU if needed\n",
            "sending off prediction to background worker for resampling and export\n",
            "done with FRAC_3016\n",
            "\n",
            "Predicting FRAC_3017:\n",
            "perform_everything_on_gpu: True\n",
            "100% 1/1 [00:00<00:00, 15.97it/s]\n",
            "100% 1/1 [00:00<00:00, 16.21it/s]\n",
            "100% 1/1 [00:00<00:00, 15.15it/s]\n",
            "100% 1/1 [00:00<00:00, 15.74it/s]\n",
            "100% 1/1 [00:00<00:00, 15.02it/s]\n",
            "Prediction done, transferring to CPU if needed\n",
            "sending off prediction to background worker for resampling and export\n",
            "done with FRAC_3017\n",
            "\n",
            "Predicting FRAC_3020:\n",
            "perform_everything_on_gpu: True\n",
            "100% 1/1 [00:00<00:00, 13.86it/s]\n",
            "100% 1/1 [00:00<00:00,  9.92it/s]\n",
            "100% 1/1 [00:00<00:00,  9.44it/s]\n",
            "100% 1/1 [00:00<00:00, 11.55it/s]\n",
            "100% 1/1 [00:00<00:00,  9.92it/s]\n",
            "Prediction done, transferring to CPU if needed\n",
            "sending off prediction to background worker for resampling and export\n",
            "done with FRAC_3020\n",
            "\n",
            "Predicting FRAC_3021:\n",
            "perform_everything_on_gpu: True\n",
            "100% 1/1 [00:00<00:00, 11.08it/s]\n",
            "100% 1/1 [00:00<00:00,  9.88it/s]\n",
            "100% 1/1 [00:00<00:00,  8.38it/s]\n",
            "100% 1/1 [00:00<00:00, 11.05it/s]\n",
            "100% 1/1 [00:00<00:00,  8.15it/s]\n",
            "Prediction done, transferring to CPU if needed\n",
            "sending off prediction to background worker for resampling and export\n",
            "done with FRAC_3021\n",
            "\n",
            "Predicting FRAC_3025:\n",
            "perform_everything_on_gpu: True\n",
            "100% 1/1 [00:00<00:00, 11.97it/s]\n",
            "100% 1/1 [00:00<00:00,  8.59it/s]\n",
            "100% 1/1 [00:00<00:00, 10.32it/s]\n",
            "100% 1/1 [00:00<00:00, 10.82it/s]\n",
            "100% 1/1 [00:00<00:00,  8.53it/s]\n",
            "Prediction done, transferring to CPU if needed\n",
            "sending off prediction to background worker for resampling and export\n",
            "done with FRAC_3025\n",
            "\n",
            "Predicting FRAC_3032:\n",
            "perform_everything_on_gpu: True\n",
            "100% 1/1 [00:00<00:00,  8.25it/s]\n",
            "100% 1/1 [00:00<00:00, 10.38it/s]\n",
            "100% 1/1 [00:00<00:00,  8.81it/s]\n",
            "100% 1/1 [00:00<00:00, 10.42it/s]\n",
            "100% 1/1 [00:00<00:00,  9.72it/s]\n",
            "Prediction done, transferring to CPU if needed\n",
            "sending off prediction to background worker for resampling and export\n",
            "done with FRAC_3032\n",
            "\n",
            "Predicting FRAC_3033:\n",
            "perform_everything_on_gpu: True\n",
            "100% 1/1 [00:00<00:00,  8.01it/s]\n",
            "100% 1/1 [00:00<00:00,  7.93it/s]\n",
            "100% 1/1 [00:00<00:00,  8.82it/s]\n",
            "100% 1/1 [00:00<00:00,  9.07it/s]\n",
            "100% 1/1 [00:00<00:00,  9.62it/s]\n",
            "Prediction done, transferring to CPU if needed\n",
            "sending off prediction to background worker for resampling and export\n",
            "done with FRAC_3033\n",
            "\n",
            "Predicting FRAC_3034:\n",
            "perform_everything_on_gpu: True\n",
            "100% 1/1 [00:00<00:00, 15.48it/s]\n",
            "100% 1/1 [00:00<00:00, 14.55it/s]\n",
            "100% 1/1 [00:00<00:00, 12.47it/s]\n",
            "100% 1/1 [00:00<00:00, 13.25it/s]\n",
            "100% 1/1 [00:00<00:00, 14.93it/s]\n",
            "Prediction done, transferring to CPU if needed\n",
            "sending off prediction to background worker for resampling and export\n",
            "done with FRAC_3034\n",
            "\n",
            "Predicting FRAC_3035:\n",
            "perform_everything_on_gpu: True\n",
            "100% 1/1 [00:00<00:00, 15.57it/s]\n",
            "100% 1/1 [00:00<00:00, 13.92it/s]\n",
            "100% 1/1 [00:00<00:00, 10.93it/s]\n",
            "100% 1/1 [00:00<00:00, 15.38it/s]\n",
            "100% 1/1 [00:00<00:00, 14.83it/s]\n",
            "Prediction done, transferring to CPU if needed\n",
            "sending off prediction to background worker for resampling and export\n",
            "done with FRAC_3035\n",
            "\n",
            "Predicting FRAC_3036:\n",
            "perform_everything_on_gpu: True\n",
            "100% 1/1 [00:00<00:00, 15.63it/s]\n",
            "100% 1/1 [00:00<00:00, 12.69it/s]\n",
            "100% 1/1 [00:00<00:00, 13.69it/s]\n",
            "100% 1/1 [00:00<00:00, 16.00it/s]\n",
            "100% 1/1 [00:00<00:00, 16.48it/s]\n",
            "Prediction done, transferring to CPU if needed\n",
            "sending off prediction to background worker for resampling and export\n",
            "done with FRAC_3036\n",
            "\n",
            "Predicting FRAC_3037:\n",
            "perform_everything_on_gpu: True\n",
            "100% 1/1 [00:00<00:00, 10.30it/s]\n",
            "100% 1/1 [00:00<00:00, 14.38it/s]\n",
            "100% 1/1 [00:00<00:00, 15.77it/s]\n",
            "100% 1/1 [00:00<00:00, 16.16it/s]\n",
            "100% 1/1 [00:00<00:00, 13.31it/s]\n",
            "Prediction done, transferring to CPU if needed\n",
            "sending off prediction to background worker for resampling and export\n",
            "done with FRAC_3037\n",
            "\n",
            "Predicting FRAC_3039:\n",
            "perform_everything_on_gpu: True\n",
            "100% 1/1 [00:00<00:00, 12.87it/s]\n",
            "100% 1/1 [00:00<00:00, 15.08it/s]\n",
            "100% 1/1 [00:00<00:00, 16.47it/s]\n",
            "100% 1/1 [00:00<00:00, 12.46it/s]\n",
            "100% 1/1 [00:00<00:00, 13.69it/s]\n",
            "Prediction done, transferring to CPU if needed\n",
            "sending off prediction to background worker for resampling and export\n",
            "done with FRAC_3039\n",
            "\n",
            "Predicting FRAC_3047:\n",
            "perform_everything_on_gpu: True\n",
            "100% 1/1 [00:00<00:00, 14.42it/s]\n",
            "100% 1/1 [00:00<00:00, 14.89it/s]\n",
            "100% 1/1 [00:00<00:00, 16.19it/s]\n",
            "100% 1/1 [00:00<00:00, 15.41it/s]\n",
            "100% 1/1 [00:00<00:00, 14.61it/s]\n",
            "Prediction done, transferring to CPU if needed\n",
            "sending off prediction to background worker for resampling and export\n",
            "done with FRAC_3047\n",
            "\n",
            "Predicting FRAC_3062:\n",
            "perform_everything_on_gpu: True\n",
            "100% 1/1 [00:00<00:00, 13.81it/s]\n",
            "100% 1/1 [00:00<00:00, 16.19it/s]\n",
            "100% 1/1 [00:00<00:00, 14.07it/s]\n",
            "100% 1/1 [00:00<00:00, 13.77it/s]\n",
            "100% 1/1 [00:00<00:00, 15.02it/s]\n",
            "Prediction done, transferring to CPU if needed\n",
            "sending off prediction to background worker for resampling and export\n",
            "done with FRAC_3062\n",
            "\n",
            "Predicting FRAC_3067:\n",
            "perform_everything_on_gpu: True\n",
            "100% 1/1 [00:00<00:00, 16.56it/s]\n",
            "100% 1/1 [00:00<00:00, 14.08it/s]\n",
            "100% 1/1 [00:00<00:00, 15.76it/s]\n",
            "100% 1/1 [00:00<00:00, 15.67it/s]\n",
            "100% 1/1 [00:00<00:00, 15.17it/s]\n",
            "Prediction done, transferring to CPU if needed\n",
            "sending off prediction to background worker for resampling and export\n",
            "done with FRAC_3067\n",
            "\n",
            "Predicting FRAC_3070:\n",
            "perform_everything_on_gpu: True\n",
            "100% 1/1 [00:00<00:00, 10.47it/s]\n",
            "100% 1/1 [00:00<00:00,  9.25it/s]\n",
            "100% 1/1 [00:00<00:00,  9.83it/s]\n",
            "100% 1/1 [00:00<00:00, 11.60it/s]\n",
            "100% 1/1 [00:00<00:00, 11.46it/s]\n",
            "Prediction done, transferring to CPU if needed\n",
            "sending off prediction to background worker for resampling and export\n",
            "done with FRAC_3070\n",
            "\n",
            "Predicting FRAC_3073:\n",
            "perform_everything_on_gpu: True\n",
            "100% 1/1 [00:00<00:00,  9.87it/s]\n",
            "100% 1/1 [00:00<00:00,  9.32it/s]\n",
            "100% 1/1 [00:00<00:00, 10.81it/s]\n",
            "100% 1/1 [00:00<00:00, 10.10it/s]\n",
            "100% 1/1 [00:00<00:00, 10.20it/s]\n",
            "Prediction done, transferring to CPU if needed\n",
            "sending off prediction to background worker for resampling and export\n",
            "done with FRAC_3073\n",
            "\n",
            "Predicting FRAC_3074:\n",
            "perform_everything_on_gpu: True\n",
            "100% 1/1 [00:00<00:00, 10.66it/s]\n",
            "100% 1/1 [00:00<00:00, 10.92it/s]\n",
            "100% 1/1 [00:00<00:00,  9.79it/s]\n",
            "100% 1/1 [00:00<00:00,  8.83it/s]\n",
            "100% 1/1 [00:00<00:00,  8.51it/s]\n",
            "Prediction done, transferring to CPU if needed\n",
            "sending off prediction to background worker for resampling and export\n",
            "done with FRAC_3074\n",
            "\n",
            "Predicting FRAC_3077:\n",
            "perform_everything_on_gpu: True\n",
            "100% 1/1 [00:00<00:00,  8.61it/s]\n",
            "100% 1/1 [00:00<00:00,  7.58it/s]\n",
            "100% 1/1 [00:00<00:00,  8.16it/s]\n",
            "100% 1/1 [00:00<00:00,  8.53it/s]\n",
            "100% 1/1 [00:00<00:00,  9.62it/s]\n",
            "Prediction done, transferring to CPU if needed\n",
            "sending off prediction to background worker for resampling and export\n",
            "done with FRAC_3077\n",
            "\n",
            "Predicting FRAC_3087:\n",
            "perform_everything_on_gpu: True\n",
            "100% 1/1 [00:00<00:00,  9.70it/s]\n",
            "100% 1/1 [00:00<00:00, 10.31it/s]\n",
            "100% 1/1 [00:00<00:00, 15.58it/s]\n",
            "100% 1/1 [00:00<00:00, 12.93it/s]\n",
            "100% 1/1 [00:00<00:00, 12.32it/s]\n",
            "Prediction done, transferring to CPU if needed\n",
            "sending off prediction to background worker for resampling and export\n",
            "done with FRAC_3087\n",
            "\n",
            "Predicting FRAC_3089:\n",
            "perform_everything_on_gpu: True\n",
            "100% 1/1 [00:00<00:00, 14.53it/s]\n",
            "100% 1/1 [00:00<00:00, 15.52it/s]\n",
            "100% 1/1 [00:00<00:00, 16.13it/s]\n",
            "100% 1/1 [00:00<00:00, 13.53it/s]\n",
            "100% 1/1 [00:00<00:00, 16.37it/s]\n",
            "Prediction done, transferring to CPU if needed\n",
            "sending off prediction to background worker for resampling and export\n",
            "done with FRAC_3089\n",
            "\n",
            "Predicting FRAC_3090:\n",
            "perform_everything_on_gpu: True\n",
            "100% 1/1 [00:00<00:00, 15.74it/s]\n",
            "100% 1/1 [00:00<00:00, 15.04it/s]\n",
            "100% 1/1 [00:00<00:00, 13.22it/s]\n",
            "100% 1/1 [00:00<00:00, 15.92it/s]\n",
            "100% 1/1 [00:00<00:00, 16.32it/s]\n",
            "Prediction done, transferring to CPU if needed\n",
            "sending off prediction to background worker for resampling and export\n",
            "done with FRAC_3090\n",
            "\n",
            "Predicting FRAC_3092:\n",
            "perform_everything_on_gpu: True\n",
            "100% 1/1 [00:00<00:00, 15.88it/s]\n",
            "100% 1/1 [00:00<00:00, 11.28it/s]\n",
            "100% 1/1 [00:00<00:00, 15.68it/s]\n",
            "100% 1/1 [00:00<00:00, 15.19it/s]\n",
            "100% 1/1 [00:00<00:00, 16.16it/s]\n",
            "Prediction done, transferring to CPU if needed\n",
            "sending off prediction to background worker for resampling and export\n",
            "done with FRAC_3092\n",
            "\n",
            "Predicting FRAC_3093:\n",
            "perform_everything_on_gpu: True\n",
            "100% 1/1 [00:00<00:00, 15.25it/s]\n",
            "100% 1/1 [00:00<00:00, 13.16it/s]\n",
            "100% 1/1 [00:00<00:00, 13.47it/s]\n",
            "100% 1/1 [00:00<00:00, 13.42it/s]\n",
            "100% 1/1 [00:00<00:00, 14.54it/s]\n",
            "Prediction done, transferring to CPU if needed\n",
            "sending off prediction to background worker for resampling and export\n",
            "done with FRAC_3093\n",
            "\n",
            "Predicting FRAC_3094:\n",
            "perform_everything_on_gpu: True\n",
            "100% 1/1 [00:00<00:00, 14.12it/s]\n",
            "100% 1/1 [00:00<00:00, 16.12it/s]\n",
            "100% 1/1 [00:00<00:00, 15.03it/s]\n",
            "100% 1/1 [00:00<00:00, 14.94it/s]\n",
            "100% 1/1 [00:00<00:00, 15.78it/s]\n",
            "Prediction done, transferring to CPU if needed\n",
            "sending off prediction to background worker for resampling and export\n",
            "done with FRAC_3094\n",
            "\n",
            "Predicting FRAC_3099:\n",
            "perform_everything_on_gpu: True\n",
            "100% 1/1 [00:00<00:00, 15.57it/s]\n",
            "100% 1/1 [00:00<00:00, 15.24it/s]\n",
            "100% 1/1 [00:00<00:00, 15.49it/s]\n",
            "100% 1/1 [00:00<00:00, 16.68it/s]\n",
            "100% 1/1 [00:00<00:00, 16.21it/s]\n",
            "Prediction done, transferring to CPU if needed\n",
            "sending off prediction to background worker for resampling and export\n",
            "done with FRAC_3099\n",
            "\n",
            "Predicting FRAC_3101:\n",
            "perform_everything_on_gpu: True\n",
            "100% 1/1 [00:00<00:00, 12.84it/s]\n",
            "100% 1/1 [00:00<00:00, 14.06it/s]\n",
            "100% 1/1 [00:00<00:00, 14.13it/s]\n",
            "100% 1/1 [00:00<00:00, 15.80it/s]\n",
            "100% 1/1 [00:00<00:00, 15.52it/s]\n",
            "Prediction done, transferring to CPU if needed\n",
            "sending off prediction to background worker for resampling and export\n",
            "done with FRAC_3101\n",
            "\n",
            "Predicting FRAC_3102:\n",
            "perform_everything_on_gpu: True\n",
            "100% 1/1 [00:00<00:00, 14.97it/s]\n",
            "100% 1/1 [00:00<00:00, 12.09it/s]\n",
            "100% 1/1 [00:00<00:00, 11.99it/s]\n",
            "100% 1/1 [00:00<00:00,  8.18it/s]\n",
            "100% 1/1 [00:00<00:00,  8.86it/s]\n",
            "Prediction done, transferring to CPU if needed\n",
            "sending off prediction to background worker for resampling and export\n",
            "done with FRAC_3102\n",
            "\n",
            "Predicting FRAC_3110:\n",
            "perform_everything_on_gpu: True\n",
            "100% 1/1 [00:00<00:00, 11.26it/s]\n",
            "100% 1/1 [00:00<00:00,  9.80it/s]\n",
            "100% 1/1 [00:00<00:00,  8.98it/s]\n",
            "100% 1/1 [00:00<00:00,  9.22it/s]\n",
            "100% 1/1 [00:00<00:00,  8.06it/s]\n",
            "Prediction done, transferring to CPU if needed\n",
            "sending off prediction to background worker for resampling and export\n",
            "done with FRAC_3110\n",
            "\n",
            "Predicting FRAC_3111:\n",
            "perform_everything_on_gpu: True\n",
            "100% 1/1 [00:00<00:00,  9.80it/s]\n",
            "100% 1/1 [00:00<00:00, 10.98it/s]\n",
            "100% 1/1 [00:00<00:00, 11.46it/s]\n",
            "100% 1/1 [00:00<00:00, 10.54it/s]\n",
            "100% 1/1 [00:00<00:00, 10.17it/s]\n",
            "Prediction done, transferring to CPU if needed\n",
            "sending off prediction to background worker for resampling and export\n",
            "done with FRAC_3111\n",
            "\n",
            "Predicting FRAC_3112:\n",
            "perform_everything_on_gpu: True\n",
            "100% 1/1 [00:00<00:00,  9.97it/s]\n",
            "100% 1/1 [00:00<00:00,  9.54it/s]\n",
            "100% 1/1 [00:00<00:00, 10.43it/s]\n",
            "100% 1/1 [00:00<00:00,  7.91it/s]\n",
            "100% 1/1 [00:00<00:00,  8.61it/s]\n",
            "Prediction done, transferring to CPU if needed\n",
            "sending off prediction to background worker for resampling and export\n",
            "done with FRAC_3112\n",
            "\n",
            "Predicting FRAC_3116:\n",
            "perform_everything_on_gpu: True\n",
            "100% 1/1 [00:00<00:00,  8.33it/s]\n",
            "100% 1/1 [00:00<00:00,  7.55it/s]\n",
            "100% 1/1 [00:00<00:00,  9.00it/s]\n",
            "100% 1/1 [00:00<00:00, 10.78it/s]\n",
            "100% 1/1 [00:00<00:00, 13.95it/s]\n",
            "Prediction done, transferring to CPU if needed\n",
            "sending off prediction to background worker for resampling and export\n",
            "done with FRAC_3116\n",
            "\n",
            "Predicting FRAC_3119:\n",
            "perform_everything_on_gpu: True\n",
            "100% 1/1 [00:00<00:00, 14.93it/s]\n",
            "100% 1/1 [00:00<00:00, 12.71it/s]\n",
            "100% 1/1 [00:00<00:00, 13.78it/s]\n",
            "100% 1/1 [00:00<00:00, 15.68it/s]\n",
            "100% 1/1 [00:00<00:00, 14.98it/s]\n",
            "Prediction done, transferring to CPU if needed\n",
            "sending off prediction to background worker for resampling and export\n",
            "done with FRAC_3119\n",
            "\n",
            "Predicting FRAC_3121:\n",
            "perform_everything_on_gpu: True\n",
            "100% 1/1 [00:00<00:00, 15.65it/s]\n",
            "100% 1/1 [00:00<00:00, 14.09it/s]\n",
            "100% 1/1 [00:00<00:00, 15.25it/s]\n",
            "100% 1/1 [00:00<00:00, 16.91it/s]\n",
            "100% 1/1 [00:00<00:00, 14.32it/s]\n",
            "Prediction done, transferring to CPU if needed\n",
            "sending off prediction to background worker for resampling and export\n",
            "done with FRAC_3121\n",
            "\n",
            "Predicting FRAC_3130:\n",
            "perform_everything_on_gpu: True\n",
            "100% 1/1 [00:00<00:00, 15.60it/s]\n",
            "100% 1/1 [00:00<00:00, 14.53it/s]\n",
            "100% 1/1 [00:00<00:00, 12.95it/s]\n",
            "100% 1/1 [00:00<00:00, 15.33it/s]\n",
            "100% 1/1 [00:00<00:00, 15.04it/s]\n",
            "Prediction done, transferring to CPU if needed\n",
            "sending off prediction to background worker for resampling and export\n",
            "done with FRAC_3130\n",
            "\n",
            "Predicting FRAC_3131:\n",
            "perform_everything_on_gpu: True\n",
            "100% 1/1 [00:00<00:00, 16.02it/s]\n",
            "100% 1/1 [00:00<00:00, 14.96it/s]\n",
            "100% 1/1 [00:00<00:00, 14.16it/s]\n",
            "100% 1/1 [00:00<00:00, 14.28it/s]\n",
            "100% 1/1 [00:00<00:00, 16.08it/s]\n",
            "Prediction done, transferring to CPU if needed\n",
            "sending off prediction to background worker for resampling and export\n",
            "done with FRAC_3131\n",
            "\n",
            "Predicting FRAC_3132:\n",
            "perform_everything_on_gpu: True\n",
            "100% 1/1 [00:00<00:00, 13.74it/s]\n",
            "100% 1/1 [00:00<00:00, 15.05it/s]\n",
            "100% 1/1 [00:00<00:00, 16.25it/s]\n",
            "100% 1/1 [00:00<00:00, 15.21it/s]\n",
            "100% 1/1 [00:00<00:00, 10.84it/s]\n",
            "Prediction done, transferring to CPU if needed\n",
            "sending off prediction to background worker for resampling and export\n",
            "done with FRAC_3132\n",
            "\n",
            "Predicting FRAC_3134:\n",
            "perform_everything_on_gpu: True\n",
            "100% 1/1 [00:00<00:00, 12.36it/s]\n",
            "100% 1/1 [00:00<00:00, 16.04it/s]\n",
            "100% 1/1 [00:00<00:00, 15.82it/s]\n",
            "100% 1/1 [00:00<00:00, 15.00it/s]\n",
            "100% 1/1 [00:00<00:00, 14.61it/s]\n",
            "Prediction done, transferring to CPU if needed\n",
            "sending off prediction to background worker for resampling and export\n",
            "done with FRAC_3134\n",
            "\n",
            "Predicting FRAC_3140:\n",
            "perform_everything_on_gpu: True\n",
            "100% 1/1 [00:00<00:00, 13.12it/s]\n",
            "100% 1/1 [00:00<00:00, 15.75it/s]\n",
            "100% 1/1 [00:00<00:00, 16.25it/s]\n",
            "100% 1/1 [00:00<00:00, 14.36it/s]\n",
            "100% 1/1 [00:00<00:00, 14.64it/s]\n",
            "Prediction done, transferring to CPU if needed\n",
            "sending off prediction to background worker for resampling and export\n",
            "done with FRAC_3140\n",
            "\n",
            "Predicting FRAC_3142:\n",
            "perform_everything_on_gpu: True\n",
            "100% 1/1 [00:00<00:00, 14.65it/s]\n",
            "100% 1/1 [00:00<00:00, 15.79it/s]\n",
            "100% 1/1 [00:00<00:00, 13.77it/s]\n",
            "100% 1/1 [00:00<00:00, 10.34it/s]\n",
            "100% 1/1 [00:00<00:00, 11.20it/s]\n",
            "Prediction done, transferring to CPU if needed\n",
            "sending off prediction to background worker for resampling and export\n",
            "done with FRAC_3142\n",
            "\n",
            "Predicting FRAC_3146:\n",
            "perform_everything_on_gpu: True\n",
            "100% 1/1 [00:00<00:00,  9.27it/s]\n",
            "100% 1/1 [00:00<00:00,  8.27it/s]\n",
            "100% 1/1 [00:00<00:00, 10.92it/s]\n",
            "100% 1/1 [00:00<00:00,  9.47it/s]\n",
            "100% 1/1 [00:00<00:00, 10.36it/s]\n",
            "Prediction done, transferring to CPU if needed\n",
            "sending off prediction to background worker for resampling and export\n",
            "done with FRAC_3146\n",
            "\n",
            "Predicting FRAC_3147:\n",
            "perform_everything_on_gpu: True\n",
            "100% 1/1 [00:00<00:00, 10.33it/s]\n",
            "100% 1/1 [00:00<00:00,  9.07it/s]\n",
            "100% 1/1 [00:00<00:00,  8.12it/s]\n",
            "100% 1/1 [00:00<00:00, 10.89it/s]\n",
            "100% 1/1 [00:00<00:00, 10.73it/s]\n",
            "Prediction done, transferring to CPU if needed\n",
            "sending off prediction to background worker for resampling and export\n",
            "done with FRAC_3147\n",
            "\n",
            "Predicting FRAC_3148:\n",
            "perform_everything_on_gpu: True\n",
            "100% 1/1 [00:00<00:00, 10.31it/s]\n",
            "100% 1/1 [00:00<00:00, 10.49it/s]\n",
            "100% 1/1 [00:00<00:00,  9.01it/s]\n",
            "100% 1/1 [00:00<00:00,  9.81it/s]\n",
            "100% 1/1 [00:00<00:00,  8.97it/s]\n",
            "Prediction done, transferring to CPU if needed\n",
            "sending off prediction to background worker for resampling and export\n",
            "done with FRAC_3148\n",
            "\n",
            "Predicting FRAC_3157:\n",
            "perform_everything_on_gpu: True\n",
            "100% 1/1 [00:00<00:00,  8.65it/s]\n",
            "100% 1/1 [00:00<00:00,  7.62it/s]\n",
            "100% 1/1 [00:00<00:00, 10.01it/s]\n",
            "100% 1/1 [00:00<00:00,  8.35it/s]\n",
            "100% 1/1 [00:00<00:00,  9.31it/s]\n",
            "Prediction done, transferring to CPU if needed\n",
            "sending off prediction to background worker for resampling and export\n",
            "done with FRAC_3157\n",
            "\n",
            "Predicting FRAC_3158:\n",
            "perform_everything_on_gpu: True\n",
            "100% 1/1 [00:00<00:00, 13.02it/s]\n",
            "100% 1/1 [00:00<00:00, 16.44it/s]\n",
            "100% 1/1 [00:00<00:00, 14.40it/s]\n",
            "100% 1/1 [00:00<00:00, 15.72it/s]\n",
            "100% 1/1 [00:00<00:00, 16.39it/s]\n",
            "Prediction done, transferring to CPU if needed\n",
            "sending off prediction to background worker for resampling and export\n",
            "done with FRAC_3158\n",
            "\n",
            "Predicting FRAC_3162:\n",
            "perform_everything_on_gpu: True\n",
            "100% 1/1 [00:00<00:00, 15.26it/s]\n",
            "100% 1/1 [00:00<00:00, 14.86it/s]\n",
            "100% 1/1 [00:00<00:00, 13.79it/s]\n",
            "100% 1/1 [00:00<00:00, 13.58it/s]\n",
            "100% 1/1 [00:00<00:00, 15.76it/s]\n",
            "Prediction done, transferring to CPU if needed\n",
            "sending off prediction to background worker for resampling and export\n",
            "done with FRAC_3162\n",
            "\n",
            "Predicting FRAC_3164:\n",
            "perform_everything_on_gpu: True\n",
            "100% 1/1 [00:00<00:00, 15.22it/s]\n",
            "100% 1/1 [00:00<00:00, 13.51it/s]\n",
            "100% 1/1 [00:00<00:00, 13.82it/s]\n",
            "100% 1/1 [00:00<00:00, 14.93it/s]\n",
            "100% 1/1 [00:00<00:00, 12.84it/s]\n",
            "Prediction done, transferring to CPU if needed\n",
            "sending off prediction to background worker for resampling and export\n",
            "done with FRAC_3164\n",
            "\n",
            "Predicting FRAC_3165:\n",
            "perform_everything_on_gpu: True\n",
            "100% 1/1 [00:00<00:00, 12.12it/s]\n",
            "100% 1/1 [00:00<00:00, 12.83it/s]\n",
            "100% 1/1 [00:00<00:00, 11.49it/s]\n",
            "100% 1/1 [00:00<00:00, 14.64it/s]\n",
            "100% 1/1 [00:00<00:00, 15.47it/s]\n",
            "Prediction done, transferring to CPU if needed\n",
            "sending off prediction to background worker for resampling and export\n",
            "done with FRAC_3165\n",
            "\n",
            "Predicting FRAC_3166:\n",
            "perform_everything_on_gpu: True\n",
            "100% 1/1 [00:00<00:00, 14.93it/s]\n",
            "100% 1/1 [00:00<00:00, 13.21it/s]\n",
            "100% 1/1 [00:00<00:00, 14.96it/s]\n",
            "100% 1/1 [00:00<00:00, 15.89it/s]\n",
            "100% 1/1 [00:00<00:00, 15.21it/s]\n",
            "Prediction done, transferring to CPU if needed\n",
            "sending off prediction to background worker for resampling and export\n",
            "done with FRAC_3166\n",
            "\n",
            "Predicting FRAC_3170:\n",
            "perform_everything_on_gpu: True\n",
            "100% 1/1 [00:00<00:00, 12.91it/s]\n",
            "100% 1/1 [00:00<00:00, 15.06it/s]\n",
            "100% 1/1 [00:00<00:00, 15.02it/s]\n",
            "100% 1/1 [00:00<00:00, 16.25it/s]\n",
            "100% 1/1 [00:00<00:00, 14.84it/s]\n",
            "Prediction done, transferring to CPU if needed\n",
            "sending off prediction to background worker for resampling and export\n",
            "done with FRAC_3170\n",
            "\n",
            "Predicting FRAC_3171:\n",
            "perform_everything_on_gpu: True\n",
            "100% 1/1 [00:00<00:00, 13.40it/s]\n",
            "100% 1/1 [00:00<00:00, 12.09it/s]\n",
            "100% 1/1 [00:00<00:00, 15.63it/s]\n",
            "100% 1/1 [00:00<00:00, 14.64it/s]\n",
            "100% 1/1 [00:00<00:00, 14.89it/s]\n",
            "Prediction done, transferring to CPU if needed\n",
            "sending off prediction to background worker for resampling and export\n",
            "done with FRAC_3171\n",
            "\n",
            "Predicting FRAC_3172:\n",
            "perform_everything_on_gpu: True\n",
            "100% 1/1 [00:00<00:00, 13.61it/s]\n",
            "100% 1/1 [00:00<00:00, 16.47it/s]\n",
            "100% 1/1 [00:00<00:00, 15.46it/s]\n",
            "100% 1/1 [00:00<00:00, 14.18it/s]\n",
            "100% 1/1 [00:00<00:00, 15.25it/s]\n",
            "Prediction done, transferring to CPU if needed\n",
            "sending off prediction to background worker for resampling and export\n",
            "done with FRAC_3172\n",
            "\n",
            "Predicting FRAC_3182:\n",
            "perform_everything_on_gpu: True\n",
            "100% 1/1 [00:00<00:00, 11.84it/s]\n",
            "100% 1/1 [00:00<00:00, 10.00it/s]\n",
            "100% 1/1 [00:00<00:00, 10.42it/s]\n",
            "100% 1/1 [00:00<00:00, 10.31it/s]\n",
            "100% 1/1 [00:00<00:00, 10.46it/s]\n",
            "Prediction done, transferring to CPU if needed\n",
            "sending off prediction to background worker for resampling and export\n",
            "done with FRAC_3182\n",
            "\n",
            "Predicting FRAC_3183:\n",
            "perform_everything_on_gpu: True\n",
            "100% 1/1 [00:00<00:00, 12.03it/s]\n",
            "100% 1/1 [00:00<00:00, 10.55it/s]\n",
            "100% 1/1 [00:00<00:00,  8.78it/s]\n",
            "100% 1/1 [00:00<00:00, 10.66it/s]\n",
            "100% 1/1 [00:00<00:00, 10.53it/s]\n",
            "Prediction done, transferring to CPU if needed\n",
            "sending off prediction to background worker for resampling and export\n",
            "done with FRAC_3183\n",
            "\n",
            "Predicting FRAC_3184:\n",
            "perform_everything_on_gpu: True\n",
            "100% 1/1 [00:00<00:00,  9.83it/s]\n",
            "100% 1/1 [00:00<00:00,  8.92it/s]\n",
            "100% 1/1 [00:00<00:00, 10.32it/s]\n",
            "100% 1/1 [00:00<00:00,  9.72it/s]\n",
            "100% 1/1 [00:00<00:00,  8.65it/s]\n",
            "Prediction done, transferring to CPU if needed\n",
            "sending off prediction to background worker for resampling and export\n",
            "done with FRAC_3184\n",
            "\n",
            "Predicting FRAC_3186:\n",
            "perform_everything_on_gpu: True\n",
            "100% 1/1 [00:00<00:00, 11.61it/s]\n",
            "100% 1/1 [00:00<00:00, 10.39it/s]\n",
            "100% 1/1 [00:00<00:00,  8.33it/s]\n",
            "100% 1/1 [00:00<00:00,  9.29it/s]\n",
            "100% 1/1 [00:00<00:00,  8.21it/s]\n",
            "Prediction done, transferring to CPU if needed\n",
            "sending off prediction to background worker for resampling and export\n",
            "done with FRAC_3186\n",
            "\n",
            "Predicting FRAC_3190:\n",
            "perform_everything_on_gpu: True\n",
            "100% 1/1 [00:00<00:00,  9.16it/s]\n",
            "100% 1/1 [00:00<00:00, 13.04it/s]\n",
            "100% 1/1 [00:00<00:00, 12.74it/s]\n",
            "100% 1/1 [00:00<00:00, 13.57it/s]\n",
            "100% 1/1 [00:00<00:00, 14.03it/s]\n",
            "Prediction done, transferring to CPU if needed\n",
            "sending off prediction to background worker for resampling and export\n",
            "done with FRAC_3190\n",
            "\n",
            "Predicting FRAC_3197:\n",
            "perform_everything_on_gpu: True\n",
            "100% 1/1 [00:00<00:00, 15.33it/s]\n",
            "100% 1/1 [00:00<00:00, 14.63it/s]\n",
            "100% 1/1 [00:00<00:00, 14.58it/s]\n",
            "100% 1/1 [00:00<00:00, 13.70it/s]\n",
            "100% 1/1 [00:00<00:00, 12.29it/s]\n",
            "Prediction done, transferring to CPU if needed\n",
            "sending off prediction to background worker for resampling and export\n",
            "done with FRAC_3197\n",
            "\n",
            "Predicting FRAC_3199:\n",
            "perform_everything_on_gpu: True\n",
            "100% 1/1 [00:00<00:00, 15.23it/s]\n",
            "100% 1/1 [00:00<00:00, 13.14it/s]\n",
            "100% 1/1 [00:00<00:00, 14.07it/s]\n",
            "100% 1/1 [00:00<00:00, 12.19it/s]\n",
            "100% 1/1 [00:00<00:00, 14.84it/s]\n",
            "Prediction done, transferring to CPU if needed\n",
            "sending off prediction to background worker for resampling and export\n",
            "done with FRAC_3199\n",
            "\n",
            "Predicting FRAC_3200:\n",
            "perform_everything_on_gpu: True\n",
            "100% 1/1 [00:00<00:00, 15.54it/s]\n",
            "100% 1/1 [00:00<00:00, 14.41it/s]\n",
            "100% 1/1 [00:00<00:00, 13.50it/s]\n",
            "100% 1/1 [00:00<00:00, 13.52it/s]\n",
            "100% 1/1 [00:00<00:00, 16.09it/s]\n",
            "Prediction done, transferring to CPU if needed\n",
            "sending off prediction to background worker for resampling and export\n",
            "done with FRAC_3200\n",
            "\n",
            "Predicting FRAC_3201:\n",
            "perform_everything_on_gpu: True\n",
            "100% 1/1 [00:00<00:00, 13.65it/s]\n",
            "100% 1/1 [00:00<00:00, 13.84it/s]\n",
            "100% 1/1 [00:00<00:00, 13.57it/s]\n",
            "100% 1/1 [00:00<00:00, 15.01it/s]\n",
            "100% 1/1 [00:00<00:00, 16.46it/s]\n",
            "Prediction done, transferring to CPU if needed\n",
            "sending off prediction to background worker for resampling and export\n",
            "done with FRAC_3201\n",
            "\n",
            "Predicting FRAC_3210:\n",
            "perform_everything_on_gpu: True\n",
            "100% 1/1 [00:00<00:00, 14.31it/s]\n",
            "100% 1/1 [00:00<00:00, 15.95it/s]\n",
            "100% 1/1 [00:00<00:00, 14.68it/s]\n",
            "100% 1/1 [00:00<00:00, 14.44it/s]\n",
            "100% 1/1 [00:00<00:00, 14.10it/s]\n",
            "Prediction done, transferring to CPU if needed\n",
            "sending off prediction to background worker for resampling and export\n",
            "done with FRAC_3210\n",
            "\n",
            "Predicting FRAC_3213:\n",
            "perform_everything_on_gpu: True\n",
            "100% 1/1 [00:00<00:00, 14.41it/s]\n",
            "100% 1/1 [00:00<00:00, 14.95it/s]\n",
            "100% 1/1 [00:00<00:00, 16.07it/s]\n",
            "100% 1/1 [00:00<00:00, 15.77it/s]\n",
            "100% 1/1 [00:00<00:00, 13.67it/s]\n",
            "Prediction done, transferring to CPU if needed\n",
            "sending off prediction to background worker for resampling and export\n",
            "done with FRAC_3213\n",
            "\n",
            "Predicting FRAC_3214:\n",
            "perform_everything_on_gpu: True\n",
            "100% 1/1 [00:00<00:00, 15.05it/s]\n",
            "100% 1/1 [00:00<00:00, 11.18it/s]\n",
            "100% 1/1 [00:00<00:00, 14.78it/s]\n",
            "100% 1/1 [00:00<00:00, 13.17it/s]\n",
            "100% 1/1 [00:00<00:00, 15.01it/s]\n",
            "Prediction done, transferring to CPU if needed\n",
            "sending off prediction to background worker for resampling and export\n",
            "done with FRAC_3214\n",
            "\n",
            "Predicting FRAC_3215:\n",
            "perform_everything_on_gpu: True\n",
            "100% 1/1 [00:00<00:00, 15.02it/s]\n",
            "100% 1/1 [00:00<00:00, 13.27it/s]\n",
            "100% 1/1 [00:00<00:00, 10.29it/s]\n",
            "100% 1/1 [00:00<00:00, 10.97it/s]\n",
            "100% 1/1 [00:00<00:00,  8.66it/s]\n",
            "Prediction done, transferring to CPU if needed\n",
            "sending off prediction to background worker for resampling and export\n",
            "done with FRAC_3215\n",
            "\n",
            "Predicting FRAC_3217:\n",
            "perform_everything_on_gpu: True\n",
            "100% 1/1 [00:00<00:00,  8.38it/s]\n",
            "100% 1/1 [00:00<00:00, 11.70it/s]\n",
            "100% 1/1 [00:00<00:00,  9.77it/s]\n",
            "100% 1/1 [00:00<00:00,  9.84it/s]\n",
            "100% 1/1 [00:00<00:00,  8.94it/s]\n",
            "Prediction done, transferring to CPU if needed\n",
            "sending off prediction to background worker for resampling and export\n",
            "done with FRAC_3217\n",
            "\n",
            "Predicting FRAC_3218:\n",
            "perform_everything_on_gpu: True\n",
            "100% 1/1 [00:00<00:00, 10.30it/s]\n",
            "100% 1/1 [00:00<00:00,  9.69it/s]\n",
            "100% 1/1 [00:00<00:00,  8.36it/s]\n",
            "100% 1/1 [00:00<00:00,  9.18it/s]\n",
            "100% 1/1 [00:00<00:00,  9.00it/s]\n",
            "Prediction done, transferring to CPU if needed\n",
            "sending off prediction to background worker for resampling and export\n",
            "done with FRAC_3218\n",
            "\n",
            "Predicting FRAC_3219:\n",
            "perform_everything_on_gpu: True\n",
            "100% 1/1 [00:00<00:00,  9.02it/s]\n",
            "100% 1/1 [00:00<00:00,  9.43it/s]\n",
            "100% 1/1 [00:00<00:00, 10.88it/s]\n",
            "100% 1/1 [00:00<00:00,  9.24it/s]\n",
            "100% 1/1 [00:00<00:00,  9.68it/s]\n",
            "Prediction done, transferring to CPU if needed\n",
            "sending off prediction to background worker for resampling and export\n",
            "done with FRAC_3219\n",
            "\n",
            "Predicting FRAC_3220:\n",
            "perform_everything_on_gpu: True\n",
            "100% 1/1 [00:00<00:00,  8.72it/s]\n",
            "100% 1/1 [00:00<00:00,  8.80it/s]\n",
            "100% 1/1 [00:00<00:00,  9.33it/s]\n",
            "100% 1/1 [00:00<00:00,  9.40it/s]\n",
            "100% 1/1 [00:00<00:00, 13.60it/s]\n",
            "Prediction done, transferring to CPU if needed\n",
            "sending off prediction to background worker for resampling and export\n",
            "done with FRAC_3220\n",
            "\n",
            "Predicting FRAC_3223:\n",
            "perform_everything_on_gpu: True\n",
            "100% 1/1 [00:00<00:00, 14.60it/s]\n",
            "100% 1/1 [00:00<00:00, 13.05it/s]\n",
            "100% 1/1 [00:00<00:00, 15.09it/s]\n",
            "100% 1/1 [00:00<00:00, 14.38it/s]\n",
            "100% 1/1 [00:00<00:00, 15.86it/s]\n",
            "Prediction done, transferring to CPU if needed\n",
            "sending off prediction to background worker for resampling and export\n",
            "done with FRAC_3223\n",
            "\n",
            "Predicting FRAC_3226:\n",
            "perform_everything_on_gpu: True\n",
            "100% 1/1 [00:00<00:00, 15.36it/s]\n",
            "100% 1/1 [00:00<00:00, 15.71it/s]\n",
            "100% 1/1 [00:00<00:00, 15.75it/s]\n",
            "100% 1/1 [00:00<00:00, 14.51it/s]\n",
            "100% 1/1 [00:00<00:00, 15.30it/s]\n",
            "Prediction done, transferring to CPU if needed\n",
            "sending off prediction to background worker for resampling and export\n",
            "done with FRAC_3226\n",
            "\n",
            "Predicting FRAC_3227:\n",
            "perform_everything_on_gpu: True\n",
            "100% 1/1 [00:00<00:00, 14.92it/s]\n",
            "100% 1/1 [00:00<00:00, 14.55it/s]\n",
            "100% 1/1 [00:00<00:00, 13.29it/s]\n",
            "100% 1/1 [00:00<00:00, 12.22it/s]\n",
            "100% 1/1 [00:00<00:00, 14.55it/s]\n",
            "Prediction done, transferring to CPU if needed\n",
            "sending off prediction to background worker for resampling and export\n",
            "done with FRAC_3227\n",
            "\n",
            "Predicting FRAC_3228:\n",
            "perform_everything_on_gpu: True\n",
            "100% 1/1 [00:00<00:00, 14.99it/s]\n",
            "100% 1/1 [00:00<00:00, 12.62it/s]\n",
            "100% 1/1 [00:00<00:00, 13.22it/s]\n",
            "100% 1/1 [00:00<00:00, 15.61it/s]\n",
            "100% 1/1 [00:00<00:00, 14.63it/s]\n",
            "Prediction done, transferring to CPU if needed\n",
            "sending off prediction to background worker for resampling and export\n",
            "done with FRAC_3228\n",
            "\n",
            "Predicting FRAC_3230:\n",
            "perform_everything_on_gpu: True\n",
            "100% 1/1 [00:00<00:00, 13.68it/s]\n",
            "100% 1/1 [00:00<00:00, 13.09it/s]\n",
            "100% 1/1 [00:00<00:00, 15.60it/s]\n",
            "100% 1/1 [00:00<00:00, 15.45it/s]\n",
            "100% 1/1 [00:00<00:00, 14.62it/s]\n",
            "Prediction done, transferring to CPU if needed\n",
            "sending off prediction to background worker for resampling and export\n",
            "done with FRAC_3230\n",
            "\n",
            "Predicting FRAC_3233:\n",
            "perform_everything_on_gpu: True\n",
            "100% 1/1 [00:00<00:00, 15.06it/s]\n",
            "100% 1/1 [00:00<00:00, 15.42it/s]\n",
            "100% 1/1 [00:00<00:00, 13.52it/s]\n",
            "100% 1/1 [00:00<00:00, 16.14it/s]\n",
            "100% 1/1 [00:00<00:00, 15.29it/s]\n",
            "Prediction done, transferring to CPU if needed\n",
            "sending off prediction to background worker for resampling and export\n",
            "done with FRAC_3233\n",
            "\n",
            "Predicting FRAC_3234:\n",
            "perform_everything_on_gpu: True\n",
            "100% 1/1 [00:00<00:00, 15.69it/s]\n",
            "100% 1/1 [00:00<00:00, 13.37it/s]\n",
            "100% 1/1 [00:00<00:00, 13.85it/s]\n",
            "100% 1/1 [00:00<00:00, 14.53it/s]\n",
            "100% 1/1 [00:00<00:00, 13.06it/s]\n",
            "Prediction done, transferring to CPU if needed\n",
            "sending off prediction to background worker for resampling and export\n",
            "done with FRAC_3234\n",
            "\n",
            "Predicting FRAC_3238:\n",
            "perform_everything_on_gpu: True\n",
            "100% 1/1 [00:00<00:00, 15.15it/s]\n",
            "100% 1/1 [00:00<00:00, 15.77it/s]\n",
            "100% 1/1 [00:00<00:00, 12.30it/s]\n",
            "100% 1/1 [00:00<00:00, 11.83it/s]\n",
            "100% 1/1 [00:00<00:00,  9.59it/s]\n",
            "Prediction done, transferring to CPU if needed\n",
            "sending off prediction to background worker for resampling and export\n",
            "done with FRAC_3238\n",
            "\n",
            "Predicting FRAC_3239:\n",
            "perform_everything_on_gpu: True\n",
            "100% 1/1 [00:00<00:00, 10.36it/s]\n",
            "100% 1/1 [00:00<00:00,  8.35it/s]\n",
            "100% 1/1 [00:00<00:00, 10.76it/s]\n",
            "100% 1/1 [00:00<00:00, 10.92it/s]\n",
            "100% 1/1 [00:00<00:00,  8.86it/s]\n",
            "Prediction done, transferring to CPU if needed\n",
            "sending off prediction to background worker for resampling and export\n",
            "done with FRAC_3239\n",
            "\n",
            "Predicting FRAC_3240:\n",
            "perform_everything_on_gpu: True\n",
            "100% 1/1 [00:00<00:00, 11.72it/s]\n",
            "100% 1/1 [00:00<00:00, 10.75it/s]\n",
            "100% 1/1 [00:00<00:00, 11.02it/s]\n",
            "100% 1/1 [00:00<00:00, 12.61it/s]\n",
            "100% 1/1 [00:00<00:00, 10.25it/s]\n",
            "Prediction done, transferring to CPU if needed\n",
            "sending off prediction to background worker for resampling and export\n",
            "done with FRAC_3240\n",
            "\n",
            "Predicting FRAC_3247:\n",
            "perform_everything_on_gpu: True\n",
            "100% 1/1 [00:00<00:00, 10.02it/s]\n",
            "100% 1/1 [00:00<00:00,  9.03it/s]\n",
            "100% 1/1 [00:00<00:00,  9.38it/s]\n",
            "100% 1/1 [00:00<00:00, 10.37it/s]\n",
            "100% 1/1 [00:00<00:00,  9.93it/s]\n",
            "Prediction done, transferring to CPU if needed\n",
            "sending off prediction to background worker for resampling and export\n",
            "done with FRAC_3247\n",
            "\n",
            "Predicting FRAC_3251:\n",
            "perform_everything_on_gpu: True\n",
            "100% 1/1 [00:00<00:00, 10.95it/s]\n",
            "100% 1/1 [00:00<00:00,  8.34it/s]\n",
            "100% 1/1 [00:00<00:00,  7.00it/s]\n",
            "100% 1/1 [00:00<00:00,  7.45it/s]\n",
            "100% 1/1 [00:00<00:00,  7.24it/s]\n",
            "Prediction done, transferring to CPU if needed\n",
            "sending off prediction to background worker for resampling and export\n",
            "done with FRAC_3251\n",
            "\n",
            "Predicting FRAC_3254:\n",
            "perform_everything_on_gpu: True\n",
            "100% 1/1 [00:00<00:00,  8.22it/s]\n",
            "100% 1/1 [00:00<00:00,  8.28it/s]\n",
            "100% 1/1 [00:00<00:00, 13.52it/s]\n",
            "100% 1/1 [00:00<00:00, 12.40it/s]\n",
            "100% 1/1 [00:00<00:00, 14.01it/s]\n",
            "Prediction done, transferring to CPU if needed\n",
            "sending off prediction to background worker for resampling and export\n",
            "done with FRAC_3254\n",
            "\n",
            "Predicting FRAC_3255:\n",
            "perform_everything_on_gpu: True\n",
            "100% 1/1 [00:00<00:00, 11.08it/s]\n",
            "100% 1/1 [00:00<00:00, 15.28it/s]\n",
            "100% 1/1 [00:00<00:00, 15.73it/s]\n",
            "100% 1/1 [00:00<00:00, 15.76it/s]\n",
            "100% 1/1 [00:00<00:00, 12.03it/s]\n",
            "Prediction done, transferring to CPU if needed\n",
            "sending off prediction to background worker for resampling and export\n",
            "done with FRAC_3255\n",
            "\n",
            "Predicting FRAC_3258:\n",
            "perform_everything_on_gpu: True\n",
            "100% 1/1 [00:00<00:00, 13.82it/s]\n",
            "100% 1/1 [00:00<00:00, 15.20it/s]\n",
            "100% 1/1 [00:00<00:00, 16.48it/s]\n",
            "100% 1/1 [00:00<00:00, 15.42it/s]\n",
            "100% 1/1 [00:00<00:00, 13.10it/s]\n",
            "Prediction done, transferring to CPU if needed\n",
            "sending off prediction to background worker for resampling and export\n",
            "done with FRAC_3258\n",
            "\n",
            "Predicting FRAC_3262:\n",
            "perform_everything_on_gpu: True\n",
            "100% 1/1 [00:00<00:00, 15.00it/s]\n",
            "100% 1/1 [00:00<00:00, 13.67it/s]\n",
            "100% 1/1 [00:00<00:00, 13.73it/s]\n",
            "100% 1/1 [00:00<00:00, 17.04it/s]\n",
            "100% 1/1 [00:00<00:00, 14.09it/s]\n",
            "Prediction done, transferring to CPU if needed\n",
            "sending off prediction to background worker for resampling and export\n",
            "done with FRAC_3262\n",
            "\n",
            "Predicting FRAC_3264:\n",
            "perform_everything_on_gpu: True\n",
            "100% 1/1 [00:00<00:00, 13.50it/s]\n",
            "100% 1/1 [00:00<00:00, 15.80it/s]\n",
            "100% 1/1 [00:00<00:00, 14.76it/s]\n",
            "100% 1/1 [00:00<00:00, 14.95it/s]\n",
            "100% 1/1 [00:00<00:00, 13.75it/s]\n",
            "Prediction done, transferring to CPU if needed\n",
            "sending off prediction to background worker for resampling and export\n",
            "done with FRAC_3264\n",
            "\n",
            "Predicting FRAC_3265:\n",
            "perform_everything_on_gpu: True\n",
            "100% 1/1 [00:00<00:00, 13.69it/s]\n",
            "100% 1/1 [00:00<00:00, 12.63it/s]\n",
            "100% 1/1 [00:00<00:00, 15.63it/s]\n",
            "100% 1/1 [00:00<00:00, 15.90it/s]\n",
            "100% 1/1 [00:00<00:00, 13.90it/s]\n",
            "Prediction done, transferring to CPU if needed\n",
            "sending off prediction to background worker for resampling and export\n",
            "done with FRAC_3265\n",
            "\n",
            "Predicting FRAC_3266:\n",
            "perform_everything_on_gpu: True\n",
            "100% 1/1 [00:00<00:00, 13.37it/s]\n",
            "100% 1/1 [00:00<00:00, 13.10it/s]\n",
            "100% 1/1 [00:00<00:00, 16.30it/s]\n",
            "100% 1/1 [00:00<00:00, 14.78it/s]\n",
            "100% 1/1 [00:00<00:00, 16.03it/s]\n",
            "Prediction done, transferring to CPU if needed\n",
            "sending off prediction to background worker for resampling and export\n",
            "done with FRAC_3266\n",
            "\n",
            "Predicting FRAC_3267:\n",
            "perform_everything_on_gpu: True\n",
            "100% 1/1 [00:00<00:00, 16.17it/s]\n",
            "100% 1/1 [00:00<00:00, 15.15it/s]\n",
            "100% 1/1 [00:00<00:00, 15.41it/s]\n",
            "100% 1/1 [00:00<00:00, 15.24it/s]\n",
            "100% 1/1 [00:00<00:00, 12.79it/s]\n",
            "Prediction done, transferring to CPU if needed\n",
            "sending off prediction to background worker for resampling and export\n",
            "done with FRAC_3267\n",
            "\n",
            "Predicting FRAC_3275:\n",
            "perform_everything_on_gpu: True\n",
            "100% 1/1 [00:00<00:00, 15.95it/s]\n",
            "100% 1/1 [00:00<00:00, 14.00it/s]\n",
            "100% 1/1 [00:00<00:00,  8.55it/s]\n",
            "100% 1/1 [00:00<00:00, 10.25it/s]\n",
            "100% 1/1 [00:00<00:00, 11.71it/s]\n",
            "Prediction done, transferring to CPU if needed\n",
            "sending off prediction to background worker for resampling and export\n",
            "done with FRAC_3275\n",
            "\n",
            "Predicting FRAC_3279:\n",
            "perform_everything_on_gpu: True\n",
            "100% 1/1 [00:00<00:00, 10.39it/s]\n",
            "100% 1/1 [00:00<00:00, 10.53it/s]\n",
            "100% 1/1 [00:00<00:00,  9.13it/s]\n",
            "100% 1/1 [00:00<00:00, 10.78it/s]\n",
            "100% 1/1 [00:00<00:00, 11.42it/s]\n",
            "Prediction done, transferring to CPU if needed\n",
            "sending off prediction to background worker for resampling and export\n",
            "done with FRAC_3279\n",
            "\n",
            "Predicting FRAC_3280:\n",
            "perform_everything_on_gpu: True\n",
            "100% 1/1 [00:00<00:00,  9.93it/s]\n",
            "100% 1/1 [00:00<00:00,  7.16it/s]\n",
            "100% 1/1 [00:00<00:00,  9.54it/s]\n",
            "100% 1/1 [00:00<00:00, 11.73it/s]\n",
            "100% 1/1 [00:00<00:00, 10.10it/s]\n",
            "Prediction done, transferring to CPU if needed\n",
            "sending off prediction to background worker for resampling and export\n",
            "done with FRAC_3280\n",
            "\n",
            "Predicting FRAC_3282:\n",
            "perform_everything_on_gpu: True\n",
            "100% 1/1 [00:00<00:00,  9.97it/s]\n",
            "100% 1/1 [00:00<00:00,  8.78it/s]\n",
            "100% 1/1 [00:00<00:00, 10.55it/s]\n",
            "100% 1/1 [00:00<00:00, 11.17it/s]\n",
            "100% 1/1 [00:00<00:00,  9.40it/s]\n",
            "Prediction done, transferring to CPU if needed\n",
            "sending off prediction to background worker for resampling and export\n",
            "done with FRAC_3282\n",
            "\n",
            "Predicting FRAC_3283:\n",
            "perform_everything_on_gpu: True\n",
            "100% 1/1 [00:00<00:00,  7.66it/s]\n",
            "100% 1/1 [00:00<00:00,  8.67it/s]\n",
            "100% 1/1 [00:00<00:00,  8.20it/s]\n",
            "100% 1/1 [00:00<00:00,  9.33it/s]\n",
            "100% 1/1 [00:00<00:00,  7.47it/s]\n",
            "Prediction done, transferring to CPU if needed\n",
            "sending off prediction to background worker for resampling and export\n",
            "done with FRAC_3283\n",
            "\n",
            "Predicting FRAC_3284:\n",
            "perform_everything_on_gpu: True\n",
            "100% 1/1 [00:00<00:00, 15.56it/s]\n",
            "100% 1/1 [00:00<00:00, 13.07it/s]\n",
            "100% 1/1 [00:00<00:00, 13.24it/s]\n",
            "100% 1/1 [00:00<00:00, 13.97it/s]\n",
            "100% 1/1 [00:00<00:00, 15.24it/s]\n",
            "Prediction done, transferring to CPU if needed\n",
            "sending off prediction to background worker for resampling and export\n",
            "done with FRAC_3284\n",
            "\n",
            "Predicting FRAC_3289:\n",
            "perform_everything_on_gpu: True\n",
            "100% 1/1 [00:00<00:00, 15.66it/s]\n",
            "100% 1/1 [00:00<00:00, 14.94it/s]\n",
            "100% 1/1 [00:00<00:00, 13.92it/s]\n",
            "100% 1/1 [00:00<00:00, 14.34it/s]\n",
            "100% 1/1 [00:00<00:00, 15.46it/s]\n",
            "Prediction done, transferring to CPU if needed\n",
            "sending off prediction to background worker for resampling and export\n",
            "done with FRAC_3289\n",
            "\n",
            "Predicting FRAC_3293:\n",
            "perform_everything_on_gpu: True\n",
            "100% 1/1 [00:00<00:00, 16.12it/s]\n",
            "100% 1/1 [00:00<00:00, 14.89it/s]\n",
            "100% 1/1 [00:00<00:00, 16.02it/s]\n",
            "100% 1/1 [00:00<00:00, 14.86it/s]\n",
            "100% 1/1 [00:00<00:00, 13.20it/s]\n",
            "Prediction done, transferring to CPU if needed\n",
            "sending off prediction to background worker for resampling and export\n",
            "done with FRAC_3293\n",
            "\n",
            "Predicting FRAC_3294:\n",
            "perform_everything_on_gpu: True\n",
            "100% 1/1 [00:00<00:00, 14.11it/s]\n",
            "100% 1/1 [00:00<00:00, 13.14it/s]\n",
            "100% 1/1 [00:00<00:00, 14.33it/s]\n",
            "100% 1/1 [00:00<00:00, 12.27it/s]\n",
            "100% 1/1 [00:00<00:00, 15.28it/s]\n",
            "Prediction done, transferring to CPU if needed\n",
            "sending off prediction to background worker for resampling and export\n",
            "done with FRAC_3294\n",
            "\n",
            "Predicting FRAC_3297:\n",
            "perform_everything_on_gpu: True\n",
            "100% 1/1 [00:00<00:00, 15.37it/s]\n",
            "100% 1/1 [00:00<00:00, 13.59it/s]\n",
            "100% 1/1 [00:00<00:00, 12.94it/s]\n",
            "100% 1/1 [00:00<00:00, 16.10it/s]\n",
            "100% 1/1 [00:00<00:00, 13.60it/s]\n",
            "Prediction done, transferring to CPU if needed\n",
            "sending off prediction to background worker for resampling and export\n",
            "done with FRAC_3297\n",
            "\n",
            "Predicting FRAC_3298:\n",
            "perform_everything_on_gpu: True\n",
            "100% 1/1 [00:00<00:00, 15.19it/s]\n",
            "100% 1/1 [00:00<00:00, 10.23it/s]\n",
            "100% 1/1 [00:00<00:00, 13.79it/s]\n",
            "100% 1/1 [00:00<00:00, 14.82it/s]\n",
            "100% 1/1 [00:00<00:00, 15.77it/s]\n",
            "Prediction done, transferring to CPU if needed\n",
            "sending off prediction to background worker for resampling and export\n",
            "done with FRAC_3298\n",
            "\n",
            "Predicting FRAC_3301:\n",
            "perform_everything_on_gpu: True\n",
            "100% 1/1 [00:00<00:00, 14.29it/s]\n",
            "100% 1/1 [00:00<00:00, 14.64it/s]\n",
            "100% 1/1 [00:00<00:00, 14.50it/s]\n",
            "100% 1/1 [00:00<00:00, 16.17it/s]\n",
            "100% 1/1 [00:00<00:00, 15.17it/s]\n",
            "Prediction done, transferring to CPU if needed\n",
            "sending off prediction to background worker for resampling and export\n",
            "done with FRAC_3301\n",
            "\n",
            "Predicting FRAC_3303:\n",
            "perform_everything_on_gpu: True\n",
            "100% 1/1 [00:00<00:00, 13.61it/s]\n",
            "100% 1/1 [00:00<00:00, 14.21it/s]\n",
            "100% 1/1 [00:00<00:00, 16.71it/s]\n",
            "100% 1/1 [00:00<00:00, 15.66it/s]\n",
            "100% 1/1 [00:00<00:00, 11.74it/s]\n",
            "Prediction done, transferring to CPU if needed\n",
            "sending off prediction to background worker for resampling and export\n",
            "done with FRAC_3303\n",
            "\n",
            "Predicting FRAC_3306:\n",
            "perform_everything_on_gpu: True\n",
            "100% 1/1 [00:00<00:00, 10.44it/s]\n",
            "100% 1/1 [00:00<00:00, 10.37it/s]\n",
            "100% 1/1 [00:00<00:00, 10.38it/s]\n",
            "100% 1/1 [00:00<00:00,  9.23it/s]\n",
            "100% 1/1 [00:00<00:00, 10.96it/s]\n",
            "Prediction done, transferring to CPU if needed\n",
            "sending off prediction to background worker for resampling and export\n",
            "done with FRAC_3306\n",
            "\n",
            "Predicting FRAC_3308:\n",
            "perform_everything_on_gpu: True\n",
            "100% 1/1 [00:00<00:00, 11.09it/s]\n",
            "100% 1/1 [00:00<00:00, 10.68it/s]\n",
            "100% 1/1 [00:00<00:00, 10.40it/s]\n",
            "100% 1/1 [00:00<00:00,  8.86it/s]\n",
            "100% 1/1 [00:00<00:00, 10.82it/s]\n",
            "Prediction done, transferring to CPU if needed\n",
            "sending off prediction to background worker for resampling and export\n",
            "done with FRAC_3308\n",
            "\n",
            "Predicting FRAC_3309:\n",
            "perform_everything_on_gpu: True\n",
            "100% 1/1 [00:00<00:00, 10.25it/s]\n",
            "100% 1/1 [00:00<00:00,  9.24it/s]\n",
            "100% 1/1 [00:00<00:00,  9.54it/s]\n",
            "100% 1/1 [00:00<00:00, 10.54it/s]\n",
            "100% 1/1 [00:00<00:00, 11.85it/s]\n",
            "Prediction done, transferring to CPU if needed\n",
            "sending off prediction to background worker for resampling and export\n",
            "done with FRAC_3309\n",
            "\n",
            "Predicting FRAC_3310:\n",
            "perform_everything_on_gpu: True\n",
            "100% 1/1 [00:00<00:00, 10.19it/s]\n",
            "100% 1/1 [00:00<00:00,  9.94it/s]\n",
            "100% 1/1 [00:00<00:00,  9.04it/s]\n",
            "100% 1/1 [00:00<00:00,  8.43it/s]\n",
            "100% 1/1 [00:00<00:00,  8.69it/s]\n",
            "Prediction done, transferring to CPU if needed\n",
            "sending off prediction to background worker for resampling and export\n",
            "done with FRAC_3310\n",
            "\n",
            "Predicting FRAC_3311:\n",
            "perform_everything_on_gpu: True\n",
            "100% 1/1 [00:00<00:00,  9.39it/s]\n",
            "100% 1/1 [00:00<00:00,  9.13it/s]\n",
            "100% 1/1 [00:00<00:00,  9.60it/s]\n",
            "100% 1/1 [00:00<00:00, 12.25it/s]\n",
            "100% 1/1 [00:00<00:00, 12.67it/s]\n",
            "Prediction done, transferring to CPU if needed\n",
            "sending off prediction to background worker for resampling and export\n",
            "done with FRAC_3311\n",
            "\n",
            "Predicting FRAC_3312:\n",
            "perform_everything_on_gpu: True\n",
            "100% 1/1 [00:00<00:00, 14.73it/s]\n",
            "100% 1/1 [00:00<00:00, 16.39it/s]\n",
            "100% 1/1 [00:00<00:00, 14.95it/s]\n",
            "100% 1/1 [00:00<00:00, 15.35it/s]\n",
            "100% 1/1 [00:00<00:00, 14.84it/s]\n",
            "Prediction done, transferring to CPU if needed\n",
            "sending off prediction to background worker for resampling and export\n",
            "done with FRAC_3312\n",
            "\n",
            "Predicting FRAC_3313:\n",
            "perform_everything_on_gpu: True\n",
            "100% 1/1 [00:00<00:00, 15.19it/s]\n",
            "100% 1/1 [00:00<00:00, 13.37it/s]\n",
            "100% 1/1 [00:00<00:00, 14.68it/s]\n",
            "100% 1/1 [00:00<00:00, 13.82it/s]\n",
            "100% 1/1 [00:00<00:00, 15.31it/s]\n",
            "Prediction done, transferring to CPU if needed\n",
            "sending off prediction to background worker for resampling and export\n",
            "done with FRAC_3313\n",
            "\n",
            "Predicting FRAC_3320:\n",
            "perform_everything_on_gpu: True\n",
            "100% 1/1 [00:00<00:00, 15.88it/s]\n",
            "100% 1/1 [00:00<00:00, 12.45it/s]\n",
            "100% 1/1 [00:00<00:00, 14.18it/s]\n",
            "100% 1/1 [00:00<00:00, 15.50it/s]\n",
            "100% 1/1 [00:00<00:00, 14.70it/s]\n",
            "Prediction done, transferring to CPU if needed\n",
            "sending off prediction to background worker for resampling and export\n",
            "done with FRAC_3320\n",
            "\n",
            "Predicting FRAC_3321:\n",
            "perform_everything_on_gpu: True\n",
            "100% 1/1 [00:00<00:00, 15.10it/s]\n",
            "100% 1/1 [00:00<00:00, 15.33it/s]\n",
            "100% 1/1 [00:00<00:00, 15.46it/s]\n",
            "100% 1/1 [00:00<00:00, 13.41it/s]\n",
            "100% 1/1 [00:00<00:00, 15.03it/s]\n",
            "Prediction done, transferring to CPU if needed\n",
            "sending off prediction to background worker for resampling and export\n",
            "done with FRAC_3321\n",
            "\n",
            "Predicting FRAC_3322:\n",
            "perform_everything_on_gpu: True\n",
            "100% 1/1 [00:00<00:00, 15.68it/s]\n",
            "100% 1/1 [00:00<00:00, 13.84it/s]\n",
            "100% 1/1 [00:00<00:00, 12.09it/s]\n",
            "100% 1/1 [00:00<00:00, 14.10it/s]\n",
            "100% 1/1 [00:00<00:00, 15.86it/s]\n",
            "Prediction done, transferring to CPU if needed\n",
            "sending off prediction to background worker for resampling and export\n",
            "done with FRAC_3322\n",
            "\n",
            "Predicting FRAC_3325:\n",
            "perform_everything_on_gpu: True\n",
            "100% 1/1 [00:00<00:00, 15.81it/s]\n",
            "100% 1/1 [00:00<00:00, 13.42it/s]\n",
            "100% 1/1 [00:00<00:00, 14.10it/s]\n",
            "100% 1/1 [00:00<00:00, 14.50it/s]\n",
            "100% 1/1 [00:00<00:00, 14.88it/s]\n",
            "Prediction done, transferring to CPU if needed\n",
            "sending off prediction to background worker for resampling and export\n",
            "done with FRAC_3325\n",
            "\n",
            "Predicting FRAC_3326:\n",
            "perform_everything_on_gpu: True\n",
            "100% 1/1 [00:00<00:00, 12.36it/s]\n",
            "100% 1/1 [00:00<00:00, 15.07it/s]\n",
            "100% 1/1 [00:00<00:00, 16.08it/s]\n",
            "100% 1/1 [00:00<00:00, 14.21it/s]\n",
            "100% 1/1 [00:00<00:00, 13.13it/s]\n",
            "Prediction done, transferring to CPU if needed\n",
            "sending off prediction to background worker for resampling and export\n",
            "done with FRAC_3326\n",
            "\n",
            "Predicting FRAC_3331:\n",
            "perform_everything_on_gpu: True\n",
            "100% 1/1 [00:00<00:00, 13.32it/s]\n",
            "100% 1/1 [00:00<00:00, 14.54it/s]\n",
            "100% 1/1 [00:00<00:00, 13.25it/s]\n",
            "100% 1/1 [00:00<00:00,  9.70it/s]\n",
            "100% 1/1 [00:00<00:00,  8.09it/s]\n",
            "Prediction done, transferring to CPU if needed\n",
            "sending off prediction to background worker for resampling and export\n",
            "done with FRAC_3331\n",
            "\n",
            "Predicting FRAC_3332:\n",
            "perform_everything_on_gpu: True\n",
            "100% 1/1 [00:00<00:00,  9.60it/s]\n",
            "100% 1/1 [00:00<00:00, 11.00it/s]\n",
            "100% 1/1 [00:00<00:00,  9.07it/s]\n",
            "100% 1/1 [00:00<00:00, 10.11it/s]\n",
            "100% 1/1 [00:00<00:00, 10.55it/s]\n",
            "Prediction done, transferring to CPU if needed\n",
            "sending off prediction to background worker for resampling and export\n",
            "done with FRAC_3332\n",
            "\n",
            "Predicting FRAC_3338:\n",
            "perform_everything_on_gpu: True\n",
            "100% 1/1 [00:00<00:00, 10.04it/s]\n",
            "100% 1/1 [00:00<00:00,  9.50it/s]\n",
            "100% 1/1 [00:00<00:00, 10.20it/s]\n",
            "100% 1/1 [00:00<00:00,  8.98it/s]\n",
            "100% 1/1 [00:00<00:00, 11.08it/s]\n",
            "Prediction done, transferring to CPU if needed\n",
            "sending off prediction to background worker for resampling and export\n",
            "done with FRAC_3338\n",
            "\n",
            "Predicting FRAC_3339:\n",
            "perform_everything_on_gpu: True\n",
            "100% 1/1 [00:00<00:00, 10.56it/s]\n",
            "100% 1/1 [00:00<00:00,  9.38it/s]\n",
            "100% 1/1 [00:00<00:00,  9.75it/s]\n",
            "100% 1/1 [00:00<00:00, 10.04it/s]\n",
            "100% 1/1 [00:00<00:00,  9.13it/s]\n",
            "Prediction done, transferring to CPU if needed\n",
            "sending off prediction to background worker for resampling and export\n",
            "done with FRAC_3339\n",
            "\n",
            "Predicting FRAC_3341:\n",
            "perform_everything_on_gpu: True\n",
            "100% 1/1 [00:00<00:00,  8.24it/s]\n",
            "100% 1/1 [00:00<00:00,  8.86it/s]\n",
            "100% 1/1 [00:00<00:00,  7.11it/s]\n",
            "100% 1/1 [00:00<00:00,  9.20it/s]\n",
            "100% 1/1 [00:00<00:00, 15.66it/s]\n",
            "Prediction done, transferring to CPU if needed\n",
            "sending off prediction to background worker for resampling and export\n",
            "done with FRAC_3341\n",
            "\n",
            "Predicting FRAC_3342:\n",
            "perform_everything_on_gpu: True\n",
            "100% 1/1 [00:00<00:00, 15.41it/s]\n",
            "100% 1/1 [00:00<00:00, 12.03it/s]\n",
            "100% 1/1 [00:00<00:00, 12.16it/s]\n",
            "100% 1/1 [00:00<00:00, 13.63it/s]\n",
            "100% 1/1 [00:00<00:00, 13.40it/s]\n",
            "Prediction done, transferring to CPU if needed\n",
            "sending off prediction to background worker for resampling and export\n",
            "done with FRAC_3342\n",
            "\n",
            "Predicting FRAC_3345:\n",
            "perform_everything_on_gpu: True\n",
            "100% 1/1 [00:00<00:00, 11.70it/s]\n",
            "100% 1/1 [00:00<00:00, 12.90it/s]\n",
            "100% 1/1 [00:00<00:00, 14.71it/s]\n",
            "100% 1/1 [00:00<00:00, 15.03it/s]\n",
            "100% 1/1 [00:00<00:00, 12.33it/s]\n",
            "Prediction done, transferring to CPU if needed\n",
            "sending off prediction to background worker for resampling and export\n",
            "done with FRAC_3345\n",
            "\n",
            "Predicting FRAC_3351:\n",
            "perform_everything_on_gpu: True\n",
            "100% 1/1 [00:00<00:00, 14.29it/s]\n",
            "100% 1/1 [00:00<00:00, 14.65it/s]\n",
            "100% 1/1 [00:00<00:00, 16.47it/s]\n",
            "100% 1/1 [00:00<00:00, 14.78it/s]\n",
            "100% 1/1 [00:00<00:00, 14.30it/s]\n",
            "Prediction done, transferring to CPU if needed\n",
            "sending off prediction to background worker for resampling and export\n",
            "done with FRAC_3351\n",
            "\n",
            "Predicting FRAC_3353:\n",
            "perform_everything_on_gpu: True\n",
            "100% 1/1 [00:00<00:00, 15.20it/s]\n",
            "100% 1/1 [00:00<00:00, 13.70it/s]\n",
            "100% 1/1 [00:00<00:00, 13.69it/s]\n",
            "100% 1/1 [00:00<00:00, 15.02it/s]\n",
            "100% 1/1 [00:00<00:00, 16.38it/s]\n",
            "Prediction done, transferring to CPU if needed\n",
            "sending off prediction to background worker for resampling and export\n",
            "done with FRAC_3353\n",
            "\n",
            "Predicting FRAC_3358:\n",
            "perform_everything_on_gpu: True\n",
            "100% 1/1 [00:00<00:00, 16.20it/s]\n",
            "100% 1/1 [00:00<00:00, 15.84it/s]\n",
            "100% 1/1 [00:00<00:00, 15.13it/s]\n",
            "100% 1/1 [00:00<00:00, 13.73it/s]\n",
            "100% 1/1 [00:00<00:00, 16.19it/s]\n",
            "Prediction done, transferring to CPU if needed\n",
            "sending off prediction to background worker for resampling and export\n",
            "done with FRAC_3358\n",
            "\n",
            "Predicting FRAC_3363:\n",
            "perform_everything_on_gpu: True\n",
            "100% 1/1 [00:00<00:00, 15.04it/s]\n",
            "100% 1/1 [00:00<00:00, 15.71it/s]\n",
            "100% 1/1 [00:00<00:00, 11.06it/s]\n",
            "100% 1/1 [00:00<00:00, 14.36it/s]\n",
            "100% 1/1 [00:00<00:00, 16.53it/s]\n",
            "Prediction done, transferring to CPU if needed\n",
            "sending off prediction to background worker for resampling and export\n",
            "done with FRAC_3363\n",
            "\n",
            "Predicting FRAC_3367:\n",
            "perform_everything_on_gpu: True\n",
            "100% 1/1 [00:00<00:00, 13.91it/s]\n",
            "100% 1/1 [00:00<00:00, 12.44it/s]\n",
            "100% 1/1 [00:00<00:00, 14.43it/s]\n",
            "100% 1/1 [00:00<00:00, 15.41it/s]\n",
            "100% 1/1 [00:00<00:00, 14.19it/s]\n",
            "Prediction done, transferring to CPU if needed\n",
            "sending off prediction to background worker for resampling and export\n",
            "done with FRAC_3367\n",
            "\n",
            "Predicting FRAC_3373:\n",
            "perform_everything_on_gpu: True\n",
            "100% 1/1 [00:00<00:00, 13.48it/s]\n",
            "100% 1/1 [00:00<00:00, 16.67it/s]\n",
            "100% 1/1 [00:00<00:00, 15.07it/s]\n",
            "100% 1/1 [00:00<00:00, 14.11it/s]\n",
            "100% 1/1 [00:00<00:00,  8.84it/s]\n",
            "Prediction done, transferring to CPU if needed\n",
            "sending off prediction to background worker for resampling and export\n",
            "done with FRAC_3373\n",
            "\n",
            "Predicting FRAC_3374:\n",
            "perform_everything_on_gpu: True\n",
            "100% 1/1 [00:00<00:00, 10.89it/s]\n",
            "100% 1/1 [00:00<00:00, 10.45it/s]\n",
            "100% 1/1 [00:00<00:00,  8.78it/s]\n",
            "100% 1/1 [00:00<00:00, 10.34it/s]\n",
            "100% 1/1 [00:00<00:00,  9.02it/s]\n",
            "Prediction done, transferring to CPU if needed\n",
            "sending off prediction to background worker for resampling and export\n",
            "done with FRAC_3374\n",
            "\n",
            "Predicting FRAC_3377:\n",
            "perform_everything_on_gpu: True\n",
            "100% 1/1 [00:00<00:00, 10.49it/s]\n",
            "100% 1/1 [00:00<00:00, 10.82it/s]\n",
            "100% 1/1 [00:00<00:00,  9.48it/s]\n",
            "100% 1/1 [00:00<00:00,  9.62it/s]\n",
            "100% 1/1 [00:00<00:00,  8.87it/s]\n",
            "Prediction done, transferring to CPU if needed\n",
            "sending off prediction to background worker for resampling and export\n",
            "done with FRAC_3377\n",
            "\n",
            "Predicting FRAC_3378:\n",
            "perform_everything_on_gpu: True\n",
            "100% 1/1 [00:00<00:00, 10.76it/s]\n",
            "100% 1/1 [00:00<00:00,  9.85it/s]\n",
            "100% 1/1 [00:00<00:00, 11.23it/s]\n",
            "100% 1/1 [00:00<00:00,  8.76it/s]\n",
            "100% 1/1 [00:00<00:00,  9.03it/s]\n",
            "Prediction done, transferring to CPU if needed\n",
            "sending off prediction to background worker for resampling and export\n",
            "done with FRAC_3378\n",
            "\n",
            "Predicting FRAC_3381:\n",
            "perform_everything_on_gpu: True\n",
            "100% 1/1 [00:00<00:00, 11.29it/s]\n",
            "100% 1/1 [00:00<00:00, 10.40it/s]\n",
            "100% 1/1 [00:00<00:00,  8.66it/s]\n",
            "100% 1/1 [00:00<00:00,  8.46it/s]\n",
            "100% 1/1 [00:00<00:00,  7.56it/s]\n",
            "Prediction done, transferring to CPU if needed\n",
            "sending off prediction to background worker for resampling and export\n",
            "done with FRAC_3381\n",
            "\n",
            "Predicting FRAC_3382:\n",
            "perform_everything_on_gpu: True\n",
            "100% 1/1 [00:00<00:00,  7.97it/s]\n",
            "100% 1/1 [00:00<00:00,  8.40it/s]\n",
            "100% 1/1 [00:00<00:00,  8.78it/s]\n",
            "100% 1/1 [00:00<00:00, 15.24it/s]\n",
            "100% 1/1 [00:00<00:00, 15.53it/s]\n",
            "Prediction done, transferring to CPU if needed\n",
            "sending off prediction to background worker for resampling and export\n",
            "done with FRAC_3382\n",
            "\n",
            "Predicting FRAC_3383:\n",
            "perform_everything_on_gpu: True\n",
            "100% 1/1 [00:00<00:00, 15.31it/s]\n",
            "100% 1/1 [00:00<00:00, 14.56it/s]\n",
            "100% 1/1 [00:00<00:00, 13.62it/s]\n",
            "100% 1/1 [00:00<00:00, 13.82it/s]\n",
            "100% 1/1 [00:00<00:00, 15.22it/s]\n",
            "Prediction done, transferring to CPU if needed\n",
            "sending off prediction to background worker for resampling and export\n",
            "done with FRAC_3383\n",
            "\n",
            "Predicting FRAC_3394:\n",
            "perform_everything_on_gpu: True\n",
            "100% 1/1 [00:00<00:00, 15.59it/s]\n",
            "100% 1/1 [00:00<00:00, 14.40it/s]\n",
            "100% 1/1 [00:00<00:00, 15.07it/s]\n",
            "100% 1/1 [00:00<00:00, 15.92it/s]\n",
            "100% 1/1 [00:00<00:00, 14.81it/s]\n",
            "Prediction done, transferring to CPU if needed\n",
            "sending off prediction to background worker for resampling and export\n",
            "done with FRAC_3394\n",
            "\n",
            "Predicting FRAC_3395:\n",
            "perform_everything_on_gpu: True\n",
            "100% 1/1 [00:00<00:00, 16.14it/s]\n",
            "100% 1/1 [00:00<00:00, 13.03it/s]\n",
            "100% 1/1 [00:00<00:00, 14.69it/s]\n",
            "100% 1/1 [00:00<00:00, 14.65it/s]\n",
            "100% 1/1 [00:00<00:00, 15.28it/s]\n",
            "Prediction done, transferring to CPU if needed\n",
            "sending off prediction to background worker for resampling and export\n",
            "done with FRAC_3395\n",
            "\n",
            "Predicting FRAC_3396:\n",
            "perform_everything_on_gpu: True\n",
            "100% 1/1 [00:00<00:00, 14.55it/s]\n",
            "100% 1/1 [00:00<00:00, 14.63it/s]\n",
            "100% 1/1 [00:00<00:00, 16.17it/s]\n",
            "100% 1/1 [00:00<00:00, 14.22it/s]\n",
            "100% 1/1 [00:00<00:00, 15.97it/s]\n",
            "Prediction done, transferring to CPU if needed\n",
            "sending off prediction to background worker for resampling and export\n",
            "done with FRAC_3396\n",
            "\n",
            "Predicting FRAC_3397:\n",
            "perform_everything_on_gpu: True\n",
            "100% 1/1 [00:00<00:00, 15.91it/s]\n",
            "100% 1/1 [00:00<00:00, 13.32it/s]\n",
            "100% 1/1 [00:00<00:00, 14.15it/s]\n",
            "100% 1/1 [00:00<00:00, 15.24it/s]\n",
            "100% 1/1 [00:00<00:00, 16.14it/s]\n",
            "Prediction done, transferring to CPU if needed\n",
            "sending off prediction to background worker for resampling and export\n",
            "done with FRAC_3397\n",
            "\n",
            "Predicting FRAC_3398:\n",
            "perform_everything_on_gpu: True\n",
            "100% 1/1 [00:00<00:00, 14.17it/s]\n",
            "100% 1/1 [00:00<00:00, 11.83it/s]\n",
            "100% 1/1 [00:00<00:00, 13.83it/s]\n",
            "100% 1/1 [00:00<00:00, 14.95it/s]\n",
            "100% 1/1 [00:00<00:00, 15.92it/s]\n",
            "Prediction done, transferring to CPU if needed\n",
            "sending off prediction to background worker for resampling and export\n",
            "done with FRAC_3398\n",
            "\n",
            "Predicting FRAC_3399:\n",
            "perform_everything_on_gpu: True\n",
            "100% 1/1 [00:00<00:00, 15.20it/s]\n",
            "100% 1/1 [00:00<00:00, 15.95it/s]\n",
            "100% 1/1 [00:00<00:00, 13.73it/s]\n",
            "100% 1/1 [00:00<00:00, 15.04it/s]\n",
            "100% 1/1 [00:00<00:00, 16.68it/s]\n",
            "Prediction done, transferring to CPU if needed\n",
            "sending off prediction to background worker for resampling and export\n",
            "done with FRAC_3399\n",
            "\n",
            "Predicting FRAC_3400:\n",
            "perform_everything_on_gpu: True\n",
            "100% 1/1 [00:00<00:00, 15.50it/s]\n",
            "100% 1/1 [00:00<00:00, 12.44it/s]\n",
            "100% 1/1 [00:00<00:00, 11.91it/s]\n",
            "100% 1/1 [00:00<00:00,  9.37it/s]\n",
            "100% 1/1 [00:00<00:00,  9.23it/s]\n",
            "Prediction done, transferring to CPU if needed\n",
            "sending off prediction to background worker for resampling and export\n",
            "done with FRAC_3400\n",
            "\n",
            "Predicting FRAC_3405:\n",
            "perform_everything_on_gpu: True\n",
            "100% 1/1 [00:00<00:00,  9.76it/s]\n",
            "100% 1/1 [00:00<00:00,  8.32it/s]\n",
            "100% 1/1 [00:00<00:00,  9.77it/s]\n",
            "100% 1/1 [00:00<00:00, 10.37it/s]\n",
            "100% 1/1 [00:00<00:00,  8.36it/s]\n",
            "Prediction done, transferring to CPU if needed\n",
            "sending off prediction to background worker for resampling and export\n",
            "done with FRAC_3405\n",
            "\n",
            "Predicting FRAC_3406:\n",
            "perform_everything_on_gpu: True\n",
            "100% 1/1 [00:00<00:00, 10.38it/s]\n",
            "100% 1/1 [00:00<00:00,  8.68it/s]\n",
            "100% 1/1 [00:00<00:00, 11.25it/s]\n",
            "100% 1/1 [00:00<00:00,  8.96it/s]\n",
            "100% 1/1 [00:00<00:00,  7.77it/s]\n",
            "Prediction done, transferring to CPU if needed\n",
            "sending off prediction to background worker for resampling and export\n",
            "done with FRAC_3406\n",
            "\n",
            "Predicting FRAC_3408:\n",
            "perform_everything_on_gpu: True\n",
            "100% 1/1 [00:00<00:00, 10.81it/s]\n",
            "100% 1/1 [00:00<00:00,  8.28it/s]\n",
            "100% 1/1 [00:00<00:00,  8.95it/s]\n",
            "100% 1/1 [00:00<00:00,  9.90it/s]\n",
            "100% 1/1 [00:00<00:00, 10.34it/s]\n",
            "Prediction done, transferring to CPU if needed\n",
            "sending off prediction to background worker for resampling and export\n",
            "done with FRAC_3408\n",
            "\n",
            "Predicting FRAC_3411:\n",
            "perform_everything_on_gpu: True\n",
            "100% 1/1 [00:00<00:00,  9.41it/s]\n",
            "100% 1/1 [00:00<00:00,  8.81it/s]\n",
            "100% 1/1 [00:00<00:00,  9.58it/s]\n",
            "100% 1/1 [00:00<00:00,  9.24it/s]\n",
            "100% 1/1 [00:00<00:00,  9.03it/s]\n",
            "Prediction done, transferring to CPU if needed\n",
            "sending off prediction to background worker for resampling and export\n",
            "done with FRAC_3411\n",
            "\n",
            "Predicting FRAC_3413:\n",
            "perform_everything_on_gpu: True\n",
            "100% 1/1 [00:00<00:00, 15.65it/s]\n",
            "100% 1/1 [00:00<00:00, 13.49it/s]\n",
            "100% 1/1 [00:00<00:00, 16.56it/s]\n",
            "100% 1/1 [00:00<00:00, 15.96it/s]\n",
            "100% 1/1 [00:00<00:00, 15.23it/s]\n",
            "Prediction done, transferring to CPU if needed\n",
            "sending off prediction to background worker for resampling and export\n",
            "done with FRAC_3413\n",
            "\n",
            "Predicting FRAC_3419:\n",
            "perform_everything_on_gpu: True\n",
            "100% 1/1 [00:00<00:00, 15.77it/s]\n",
            "100% 1/1 [00:00<00:00, 13.26it/s]\n",
            "100% 1/1 [00:00<00:00, 16.23it/s]\n",
            "100% 1/1 [00:00<00:00, 16.20it/s]\n",
            "100% 1/1 [00:00<00:00, 14.42it/s]\n",
            "Prediction done, transferring to CPU if needed\n",
            "sending off prediction to background worker for resampling and export\n",
            "done with FRAC_3419\n",
            "\n",
            "Predicting FRAC_3420:\n",
            "perform_everything_on_gpu: True\n",
            "100% 1/1 [00:00<00:00, 12.89it/s]\n",
            "100% 1/1 [00:00<00:00, 15.34it/s]\n",
            "100% 1/1 [00:00<00:00, 14.59it/s]\n",
            "100% 1/1 [00:00<00:00, 15.32it/s]\n",
            "100% 1/1 [00:00<00:00, 12.73it/s]\n",
            "Prediction done, transferring to CPU if needed\n",
            "sending off prediction to background worker for resampling and export\n",
            "done with FRAC_3420\n",
            "\n",
            "Predicting FRAC_3421:\n",
            "perform_everything_on_gpu: True\n",
            "100% 1/1 [00:00<00:00, 14.10it/s]\n",
            "100% 1/1 [00:00<00:00, 10.90it/s]\n",
            "100% 1/1 [00:00<00:00, 14.93it/s]\n",
            "100% 1/1 [00:00<00:00, 15.45it/s]\n",
            "100% 1/1 [00:00<00:00, 15.00it/s]\n",
            "Prediction done, transferring to CPU if needed\n",
            "sending off prediction to background worker for resampling and export\n",
            "done with FRAC_3421\n",
            "\n",
            "Predicting FRAC_3422:\n",
            "perform_everything_on_gpu: True\n",
            "100% 1/1 [00:00<00:00, 12.54it/s]\n",
            "100% 1/1 [00:00<00:00, 13.09it/s]\n",
            "100% 1/1 [00:00<00:00, 15.00it/s]\n",
            "100% 1/1 [00:00<00:00, 15.13it/s]\n",
            "100% 1/1 [00:00<00:00, 12.93it/s]\n",
            "Prediction done, transferring to CPU if needed\n",
            "sending off prediction to background worker for resampling and export\n",
            "done with FRAC_3422\n",
            "\n",
            "Predicting FRAC_3430:\n",
            "perform_everything_on_gpu: True\n",
            "100% 1/1 [00:00<00:00, 14.48it/s]\n",
            "100% 1/1 [00:00<00:00, 14.90it/s]\n",
            "100% 1/1 [00:00<00:00, 15.81it/s]\n",
            "100% 1/1 [00:00<00:00, 15.98it/s]\n",
            "100% 1/1 [00:00<00:00, 14.89it/s]\n",
            "Prediction done, transferring to CPU if needed\n",
            "sending off prediction to background worker for resampling and export\n",
            "done with FRAC_3430\n",
            "\n",
            "Predicting FRAC_3434:\n",
            "perform_everything_on_gpu: True\n",
            "100% 1/1 [00:00<00:00, 15.42it/s]\n",
            "100% 1/1 [00:00<00:00, 13.16it/s]\n",
            "100% 1/1 [00:00<00:00, 14.36it/s]\n",
            "100% 1/1 [00:00<00:00, 13.08it/s]\n",
            "100% 1/1 [00:00<00:00, 15.92it/s]\n",
            "Prediction done, transferring to CPU if needed\n",
            "sending off prediction to background worker for resampling and export\n",
            "done with FRAC_3434\n",
            "\n",
            "Predicting FRAC_3435:\n",
            "perform_everything_on_gpu: True\n",
            "100% 1/1 [00:00<00:00, 16.13it/s]\n",
            "100% 1/1 [00:00<00:00, 16.05it/s]\n",
            "100% 1/1 [00:00<00:00, 14.60it/s]\n",
            "100% 1/1 [00:00<00:00, 13.20it/s]\n",
            "100% 1/1 [00:00<00:00, 15.75it/s]\n",
            "Prediction done, transferring to CPU if needed\n",
            "sending off prediction to background worker for resampling and export\n",
            "done with FRAC_3435\n",
            "\n",
            "Predicting FRAC_3438:\n",
            "perform_everything_on_gpu: True\n",
            "100% 1/1 [00:00<00:00,  9.91it/s]\n",
            "100% 1/1 [00:00<00:00,  9.00it/s]\n",
            "100% 1/1 [00:00<00:00, 10.75it/s]\n",
            "100% 1/1 [00:00<00:00,  9.56it/s]\n",
            "100% 1/1 [00:00<00:00,  8.83it/s]\n",
            "Prediction done, transferring to CPU if needed\n",
            "sending off prediction to background worker for resampling and export\n",
            "done with FRAC_3438\n",
            "\n",
            "Predicting FRAC_3444:\n",
            "perform_everything_on_gpu: True\n",
            "100% 1/1 [00:00<00:00,  9.64it/s]\n",
            "100% 1/1 [00:00<00:00, 11.05it/s]\n",
            "100% 1/1 [00:00<00:00,  8.91it/s]\n",
            "100% 1/1 [00:00<00:00,  9.07it/s]\n",
            "100% 1/1 [00:00<00:00,  9.77it/s]\n",
            "Prediction done, transferring to CPU if needed\n",
            "sending off prediction to background worker for resampling and export\n",
            "done with FRAC_3444\n",
            "\n",
            "Predicting FRAC_3445:\n",
            "perform_everything_on_gpu: True\n",
            "100% 1/1 [00:00<00:00, 11.41it/s]\n",
            "100% 1/1 [00:00<00:00, 10.68it/s]\n",
            "100% 1/1 [00:00<00:00, 10.08it/s]\n",
            "100% 1/1 [00:00<00:00,  9.63it/s]\n",
            "100% 1/1 [00:00<00:00, 10.50it/s]\n",
            "Prediction done, transferring to CPU if needed\n",
            "sending off prediction to background worker for resampling and export\n",
            "done with FRAC_3445\n",
            "\n",
            "Predicting FRAC_3448:\n",
            "perform_everything_on_gpu: True\n",
            "100% 1/1 [00:00<00:00, 10.80it/s]\n",
            "100% 1/1 [00:00<00:00,  7.76it/s]\n",
            "100% 1/1 [00:00<00:00,  8.94it/s]\n",
            "100% 1/1 [00:00<00:00,  9.82it/s]\n",
            "100% 1/1 [00:00<00:00,  8.02it/s]\n",
            "Prediction done, transferring to CPU if needed\n",
            "sending off prediction to background worker for resampling and export\n",
            "done with FRAC_3448\n",
            "\n",
            "Predicting FRAC_3456:\n",
            "perform_everything_on_gpu: True\n",
            "100% 1/1 [00:00<00:00,  8.74it/s]\n",
            "100% 1/1 [00:00<00:00,  7.96it/s]\n",
            "100% 1/1 [00:00<00:00,  7.61it/s]\n",
            "100% 1/1 [00:00<00:00,  8.59it/s]\n",
            "100% 1/1 [00:00<00:00,  7.86it/s]\n",
            "Prediction done, transferring to CPU if needed\n",
            "sending off prediction to background worker for resampling and export\n",
            "done with FRAC_3456\n",
            "\n",
            "Predicting FRAC_3458:\n",
            "perform_everything_on_gpu: True\n",
            "100% 1/1 [00:00<00:00,  8.44it/s]\n",
            "100% 1/1 [00:00<00:00,  8.97it/s]\n",
            "100% 1/1 [00:00<00:00,  8.33it/s]\n",
            "100% 1/1 [00:00<00:00,  7.55it/s]\n",
            "100% 1/1 [00:00<00:00,  8.30it/s]\n",
            "Prediction done, transferring to CPU if needed\n",
            "sending off prediction to background worker for resampling and export\n",
            "done with FRAC_3458\n",
            "\n",
            "Predicting FRAC_3459:\n",
            "perform_everything_on_gpu: True\n",
            "100% 1/1 [00:00<00:00, 10.44it/s]\n",
            "100% 1/1 [00:00<00:00, 11.83it/s]\n",
            "100% 1/1 [00:00<00:00,  9.79it/s]\n",
            "100% 1/1 [00:00<00:00, 12.07it/s]\n",
            "100% 1/1 [00:00<00:00, 10.72it/s]\n",
            "Prediction done, transferring to CPU if needed\n",
            "sending off prediction to background worker for resampling and export\n",
            "done with FRAC_3459\n",
            "\n",
            "Predicting FRAC_3466:\n",
            "perform_everything_on_gpu: True\n",
            "100% 1/1 [00:00<00:00, 10.77it/s]\n",
            "100% 1/1 [00:00<00:00,  8.80it/s]\n",
            "100% 1/1 [00:00<00:00,  9.18it/s]\n",
            "100% 1/1 [00:00<00:00,  9.92it/s]\n",
            "100% 1/1 [00:00<00:00,  8.79it/s]\n",
            "Prediction done, transferring to CPU if needed\n",
            "sending off prediction to background worker for resampling and export\n",
            "done with FRAC_3466\n",
            "\n",
            "Predicting FRAC_3467:\n",
            "perform_everything_on_gpu: True\n",
            "100% 1/1 [00:00<00:00,  8.09it/s]\n",
            "100% 1/1 [00:00<00:00,  9.91it/s]\n",
            "100% 1/1 [00:00<00:00, 15.59it/s]\n",
            "100% 1/1 [00:00<00:00, 13.34it/s]\n",
            "100% 1/1 [00:00<00:00, 15.49it/s]\n",
            "Prediction done, transferring to CPU if needed\n",
            "sending off prediction to background worker for resampling and export\n",
            "done with FRAC_3467\n",
            "\n",
            "Predicting FRAC_3475:\n",
            "perform_everything_on_gpu: True\n",
            "100% 1/1 [00:00<00:00, 16.44it/s]\n",
            "100% 1/1 [00:00<00:00, 14.78it/s]\n",
            "100% 1/1 [00:00<00:00, 15.50it/s]\n",
            "100% 1/1 [00:00<00:00, 15.98it/s]\n",
            "100% 1/1 [00:00<00:00, 15.24it/s]\n",
            "Prediction done, transferring to CPU if needed\n",
            "sending off prediction to background worker for resampling and export\n",
            "done with FRAC_3475\n",
            "\n",
            "Predicting FRAC_3477:\n",
            "perform_everything_on_gpu: True\n",
            "100% 1/1 [00:00<00:00, 15.75it/s]\n",
            "100% 1/1 [00:00<00:00, 13.06it/s]\n",
            "100% 1/1 [00:00<00:00, 12.71it/s]\n",
            "100% 1/1 [00:00<00:00, 13.25it/s]\n",
            "100% 1/1 [00:00<00:00, 13.47it/s]\n",
            "Prediction done, transferring to CPU if needed\n",
            "sending off prediction to background worker for resampling and export\n",
            "done with FRAC_3477\n",
            "\n",
            "Predicting FRAC_3487:\n",
            "perform_everything_on_gpu: True\n",
            "100% 1/1 [00:00<00:00, 14.60it/s]\n",
            "100% 1/1 [00:00<00:00, 13.45it/s]\n",
            "100% 1/1 [00:00<00:00, 15.19it/s]\n",
            "100% 1/1 [00:00<00:00, 16.45it/s]\n",
            "100% 1/1 [00:00<00:00, 12.69it/s]\n",
            "Prediction done, transferring to CPU if needed\n",
            "sending off prediction to background worker for resampling and export\n",
            "done with FRAC_3487\n",
            "\n",
            "Predicting FRAC_3496:\n",
            "perform_everything_on_gpu: True\n",
            "100% 1/1 [00:00<00:00, 16.03it/s]\n",
            "100% 1/1 [00:00<00:00, 13.61it/s]\n",
            "100% 1/1 [00:00<00:00, 14.81it/s]\n",
            "100% 1/1 [00:00<00:00, 13.63it/s]\n",
            "100% 1/1 [00:00<00:00, 13.31it/s]\n",
            "Prediction done, transferring to CPU if needed\n",
            "sending off prediction to background worker for resampling and export\n",
            "done with FRAC_3496\n",
            "\n",
            "Predicting FRAC_3500:\n",
            "perform_everything_on_gpu: True\n",
            "100% 1/1 [00:00<00:00, 14.31it/s]\n",
            "100% 1/1 [00:00<00:00, 11.50it/s]\n",
            "100% 1/1 [00:00<00:00,  7.96it/s]\n",
            "100% 1/1 [00:00<00:00, 12.29it/s]\n",
            "100% 1/1 [00:00<00:00, 11.00it/s]\n",
            "Prediction done, transferring to CPU if needed\n",
            "sending off prediction to background worker for resampling and export\n",
            "done with FRAC_3500\n",
            "\n",
            "Predicting FRAC_3509:\n",
            "perform_everything_on_gpu: True\n",
            "100% 1/1 [00:00<00:00, 11.18it/s]\n",
            "100% 1/1 [00:00<00:00, 10.27it/s]\n",
            "100% 1/1 [00:00<00:00, 10.26it/s]\n",
            "100% 1/1 [00:00<00:00,  9.46it/s]\n",
            "100% 1/1 [00:00<00:00,  9.47it/s]\n",
            "Prediction done, transferring to CPU if needed\n",
            "sending off prediction to background worker for resampling and export\n",
            "done with FRAC_3509\n",
            "\n",
            "Predicting FRAC_3510:\n",
            "perform_everything_on_gpu: True\n",
            "100% 1/1 [00:00<00:00,  9.66it/s]\n",
            "100% 1/1 [00:00<00:00,  8.98it/s]\n",
            "100% 1/1 [00:00<00:00,  9.06it/s]\n",
            "100% 1/1 [00:00<00:00, 10.70it/s]\n",
            "100% 1/1 [00:00<00:00,  8.91it/s]\n",
            "Prediction done, transferring to CPU if needed\n",
            "sending off prediction to background worker for resampling and export\n",
            "done with FRAC_3510\n",
            "\n",
            "Predicting FRAC_3511:\n",
            "perform_everything_on_gpu: True\n",
            "100% 1/1 [00:00<00:00, 10.10it/s]\n",
            "100% 1/1 [00:00<00:00,  9.83it/s]\n",
            "100% 1/1 [00:00<00:00, 11.50it/s]\n",
            "100% 1/1 [00:00<00:00,  7.12it/s]\n",
            "100% 1/1 [00:00<00:00,  8.26it/s]\n",
            "Prediction done, transferring to CPU if needed\n",
            "sending off prediction to background worker for resampling and export\n",
            "done with FRAC_3511\n",
            "\n",
            "Predicting FRAC_3515:\n",
            "perform_everything_on_gpu: True\n",
            "100% 1/1 [00:00<00:00,  9.28it/s]\n",
            "100% 1/1 [00:00<00:00,  9.20it/s]\n",
            "100% 1/1 [00:00<00:00,  7.86it/s]\n",
            "100% 1/1 [00:00<00:00,  8.36it/s]\n",
            "100% 1/1 [00:00<00:00, 13.19it/s]\n",
            "Prediction done, transferring to CPU if needed\n",
            "sending off prediction to background worker for resampling and export\n",
            "done with FRAC_3515\n",
            "\n",
            "Predicting FRAC_3516:\n",
            "perform_everything_on_gpu: True\n",
            "100% 1/1 [00:00<00:00, 16.04it/s]\n",
            "100% 1/1 [00:00<00:00, 11.61it/s]\n",
            "100% 1/1 [00:00<00:00, 12.55it/s]\n",
            "100% 1/1 [00:00<00:00, 14.16it/s]\n",
            "100% 1/1 [00:00<00:00, 14.55it/s]\n",
            "Prediction done, transferring to CPU if needed\n",
            "sending off prediction to background worker for resampling and export\n",
            "done with FRAC_3516\n",
            "\n",
            "Predicting FRAC_3519:\n",
            "perform_everything_on_gpu: True\n",
            "100% 1/1 [00:00<00:00, 13.16it/s]\n",
            "100% 1/1 [00:00<00:00, 13.99it/s]\n",
            "100% 1/1 [00:00<00:00, 16.37it/s]\n",
            "100% 1/1 [00:00<00:00, 15.31it/s]\n",
            "100% 1/1 [00:00<00:00, 13.36it/s]\n",
            "Prediction done, transferring to CPU if needed\n",
            "sending off prediction to background worker for resampling and export\n",
            "done with FRAC_3519\n",
            "\n",
            "Predicting FRAC_3520:\n",
            "perform_everything_on_gpu: True\n",
            "100% 1/1 [00:00<00:00, 14.79it/s]\n",
            "100% 1/1 [00:00<00:00, 13.50it/s]\n",
            "100% 1/1 [00:00<00:00, 15.17it/s]\n",
            "100% 1/1 [00:00<00:00, 15.62it/s]\n",
            "100% 1/1 [00:00<00:00, 15.20it/s]\n",
            "Prediction done, transferring to CPU if needed\n",
            "sending off prediction to background worker for resampling and export\n",
            "done with FRAC_3520\n",
            "\n",
            "Predicting FRAC_3522:\n",
            "perform_everything_on_gpu: True\n",
            "100% 1/1 [00:00<00:00, 14.69it/s]\n",
            "100% 1/1 [00:00<00:00, 16.62it/s]\n",
            "100% 1/1 [00:00<00:00, 15.37it/s]\n",
            "100% 1/1 [00:00<00:00, 16.09it/s]\n",
            "100% 1/1 [00:00<00:00, 15.16it/s]\n",
            "Prediction done, transferring to CPU if needed\n",
            "sending off prediction to background worker for resampling and export\n",
            "done with FRAC_3522\n",
            "\n",
            "Predicting FRAC_3523:\n",
            "perform_everything_on_gpu: True\n",
            "100% 1/1 [00:00<00:00, 15.27it/s]\n",
            "100% 1/1 [00:00<00:00, 13.21it/s]\n",
            "100% 1/1 [00:00<00:00, 15.13it/s]\n",
            "100% 1/1 [00:00<00:00, 15.84it/s]\n",
            "100% 1/1 [00:00<00:00, 13.12it/s]\n",
            "Prediction done, transferring to CPU if needed\n",
            "sending off prediction to background worker for resampling and export\n",
            "done with FRAC_3523\n",
            "\n",
            "Predicting FRAC_3524:\n",
            "perform_everything_on_gpu: True\n",
            "100% 1/1 [00:00<00:00, 13.35it/s]\n",
            "100% 1/1 [00:00<00:00, 12.73it/s]\n",
            "100% 1/1 [00:00<00:00, 16.13it/s]\n",
            "100% 1/1 [00:00<00:00, 15.43it/s]\n",
            "100% 1/1 [00:00<00:00, 14.85it/s]\n",
            "Prediction done, transferring to CPU if needed\n",
            "sending off prediction to background worker for resampling and export\n",
            "done with FRAC_3524\n",
            "\n",
            "Predicting FRAC_3533:\n",
            "perform_everything_on_gpu: True\n",
            "100% 1/1 [00:00<00:00, 12.45it/s]\n",
            "100% 1/1 [00:00<00:00, 13.64it/s]\n",
            "100% 1/1 [00:00<00:00, 13.21it/s]\n",
            "100% 1/1 [00:00<00:00, 15.40it/s]\n",
            "100% 1/1 [00:00<00:00, 16.17it/s]\n",
            "Prediction done, transferring to CPU if needed\n",
            "sending off prediction to background worker for resampling and export\n",
            "done with FRAC_3533\n",
            "\n",
            "Predicting FRAC_3537:\n",
            "perform_everything_on_gpu: True\n",
            "100% 1/1 [00:00<00:00, 15.35it/s]\n",
            "100% 1/1 [00:00<00:00, 15.77it/s]\n",
            "100% 1/1 [00:00<00:00, 13.68it/s]\n",
            "100% 1/1 [00:00<00:00, 13.33it/s]\n",
            "100% 1/1 [00:00<00:00,  8.82it/s]\n",
            "Prediction done, transferring to CPU if needed\n",
            "sending off prediction to background worker for resampling and export\n",
            "done with FRAC_3537\n",
            "\n",
            "Predicting FRAC_3542:\n",
            "perform_everything_on_gpu: True\n",
            "100% 1/1 [00:00<00:00, 10.65it/s]\n",
            "100% 1/1 [00:00<00:00,  9.92it/s]\n",
            "100% 1/1 [00:00<00:00, 10.75it/s]\n",
            "100% 1/1 [00:00<00:00, 10.36it/s]\n",
            "100% 1/1 [00:00<00:00, 10.35it/s]\n",
            "Prediction done, transferring to CPU if needed\n",
            "sending off prediction to background worker for resampling and export\n",
            "done with FRAC_3542\n",
            "\n",
            "Predicting FRAC_3544:\n",
            "perform_everything_on_gpu: True\n",
            "100% 1/1 [00:00<00:00, 10.11it/s]\n",
            "100% 1/1 [00:00<00:00, 10.24it/s]\n",
            "100% 1/1 [00:00<00:00,  8.93it/s]\n",
            "100% 1/1 [00:00<00:00, 10.42it/s]\n",
            "100% 1/1 [00:00<00:00,  9.70it/s]\n",
            "Prediction done, transferring to CPU if needed\n",
            "sending off prediction to background worker for resampling and export\n",
            "done with FRAC_3544\n",
            "\n",
            "Predicting FRAC_3545:\n",
            "perform_everything_on_gpu: True\n",
            "100% 1/1 [00:00<00:00, 10.33it/s]\n",
            "100% 1/1 [00:00<00:00,  7.99it/s]\n",
            "100% 1/1 [00:00<00:00,  9.07it/s]\n",
            "100% 1/1 [00:00<00:00, 11.09it/s]\n",
            "100% 1/1 [00:00<00:00, 10.62it/s]\n",
            "Prediction done, transferring to CPU if needed\n",
            "sending off prediction to background worker for resampling and export\n",
            "done with FRAC_3545\n",
            "\n",
            "Predicting FRAC_3549:\n",
            "perform_everything_on_gpu: True\n",
            "100% 1/1 [00:00<00:00,  9.94it/s]\n",
            "100% 1/1 [00:00<00:00,  9.94it/s]\n",
            "100% 1/1 [00:00<00:00, 10.41it/s]\n",
            "100% 1/1 [00:00<00:00,  8.77it/s]\n",
            "100% 1/1 [00:00<00:00,  9.51it/s]\n",
            "Prediction done, transferring to CPU if needed\n",
            "sending off prediction to background worker for resampling and export\n",
            "done with FRAC_3549\n",
            "\n",
            "Predicting FRAC_3551:\n",
            "perform_everything_on_gpu: True\n",
            "100% 1/1 [00:00<00:00, 15.57it/s]\n",
            "100% 1/1 [00:00<00:00, 13.64it/s]\n",
            "100% 1/1 [00:00<00:00, 11.70it/s]\n",
            "100% 1/1 [00:00<00:00, 16.20it/s]\n",
            "100% 1/1 [00:00<00:00, 15.20it/s]\n",
            "Prediction done, transferring to CPU if needed\n",
            "sending off prediction to background worker for resampling and export\n",
            "done with FRAC_3551\n",
            "\n",
            "Predicting FRAC_3558:\n",
            "perform_everything_on_gpu: True\n",
            "100% 1/1 [00:00<00:00, 14.33it/s]\n",
            "100% 1/1 [00:00<00:00, 11.00it/s]\n",
            "100% 1/1 [00:00<00:00, 15.73it/s]\n",
            "100% 1/1 [00:00<00:00, 15.25it/s]\n",
            "100% 1/1 [00:00<00:00, 14.52it/s]\n",
            "Prediction done, transferring to CPU if needed\n",
            "sending off prediction to background worker for resampling and export\n",
            "done with FRAC_3558\n",
            "\n",
            "Predicting FRAC_3561:\n",
            "perform_everything_on_gpu: True\n",
            "100% 1/1 [00:00<00:00, 10.33it/s]\n",
            "100% 1/1 [00:00<00:00, 14.91it/s]\n",
            "100% 1/1 [00:00<00:00, 14.77it/s]\n",
            "100% 1/1 [00:00<00:00, 14.75it/s]\n",
            "100% 1/1 [00:00<00:00, 14.43it/s]\n",
            "Prediction done, transferring to CPU if needed\n",
            "sending off prediction to background worker for resampling and export\n",
            "done with FRAC_3561\n",
            "\n",
            "Predicting FRAC_3564:\n",
            "perform_everything_on_gpu: True\n",
            "100% 1/1 [00:00<00:00, 15.44it/s]\n",
            "100% 1/1 [00:00<00:00, 13.87it/s]\n",
            "100% 1/1 [00:00<00:00, 14.11it/s]\n",
            "100% 1/1 [00:00<00:00, 14.21it/s]\n",
            "100% 1/1 [00:00<00:00, 13.60it/s]\n",
            "Prediction done, transferring to CPU if needed\n",
            "sending off prediction to background worker for resampling and export\n",
            "done with FRAC_3564\n",
            "\n",
            "Predicting FRAC_3565:\n",
            "perform_everything_on_gpu: True\n",
            "100% 1/1 [00:00<00:00, 15.80it/s]\n",
            "100% 1/1 [00:00<00:00, 12.72it/s]\n",
            "100% 1/1 [00:00<00:00, 14.66it/s]\n",
            "100% 1/1 [00:00<00:00, 15.46it/s]\n",
            "100% 1/1 [00:00<00:00, 12.73it/s]\n",
            "Prediction done, transferring to CPU if needed\n",
            "sending off prediction to background worker for resampling and export\n",
            "done with FRAC_3565\n",
            "\n",
            "Predicting FRAC_3569:\n",
            "perform_everything_on_gpu: True\n",
            "100% 1/1 [00:00<00:00, 15.55it/s]\n",
            "100% 1/1 [00:00<00:00, 16.02it/s]\n",
            "100% 1/1 [00:00<00:00, 15.11it/s]\n",
            "100% 1/1 [00:00<00:00, 12.90it/s]\n",
            "100% 1/1 [00:00<00:00, 16.35it/s]\n",
            "Prediction done, transferring to CPU if needed\n",
            "sending off prediction to background worker for resampling and export\n",
            "done with FRAC_3569\n",
            "\n",
            "Predicting FRAC_3571:\n",
            "perform_everything_on_gpu: True\n",
            "100% 1/1 [00:00<00:00, 15.18it/s]\n",
            "100% 1/1 [00:00<00:00, 13.38it/s]\n",
            "100% 1/1 [00:00<00:00, 14.26it/s]\n",
            "100% 1/1 [00:00<00:00, 16.13it/s]\n",
            "100% 1/1 [00:00<00:00, 14.27it/s]\n",
            "Prediction done, transferring to CPU if needed\n",
            "sending off prediction to background worker for resampling and export\n",
            "done with FRAC_3571\n",
            "\n",
            "Predicting FRAC_3581:\n",
            "perform_everything_on_gpu: True\n",
            "100% 1/1 [00:00<00:00, 14.77it/s]\n",
            "100% 1/1 [00:00<00:00, 12.80it/s]\n",
            "100% 1/1 [00:00<00:00, 12.68it/s]\n",
            "100% 1/1 [00:00<00:00, 13.57it/s]\n",
            "100% 1/1 [00:00<00:00, 14.32it/s]\n",
            "Prediction done, transferring to CPU if needed\n",
            "sending off prediction to background worker for resampling and export\n",
            "done with FRAC_3581\n",
            "\n",
            "Predicting FRAC_3583:\n",
            "perform_everything_on_gpu: True\n",
            "100% 1/1 [00:00<00:00,  9.68it/s]\n",
            "100% 1/1 [00:00<00:00, 10.02it/s]\n",
            "100% 1/1 [00:00<00:00, 10.08it/s]\n",
            "100% 1/1 [00:00<00:00,  9.51it/s]\n",
            "100% 1/1 [00:00<00:00, 11.28it/s]\n",
            "Prediction done, transferring to CPU if needed\n",
            "sending off prediction to background worker for resampling and export\n",
            "done with FRAC_3583\n",
            "\n",
            "Predicting FRAC_3586:\n",
            "perform_everything_on_gpu: True\n",
            "100% 1/1 [00:00<00:00, 10.76it/s]\n",
            "100% 1/1 [00:00<00:00,  8.67it/s]\n",
            "100% 1/1 [00:00<00:00,  8.15it/s]\n",
            "100% 1/1 [00:00<00:00, 10.82it/s]\n",
            "100% 1/1 [00:00<00:00, 12.28it/s]\n",
            "Prediction done, transferring to CPU if needed\n",
            "sending off prediction to background worker for resampling and export\n",
            "done with FRAC_3586\n",
            "\n",
            "Predicting FRAC_3587:\n",
            "perform_everything_on_gpu: True\n",
            "100% 1/1 [00:00<00:00, 10.89it/s]\n",
            "100% 1/1 [00:00<00:00, 11.57it/s]\n",
            "100% 1/1 [00:00<00:00, 12.32it/s]\n",
            "100% 1/1 [00:00<00:00, 10.13it/s]\n",
            "100% 1/1 [00:00<00:00,  9.60it/s]\n",
            "Prediction done, transferring to CPU if needed\n",
            "sending off prediction to background worker for resampling and export\n",
            "done with FRAC_3587\n",
            "\n",
            "Predicting FRAC_3588:\n",
            "perform_everything_on_gpu: True\n",
            "100% 1/1 [00:00<00:00, 10.48it/s]\n",
            "100% 1/1 [00:00<00:00,  9.20it/s]\n",
            "100% 1/1 [00:00<00:00, 10.63it/s]\n",
            "100% 1/1 [00:00<00:00,  8.82it/s]\n",
            "100% 1/1 [00:00<00:00,  8.03it/s]\n",
            "Prediction done, transferring to CPU if needed\n",
            "sending off prediction to background worker for resampling and export\n",
            "done with FRAC_3588\n",
            "\n",
            "Predicting FRAC_3589:\n",
            "perform_everything_on_gpu: True\n",
            "100% 1/1 [00:00<00:00,  8.92it/s]\n",
            "100% 1/1 [00:00<00:00,  9.09it/s]\n",
            "100% 1/1 [00:00<00:00,  8.78it/s]\n",
            "100% 1/1 [00:00<00:00,  9.09it/s]\n",
            "100% 1/1 [00:00<00:00, 13.11it/s]\n",
            "Prediction done, transferring to CPU if needed\n",
            "sending off prediction to background worker for resampling and export\n",
            "done with FRAC_3589\n",
            "\n",
            "Predicting FRAC_3594:\n",
            "perform_everything_on_gpu: True\n",
            "100% 1/1 [00:00<00:00, 16.07it/s]\n",
            "100% 1/1 [00:00<00:00, 13.35it/s]\n",
            "100% 1/1 [00:00<00:00, 14.91it/s]\n",
            "100% 1/1 [00:00<00:00, 15.07it/s]\n",
            "100% 1/1 [00:00<00:00, 13.54it/s]\n",
            "Prediction done, transferring to CPU if needed\n",
            "sending off prediction to background worker for resampling and export\n",
            "done with FRAC_3594\n",
            "\n",
            "Predicting FRAC_3595:\n",
            "perform_everything_on_gpu: True\n",
            "100% 1/1 [00:00<00:00, 13.32it/s]\n",
            "100% 1/1 [00:00<00:00, 13.68it/s]\n",
            "100% 1/1 [00:00<00:00, 16.28it/s]\n",
            "100% 1/1 [00:00<00:00, 15.52it/s]\n",
            "100% 1/1 [00:00<00:00, 15.31it/s]\n",
            "Prediction done, transferring to CPU if needed\n",
            "sending off prediction to background worker for resampling and export\n",
            "done with FRAC_3595\n",
            "\n",
            "Predicting FRAC_3601:\n",
            "perform_everything_on_gpu: True\n",
            "100% 1/1 [00:00<00:00, 12.54it/s]\n",
            "100% 1/1 [00:00<00:00, 15.06it/s]\n",
            "100% 1/1 [00:00<00:00, 15.38it/s]\n",
            "100% 1/1 [00:00<00:00, 16.37it/s]\n",
            "100% 1/1 [00:00<00:00, 13.65it/s]\n",
            "Prediction done, transferring to CPU if needed\n",
            "sending off prediction to background worker for resampling and export\n",
            "done with FRAC_3601\n",
            "\n",
            "Predicting FRAC_3606:\n",
            "perform_everything_on_gpu: True\n",
            "100% 1/1 [00:00<00:00, 13.93it/s]\n",
            "100% 1/1 [00:00<00:00, 15.17it/s]\n",
            "100% 1/1 [00:00<00:00, 13.09it/s]\n",
            "100% 1/1 [00:00<00:00, 14.48it/s]\n",
            "100% 1/1 [00:00<00:00, 14.50it/s]\n",
            "Prediction done, transferring to CPU if needed\n",
            "sending off prediction to background worker for resampling and export\n",
            "done with FRAC_3606\n",
            "\n",
            "Predicting FRAC_3611:\n",
            "perform_everything_on_gpu: True\n",
            "100% 1/1 [00:00<00:00, 15.33it/s]\n",
            "100% 1/1 [00:00<00:00, 12.01it/s]\n",
            "100% 1/1 [00:00<00:00, 13.50it/s]\n",
            "100% 1/1 [00:00<00:00, 15.51it/s]\n",
            "100% 1/1 [00:00<00:00, 14.70it/s]\n",
            "Prediction done, transferring to CPU if needed\n",
            "sending off prediction to background worker for resampling and export\n",
            "done with FRAC_3611\n",
            "\n",
            "Predicting FRAC_3616:\n",
            "perform_everything_on_gpu: True\n",
            "100% 1/1 [00:00<00:00, 11.89it/s]\n",
            "100% 1/1 [00:00<00:00, 15.46it/s]\n",
            "100% 1/1 [00:00<00:00, 15.53it/s]\n",
            "100% 1/1 [00:00<00:00, 14.42it/s]\n",
            "100% 1/1 [00:00<00:00, 12.87it/s]\n",
            "Prediction done, transferring to CPU if needed\n",
            "sending off prediction to background worker for resampling and export\n",
            "done with FRAC_3616\n",
            "\n",
            "Predicting FRAC_3619:\n",
            "perform_everything_on_gpu: True\n",
            "100% 1/1 [00:00<00:00, 13.84it/s]\n",
            "100% 1/1 [00:00<00:00, 15.90it/s]\n",
            "100% 1/1 [00:00<00:00, 13.98it/s]\n",
            "100% 1/1 [00:00<00:00, 13.18it/s]\n",
            "100% 1/1 [00:00<00:00, 15.38it/s]\n",
            "Prediction done, transferring to CPU if needed\n",
            "sending off prediction to background worker for resampling and export\n",
            "done with FRAC_3619\n",
            "\n",
            "Predicting FRAC_3620:\n",
            "perform_everything_on_gpu: True\n",
            "100% 1/1 [00:00<00:00, 14.51it/s]\n",
            "100% 1/1 [00:00<00:00, 14.92it/s]\n",
            "100% 1/1 [00:00<00:00, 15.10it/s]\n",
            "100% 1/1 [00:00<00:00, 14.85it/s]\n",
            "100% 1/1 [00:00<00:00,  7.57it/s]\n",
            "Prediction done, transferring to CPU if needed\n",
            "sending off prediction to background worker for resampling and export\n",
            "done with FRAC_3620\n",
            "\n",
            "Predicting FRAC_3625:\n",
            "perform_everything_on_gpu: True\n",
            "100% 1/1 [00:00<00:00, 11.99it/s]\n",
            "100% 1/1 [00:00<00:00, 10.60it/s]\n",
            "100% 1/1 [00:00<00:00,  9.13it/s]\n",
            "100% 1/1 [00:00<00:00,  9.01it/s]\n",
            "100% 1/1 [00:00<00:00,  6.98it/s]\n",
            "Prediction done, transferring to CPU if needed\n",
            "sending off prediction to background worker for resampling and export\n",
            "done with FRAC_3625\n",
            "\n",
            "Predicting FRAC_3626:\n",
            "perform_everything_on_gpu: True\n",
            "100% 1/1 [00:00<00:00, 10.71it/s]\n",
            "100% 1/1 [00:00<00:00,  7.79it/s]\n",
            "100% 1/1 [00:00<00:00,  9.64it/s]\n",
            "100% 1/1 [00:00<00:00, 10.59it/s]\n",
            "100% 1/1 [00:00<00:00,  9.56it/s]\n",
            "Prediction done, transferring to CPU if needed\n",
            "sending off prediction to background worker for resampling and export\n",
            "done with FRAC_3626\n",
            "\n",
            "Predicting FRAC_3628:\n",
            "perform_everything_on_gpu: True\n",
            "100% 1/1 [00:00<00:00, 10.69it/s]\n",
            "100% 1/1 [00:00<00:00,  8.66it/s]\n",
            "100% 1/1 [00:00<00:00, 11.18it/s]\n",
            "100% 1/1 [00:00<00:00, 10.80it/s]\n",
            "100% 1/1 [00:00<00:00,  9.28it/s]\n",
            "Prediction done, transferring to CPU if needed\n",
            "sending off prediction to background worker for resampling and export\n",
            "done with FRAC_3628\n",
            "\n",
            "Predicting FRAC_3633:\n",
            "perform_everything_on_gpu: True\n",
            "100% 1/1 [00:00<00:00,  9.31it/s]\n",
            "100% 1/1 [00:00<00:00,  9.72it/s]\n",
            "100% 1/1 [00:00<00:00,  7.88it/s]\n",
            "100% 1/1 [00:00<00:00, 10.04it/s]\n",
            "100% 1/1 [00:00<00:00,  8.14it/s]\n",
            "Prediction done, transferring to CPU if needed\n",
            "sending off prediction to background worker for resampling and export\n",
            "done with FRAC_3633\n",
            "\n",
            "Predicting FRAC_3638:\n",
            "perform_everything_on_gpu: True\n",
            "100% 1/1 [00:00<00:00,  9.87it/s]\n",
            "100% 1/1 [00:00<00:00, 13.10it/s]\n",
            "100% 1/1 [00:00<00:00, 14.90it/s]\n",
            "100% 1/1 [00:00<00:00, 13.72it/s]\n",
            "100% 1/1 [00:00<00:00, 15.62it/s]\n",
            "Prediction done, transferring to CPU if needed\n",
            "sending off prediction to background worker for resampling and export\n",
            "done with FRAC_3638\n",
            "\n",
            "Predicting FRAC_3639:\n",
            "perform_everything_on_gpu: True\n",
            "100% 1/1 [00:00<00:00, 14.79it/s]\n",
            "100% 1/1 [00:00<00:00, 12.16it/s]\n",
            "100% 1/1 [00:00<00:00, 16.00it/s]\n",
            "100% 1/1 [00:00<00:00, 15.33it/s]\n",
            "100% 1/1 [00:00<00:00, 13.44it/s]\n",
            "Prediction done, transferring to CPU if needed\n",
            "sending off prediction to background worker for resampling and export\n",
            "done with FRAC_3639\n",
            "\n",
            "Predicting FRAC_3641:\n",
            "perform_everything_on_gpu: True\n",
            "100% 1/1 [00:00<00:00, 12.61it/s]\n",
            "100% 1/1 [00:00<00:00, 14.32it/s]\n",
            "100% 1/1 [00:00<00:00, 14.78it/s]\n",
            "100% 1/1 [00:00<00:00, 14.20it/s]\n",
            "100% 1/1 [00:00<00:00, 15.92it/s]\n",
            "Prediction done, transferring to CPU if needed\n",
            "sending off prediction to background worker for resampling and export\n",
            "done with FRAC_3641\n",
            "\n",
            "Predicting FRAC_3648:\n",
            "perform_everything_on_gpu: True\n",
            "100% 1/1 [00:00<00:00, 15.04it/s]\n",
            "100% 1/1 [00:00<00:00, 12.91it/s]\n",
            "100% 1/1 [00:00<00:00, 12.37it/s]\n",
            "100% 1/1 [00:00<00:00, 16.00it/s]\n",
            "100% 1/1 [00:00<00:00, 12.22it/s]\n",
            "Prediction done, transferring to CPU if needed\n",
            "sending off prediction to background worker for resampling and export\n",
            "done with FRAC_3648\n",
            "\n",
            "Predicting FRAC_3653:\n",
            "perform_everything_on_gpu: True\n",
            "100% 1/1 [00:00<00:00, 16.55it/s]\n",
            "100% 1/1 [00:00<00:00, 14.39it/s]\n",
            "100% 1/1 [00:00<00:00, 15.59it/s]\n",
            "100% 1/1 [00:00<00:00, 12.96it/s]\n",
            "100% 1/1 [00:00<00:00, 13.18it/s]\n",
            "Prediction done, transferring to CPU if needed\n",
            "sending off prediction to background worker for resampling and export\n",
            "done with FRAC_3653\n",
            "\n",
            "Predicting FRAC_3654:\n",
            "perform_everything_on_gpu: True\n",
            "100% 1/1 [00:00<00:00, 14.61it/s]\n",
            "100% 1/1 [00:00<00:00, 14.26it/s]\n",
            "100% 1/1 [00:00<00:00, 12.33it/s]\n",
            "100% 1/1 [00:00<00:00, 13.07it/s]\n",
            "100% 1/1 [00:00<00:00, 15.82it/s]\n",
            "Prediction done, transferring to CPU if needed\n",
            "sending off prediction to background worker for resampling and export\n",
            "done with FRAC_3654\n",
            "\n",
            "Predicting FRAC_3656:\n",
            "perform_everything_on_gpu: True\n",
            "100% 1/1 [00:00<00:00, 15.11it/s]\n",
            "100% 1/1 [00:00<00:00, 13.15it/s]\n",
            "100% 1/1 [00:00<00:00, 12.76it/s]\n",
            "100% 1/1 [00:00<00:00, 12.99it/s]\n",
            "100% 1/1 [00:00<00:00, 16.97it/s]\n",
            "Prediction done, transferring to CPU if needed\n",
            "sending off prediction to background worker for resampling and export\n",
            "done with FRAC_3656\n",
            "\n",
            "Predicting FRAC_3658:\n",
            "perform_everything_on_gpu: True\n",
            "100% 1/1 [00:00<00:00, 15.02it/s]\n",
            "100% 1/1 [00:00<00:00, 15.27it/s]\n",
            "100% 1/1 [00:00<00:00, 13.62it/s]\n",
            "100% 1/1 [00:00<00:00, 15.56it/s]\n",
            "100% 1/1 [00:00<00:00, 14.67it/s]\n",
            "Prediction done, transferring to CPU if needed\n",
            "sending off prediction to background worker for resampling and export\n",
            "done with FRAC_3658\n",
            "\n",
            "Predicting FRAC_3662:\n",
            "perform_everything_on_gpu: True\n",
            "100% 1/1 [00:00<00:00, 14.99it/s]\n",
            "100% 1/1 [00:00<00:00,  7.69it/s]\n",
            "100% 1/1 [00:00<00:00, 10.14it/s]\n",
            "100% 1/1 [00:00<00:00,  8.48it/s]\n",
            "100% 1/1 [00:00<00:00, 10.07it/s]\n",
            "Prediction done, transferring to CPU if needed\n",
            "sending off prediction to background worker for resampling and export\n",
            "done with FRAC_3662\n",
            "\n",
            "Predicting FRAC_3663:\n",
            "perform_everything_on_gpu: True\n",
            "100% 1/1 [00:00<00:00, 10.50it/s]\n",
            "100% 1/1 [00:00<00:00,  8.29it/s]\n",
            "100% 1/1 [00:00<00:00,  8.54it/s]\n",
            "100% 1/1 [00:00<00:00, 10.32it/s]\n",
            "100% 1/1 [00:00<00:00,  9.18it/s]\n",
            "Prediction done, transferring to CPU if needed\n",
            "sending off prediction to background worker for resampling and export\n",
            "done with FRAC_3663\n",
            "\n",
            "Predicting FRAC_3665:\n",
            "perform_everything_on_gpu: True\n",
            "100% 1/1 [00:00<00:00, 10.88it/s]\n",
            "100% 1/1 [00:00<00:00, 10.35it/s]\n",
            "100% 1/1 [00:00<00:00,  9.95it/s]\n",
            "100% 1/1 [00:00<00:00, 10.72it/s]\n",
            "100% 1/1 [00:00<00:00,  9.33it/s]\n",
            "Prediction done, transferring to CPU if needed\n",
            "sending off prediction to background worker for resampling and export\n",
            "done with FRAC_3665\n",
            "\n",
            "Predicting FRAC_3668:\n",
            "perform_everything_on_gpu: True\n",
            "100% 1/1 [00:00<00:00, 11.20it/s]\n",
            "100% 1/1 [00:00<00:00,  9.94it/s]\n",
            "100% 1/1 [00:00<00:00, 10.27it/s]\n",
            "100% 1/1 [00:00<00:00,  8.70it/s]\n",
            "100% 1/1 [00:00<00:00,  9.37it/s]\n",
            "Prediction done, transferring to CPU if needed\n",
            "sending off prediction to background worker for resampling and export\n",
            "done with FRAC_3668\n",
            "\n",
            "Predicting FRAC_3671:\n",
            "perform_everything_on_gpu: True\n",
            "100% 1/1 [00:00<00:00,  9.66it/s]\n",
            "100% 1/1 [00:00<00:00,  8.79it/s]\n",
            "100% 1/1 [00:00<00:00,  9.66it/s]\n",
            "100% 1/1 [00:00<00:00,  8.28it/s]\n",
            "100% 1/1 [00:00<00:00, 10.16it/s]\n",
            "Prediction done, transferring to CPU if needed\n",
            "sending off prediction to background worker for resampling and export\n",
            "done with FRAC_3671\n",
            "\n",
            "Predicting FRAC_3679:\n",
            "perform_everything_on_gpu: True\n",
            "100% 1/1 [00:00<00:00,  9.23it/s]\n",
            "100% 1/1 [00:00<00:00, 12.19it/s]\n",
            "100% 1/1 [00:00<00:00, 13.60it/s]\n",
            "100% 1/1 [00:00<00:00, 15.88it/s]\n",
            "100% 1/1 [00:00<00:00, 16.58it/s]\n",
            "Prediction done, transferring to CPU if needed\n",
            "sending off prediction to background worker for resampling and export\n",
            "done with FRAC_3679\n",
            "\n",
            "Predicting FRAC_3685:\n",
            "perform_everything_on_gpu: True\n",
            "100% 1/1 [00:00<00:00, 14.92it/s]\n",
            "100% 1/1 [00:00<00:00, 14.46it/s]\n",
            "100% 1/1 [00:00<00:00, 16.28it/s]\n",
            "100% 1/1 [00:00<00:00, 15.61it/s]\n",
            "100% 1/1 [00:00<00:00, 13.28it/s]\n",
            "Prediction done, transferring to CPU if needed\n",
            "sending off prediction to background worker for resampling and export\n",
            "done with FRAC_3685\n",
            "\n",
            "Predicting FRAC_3686:\n",
            "perform_everything_on_gpu: True\n",
            "100% 1/1 [00:00<00:00, 13.54it/s]\n",
            "100% 1/1 [00:00<00:00, 14.81it/s]\n",
            "100% 1/1 [00:00<00:00, 14.45it/s]\n",
            "100% 1/1 [00:00<00:00, 15.68it/s]\n",
            "100% 1/1 [00:00<00:00, 13.59it/s]\n",
            "Prediction done, transferring to CPU if needed\n",
            "sending off prediction to background worker for resampling and export\n",
            "done with FRAC_3686\n",
            "\n",
            "Predicting FRAC_3694:\n",
            "perform_everything_on_gpu: True\n",
            "100% 1/1 [00:00<00:00, 13.67it/s]\n",
            "100% 1/1 [00:00<00:00, 14.41it/s]\n",
            "100% 1/1 [00:00<00:00, 16.23it/s]\n",
            "100% 1/1 [00:00<00:00, 13.52it/s]\n",
            "100% 1/1 [00:00<00:00, 16.05it/s]\n",
            "Prediction done, transferring to CPU if needed\n",
            "sending off prediction to background worker for resampling and export\n",
            "done with FRAC_3694\n",
            "\n",
            "Predicting FRAC_3701:\n",
            "perform_everything_on_gpu: True\n",
            "100% 1/1 [00:00<00:00, 15.53it/s]\n",
            "100% 1/1 [00:00<00:00, 13.49it/s]\n",
            "100% 1/1 [00:00<00:00, 11.20it/s]\n",
            "100% 1/1 [00:00<00:00, 14.62it/s]\n",
            "100% 1/1 [00:00<00:00, 13.47it/s]\n",
            "Prediction done, transferring to CPU if needed\n",
            "sending off prediction to background worker for resampling and export\n",
            "done with FRAC_3701\n",
            "\n",
            "Predicting FRAC_3702:\n",
            "perform_everything_on_gpu: True\n",
            "100% 1/1 [00:00<00:00, 13.86it/s]\n",
            "100% 1/1 [00:00<00:00, 13.86it/s]\n",
            "100% 1/1 [00:00<00:00, 14.58it/s]\n",
            "100% 1/1 [00:00<00:00, 12.25it/s]\n",
            "100% 1/1 [00:00<00:00, 13.09it/s]\n",
            "Prediction done, transferring to CPU if needed\n",
            "sending off prediction to background worker for resampling and export\n",
            "done with FRAC_3702\n",
            "\n",
            "Predicting FRAC_3703:\n",
            "perform_everything_on_gpu: True\n",
            "100% 1/1 [00:00<00:00, 12.90it/s]\n",
            "100% 1/1 [00:00<00:00, 14.41it/s]\n",
            "100% 1/1 [00:00<00:00, 15.43it/s]\n",
            "100% 1/1 [00:00<00:00, 16.44it/s]\n",
            "100% 1/1 [00:00<00:00, 15.80it/s]\n",
            "Prediction done, transferring to CPU if needed\n",
            "sending off prediction to background worker for resampling and export\n",
            "done with FRAC_3703\n",
            "\n",
            "Predicting FRAC_3704:\n",
            "perform_everything_on_gpu: True\n",
            "100% 1/1 [00:00<00:00, 15.15it/s]\n",
            "100% 1/1 [00:00<00:00, 13.50it/s]\n",
            "100% 1/1 [00:00<00:00, 17.03it/s]\n",
            "100% 1/1 [00:00<00:00, 16.21it/s]\n",
            "100% 1/1 [00:00<00:00, 10.52it/s]\n",
            "Prediction done, transferring to CPU if needed\n",
            "sending off prediction to background worker for resampling and export\n",
            "done with FRAC_3704\n",
            "\n",
            "Predicting FRAC_3708:\n",
            "perform_everything_on_gpu: True\n",
            "100% 1/1 [00:00<00:00, 10.83it/s]\n",
            "100% 1/1 [00:00<00:00,  8.67it/s]\n",
            "100% 1/1 [00:00<00:00,  9.58it/s]\n",
            "100% 1/1 [00:00<00:00,  9.95it/s]\n",
            "100% 1/1 [00:00<00:00, 10.35it/s]\n",
            "Prediction done, transferring to CPU if needed\n",
            "sending off prediction to background worker for resampling and export\n",
            "done with FRAC_3708\n",
            "\n",
            "Predicting FRAC_3710:\n",
            "perform_everything_on_gpu: True\n",
            "100% 1/1 [00:00<00:00,  9.00it/s]\n",
            "100% 1/1 [00:00<00:00, 10.24it/s]\n",
            "100% 1/1 [00:00<00:00,  9.84it/s]\n",
            "100% 1/1 [00:00<00:00, 10.73it/s]\n",
            "100% 1/1 [00:00<00:00, 10.46it/s]\n",
            "Prediction done, transferring to CPU if needed\n",
            "sending off prediction to background worker for resampling and export\n",
            "done with FRAC_3710\n",
            "\n",
            "Predicting FRAC_3712:\n",
            "perform_everything_on_gpu: True\n",
            "100% 1/1 [00:00<00:00,  9.72it/s]\n",
            "100% 1/1 [00:00<00:00, 11.12it/s]\n",
            "100% 1/1 [00:00<00:00, 11.55it/s]\n",
            "100% 1/1 [00:00<00:00,  9.53it/s]\n",
            "100% 1/1 [00:00<00:00, 11.24it/s]\n",
            "Prediction done, transferring to CPU if needed\n",
            "sending off prediction to background worker for resampling and export\n",
            "done with FRAC_3712\n",
            "\n",
            "Predicting FRAC_3713:\n",
            "perform_everything_on_gpu: True\n",
            "100% 1/1 [00:00<00:00,  9.14it/s]\n",
            "100% 1/1 [00:00<00:00,  9.16it/s]\n",
            "100% 1/1 [00:00<00:00,  9.02it/s]\n",
            "100% 1/1 [00:00<00:00,  8.95it/s]\n",
            "100% 1/1 [00:00<00:00,  7.71it/s]\n",
            "Prediction done, transferring to CPU if needed\n",
            "sending off prediction to background worker for resampling and export\n",
            "done with FRAC_3713\n",
            "\n",
            "Predicting FRAC_3723:\n",
            "perform_everything_on_gpu: True\n",
            "100% 1/1 [00:00<00:00,  8.82it/s]\n",
            "100% 1/1 [00:00<00:00, 13.58it/s]\n",
            "100% 1/1 [00:00<00:00, 13.64it/s]\n",
            "100% 1/1 [00:00<00:00, 13.53it/s]\n",
            "100% 1/1 [00:00<00:00, 15.66it/s]\n",
            "Prediction done, transferring to CPU if needed\n",
            "sending off prediction to background worker for resampling and export\n",
            "done with FRAC_3723\n",
            "\n",
            "Predicting FRAC_3731:\n",
            "perform_everything_on_gpu: True\n",
            "100% 1/1 [00:00<00:00, 14.75it/s]\n",
            "100% 1/1 [00:00<00:00, 14.40it/s]\n",
            "100% 1/1 [00:00<00:00, 15.56it/s]\n",
            "100% 1/1 [00:00<00:00, 15.68it/s]\n",
            "100% 1/1 [00:00<00:00, 14.73it/s]\n",
            "Prediction done, transferring to CPU if needed\n",
            "sending off prediction to background worker for resampling and export\n",
            "done with FRAC_3731\n",
            "\n",
            "Predicting FRAC_3733:\n",
            "perform_everything_on_gpu: True\n",
            "100% 1/1 [00:00<00:00, 16.09it/s]\n",
            "100% 1/1 [00:00<00:00, 14.16it/s]\n",
            "100% 1/1 [00:00<00:00, 14.49it/s]\n",
            "100% 1/1 [00:00<00:00, 13.67it/s]\n",
            "100% 1/1 [00:00<00:00, 12.79it/s]\n",
            "Prediction done, transferring to CPU if needed\n",
            "sending off prediction to background worker for resampling and export\n",
            "done with FRAC_3733\n",
            "\n",
            "Predicting FRAC_3734:\n",
            "perform_everything_on_gpu: True\n",
            "100% 1/1 [00:00<00:00, 16.02it/s]\n",
            "100% 1/1 [00:00<00:00, 12.33it/s]\n",
            "100% 1/1 [00:00<00:00, 12.59it/s]\n",
            "100% 1/1 [00:00<00:00, 14.50it/s]\n",
            "100% 1/1 [00:00<00:00, 15.35it/s]\n",
            "Prediction done, transferring to CPU if needed\n",
            "sending off prediction to background worker for resampling and export\n",
            "done with FRAC_3734\n",
            "\n",
            "Predicting FRAC_3737:\n",
            "perform_everything_on_gpu: True\n",
            "100% 1/1 [00:00<00:00, 15.66it/s]\n",
            "100% 1/1 [00:00<00:00, 12.48it/s]\n",
            "100% 1/1 [00:00<00:00, 13.52it/s]\n",
            "100% 1/1 [00:00<00:00, 16.64it/s]\n",
            "100% 1/1 [00:00<00:00, 16.16it/s]\n",
            "Prediction done, transferring to CPU if needed\n",
            "sending off prediction to background worker for resampling and export\n",
            "done with FRAC_3737\n",
            "\n",
            "Predicting FRAC_3738:\n",
            "perform_everything_on_gpu: True\n",
            "100% 1/1 [00:00<00:00, 13.89it/s]\n",
            "100% 1/1 [00:00<00:00, 15.21it/s]\n",
            "100% 1/1 [00:00<00:00, 15.35it/s]\n",
            "100% 1/1 [00:00<00:00, 15.02it/s]\n",
            "100% 1/1 [00:00<00:00, 15.99it/s]\n",
            "Prediction done, transferring to CPU if needed\n",
            "sending off prediction to background worker for resampling and export\n",
            "done with FRAC_3738\n",
            "\n",
            "Predicting FRAC_3740:\n",
            "perform_everything_on_gpu: True\n",
            "100% 1/1 [00:00<00:00, 15.36it/s]\n",
            "100% 1/1 [00:00<00:00, 13.43it/s]\n",
            "100% 1/1 [00:00<00:00, 15.11it/s]\n",
            "100% 1/1 [00:00<00:00, 15.76it/s]\n",
            "100% 1/1 [00:00<00:00, 16.13it/s]\n",
            "Prediction done, transferring to CPU if needed\n",
            "sending off prediction to background worker for resampling and export\n",
            "done with FRAC_3740\n",
            "\n",
            "Predicting FRAC_3741:\n",
            "perform_everything_on_gpu: True\n",
            "100% 1/1 [00:00<00:00, 15.30it/s]\n",
            "100% 1/1 [00:00<00:00, 15.43it/s]\n",
            "100% 1/1 [00:00<00:00, 11.85it/s]\n",
            "100% 1/1 [00:00<00:00, 16.14it/s]\n",
            "100% 1/1 [00:00<00:00, 16.05it/s]\n",
            "Prediction done, transferring to CPU if needed\n",
            "sending off prediction to background worker for resampling and export\n",
            "done with FRAC_3741\n",
            "\n",
            "Predicting FRAC_3750:\n",
            "perform_everything_on_gpu: True\n",
            "100% 1/1 [00:00<00:00, 15.29it/s]\n",
            "100% 1/1 [00:00<00:00,  9.87it/s]\n",
            "100% 1/1 [00:00<00:00,  8.54it/s]\n",
            "100% 1/1 [00:00<00:00, 10.17it/s]\n",
            "100% 1/1 [00:00<00:00, 11.89it/s]\n",
            "Prediction done, transferring to CPU if needed\n",
            "sending off prediction to background worker for resampling and export\n",
            "done with FRAC_3750\n",
            "\n",
            "Predicting FRAC_3751:\n",
            "perform_everything_on_gpu: True\n",
            "100% 1/1 [00:00<00:00, 10.80it/s]\n",
            "100% 1/1 [00:00<00:00,  8.01it/s]\n",
            "100% 1/1 [00:00<00:00,  7.85it/s]\n",
            "100% 1/1 [00:00<00:00, 10.86it/s]\n",
            "100% 1/1 [00:00<00:00,  8.38it/s]\n",
            "Prediction done, transferring to CPU if needed\n",
            "sending off prediction to background worker for resampling and export\n",
            "done with FRAC_3751\n",
            "\n",
            "Predicting FRAC_3753:\n",
            "perform_everything_on_gpu: True\n",
            "100% 1/1 [00:00<00:00,  9.57it/s]\n",
            "100% 1/1 [00:00<00:00, 10.05it/s]\n",
            "100% 1/1 [00:00<00:00,  8.78it/s]\n",
            "100% 1/1 [00:00<00:00, 10.45it/s]\n",
            "100% 1/1 [00:00<00:00,  8.04it/s]\n",
            "Prediction done, transferring to CPU if needed\n",
            "sending off prediction to background worker for resampling and export\n",
            "done with FRAC_3753\n",
            "\n",
            "Predicting FRAC_3754:\n",
            "perform_everything_on_gpu: True\n",
            "100% 1/1 [00:00<00:00, 11.45it/s]\n",
            "100% 1/1 [00:00<00:00, 11.85it/s]\n",
            "100% 1/1 [00:00<00:00, 10.42it/s]\n",
            "100% 1/1 [00:00<00:00,  8.73it/s]\n",
            "100% 1/1 [00:00<00:00,  7.74it/s]\n",
            "Prediction done, transferring to CPU if needed\n",
            "sending off prediction to background worker for resampling and export\n",
            "done with FRAC_3754\n",
            "\n",
            "Predicting FRAC_3755:\n",
            "perform_everything_on_gpu: True\n",
            "100% 1/1 [00:00<00:00,  8.65it/s]\n",
            "100% 1/1 [00:00<00:00,  6.56it/s]\n",
            "100% 1/1 [00:00<00:00,  8.71it/s]\n",
            "100% 1/1 [00:00<00:00, 10.47it/s]\n",
            "100% 1/1 [00:00<00:00, 15.83it/s]\n",
            "Prediction done, transferring to CPU if needed\n",
            "sending off prediction to background worker for resampling and export\n",
            "done with FRAC_3755\n",
            "\n",
            "Predicting FRAC_3761:\n",
            "perform_everything_on_gpu: True\n",
            "100% 1/1 [00:00<00:00, 15.21it/s]\n",
            "100% 1/1 [00:00<00:00, 13.33it/s]\n",
            "100% 1/1 [00:00<00:00, 12.66it/s]\n",
            "100% 1/1 [00:00<00:00, 14.82it/s]\n",
            "100% 1/1 [00:00<00:00, 15.75it/s]\n",
            "Prediction done, transferring to CPU if needed\n",
            "sending off prediction to background worker for resampling and export\n",
            "done with FRAC_3761\n",
            "\n",
            "Predicting FRAC_3766:\n",
            "perform_everything_on_gpu: True\n",
            "100% 1/1 [00:00<00:00, 14.59it/s]\n",
            "100% 1/1 [00:00<00:00, 15.47it/s]\n",
            "100% 1/1 [00:00<00:00, 15.53it/s]\n",
            "100% 1/1 [00:00<00:00, 12.56it/s]\n",
            "100% 1/1 [00:00<00:00, 11.63it/s]\n",
            "Prediction done, transferring to CPU if needed\n",
            "sending off prediction to background worker for resampling and export\n",
            "done with FRAC_3766\n",
            "\n",
            "Predicting FRAC_3767:\n",
            "perform_everything_on_gpu: True\n",
            "100% 1/1 [00:00<00:00, 14.85it/s]\n",
            "100% 1/1 [00:00<00:00, 13.05it/s]\n",
            "100% 1/1 [00:00<00:00, 15.21it/s]\n",
            "100% 1/1 [00:00<00:00, 13.38it/s]\n",
            "100% 1/1 [00:00<00:00, 12.15it/s]\n",
            "Prediction done, transferring to CPU if needed\n",
            "sending off prediction to background worker for resampling and export\n",
            "done with FRAC_3767\n",
            "\n",
            "Predicting FRAC_3769:\n",
            "perform_everything_on_gpu: True\n",
            "100% 1/1 [00:00<00:00, 14.91it/s]\n",
            "100% 1/1 [00:00<00:00, 14.09it/s]\n",
            "100% 1/1 [00:00<00:00, 11.06it/s]\n",
            "100% 1/1 [00:00<00:00, 15.57it/s]\n",
            "100% 1/1 [00:00<00:00, 16.33it/s]\n",
            "Prediction done, transferring to CPU if needed\n",
            "sending off prediction to background worker for resampling and export\n",
            "done with FRAC_3769\n",
            "\n",
            "Predicting FRAC_3770:\n",
            "perform_everything_on_gpu: True\n",
            "100% 1/1 [00:00<00:00, 14.15it/s]\n",
            "100% 1/1 [00:00<00:00, 15.50it/s]\n",
            "100% 1/1 [00:00<00:00, 14.91it/s]\n",
            "100% 1/1 [00:00<00:00, 13.25it/s]\n",
            "100% 1/1 [00:00<00:00,  9.92it/s]\n",
            "Prediction done, transferring to CPU if needed\n",
            "sending off prediction to background worker for resampling and export\n",
            "done with FRAC_3770\n",
            "\n",
            "Predicting FRAC_3771:\n",
            "perform_everything_on_gpu: True\n",
            "100% 1/1 [00:00<00:00, 16.19it/s]\n",
            "100% 1/1 [00:00<00:00, 13.25it/s]\n",
            "100% 1/1 [00:00<00:00, 12.43it/s]\n",
            "100% 1/1 [00:00<00:00, 15.96it/s]\n",
            "100% 1/1 [00:00<00:00, 16.92it/s]\n",
            "Prediction done, transferring to CPU if needed\n",
            "sending off prediction to background worker for resampling and export\n",
            "done with FRAC_3771\n",
            "\n",
            "Predicting FRAC_3774:\n",
            "perform_everything_on_gpu: True\n",
            "100% 1/1 [00:00<00:00, 15.17it/s]\n",
            "100% 1/1 [00:00<00:00, 13.34it/s]\n",
            "100% 1/1 [00:00<00:00, 12.78it/s]\n",
            "100% 1/1 [00:00<00:00, 14.81it/s]\n",
            "100% 1/1 [00:00<00:00, 13.67it/s]\n",
            "Prediction done, transferring to CPU if needed\n",
            "sending off prediction to background worker for resampling and export\n",
            "done with FRAC_3774\n",
            "\n",
            "Predicting FRAC_3777:\n",
            "perform_everything_on_gpu: True\n",
            "100% 1/1 [00:00<00:00, 15.87it/s]\n",
            "100% 1/1 [00:00<00:00, 12.67it/s]\n",
            "100% 1/1 [00:00<00:00, 14.94it/s]\n",
            "100% 1/1 [00:00<00:00, 11.18it/s]\n",
            "100% 1/1 [00:00<00:00, 11.73it/s]\n",
            "Prediction done, transferring to CPU if needed\n",
            "sending off prediction to background worker for resampling and export\n",
            "done with FRAC_3777\n",
            "\n",
            "Predicting FRAC_3780:\n",
            "perform_everything_on_gpu: True\n",
            "100% 1/1 [00:00<00:00, 10.60it/s]\n",
            "100% 1/1 [00:00<00:00,  7.43it/s]\n",
            "100% 1/1 [00:00<00:00, 10.60it/s]\n",
            "100% 1/1 [00:00<00:00,  9.04it/s]\n",
            "100% 1/1 [00:00<00:00, 10.17it/s]\n",
            "Prediction done, transferring to CPU if needed\n",
            "sending off prediction to background worker for resampling and export\n",
            "done with FRAC_3780\n",
            "\n",
            "Predicting FRAC_3782:\n",
            "perform_everything_on_gpu: True\n",
            "100% 1/1 [00:00<00:00,  9.94it/s]\n",
            "100% 1/1 [00:00<00:00, 10.59it/s]\n",
            "100% 1/1 [00:00<00:00,  9.61it/s]\n",
            "100% 1/1 [00:00<00:00, 10.98it/s]\n",
            "100% 1/1 [00:00<00:00, 10.01it/s]\n",
            "Prediction done, transferring to CPU if needed\n",
            "sending off prediction to background worker for resampling and export\n",
            "done with FRAC_3782\n",
            "\n",
            "Predicting FRAC_3785:\n",
            "perform_everything_on_gpu: True\n",
            "100% 1/1 [00:00<00:00, 13.52it/s]\n",
            "100% 1/1 [00:00<00:00, 11.46it/s]\n",
            "100% 1/1 [00:00<00:00,  7.92it/s]\n",
            "100% 1/1 [00:00<00:00,  8.59it/s]\n",
            "100% 1/1 [00:00<00:00, 11.05it/s]\n",
            "Prediction done, transferring to CPU if needed\n",
            "sending off prediction to background worker for resampling and export\n",
            "done with FRAC_3785\n",
            "\n",
            "Predicting FRAC_3786:\n",
            "perform_everything_on_gpu: True\n",
            "100% 1/1 [00:00<00:00,  8.85it/s]\n",
            "100% 1/1 [00:00<00:00,  9.06it/s]\n",
            "100% 1/1 [00:00<00:00,  9.22it/s]\n",
            "100% 1/1 [00:00<00:00,  8.28it/s]\n",
            "100% 1/1 [00:00<00:00,  8.18it/s]\n",
            "Prediction done, transferring to CPU if needed\n",
            "sending off prediction to background worker for resampling and export\n",
            "done with FRAC_3786\n",
            "\n",
            "Predicting FRAC_3790:\n",
            "perform_everything_on_gpu: True\n",
            "100% 1/1 [00:00<00:00,  9.72it/s]\n",
            "100% 1/1 [00:00<00:00, 14.34it/s]\n",
            "100% 1/1 [00:00<00:00, 13.64it/s]\n",
            "100% 1/1 [00:00<00:00, 16.69it/s]\n",
            "100% 1/1 [00:00<00:00, 16.56it/s]\n",
            "Prediction done, transferring to CPU if needed\n",
            "sending off prediction to background worker for resampling and export\n",
            "done with FRAC_3790\n",
            "\n",
            "Predicting FRAC_3793:\n",
            "perform_everything_on_gpu: True\n",
            "100% 1/1 [00:00<00:00, 16.46it/s]\n",
            "100% 1/1 [00:00<00:00, 14.51it/s]\n",
            "100% 1/1 [00:00<00:00, 13.53it/s]\n",
            "100% 1/1 [00:00<00:00, 16.19it/s]\n",
            "100% 1/1 [00:00<00:00, 16.13it/s]\n",
            "Prediction done, transferring to CPU if needed\n",
            "sending off prediction to background worker for resampling and export\n",
            "done with FRAC_3793\n",
            "\n",
            "Predicting FRAC_3795:\n",
            "perform_everything_on_gpu: True\n",
            "100% 1/1 [00:00<00:00, 12.53it/s]\n",
            "100% 1/1 [00:00<00:00, 13.78it/s]\n",
            "100% 1/1 [00:00<00:00, 12.11it/s]\n",
            "100% 1/1 [00:00<00:00, 15.79it/s]\n",
            "100% 1/1 [00:00<00:00, 16.56it/s]\n",
            "Prediction done, transferring to CPU if needed\n",
            "sending off prediction to background worker for resampling and export\n",
            "done with FRAC_3795\n",
            "\n",
            "Predicting FRAC_3797:\n",
            "perform_everything_on_gpu: True\n",
            "100% 1/1 [00:00<00:00, 15.70it/s]\n",
            "100% 1/1 [00:00<00:00, 12.11it/s]\n",
            "100% 1/1 [00:00<00:00, 13.13it/s]\n",
            "100% 1/1 [00:00<00:00, 12.76it/s]\n",
            "100% 1/1 [00:00<00:00, 16.62it/s]\n",
            "Prediction done, transferring to CPU if needed\n",
            "sending off prediction to background worker for resampling and export\n",
            "done with FRAC_3797\n",
            "\n",
            "Predicting FRAC_3798:\n",
            "perform_everything_on_gpu: True\n",
            "100% 1/1 [00:00<00:00, 12.48it/s]\n",
            "100% 1/1 [00:00<00:00, 13.28it/s]\n",
            "100% 1/1 [00:00<00:00, 14.27it/s]\n",
            "100% 1/1 [00:00<00:00, 14.37it/s]\n",
            "100% 1/1 [00:00<00:00, 14.65it/s]\n",
            "Prediction done, transferring to CPU if needed\n",
            "sending off prediction to background worker for resampling and export\n",
            "done with FRAC_3798\n",
            "\n",
            "Predicting FRAC_3803:\n",
            "perform_everything_on_gpu: True\n",
            "100% 1/1 [00:00<00:00, 14.60it/s]\n",
            "100% 1/1 [00:00<00:00, 13.16it/s]\n",
            "100% 1/1 [00:00<00:00, 14.83it/s]\n",
            "100% 1/1 [00:00<00:00, 15.70it/s]\n",
            "100% 1/1 [00:00<00:00, 15.55it/s]\n",
            "Prediction done, transferring to CPU if needed\n",
            "sending off prediction to background worker for resampling and export\n",
            "done with FRAC_3803\n",
            "\n",
            "Predicting FRAC_3810:\n",
            "perform_everything_on_gpu: True\n",
            "100% 1/1 [00:00<00:00, 15.45it/s]\n",
            "100% 1/1 [00:00<00:00, 13.52it/s]\n",
            "100% 1/1 [00:00<00:00, 14.91it/s]\n",
            "100% 1/1 [00:00<00:00, 15.04it/s]\n",
            "100% 1/1 [00:00<00:00, 14.02it/s]\n",
            "Prediction done, transferring to CPU if needed\n",
            "sending off prediction to background worker for resampling and export\n",
            "done with FRAC_3810\n",
            "\n",
            "Predicting FRAC_3812:\n",
            "perform_everything_on_gpu: True\n",
            "100% 1/1 [00:00<00:00, 12.23it/s]\n",
            "100% 1/1 [00:00<00:00, 15.67it/s]\n",
            "100% 1/1 [00:00<00:00, 15.46it/s]\n",
            "100% 1/1 [00:00<00:00, 13.13it/s]\n",
            "100% 1/1 [00:00<00:00, 10.67it/s]\n",
            "Prediction done, transferring to CPU if needed\n",
            "sending off prediction to background worker for resampling and export\n",
            "done with FRAC_3812\n",
            "\n",
            "Predicting FRAC_3813:\n",
            "perform_everything_on_gpu: True\n",
            "100% 1/1 [00:00<00:00, 12.99it/s]\n",
            "100% 1/1 [00:00<00:00, 13.23it/s]\n",
            "100% 1/1 [00:00<00:00,  9.88it/s]\n",
            "100% 1/1 [00:00<00:00,  9.89it/s]\n",
            "100% 1/1 [00:00<00:00, 10.55it/s]\n",
            "Prediction done, transferring to CPU if needed\n",
            "sending off prediction to background worker for resampling and export\n",
            "done with FRAC_3813\n",
            "\n",
            "Predicting FRAC_3815:\n",
            "perform_everything_on_gpu: True\n",
            "100% 1/1 [00:00<00:00, 11.37it/s]\n",
            "100% 1/1 [00:00<00:00,  8.49it/s]\n",
            "100% 1/1 [00:00<00:00,  9.86it/s]\n",
            "100% 1/1 [00:00<00:00,  9.84it/s]\n",
            "100% 1/1 [00:00<00:00,  7.59it/s]\n",
            "Prediction done, transferring to CPU if needed\n",
            "sending off prediction to background worker for resampling and export\n",
            "done with FRAC_3815\n",
            "\n",
            "Predicting FRAC_3817:\n",
            "perform_everything_on_gpu: True\n",
            "100% 1/1 [00:00<00:00, 12.46it/s]\n",
            "100% 1/1 [00:00<00:00, 11.18it/s]\n",
            "100% 1/1 [00:00<00:00, 11.15it/s]\n",
            "100% 1/1 [00:00<00:00,  9.46it/s]\n",
            "100% 1/1 [00:00<00:00, 10.35it/s]\n",
            "Prediction done, transferring to CPU if needed\n",
            "sending off prediction to background worker for resampling and export\n",
            "done with FRAC_3817\n",
            "\n",
            "Predicting FRAC_3819:\n",
            "perform_everything_on_gpu: True\n",
            "100% 1/1 [00:00<00:00, 10.25it/s]\n",
            "100% 1/1 [00:00<00:00,  8.72it/s]\n",
            "100% 1/1 [00:00<00:00,  9.18it/s]\n",
            "100% 1/1 [00:00<00:00, 10.01it/s]\n",
            "100% 1/1 [00:00<00:00,  8.61it/s]\n",
            "Prediction done, transferring to CPU if needed\n",
            "sending off prediction to background worker for resampling and export\n",
            "done with FRAC_3819\n",
            "\n",
            "Predicting FRAC_3820:\n",
            "perform_everything_on_gpu: True\n",
            "100% 1/1 [00:00<00:00,  9.39it/s]\n",
            "100% 1/1 [00:00<00:00,  6.38it/s]\n",
            "100% 1/1 [00:00<00:00,  9.59it/s]\n",
            "100% 1/1 [00:00<00:00,  9.44it/s]\n",
            "100% 1/1 [00:00<00:00, 15.63it/s]\n",
            "Prediction done, transferring to CPU if needed\n",
            "sending off prediction to background worker for resampling and export\n",
            "done with FRAC_3820\n",
            "\n",
            "Predicting FRAC_3821:\n",
            "perform_everything_on_gpu: True\n",
            "100% 1/1 [00:00<00:00, 15.11it/s]\n",
            "100% 1/1 [00:00<00:00, 13.01it/s]\n",
            "100% 1/1 [00:00<00:00, 15.40it/s]\n",
            "100% 1/1 [00:00<00:00, 14.26it/s]\n",
            "100% 1/1 [00:00<00:00, 13.77it/s]\n",
            "Prediction done, transferring to CPU if needed\n",
            "sending off prediction to background worker for resampling and export\n",
            "done with FRAC_3821\n",
            "\n",
            "Predicting FRAC_3822:\n",
            "perform_everything_on_gpu: True\n",
            "100% 1/1 [00:00<00:00, 14.73it/s]\n",
            "100% 1/1 [00:00<00:00, 15.03it/s]\n",
            "100% 1/1 [00:00<00:00, 12.97it/s]\n",
            "100% 1/1 [00:00<00:00, 16.76it/s]\n",
            "100% 1/1 [00:00<00:00, 16.53it/s]\n",
            "Prediction done, transferring to CPU if needed\n",
            "sending off prediction to background worker for resampling and export\n",
            "done with FRAC_3822\n",
            "\n",
            "Predicting FRAC_3823:\n",
            "perform_everything_on_gpu: True\n",
            "100% 1/1 [00:00<00:00, 16.25it/s]\n",
            "100% 1/1 [00:00<00:00, 14.44it/s]\n",
            "100% 1/1 [00:00<00:00, 15.47it/s]\n",
            "100% 1/1 [00:00<00:00, 14.70it/s]\n",
            "100% 1/1 [00:00<00:00, 12.47it/s]\n",
            "Prediction done, transferring to CPU if needed\n",
            "sending off prediction to background worker for resampling and export\n",
            "done with FRAC_3823\n",
            "\n",
            "Predicting FRAC_3828:\n",
            "perform_everything_on_gpu: True\n",
            "100% 1/1 [00:00<00:00, 15.34it/s]\n",
            "100% 1/1 [00:00<00:00, 13.85it/s]\n",
            "100% 1/1 [00:00<00:00, 15.91it/s]\n",
            "100% 1/1 [00:00<00:00, 16.08it/s]\n",
            "100% 1/1 [00:00<00:00, 15.04it/s]\n",
            "Prediction done, transferring to CPU if needed\n",
            "sending off prediction to background worker for resampling and export\n",
            "done with FRAC_3828\n",
            "\n",
            "Predicting FRAC_3834:\n",
            "perform_everything_on_gpu: True\n",
            "100% 1/1 [00:00<00:00, 13.60it/s]\n",
            "100% 1/1 [00:00<00:00, 16.32it/s]\n",
            "100% 1/1 [00:00<00:00, 15.64it/s]\n",
            "100% 1/1 [00:00<00:00, 11.92it/s]\n",
            "100% 1/1 [00:00<00:00, 14.44it/s]\n",
            "Prediction done, transferring to CPU if needed\n",
            "sending off prediction to background worker for resampling and export\n",
            "done with FRAC_3834\n",
            "\n",
            "Predicting FRAC_3835:\n",
            "perform_everything_on_gpu: True\n",
            "100% 1/1 [00:00<00:00, 16.54it/s]\n",
            "100% 1/1 [00:00<00:00, 16.09it/s]\n",
            "100% 1/1 [00:00<00:00, 15.80it/s]\n",
            "100% 1/1 [00:00<00:00, 12.47it/s]\n",
            "100% 1/1 [00:00<00:00, 14.38it/s]\n",
            "Prediction done, transferring to CPU if needed\n",
            "sending off prediction to background worker for resampling and export\n",
            "done with FRAC_3835\n",
            "\n",
            "Predicting FRAC_3843:\n",
            "perform_everything_on_gpu: True\n",
            "100% 1/1 [00:00<00:00, 15.11it/s]\n",
            "100% 1/1 [00:00<00:00, 14.78it/s]\n",
            "100% 1/1 [00:00<00:00, 15.21it/s]\n",
            "100% 1/1 [00:00<00:00, 14.05it/s]\n",
            "100% 1/1 [00:00<00:00, 16.62it/s]\n",
            "Prediction done, transferring to CPU if needed\n",
            "sending off prediction to background worker for resampling and export\n",
            "done with FRAC_3843\n",
            "\n",
            "Predicting FRAC_3844:\n",
            "perform_everything_on_gpu: True\n",
            "100% 1/1 [00:00<00:00, 13.61it/s]\n",
            "100% 1/1 [00:00<00:00, 12.08it/s]\n",
            "100% 1/1 [00:00<00:00, 13.99it/s]\n",
            "100% 1/1 [00:00<00:00, 15.13it/s]\n",
            "100% 1/1 [00:00<00:00,  7.47it/s]\n",
            "Prediction done, transferring to CPU if needed\n",
            "sending off prediction to background worker for resampling and export\n",
            "done with FRAC_3844\n",
            "\n",
            "Predicting FRAC_3846:\n",
            "perform_everything_on_gpu: True\n",
            "100% 1/1 [00:00<00:00,  8.61it/s]\n",
            "100% 1/1 [00:00<00:00, 10.02it/s]\n",
            "100% 1/1 [00:00<00:00,  8.88it/s]\n",
            "100% 1/1 [00:00<00:00,  8.61it/s]\n",
            "100% 1/1 [00:00<00:00,  8.67it/s]\n",
            "Prediction done, transferring to CPU if needed\n",
            "sending off prediction to background worker for resampling and export\n",
            "done with FRAC_3846\n",
            "\n",
            "Predicting FRAC_3847:\n",
            "perform_everything_on_gpu: True\n",
            "100% 1/1 [00:00<00:00,  9.28it/s]\n",
            "100% 1/1 [00:00<00:00,  9.93it/s]\n",
            "100% 1/1 [00:00<00:00, 10.38it/s]\n",
            "100% 1/1 [00:00<00:00, 10.86it/s]\n",
            "100% 1/1 [00:00<00:00,  9.90it/s]\n",
            "Prediction done, transferring to CPU if needed\n",
            "sending off prediction to background worker for resampling and export\n",
            "done with FRAC_3847\n",
            "\n",
            "Predicting FRAC_3848:\n",
            "perform_everything_on_gpu: True\n",
            "100% 1/1 [00:00<00:00,  8.93it/s]\n",
            "100% 1/1 [00:00<00:00,  8.50it/s]\n",
            "100% 1/1 [00:00<00:00, 10.24it/s]\n",
            "100% 1/1 [00:00<00:00, 10.77it/s]\n",
            "100% 1/1 [00:00<00:00,  9.96it/s]\n",
            "Prediction done, transferring to CPU if needed\n",
            "sending off prediction to background worker for resampling and export\n",
            "done with FRAC_3848\n",
            "\n",
            "Predicting FRAC_3849:\n",
            "perform_everything_on_gpu: True\n",
            "100% 1/1 [00:00<00:00,  8.18it/s]\n",
            "100% 1/1 [00:00<00:00,  7.76it/s]\n",
            "100% 1/1 [00:00<00:00,  8.49it/s]\n",
            "100% 1/1 [00:00<00:00,  7.61it/s]\n",
            "100% 1/1 [00:00<00:00,  7.74it/s]\n",
            "Prediction done, transferring to CPU if needed\n",
            "sending off prediction to background worker for resampling and export\n",
            "done with FRAC_3849\n",
            "\n",
            "Predicting FRAC_3851:\n",
            "perform_everything_on_gpu: True\n",
            "100% 1/1 [00:00<00:00, 11.20it/s]\n",
            "100% 1/1 [00:00<00:00, 12.59it/s]\n",
            "100% 1/1 [00:00<00:00, 14.91it/s]\n",
            "100% 1/1 [00:00<00:00, 14.69it/s]\n",
            "100% 1/1 [00:00<00:00, 15.67it/s]\n",
            "Prediction done, transferring to CPU if needed\n",
            "sending off prediction to background worker for resampling and export\n",
            "done with FRAC_3851\n",
            "\n",
            "Predicting FRAC_3852:\n",
            "perform_everything_on_gpu: True\n",
            "100% 1/1 [00:00<00:00, 13.85it/s]\n",
            "100% 1/1 [00:00<00:00, 12.31it/s]\n",
            "100% 1/1 [00:00<00:00, 13.92it/s]\n",
            "100% 1/1 [00:00<00:00, 15.91it/s]\n",
            "100% 1/1 [00:00<00:00, 14.30it/s]\n",
            "Prediction done, transferring to CPU if needed\n",
            "sending off prediction to background worker for resampling and export\n",
            "done with FRAC_3852\n",
            "\n",
            "Predicting FRAC_3856:\n",
            "perform_everything_on_gpu: True\n",
            "100% 1/1 [00:00<00:00, 16.70it/s]\n",
            "100% 1/1 [00:00<00:00, 15.09it/s]\n",
            "100% 1/1 [00:00<00:00, 16.08it/s]\n",
            "100% 1/1 [00:00<00:00, 15.93it/s]\n",
            "100% 1/1 [00:00<00:00, 15.58it/s]\n",
            "Prediction done, transferring to CPU if needed\n",
            "sending off prediction to background worker for resampling and export\n",
            "done with FRAC_3856\n",
            "\n",
            "Predicting FRAC_3857:\n",
            "perform_everything_on_gpu: True\n",
            "100% 1/1 [00:00<00:00, 16.48it/s]\n",
            "100% 1/1 [00:00<00:00, 16.11it/s]\n",
            "100% 1/1 [00:00<00:00, 13.00it/s]\n",
            "100% 1/1 [00:00<00:00, 13.18it/s]\n",
            "100% 1/1 [00:00<00:00, 14.62it/s]\n",
            "Prediction done, transferring to CPU if needed\n",
            "sending off prediction to background worker for resampling and export\n",
            "done with FRAC_3857\n",
            "\n",
            "Predicting FRAC_3864:\n",
            "perform_everything_on_gpu: True\n",
            "100% 1/1 [00:00<00:00, 14.97it/s]\n",
            "100% 1/1 [00:00<00:00, 12.80it/s]\n",
            "100% 1/1 [00:00<00:00, 13.64it/s]\n",
            "100% 1/1 [00:00<00:00, 15.79it/s]\n",
            "100% 1/1 [00:00<00:00, 15.60it/s]\n",
            "Prediction done, transferring to CPU if needed\n",
            "sending off prediction to background worker for resampling and export\n",
            "done with FRAC_3864\n",
            "\n",
            "Predicting FRAC_3867:\n",
            "perform_everything_on_gpu: True\n",
            "100% 1/1 [00:00<00:00, 14.45it/s]\n",
            "100% 1/1 [00:00<00:00, 14.83it/s]\n",
            "100% 1/1 [00:00<00:00, 14.65it/s]\n",
            "100% 1/1 [00:00<00:00, 16.86it/s]\n",
            "100% 1/1 [00:00<00:00, 14.64it/s]\n",
            "Prediction done, transferring to CPU if needed\n",
            "sending off prediction to background worker for resampling and export\n",
            "done with FRAC_3867\n",
            "\n",
            "Predicting FRAC_3870:\n",
            "perform_everything_on_gpu: True\n",
            "100% 1/1 [00:00<00:00, 15.25it/s]\n",
            "100% 1/1 [00:00<00:00, 16.83it/s]\n",
            "100% 1/1 [00:00<00:00, 15.04it/s]\n",
            "100% 1/1 [00:00<00:00, 12.65it/s]\n",
            "100% 1/1 [00:00<00:00, 15.58it/s]\n",
            "Prediction done, transferring to CPU if needed\n",
            "sending off prediction to background worker for resampling and export\n",
            "done with FRAC_3870\n",
            "\n",
            "Predicting FRAC_3871:\n",
            "perform_everything_on_gpu: True\n",
            "100% 1/1 [00:00<00:00, 15.15it/s]\n",
            "100% 1/1 [00:00<00:00, 16.14it/s]\n",
            "100% 1/1 [00:00<00:00, 14.69it/s]\n",
            "100% 1/1 [00:00<00:00, 14.65it/s]\n",
            "100% 1/1 [00:00<00:00, 15.05it/s]\n",
            "Prediction done, transferring to CPU if needed\n",
            "sending off prediction to background worker for resampling and export\n",
            "done with FRAC_3871\n",
            "\n",
            "Predicting FRAC_3873:\n",
            "perform_everything_on_gpu: True\n",
            "100% 1/1 [00:00<00:00, 13.93it/s]\n",
            "100% 1/1 [00:00<00:00,  9.26it/s]\n",
            "100% 1/1 [00:00<00:00, 11.16it/s]\n",
            "100% 1/1 [00:00<00:00,  8.55it/s]\n",
            "100% 1/1 [00:00<00:00,  8.28it/s]\n",
            "Prediction done, transferring to CPU if needed\n",
            "sending off prediction to background worker for resampling and export\n",
            "done with FRAC_3873\n",
            "\n",
            "Predicting FRAC_3879:\n",
            "perform_everything_on_gpu: True\n",
            "100% 1/1 [00:00<00:00,  9.11it/s]\n",
            "100% 1/1 [00:00<00:00, 10.49it/s]\n",
            "100% 1/1 [00:00<00:00,  9.59it/s]\n",
            "100% 1/1 [00:00<00:00, 10.33it/s]\n",
            "100% 1/1 [00:00<00:00,  8.48it/s]\n",
            "Prediction done, transferring to CPU if needed\n",
            "sending off prediction to background worker for resampling and export\n",
            "done with FRAC_3879\n",
            "\n",
            "Predicting FRAC_3888:\n",
            "perform_everything_on_gpu: True\n",
            "100% 1/1 [00:00<00:00,  8.16it/s]\n",
            "100% 1/1 [00:00<00:00,  9.89it/s]\n",
            "100% 1/1 [00:00<00:00, 10.46it/s]\n",
            "100% 1/1 [00:00<00:00, 10.65it/s]\n",
            "100% 1/1 [00:00<00:00, 10.79it/s]\n",
            "Prediction done, transferring to CPU if needed\n",
            "sending off prediction to background worker for resampling and export\n",
            "done with FRAC_3888\n",
            "\n",
            "Predicting FRAC_3889:\n",
            "perform_everything_on_gpu: True\n",
            "100% 1/1 [00:00<00:00, 10.46it/s]\n",
            "100% 1/1 [00:00<00:00,  9.22it/s]\n",
            "100% 1/1 [00:00<00:00,  8.79it/s]\n",
            "100% 1/1 [00:00<00:00,  8.55it/s]\n",
            "100% 1/1 [00:00<00:00,  9.66it/s]\n",
            "Prediction done, transferring to CPU if needed\n",
            "sending off prediction to background worker for resampling and export\n",
            "done with FRAC_3889\n",
            "\n",
            "Predicting FRAC_3891:\n",
            "perform_everything_on_gpu: True\n",
            "100% 1/1 [00:00<00:00,  8.80it/s]\n",
            "100% 1/1 [00:00<00:00,  8.36it/s]\n",
            "100% 1/1 [00:00<00:00,  9.04it/s]\n",
            "100% 1/1 [00:00<00:00, 11.72it/s]\n",
            "100% 1/1 [00:00<00:00, 12.70it/s]\n",
            "Prediction done, transferring to CPU if needed\n",
            "sending off prediction to background worker for resampling and export\n",
            "done with FRAC_3891\n",
            "\n",
            "Predicting FRAC_3892:\n",
            "perform_everything_on_gpu: True\n",
            "100% 1/1 [00:00<00:00, 15.78it/s]\n",
            "100% 1/1 [00:00<00:00, 15.31it/s]\n",
            "100% 1/1 [00:00<00:00, 10.14it/s]\n",
            "100% 1/1 [00:00<00:00, 15.17it/s]\n",
            "100% 1/1 [00:00<00:00, 16.20it/s]\n",
            "Prediction done, transferring to CPU if needed\n",
            "sending off prediction to background worker for resampling and export\n",
            "done with FRAC_3892\n",
            "\n",
            "Predicting FRAC_3893:\n",
            "perform_everything_on_gpu: True\n",
            "100% 1/1 [00:00<00:00, 16.56it/s]\n",
            "100% 1/1 [00:00<00:00, 14.89it/s]\n",
            "100% 1/1 [00:00<00:00, 14.22it/s]\n",
            "100% 1/1 [00:00<00:00, 12.85it/s]\n",
            "100% 1/1 [00:00<00:00, 13.88it/s]\n",
            "Prediction done, transferring to CPU if needed\n",
            "sending off prediction to background worker for resampling and export\n",
            "done with FRAC_3893\n",
            "\n",
            "Predicting FRAC_3895:\n",
            "perform_everything_on_gpu: True\n",
            "100% 1/1 [00:00<00:00, 14.11it/s]\n",
            "100% 1/1 [00:00<00:00, 14.76it/s]\n",
            "100% 1/1 [00:00<00:00, 15.97it/s]\n",
            "100% 1/1 [00:00<00:00, 15.17it/s]\n",
            "100% 1/1 [00:00<00:00, 12.57it/s]\n",
            "Prediction done, transferring to CPU if needed\n",
            "sending off prediction to background worker for resampling and export\n",
            "done with FRAC_3895\n",
            "\n",
            "Predicting FRAC_3903:\n",
            "perform_everything_on_gpu: True\n",
            "100% 1/1 [00:00<00:00, 16.33it/s]\n",
            "100% 1/1 [00:00<00:00, 15.58it/s]\n",
            "100% 1/1 [00:00<00:00, 15.89it/s]\n",
            "100% 1/1 [00:00<00:00, 13.14it/s]\n",
            "100% 1/1 [00:00<00:00, 12.72it/s]\n",
            "Prediction done, transferring to CPU if needed\n",
            "sending off prediction to background worker for resampling and export\n",
            "done with FRAC_3903\n",
            "\n",
            "Predicting FRAC_3905:\n",
            "perform_everything_on_gpu: True\n",
            "100% 1/1 [00:00<00:00, 14.90it/s]\n",
            "100% 1/1 [00:00<00:00, 13.18it/s]\n",
            "100% 1/1 [00:00<00:00, 14.81it/s]\n",
            "100% 1/1 [00:00<00:00, 15.90it/s]\n",
            "100% 1/1 [00:00<00:00, 13.06it/s]\n",
            "Prediction done, transferring to CPU if needed\n",
            "sending off prediction to background worker for resampling and export\n",
            "done with FRAC_3905\n",
            "\n",
            "Predicting FRAC_3906:\n",
            "perform_everything_on_gpu: True\n",
            "100% 1/1 [00:00<00:00, 13.83it/s]\n",
            "100% 1/1 [00:00<00:00, 14.76it/s]\n",
            "100% 1/1 [00:00<00:00, 14.76it/s]\n",
            "100% 1/1 [00:00<00:00, 13.28it/s]\n",
            "100% 1/1 [00:00<00:00, 14.20it/s]\n",
            "Prediction done, transferring to CPU if needed\n",
            "sending off prediction to background worker for resampling and export\n",
            "done with FRAC_3906\n",
            "\n",
            "Predicting FRAC_3911:\n",
            "perform_everything_on_gpu: True\n",
            "100% 1/1 [00:00<00:00, 13.63it/s]\n",
            "100% 1/1 [00:00<00:00, 15.00it/s]\n",
            "100% 1/1 [00:00<00:00, 17.28it/s]\n",
            "100% 1/1 [00:00<00:00, 14.23it/s]\n",
            "100% 1/1 [00:00<00:00, 14.83it/s]\n",
            "Prediction done, transferring to CPU if needed\n",
            "sending off prediction to background worker for resampling and export\n",
            "done with FRAC_3911\n",
            "\n",
            "Predicting FRAC_3912:\n",
            "perform_everything_on_gpu: True\n",
            "100% 1/1 [00:00<00:00, 13.69it/s]\n",
            "100% 1/1 [00:00<00:00, 15.33it/s]\n",
            "100% 1/1 [00:00<00:00, 15.42it/s]\n",
            "100% 1/1 [00:00<00:00,  8.20it/s]\n",
            "100% 1/1 [00:00<00:00,  9.54it/s]\n",
            "Prediction done, transferring to CPU if needed\n",
            "sending off prediction to background worker for resampling and export\n",
            "done with FRAC_3912\n",
            "\n",
            "Predicting FRAC_3915:\n",
            "perform_everything_on_gpu: True\n",
            "100% 1/1 [00:00<00:00,  9.87it/s]\n",
            "100% 1/1 [00:00<00:00,  8.09it/s]\n",
            "100% 1/1 [00:00<00:00,  9.62it/s]\n",
            "100% 1/1 [00:00<00:00, 13.34it/s]\n",
            "100% 1/1 [00:00<00:00,  8.92it/s]\n",
            "Prediction done, transferring to CPU if needed\n",
            "sending off prediction to background worker for resampling and export\n",
            "done with FRAC_3915\n",
            "\n",
            "Predicting FRAC_3916:\n",
            "perform_everything_on_gpu: True\n",
            "100% 1/1 [00:00<00:00, 10.00it/s]\n",
            "100% 1/1 [00:00<00:00,  7.86it/s]\n",
            "100% 1/1 [00:00<00:00,  9.54it/s]\n",
            "100% 1/1 [00:00<00:00,  9.34it/s]\n",
            "100% 1/1 [00:00<00:00,  9.05it/s]\n",
            "Prediction done, transferring to CPU if needed\n",
            "sending off prediction to background worker for resampling and export\n",
            "done with FRAC_3916\n",
            "\n",
            "Predicting FRAC_3918:\n",
            "perform_everything_on_gpu: True\n",
            "100% 1/1 [00:00<00:00,  8.97it/s]\n",
            "100% 1/1 [00:00<00:00,  9.23it/s]\n",
            "100% 1/1 [00:00<00:00,  8.79it/s]\n",
            "100% 1/1 [00:00<00:00, 10.03it/s]\n",
            "100% 1/1 [00:00<00:00,  9.08it/s]\n",
            "Prediction done, transferring to CPU if needed\n",
            "sending off prediction to background worker for resampling and export\n",
            "done with FRAC_3918\n",
            "\n",
            "Predicting FRAC_3919:\n",
            "perform_everything_on_gpu: True\n",
            "100% 1/1 [00:00<00:00,  8.71it/s]\n",
            "100% 1/1 [00:00<00:00,  9.19it/s]\n",
            "100% 1/1 [00:00<00:00,  9.66it/s]\n",
            "100% 1/1 [00:00<00:00,  8.78it/s]\n",
            "100% 1/1 [00:00<00:00,  8.93it/s]\n",
            "Prediction done, transferring to CPU if needed\n",
            "sending off prediction to background worker for resampling and export\n",
            "done with FRAC_3919\n",
            "\n",
            "Predicting FRAC_3924:\n",
            "perform_everything_on_gpu: True\n",
            "100% 1/1 [00:00<00:00, 15.55it/s]\n",
            "100% 1/1 [00:00<00:00, 13.12it/s]\n",
            "100% 1/1 [00:00<00:00, 12.95it/s]\n",
            "100% 1/1 [00:00<00:00, 14.59it/s]\n",
            "100% 1/1 [00:00<00:00, 15.31it/s]\n",
            "Prediction done, transferring to CPU if needed\n",
            "sending off prediction to background worker for resampling and export\n",
            "done with FRAC_3924\n",
            "\n",
            "Predicting FRAC_3925:\n",
            "perform_everything_on_gpu: True\n",
            "100% 1/1 [00:00<00:00, 15.44it/s]\n",
            "100% 1/1 [00:00<00:00, 13.26it/s]\n",
            "100% 1/1 [00:00<00:00, 13.15it/s]\n",
            "100% 1/1 [00:00<00:00, 12.93it/s]\n",
            "100% 1/1 [00:00<00:00, 11.75it/s]\n",
            "Prediction done, transferring to CPU if needed\n",
            "sending off prediction to background worker for resampling and export\n",
            "done with FRAC_3925\n",
            "\n",
            "Predicting FRAC_3926:\n",
            "perform_everything_on_gpu: True\n",
            "100% 1/1 [00:00<00:00, 15.64it/s]\n",
            "100% 1/1 [00:00<00:00, 12.91it/s]\n",
            "100% 1/1 [00:00<00:00, 12.76it/s]\n",
            "100% 1/1 [00:00<00:00, 13.52it/s]\n",
            "100% 1/1 [00:00<00:00, 16.35it/s]\n",
            "Prediction done, transferring to CPU if needed\n",
            "sending off prediction to background worker for resampling and export\n",
            "done with FRAC_3926\n",
            "\n",
            "Predicting FRAC_3927:\n",
            "perform_everything_on_gpu: True\n",
            "100% 1/1 [00:00<00:00, 13.30it/s]\n",
            "100% 1/1 [00:00<00:00, 14.95it/s]\n",
            "100% 1/1 [00:00<00:00, 13.92it/s]\n",
            "100% 1/1 [00:00<00:00, 15.54it/s]\n",
            "100% 1/1 [00:00<00:00, 16.38it/s]\n",
            "Prediction done, transferring to CPU if needed\n",
            "sending off prediction to background worker for resampling and export\n",
            "done with FRAC_3927\n",
            "\n",
            "Predicting FRAC_3930:\n",
            "perform_everything_on_gpu: True\n",
            "100% 1/1 [00:00<00:00, 15.77it/s]\n",
            "100% 1/1 [00:00<00:00, 15.80it/s]\n",
            "100% 1/1 [00:00<00:00, 15.60it/s]\n",
            "100% 1/1 [00:00<00:00, 15.54it/s]\n",
            "100% 1/1 [00:00<00:00, 16.21it/s]\n",
            "Prediction done, transferring to CPU if needed\n",
            "sending off prediction to background worker for resampling and export\n",
            "done with FRAC_3930\n",
            "\n",
            "Predicting FRAC_3931:\n",
            "perform_everything_on_gpu: True\n",
            "100% 1/1 [00:00<00:00, 14.39it/s]\n",
            "100% 1/1 [00:00<00:00, 12.97it/s]\n",
            "100% 1/1 [00:00<00:00, 10.67it/s]\n",
            "100% 1/1 [00:00<00:00, 15.66it/s]\n",
            "100% 1/1 [00:00<00:00, 13.43it/s]\n",
            "Prediction done, transferring to CPU if needed\n",
            "sending off prediction to background worker for resampling and export\n",
            "done with FRAC_3931\n",
            "\n",
            "Predicting FRAC_3932:\n",
            "perform_everything_on_gpu: True\n",
            "100% 1/1 [00:00<00:00, 14.14it/s]\n",
            "100% 1/1 [00:00<00:00, 14.95it/s]\n",
            "100% 1/1 [00:00<00:00, 15.51it/s]\n",
            "100% 1/1 [00:00<00:00, 14.46it/s]\n",
            "100% 1/1 [00:00<00:00, 15.10it/s]\n",
            "Prediction done, transferring to CPU if needed\n",
            "sending off prediction to background worker for resampling and export\n",
            "done with FRAC_3932\n",
            "\n",
            "Predicting FRAC_3940:\n",
            "perform_everything_on_gpu: True\n",
            "100% 1/1 [00:00<00:00, 15.26it/s]\n",
            "100% 1/1 [00:00<00:00, 12.91it/s]\n",
            "100% 1/1 [00:00<00:00, 15.26it/s]\n",
            "100% 1/1 [00:00<00:00, 15.35it/s]\n",
            "100% 1/1 [00:00<00:00, 11.37it/s]\n",
            "Prediction done, transferring to CPU if needed\n",
            "sending off prediction to background worker for resampling and export\n",
            "done with FRAC_3940\n",
            "\n",
            "Predicting FRAC_3941:\n",
            "perform_everything_on_gpu: True\n",
            "100% 1/1 [00:00<00:00, 10.06it/s]\n",
            "100% 1/1 [00:00<00:00, 10.21it/s]\n",
            "100% 1/1 [00:00<00:00,  9.61it/s]\n",
            "100% 1/1 [00:00<00:00,  9.59it/s]\n",
            "100% 1/1 [00:00<00:00, 10.74it/s]\n",
            "Prediction done, transferring to CPU if needed\n",
            "sending off prediction to background worker for resampling and export\n",
            "done with FRAC_3941\n",
            "\n",
            "Predicting FRAC_3942:\n",
            "perform_everything_on_gpu: True\n",
            "100% 1/1 [00:00<00:00,  8.47it/s]\n",
            "100% 1/1 [00:00<00:00,  8.78it/s]\n",
            "100% 1/1 [00:00<00:00, 10.63it/s]\n",
            "100% 1/1 [00:00<00:00, 11.06it/s]\n",
            "100% 1/1 [00:00<00:00, 10.44it/s]\n",
            "Prediction done, transferring to CPU if needed\n",
            "sending off prediction to background worker for resampling and export\n",
            "done with FRAC_3942\n",
            "\n",
            "Predicting FRAC_3943:\n",
            "perform_everything_on_gpu: True\n",
            "100% 1/1 [00:00<00:00, 10.05it/s]\n",
            "100% 1/1 [00:00<00:00,  9.64it/s]\n",
            "100% 1/1 [00:00<00:00, 10.49it/s]\n",
            "100% 1/1 [00:00<00:00,  9.91it/s]\n",
            "100% 1/1 [00:00<00:00, 10.05it/s]\n",
            "Prediction done, transferring to CPU if needed\n",
            "sending off prediction to background worker for resampling and export\n",
            "done with FRAC_3943\n",
            "\n",
            "Predicting FRAC_3950:\n",
            "perform_everything_on_gpu: True\n",
            "100% 1/1 [00:00<00:00,  9.33it/s]\n",
            "100% 1/1 [00:00<00:00,  8.60it/s]\n",
            "100% 1/1 [00:00<00:00,  8.69it/s]\n",
            "100% 1/1 [00:00<00:00,  8.15it/s]\n",
            "100% 1/1 [00:00<00:00,  9.55it/s]\n",
            "Prediction done, transferring to CPU if needed\n",
            "sending off prediction to background worker for resampling and export\n",
            "done with FRAC_3950\n",
            "\n",
            "Predicting FRAC_3952:\n",
            "perform_everything_on_gpu: True\n",
            "100% 1/1 [00:00<00:00,  9.51it/s]\n",
            "100% 1/1 [00:00<00:00,  8.82it/s]\n",
            "100% 1/1 [00:00<00:00, 12.53it/s]\n",
            "100% 1/1 [00:00<00:00, 14.80it/s]\n",
            "100% 1/1 [00:00<00:00, 14.30it/s]\n",
            "Prediction done, transferring to CPU if needed\n",
            "sending off prediction to background worker for resampling and export\n",
            "done with FRAC_3952\n",
            "\n",
            "Predicting FRAC_3953:\n",
            "perform_everything_on_gpu: True\n",
            "100% 1/1 [00:00<00:00, 13.00it/s]\n",
            "100% 1/1 [00:00<00:00, 15.01it/s]\n",
            "100% 1/1 [00:00<00:00, 16.07it/s]\n",
            "100% 1/1 [00:00<00:00, 12.72it/s]\n",
            "100% 1/1 [00:00<00:00, 12.05it/s]\n",
            "Prediction done, transferring to CPU if needed\n",
            "sending off prediction to background worker for resampling and export\n",
            "done with FRAC_3953\n",
            "\n",
            "Predicting FRAC_3954:\n",
            "perform_everything_on_gpu: True\n",
            "100% 1/1 [00:00<00:00, 13.94it/s]\n",
            "100% 1/1 [00:00<00:00, 14.35it/s]\n",
            "100% 1/1 [00:00<00:00, 13.79it/s]\n",
            "100% 1/1 [00:00<00:00, 15.50it/s]\n",
            "100% 1/1 [00:00<00:00, 15.42it/s]\n",
            "Prediction done, transferring to CPU if needed\n",
            "sending off prediction to background worker for resampling and export\n",
            "done with FRAC_3954\n",
            "\n",
            "Predicting FRAC_3955:\n",
            "perform_everything_on_gpu: True\n",
            "100% 1/1 [00:00<00:00, 13.74it/s]\n",
            "100% 1/1 [00:00<00:00, 13.40it/s]\n",
            "100% 1/1 [00:00<00:00, 16.51it/s]\n",
            "100% 1/1 [00:00<00:00, 16.08it/s]\n",
            "100% 1/1 [00:00<00:00, 15.92it/s]\n",
            "Prediction done, transferring to CPU if needed\n",
            "sending off prediction to background worker for resampling and export\n",
            "done with FRAC_3955\n",
            "\n",
            "Predicting FRAC_3960:\n",
            "perform_everything_on_gpu: True\n",
            "100% 1/1 [00:00<00:00, 15.39it/s]\n",
            "100% 1/1 [00:00<00:00, 14.70it/s]\n",
            "100% 1/1 [00:00<00:00, 14.21it/s]\n",
            "100% 1/1 [00:00<00:00, 14.54it/s]\n",
            "100% 1/1 [00:00<00:00, 15.34it/s]\n",
            "Prediction done, transferring to CPU if needed\n",
            "sending off prediction to background worker for resampling and export\n",
            "done with FRAC_3960\n",
            "\n",
            "Predicting FRAC_3970:\n",
            "perform_everything_on_gpu: True\n",
            "100% 1/1 [00:00<00:00, 14.73it/s]\n",
            "100% 1/1 [00:00<00:00, 16.02it/s]\n",
            "100% 1/1 [00:00<00:00, 15.26it/s]\n",
            "100% 1/1 [00:00<00:00, 15.43it/s]\n",
            "100% 1/1 [00:00<00:00, 15.30it/s]\n",
            "Prediction done, transferring to CPU if needed\n",
            "sending off prediction to background worker for resampling and export\n",
            "done with FRAC_3970\n",
            "\n",
            "Predicting FRAC_3971:\n",
            "perform_everything_on_gpu: True\n",
            "100% 1/1 [00:00<00:00, 15.83it/s]\n",
            "100% 1/1 [00:00<00:00, 14.68it/s]\n",
            "100% 1/1 [00:00<00:00, 15.44it/s]\n",
            "100% 1/1 [00:00<00:00, 13.98it/s]\n",
            "100% 1/1 [00:00<00:00, 13.42it/s]\n",
            "Prediction done, transferring to CPU if needed\n",
            "sending off prediction to background worker for resampling and export\n",
            "done with FRAC_3971\n",
            "\n",
            "Predicting FRAC_3986:\n",
            "perform_everything_on_gpu: True\n",
            "100% 1/1 [00:00<00:00, 14.86it/s]\n",
            "100% 1/1 [00:00<00:00, 12.95it/s]\n",
            "100% 1/1 [00:00<00:00, 16.03it/s]\n",
            "100% 1/1 [00:00<00:00, 15.11it/s]\n",
            "100% 1/1 [00:00<00:00, 13.92it/s]\n",
            "Prediction done, transferring to CPU if needed\n",
            "sending off prediction to background worker for resampling and export\n",
            "done with FRAC_3986\n",
            "\n",
            "Predicting FRAC_3991:\n",
            "perform_everything_on_gpu: True\n",
            "100% 1/1 [00:00<00:00, 12.44it/s]\n",
            "100% 1/1 [00:00<00:00, 16.25it/s]\n",
            "100% 1/1 [00:00<00:00, 12.13it/s]\n",
            "100% 1/1 [00:00<00:00,  9.59it/s]\n",
            "100% 1/1 [00:00<00:00, 10.06it/s]\n",
            "Prediction done, transferring to CPU if needed\n",
            "sending off prediction to background worker for resampling and export\n",
            "done with FRAC_3991\n",
            "\n",
            "Predicting FRAC_3993:\n",
            "perform_everything_on_gpu: True\n",
            "100% 1/1 [00:00<00:00, 10.61it/s]\n",
            "100% 1/1 [00:00<00:00,  9.72it/s]\n",
            "100% 1/1 [00:00<00:00, 11.41it/s]\n",
            "100% 1/1 [00:00<00:00, 10.19it/s]\n",
            "100% 1/1 [00:00<00:00,  8.76it/s]\n",
            "Prediction done, transferring to CPU if needed\n",
            "sending off prediction to background worker for resampling and export\n",
            "done with FRAC_3993\n",
            "\n",
            "Predicting FRAC_4004:\n",
            "perform_everything_on_gpu: True\n",
            "100% 1/1 [00:00<00:00, 10.77it/s]\n",
            "100% 1/1 [00:00<00:00, 11.15it/s]\n",
            "100% 1/1 [00:00<00:00, 10.56it/s]\n",
            "100% 1/1 [00:00<00:00, 11.49it/s]\n",
            "100% 1/1 [00:00<00:00, 10.17it/s]\n",
            "Prediction done, transferring to CPU if needed\n",
            "sending off prediction to background worker for resampling and export\n",
            "done with FRAC_4004\n",
            "\n",
            "Predicting FRAC_4007:\n",
            "perform_everything_on_gpu: True\n",
            "100% 1/1 [00:00<00:00, 11.79it/s]\n",
            "100% 1/1 [00:00<00:00, 11.06it/s]\n",
            "100% 1/1 [00:00<00:00, 10.02it/s]\n",
            "100% 1/1 [00:00<00:00, 11.07it/s]\n",
            "100% 1/1 [00:00<00:00,  7.97it/s]\n",
            "Prediction done, transferring to CPU if needed\n",
            "sending off prediction to background worker for resampling and export\n",
            "done with FRAC_4007\n",
            "\n",
            "Predicting FRAC_4008:\n",
            "perform_everything_on_gpu: True\n",
            "100% 1/1 [00:00<00:00,  8.96it/s]\n",
            "100% 1/1 [00:00<00:00,  9.80it/s]\n",
            "100% 1/1 [00:00<00:00,  9.00it/s]\n",
            "100% 1/1 [00:00<00:00,  7.69it/s]\n",
            "100% 1/1 [00:00<00:00,  7.02it/s]\n",
            "Prediction done, transferring to CPU if needed\n",
            "sending off prediction to background worker for resampling and export\n",
            "done with FRAC_4008\n",
            "\n",
            "Predicting FRAC_4009:\n",
            "perform_everything_on_gpu: True\n",
            "100% 1/1 [00:00<00:00, 15.94it/s]\n",
            "100% 1/1 [00:00<00:00, 13.34it/s]\n",
            "100% 1/1 [00:00<00:00, 13.90it/s]\n",
            "100% 1/1 [00:00<00:00, 12.93it/s]\n",
            "100% 1/1 [00:00<00:00, 16.23it/s]\n",
            "Prediction done, transferring to CPU if needed\n",
            "sending off prediction to background worker for resampling and export\n",
            "done with FRAC_4009\n",
            "\n",
            "Predicting FRAC_4010:\n",
            "perform_everything_on_gpu: True\n",
            "100% 1/1 [00:00<00:00, 13.85it/s]\n",
            "100% 1/1 [00:00<00:00, 13.04it/s]\n",
            "100% 1/1 [00:00<00:00, 15.92it/s]\n",
            "100% 1/1 [00:00<00:00, 16.07it/s]\n",
            "100% 1/1 [00:00<00:00, 14.47it/s]\n",
            "Prediction done, transferring to CPU if needed\n",
            "sending off prediction to background worker for resampling and export\n",
            "done with FRAC_4010\n",
            "\n",
            "Predicting FRAC_4011:\n",
            "perform_everything_on_gpu: True\n",
            "100% 1/1 [00:00<00:00, 13.80it/s]\n",
            "100% 1/1 [00:00<00:00, 15.18it/s]\n",
            "100% 1/1 [00:00<00:00, 15.92it/s]\n",
            "100% 1/1 [00:00<00:00, 13.05it/s]\n",
            "100% 1/1 [00:00<00:00, 13.89it/s]\n",
            "Prediction done, transferring to CPU if needed\n",
            "sending off prediction to background worker for resampling and export\n",
            "done with FRAC_4011\n",
            "\n",
            "Predicting FRAC_4017:\n",
            "perform_everything_on_gpu: True\n",
            "100% 1/1 [00:00<00:00, 15.27it/s]\n",
            "100% 1/1 [00:00<00:00, 16.26it/s]\n",
            "100% 1/1 [00:00<00:00, 15.39it/s]\n",
            "100% 1/1 [00:00<00:00, 13.84it/s]\n",
            "100% 1/1 [00:00<00:00, 11.93it/s]\n",
            "Prediction done, transferring to CPU if needed\n",
            "sending off prediction to background worker for resampling and export\n",
            "done with FRAC_4017\n",
            "\n",
            "Predicting FRAC_4036:\n",
            "perform_everything_on_gpu: True\n",
            "100% 1/1 [00:00<00:00, 15.27it/s]\n",
            "100% 1/1 [00:00<00:00, 13.14it/s]\n",
            "100% 1/1 [00:00<00:00, 13.66it/s]\n",
            "100% 1/1 [00:00<00:00, 15.25it/s]\n",
            "100% 1/1 [00:00<00:00, 16.77it/s]\n",
            "Prediction done, transferring to CPU if needed\n",
            "sending off prediction to background worker for resampling and export\n",
            "done with FRAC_4036\n",
            "\n",
            "Predicting FRAC_4042:\n",
            "perform_everything_on_gpu: True\n",
            "100% 1/1 [00:00<00:00, 16.01it/s]\n",
            "100% 1/1 [00:00<00:00, 13.41it/s]\n",
            "100% 1/1 [00:00<00:00, 14.26it/s]\n",
            "100% 1/1 [00:00<00:00, 13.37it/s]\n",
            "100% 1/1 [00:00<00:00, 15.09it/s]\n",
            "Prediction done, transferring to CPU if needed\n",
            "sending off prediction to background worker for resampling and export\n",
            "done with FRAC_4042\n",
            "\n",
            "Predicting FRAC_4043:\n",
            "perform_everything_on_gpu: True\n",
            "100% 1/1 [00:00<00:00, 16.26it/s]\n",
            "100% 1/1 [00:00<00:00, 14.16it/s]\n",
            "100% 1/1 [00:00<00:00, 16.02it/s]\n",
            "100% 1/1 [00:00<00:00, 15.22it/s]\n",
            "100% 1/1 [00:00<00:00, 14.30it/s]\n",
            "Prediction done, transferring to CPU if needed\n",
            "sending off prediction to background worker for resampling and export\n",
            "done with FRAC_4043\n",
            "\n",
            "Predicting FRAC_4044:\n",
            "perform_everything_on_gpu: True\n",
            "100% 1/1 [00:00<00:00, 16.38it/s]\n",
            "100% 1/1 [00:00<00:00, 12.74it/s]\n",
            "100% 1/1 [00:00<00:00, 15.06it/s]\n",
            "100% 1/1 [00:00<00:00, 15.24it/s]\n",
            "100% 1/1 [00:00<00:00, 15.63it/s]\n",
            "Prediction done, transferring to CPU if needed\n",
            "sending off prediction to background worker for resampling and export\n",
            "done with FRAC_4044\n",
            "\n",
            "Predicting FRAC_4045:\n",
            "perform_everything_on_gpu: True\n",
            "100% 1/1 [00:00<00:00, 10.28it/s]\n",
            "100% 1/1 [00:00<00:00,  8.31it/s]\n",
            "100% 1/1 [00:00<00:00,  8.32it/s]\n",
            "100% 1/1 [00:00<00:00, 10.69it/s]\n",
            "100% 1/1 [00:00<00:00, 11.91it/s]\n",
            "Prediction done, transferring to CPU if needed\n",
            "sending off prediction to background worker for resampling and export\n",
            "done with FRAC_4045\n",
            "\n",
            "Predicting FRAC_4059:\n",
            "perform_everything_on_gpu: True\n",
            "100% 1/1 [00:00<00:00,  8.82it/s]\n",
            "100% 1/1 [00:00<00:00, 10.26it/s]\n",
            "100% 1/1 [00:00<00:00,  8.20it/s]\n",
            "100% 1/1 [00:00<00:00, 11.15it/s]\n",
            "100% 1/1 [00:00<00:00,  9.48it/s]\n",
            "Prediction done, transferring to CPU if needed\n",
            "sending off prediction to background worker for resampling and export\n",
            "done with FRAC_4059\n",
            "\n",
            "Predicting FRAC_4061:\n",
            "perform_everything_on_gpu: True\n",
            "100% 1/1 [00:00<00:00,  8.79it/s]\n",
            "100% 1/1 [00:00<00:00, 10.50it/s]\n",
            "100% 1/1 [00:00<00:00,  8.64it/s]\n",
            "100% 1/1 [00:00<00:00,  9.03it/s]\n",
            "100% 1/1 [00:00<00:00,  9.78it/s]\n",
            "Prediction done, transferring to CPU if needed\n",
            "sending off prediction to background worker for resampling and export\n",
            "done with FRAC_4061\n",
            "\n",
            "Predicting FRAC_4065:\n",
            "perform_everything_on_gpu: True\n",
            "100% 1/1 [00:00<00:00, 11.16it/s]\n",
            "100% 1/1 [00:00<00:00,  9.23it/s]\n",
            "100% 1/1 [00:00<00:00, 10.27it/s]\n",
            "100% 1/1 [00:00<00:00,  9.64it/s]\n",
            "100% 1/1 [00:00<00:00,  8.80it/s]\n",
            "Prediction done, transferring to CPU if needed\n",
            "sending off prediction to background worker for resampling and export\n",
            "done with FRAC_4065\n",
            "\n",
            "Predicting FRAC_4067:\n",
            "perform_everything_on_gpu: True\n",
            "100% 1/1 [00:00<00:00,  8.22it/s]\n",
            "100% 1/1 [00:00<00:00, 10.28it/s]\n",
            "100% 1/1 [00:00<00:00,  9.94it/s]\n",
            "100% 1/1 [00:00<00:00, 13.38it/s]\n",
            "100% 1/1 [00:00<00:00, 11.16it/s]\n",
            "Prediction done, transferring to CPU if needed\n",
            "sending off prediction to background worker for resampling and export\n",
            "done with FRAC_4067\n",
            "\n",
            "Predicting FRAC_4068:\n",
            "perform_everything_on_gpu: True\n",
            "100% 1/1 [00:00<00:00, 14.34it/s]\n",
            "100% 1/1 [00:00<00:00, 10.29it/s]\n",
            "100% 1/1 [00:00<00:00,  8.02it/s]\n",
            "100% 1/1 [00:00<00:00,  9.16it/s]\n",
            "100% 1/1 [00:00<00:00, 10.11it/s]\n",
            "Prediction done, transferring to CPU if needed\n",
            "sending off prediction to background worker for resampling and export\n",
            "done with FRAC_4068\n",
            "\n",
            "Predicting FRAC_4071:\n",
            "perform_everything_on_gpu: True\n",
            "100% 1/1 [00:00<00:00,  9.74it/s]\n",
            "100% 1/1 [00:00<00:00,  9.88it/s]\n",
            "100% 1/1 [00:00<00:00, 10.06it/s]\n",
            "100% 1/1 [00:00<00:00, 10.38it/s]\n",
            "100% 1/1 [00:00<00:00,  9.06it/s]\n",
            "Prediction done, transferring to CPU if needed\n",
            "sending off prediction to background worker for resampling and export\n",
            "done with FRAC_4071\n",
            "\n",
            "Predicting FRAC_4072:\n",
            "perform_everything_on_gpu: True\n",
            "100% 1/1 [00:00<00:00,  8.94it/s]\n",
            "100% 1/1 [00:00<00:00, 11.12it/s]\n",
            "100% 1/1 [00:00<00:00,  9.47it/s]\n",
            "100% 1/1 [00:00<00:00,  8.75it/s]\n",
            "100% 1/1 [00:00<00:00,  9.25it/s]\n",
            "Prediction done, transferring to CPU if needed\n",
            "sending off prediction to background worker for resampling and export\n",
            "done with FRAC_4072\n",
            "\n",
            "Predicting FRAC_4081:\n",
            "perform_everything_on_gpu: True\n",
            "100% 1/1 [00:00<00:00, 10.20it/s]\n",
            "100% 1/1 [00:00<00:00,  9.93it/s]\n",
            "100% 1/1 [00:00<00:00,  7.09it/s]\n",
            "100% 1/1 [00:00<00:00,  9.29it/s]\n",
            "100% 1/1 [00:00<00:00,  8.36it/s]\n",
            "Prediction done, transferring to CPU if needed\n",
            "sending off prediction to background worker for resampling and export\n",
            "done with FRAC_4081\n",
            "\n",
            "Predicting FRAC_4094:\n",
            "perform_everything_on_gpu: True\n",
            "100% 1/1 [00:00<00:00,  9.19it/s]\n",
            "100% 1/1 [00:00<00:00,  7.49it/s]\n",
            "100% 1/1 [00:00<00:00, 10.30it/s]\n",
            "100% 1/1 [00:00<00:00, 14.99it/s]\n",
            "100% 1/1 [00:00<00:00, 12.79it/s]\n",
            "Prediction done, transferring to CPU if needed\n",
            "sending off prediction to background worker for resampling and export\n",
            "done with FRAC_4094\n",
            "\n",
            "Predicting FRAC_4105:\n",
            "perform_everything_on_gpu: True\n",
            "100% 1/1 [00:00<00:00, 13.70it/s]\n",
            "100% 1/1 [00:00<00:00, 16.12it/s]\n",
            "100% 1/1 [00:00<00:00, 14.51it/s]\n",
            "100% 1/1 [00:00<00:00, 14.72it/s]\n",
            "100% 1/1 [00:00<00:00, 15.88it/s]\n",
            "Prediction done, transferring to CPU if needed\n",
            "sending off prediction to background worker for resampling and export\n",
            "done with FRAC_4105\n",
            "\n",
            "Predicting FRAC_4108:\n",
            "perform_everything_on_gpu: True\n",
            "100% 1/1 [00:00<00:00, 16.23it/s]\n",
            "100% 1/1 [00:00<00:00,  9.82it/s]\n",
            "100% 1/1 [00:00<00:00, 10.14it/s]\n",
            "100% 1/1 [00:00<00:00, 10.21it/s]\n",
            "100% 1/1 [00:00<00:00,  8.92it/s]\n",
            "Prediction done, transferring to CPU if needed\n",
            "sending off prediction to background worker for resampling and export\n",
            "done with FRAC_4108\n",
            "\n",
            "Predicting FRAC_4112:\n",
            "perform_everything_on_gpu: True\n",
            "100% 1/1 [00:00<00:00, 10.25it/s]\n",
            "100% 1/1 [00:00<00:00,  9.29it/s]\n",
            "100% 1/1 [00:00<00:00,  7.46it/s]\n",
            "100% 1/1 [00:00<00:00, 10.15it/s]\n",
            "100% 1/1 [00:00<00:00, 11.57it/s]\n",
            "Prediction done, transferring to CPU if needed\n",
            "sending off prediction to background worker for resampling and export\n",
            "done with FRAC_4112\n",
            "\n",
            "Predicting FRAC_4113:\n",
            "perform_everything_on_gpu: True\n",
            "100% 1/1 [00:00<00:00, 10.58it/s]\n",
            "100% 1/1 [00:00<00:00,  8.51it/s]\n",
            "100% 1/1 [00:00<00:00, 11.12it/s]\n",
            "100% 1/1 [00:00<00:00, 10.62it/s]\n",
            "100% 1/1 [00:00<00:00, 10.76it/s]\n",
            "Prediction done, transferring to CPU if needed\n",
            "sending off prediction to background worker for resampling and export\n",
            "done with FRAC_4113\n",
            "\n",
            "Predicting FRAC_4114:\n",
            "perform_everything_on_gpu: True\n",
            "100% 1/1 [00:00<00:00,  9.00it/s]\n",
            "100% 1/1 [00:00<00:00, 10.83it/s]\n",
            "100% 1/1 [00:00<00:00,  9.08it/s]\n",
            "100% 1/1 [00:00<00:00,  9.09it/s]\n",
            "100% 1/1 [00:00<00:00,  9.27it/s]\n",
            "Prediction done, transferring to CPU if needed\n",
            "sending off prediction to background worker for resampling and export\n",
            "done with FRAC_4114\n",
            "\n",
            "Predicting FRAC_4116:\n",
            "perform_everything_on_gpu: True\n",
            "100% 1/1 [00:00<00:00,  8.70it/s]\n",
            "100% 1/1 [00:00<00:00,  7.92it/s]\n",
            "100% 1/1 [00:00<00:00, 10.07it/s]\n",
            "100% 1/1 [00:00<00:00, 13.09it/s]\n",
            "100% 1/1 [00:00<00:00, 15.43it/s]\n",
            "Prediction done, transferring to CPU if needed\n",
            "sending off prediction to background worker for resampling and export\n",
            "done with FRAC_4116\n",
            "\n",
            "Predicting FRAC_4117:\n",
            "perform_everything_on_gpu: True\n",
            "100% 1/1 [00:00<00:00, 15.76it/s]\n",
            "100% 1/1 [00:00<00:00, 14.03it/s]\n",
            "100% 1/1 [00:00<00:00, 13.95it/s]\n",
            "100% 1/1 [00:00<00:00, 15.21it/s]\n",
            "100% 1/1 [00:00<00:00, 15.42it/s]\n",
            "Prediction done, transferring to CPU if needed\n",
            "sending off prediction to background worker for resampling and export\n",
            "done with FRAC_4117\n",
            "\n",
            "Predicting FRAC_4138:\n",
            "perform_everything_on_gpu: True\n",
            "100% 1/1 [00:00<00:00, 16.30it/s]\n",
            "100% 1/1 [00:00<00:00, 15.85it/s]\n",
            "100% 1/1 [00:00<00:00, 15.25it/s]\n",
            "100% 1/1 [00:00<00:00,  9.96it/s]\n",
            "100% 1/1 [00:00<00:00, 14.56it/s]\n",
            "Prediction done, transferring to CPU if needed\n",
            "sending off prediction to background worker for resampling and export\n",
            "done with FRAC_4138\n",
            "\n",
            "Predicting FRAC_4148:\n",
            "perform_everything_on_gpu: True\n",
            "100% 1/1 [00:00<00:00, 15.51it/s]\n",
            "100% 1/1 [00:00<00:00, 13.86it/s]\n",
            "100% 1/1 [00:00<00:00, 14.39it/s]\n",
            "100% 1/1 [00:00<00:00, 14.41it/s]\n",
            "100% 1/1 [00:00<00:00, 13.98it/s]\n",
            "Prediction done, transferring to CPU if needed\n",
            "sending off prediction to background worker for resampling and export\n",
            "done with FRAC_4148\n",
            "\n",
            "Predicting FRAC_4150:\n",
            "perform_everything_on_gpu: True\n",
            "100% 1/1 [00:00<00:00, 15.69it/s]\n",
            "100% 1/1 [00:00<00:00, 13.74it/s]\n",
            "100% 1/1 [00:00<00:00, 15.87it/s]\n",
            "100% 1/1 [00:00<00:00, 15.45it/s]\n",
            "100% 1/1 [00:00<00:00, 14.64it/s]\n",
            "Prediction done, transferring to CPU if needed\n",
            "sending off prediction to background worker for resampling and export\n",
            "done with FRAC_4150\n",
            "\n",
            "Predicting FRAC_4151:\n",
            "perform_everything_on_gpu: True\n",
            "100% 1/1 [00:00<00:00, 12.07it/s]\n",
            "100% 1/1 [00:00<00:00, 13.70it/s]\n",
            "100% 1/1 [00:00<00:00, 15.44it/s]\n",
            "100% 1/1 [00:00<00:00, 16.34it/s]\n",
            "100% 1/1 [00:00<00:00, 14.09it/s]\n",
            "Prediction done, transferring to CPU if needed\n",
            "sending off prediction to background worker for resampling and export\n",
            "done with FRAC_4151\n",
            "\n",
            "Predicting FRAC_4167:\n",
            "perform_everything_on_gpu: True\n",
            "100% 1/1 [00:00<00:00, 15.22it/s]\n",
            "100% 1/1 [00:00<00:00, 13.49it/s]\n",
            "100% 1/1 [00:00<00:00, 15.36it/s]\n",
            "100% 1/1 [00:00<00:00, 12.15it/s]\n",
            "100% 1/1 [00:00<00:00, 13.35it/s]\n",
            "Prediction done, transferring to CPU if needed\n",
            "sending off prediction to background worker for resampling and export\n",
            "done with FRAC_4167\n",
            "\n",
            "Predicting FRAC_4168:\n",
            "perform_everything_on_gpu: True\n",
            "100% 1/1 [00:00<00:00, 12.63it/s]\n",
            "100% 1/1 [00:00<00:00, 15.71it/s]\n",
            "100% 1/1 [00:00<00:00, 15.98it/s]\n",
            "100% 1/1 [00:00<00:00, 13.12it/s]\n",
            "100% 1/1 [00:00<00:00, 15.64it/s]\n",
            "Prediction done, transferring to CPU if needed\n",
            "sending off prediction to background worker for resampling and export\n",
            "done with FRAC_4168\n",
            "\n",
            "Predicting FRAC_4169:\n",
            "perform_everything_on_gpu: True\n",
            "100% 1/1 [00:00<00:00, 15.79it/s]\n",
            "100% 1/1 [00:00<00:00, 14.23it/s]\n",
            "100% 1/1 [00:00<00:00, 11.15it/s]\n",
            "100% 1/1 [00:00<00:00, 16.32it/s]\n",
            "100% 1/1 [00:00<00:00,  9.67it/s]\n",
            "Prediction done, transferring to CPU if needed\n",
            "sending off prediction to background worker for resampling and export\n",
            "done with FRAC_4169\n",
            "\n",
            "Predicting FRAC_4172:\n",
            "perform_everything_on_gpu: True\n",
            "100% 1/1 [00:00<00:00,  8.31it/s]\n",
            "100% 1/1 [00:00<00:00, 11.06it/s]\n",
            "100% 1/1 [00:00<00:00, 11.00it/s]\n",
            "100% 1/1 [00:00<00:00, 10.75it/s]\n",
            "100% 1/1 [00:00<00:00,  8.99it/s]\n",
            "Prediction done, transferring to CPU if needed\n",
            "sending off prediction to background worker for resampling and export\n",
            "done with FRAC_4172\n",
            "\n",
            "Predicting FRAC_4179:\n",
            "perform_everything_on_gpu: True\n",
            "100% 1/1 [00:00<00:00,  9.89it/s]\n",
            "100% 1/1 [00:00<00:00, 10.04it/s]\n",
            "100% 1/1 [00:00<00:00,  9.21it/s]\n",
            "100% 1/1 [00:00<00:00,  9.40it/s]\n",
            "100% 1/1 [00:00<00:00,  8.18it/s]\n",
            "Prediction done, transferring to CPU if needed\n",
            "sending off prediction to background worker for resampling and export\n",
            "done with FRAC_4179\n",
            "\n",
            "Predicting FRAC_4182:\n",
            "perform_everything_on_gpu: True\n",
            "100% 1/1 [00:00<00:00,  9.15it/s]\n",
            "100% 1/1 [00:00<00:00, 10.56it/s]\n",
            "100% 1/1 [00:00<00:00,  6.88it/s]\n",
            "100% 1/1 [00:00<00:00,  7.64it/s]\n",
            "100% 1/1 [00:00<00:00,  7.89it/s]\n",
            "Prediction done, transferring to CPU if needed\n",
            "sending off prediction to background worker for resampling and export\n",
            "done with FRAC_4182\n",
            "\n",
            "Predicting FRAC_4187:\n",
            "perform_everything_on_gpu: True\n",
            "100% 1/1 [00:00<00:00,  9.34it/s]\n",
            "100% 1/1 [00:00<00:00,  7.76it/s]\n",
            "100% 1/1 [00:00<00:00, 10.44it/s]\n",
            "100% 1/1 [00:00<00:00,  9.12it/s]\n",
            "100% 1/1 [00:00<00:00,  9.91it/s]\n",
            "Prediction done, transferring to CPU if needed\n",
            "sending off prediction to background worker for resampling and export\n",
            "done with FRAC_4187\n",
            "\n",
            "Predicting FRAC_4189:\n",
            "perform_everything_on_gpu: True\n",
            "100% 1/1 [00:00<00:00, 15.37it/s]\n",
            "100% 1/1 [00:00<00:00, 15.14it/s]\n",
            "100% 1/1 [00:00<00:00, 15.72it/s]\n",
            "100% 1/1 [00:00<00:00, 15.34it/s]\n",
            "100% 1/1 [00:00<00:00, 13.73it/s]\n",
            "Prediction done, transferring to CPU if needed\n",
            "sending off prediction to background worker for resampling and export\n",
            "done with FRAC_4189\n",
            "\n",
            "Predicting FRAC_4206:\n",
            "perform_everything_on_gpu: True\n",
            "100% 1/1 [00:00<00:00, 14.47it/s]\n",
            "100% 1/1 [00:00<00:00, 13.92it/s]\n",
            "100% 1/1 [00:00<00:00, 12.88it/s]\n",
            "100% 1/1 [00:00<00:00, 12.92it/s]\n",
            "100% 1/1 [00:00<00:00, 15.52it/s]\n",
            "Prediction done, transferring to CPU if needed\n",
            "sending off prediction to background worker for resampling and export\n",
            "done with FRAC_4206\n",
            "\n",
            "Predicting FRAC_4207:\n",
            "perform_everything_on_gpu: True\n",
            "100% 1/1 [00:00<00:00, 15.41it/s]\n",
            "100% 1/1 [00:00<00:00, 13.95it/s]\n",
            "100% 1/1 [00:00<00:00, 13.23it/s]\n",
            "100% 1/1 [00:00<00:00, 13.82it/s]\n",
            "100% 1/1 [00:00<00:00, 13.70it/s]\n",
            "Prediction done, transferring to CPU if needed\n",
            "sending off prediction to background worker for resampling and export\n",
            "done with FRAC_4207\n",
            "\n",
            "Predicting FRAC_4208:\n",
            "perform_everything_on_gpu: True\n",
            "100% 1/1 [00:00<00:00, 15.22it/s]\n",
            "100% 1/1 [00:00<00:00, 13.99it/s]\n",
            "100% 1/1 [00:00<00:00, 12.87it/s]\n",
            "100% 1/1 [00:00<00:00, 15.75it/s]\n",
            "100% 1/1 [00:00<00:00, 15.19it/s]\n",
            "Prediction done, transferring to CPU if needed\n",
            "sending off prediction to background worker for resampling and export\n",
            "done with FRAC_4208\n",
            "\n",
            "Predicting FRAC_4209:\n",
            "perform_everything_on_gpu: True\n",
            "100% 1/1 [00:00<00:00, 13.73it/s]\n",
            "100% 1/1 [00:00<00:00, 15.52it/s]\n",
            "100% 1/1 [00:00<00:00, 16.12it/s]\n",
            "100% 1/1 [00:00<00:00, 16.45it/s]\n",
            "100% 1/1 [00:00<00:00, 15.32it/s]\n",
            "Prediction done, transferring to CPU if needed\n",
            "sending off prediction to background worker for resampling and export\n",
            "done with FRAC_4209\n",
            "\n",
            "Predicting FRAC_4217:\n",
            "perform_everything_on_gpu: True\n",
            "100% 1/1 [00:00<00:00, 13.55it/s]\n",
            "100% 1/1 [00:00<00:00, 15.49it/s]\n",
            "100% 1/1 [00:00<00:00, 15.07it/s]\n",
            "100% 1/1 [00:00<00:00, 13.86it/s]\n",
            "100% 1/1 [00:00<00:00, 12.40it/s]\n",
            "Prediction done, transferring to CPU if needed\n",
            "sending off prediction to background worker for resampling and export\n",
            "done with FRAC_4217\n",
            "\n",
            "Predicting FRAC_4225:\n",
            "perform_everything_on_gpu: True\n",
            "100% 1/1 [00:00<00:00, 14.37it/s]\n",
            "100% 1/1 [00:00<00:00, 15.73it/s]\n",
            "100% 1/1 [00:00<00:00, 12.62it/s]\n",
            "100% 1/1 [00:00<00:00, 10.84it/s]\n",
            "100% 1/1 [00:00<00:00, 17.48it/s]\n",
            "Prediction done, transferring to CPU if needed\n",
            "sending off prediction to background worker for resampling and export\n",
            "done with FRAC_4225\n",
            "\n",
            "Predicting FRAC_4228:\n",
            "perform_everything_on_gpu: True\n",
            "100% 1/1 [00:00<00:00, 14.76it/s]\n",
            "100% 1/1 [00:00<00:00, 16.34it/s]\n",
            "100% 1/1 [00:00<00:00, 16.37it/s]\n",
            "100% 1/1 [00:00<00:00, 15.30it/s]\n",
            "100% 1/1 [00:00<00:00, 14.37it/s]\n",
            "Prediction done, transferring to CPU if needed\n",
            "sending off prediction to background worker for resampling and export\n",
            "done with FRAC_4228\n",
            "\n",
            "Predicting FRAC_4232:\n",
            "perform_everything_on_gpu: True\n",
            "100% 1/1 [00:00<00:00,  8.66it/s]\n",
            "100% 1/1 [00:00<00:00,  8.77it/s]\n",
            "100% 1/1 [00:00<00:00,  8.07it/s]\n",
            "100% 1/1 [00:00<00:00, 11.73it/s]\n",
            "100% 1/1 [00:00<00:00, 10.70it/s]\n",
            "Prediction done, transferring to CPU if needed\n",
            "sending off prediction to background worker for resampling and export\n",
            "done with FRAC_4232\n",
            "\n",
            "Predicting FRAC_4233:\n",
            "perform_everything_on_gpu: True\n",
            "100% 1/1 [00:00<00:00,  9.80it/s]\n",
            "100% 1/1 [00:00<00:00, 10.21it/s]\n",
            "100% 1/1 [00:00<00:00, 10.44it/s]\n",
            "100% 1/1 [00:00<00:00,  8.74it/s]\n",
            "100% 1/1 [00:00<00:00,  9.34it/s]\n",
            "Prediction done, transferring to CPU if needed\n",
            "sending off prediction to background worker for resampling and export\n",
            "done with FRAC_4233\n",
            "\n",
            "Predicting FRAC_4236:\n",
            "perform_everything_on_gpu: True\n",
            "100% 1/1 [00:00<00:00, 10.80it/s]\n",
            "100% 1/1 [00:00<00:00,  7.35it/s]\n",
            "100% 1/1 [00:00<00:00, 10.63it/s]\n",
            "100% 1/1 [00:00<00:00, 10.31it/s]\n",
            "100% 1/1 [00:00<00:00, 10.53it/s]\n",
            "Prediction done, transferring to CPU if needed\n",
            "sending off prediction to background worker for resampling and export\n",
            "done with FRAC_4236\n",
            "\n",
            "Predicting FRAC_4262:\n",
            "perform_everything_on_gpu: True\n",
            "100% 1/1 [00:00<00:00,  9.94it/s]\n",
            "100% 1/1 [00:00<00:00,  9.12it/s]\n",
            "100% 1/1 [00:00<00:00,  7.76it/s]\n",
            "100% 1/1 [00:00<00:00,  8.66it/s]\n",
            "100% 1/1 [00:00<00:00,  8.15it/s]\n",
            "Prediction done, transferring to CPU if needed\n",
            "sending off prediction to background worker for resampling and export\n",
            "done with FRAC_4262\n",
            "\n",
            "Predicting FRAC_4266:\n",
            "perform_everything_on_gpu: True\n",
            "100% 1/1 [00:00<00:00,  7.74it/s]\n",
            "100% 1/1 [00:00<00:00,  9.40it/s]\n",
            "100% 1/1 [00:00<00:00,  7.23it/s]\n",
            "100% 1/1 [00:00<00:00, 12.77it/s]\n",
            "100% 1/1 [00:00<00:00, 13.22it/s]\n",
            "Prediction done, transferring to CPU if needed\n",
            "sending off prediction to background worker for resampling and export\n",
            "done with FRAC_4266\n",
            "\n",
            "Predicting FRAC_4267:\n",
            "perform_everything_on_gpu: True\n",
            "100% 1/1 [00:00<00:00, 14.05it/s]\n",
            "100% 1/1 [00:00<00:00, 14.46it/s]\n",
            "100% 1/1 [00:00<00:00, 14.09it/s]\n",
            "100% 1/1 [00:00<00:00, 16.40it/s]\n",
            "100% 1/1 [00:00<00:00, 13.89it/s]\n",
            "Prediction done, transferring to CPU if needed\n",
            "sending off prediction to background worker for resampling and export\n",
            "done with FRAC_4267\n",
            "\n",
            "Predicting FRAC_4275:\n",
            "perform_everything_on_gpu: True\n",
            "100% 1/1 [00:00<00:00, 13.23it/s]\n",
            "100% 1/1 [00:00<00:00, 13.36it/s]\n",
            "100% 1/1 [00:00<00:00, 15.40it/s]\n",
            "100% 1/1 [00:00<00:00, 13.08it/s]\n",
            "100% 1/1 [00:00<00:00, 13.33it/s]\n",
            "Prediction done, transferring to CPU if needed\n",
            "sending off prediction to background worker for resampling and export\n",
            "done with FRAC_4275\n",
            "\n",
            "Predicting FRAC_4279:\n",
            "perform_everything_on_gpu: True\n",
            "100% 1/1 [00:00<00:00, 14.43it/s]\n",
            "100% 1/1 [00:00<00:00, 14.98it/s]\n",
            "100% 1/1 [00:00<00:00, 14.24it/s]\n",
            "100% 1/1 [00:00<00:00, 15.11it/s]\n",
            "100% 1/1 [00:00<00:00, 16.33it/s]\n",
            "Prediction done, transferring to CPU if needed\n",
            "sending off prediction to background worker for resampling and export\n",
            "done with FRAC_4279\n",
            "\n",
            "Predicting FRAC_4297:\n",
            "perform_everything_on_gpu: True\n",
            "100% 1/1 [00:00<00:00, 14.65it/s]\n",
            "100% 1/1 [00:00<00:00, 13.88it/s]\n",
            "100% 1/1 [00:00<00:00, 15.71it/s]\n",
            "100% 1/1 [00:00<00:00, 14.60it/s]\n",
            "100% 1/1 [00:00<00:00, 14.78it/s]\n",
            "Prediction done, transferring to CPU if needed\n",
            "sending off prediction to background worker for resampling and export\n",
            "done with FRAC_4297\n",
            "\n",
            "Predicting FRAC_4299:\n",
            "perform_everything_on_gpu: True\n",
            "100% 1/1 [00:00<00:00, 11.29it/s]\n",
            "100% 1/1 [00:00<00:00, 14.99it/s]\n",
            "100% 1/1 [00:00<00:00, 15.47it/s]\n",
            "100% 1/1 [00:00<00:00, 12.65it/s]\n",
            "100% 1/1 [00:00<00:00, 13.34it/s]\n",
            "Prediction done, transferring to CPU if needed\n",
            "sending off prediction to background worker for resampling and export\n",
            "done with FRAC_4299\n",
            "\n",
            "Predicting FRAC_4307:\n",
            "perform_everything_on_gpu: True\n",
            "100% 1/1 [00:00<00:00, 15.04it/s]\n",
            "100% 1/1 [00:00<00:00, 13.11it/s]\n",
            "100% 1/1 [00:00<00:00, 15.99it/s]\n",
            "100% 1/1 [00:00<00:00, 15.62it/s]\n",
            "100% 1/1 [00:00<00:00, 12.36it/s]\n",
            "Prediction done, transferring to CPU if needed\n",
            "sending off prediction to background worker for resampling and export\n",
            "done with FRAC_4307\n",
            "\n",
            "Predicting FRAC_4314:\n",
            "perform_everything_on_gpu: True\n",
            "100% 1/1 [00:00<00:00, 12.66it/s]\n",
            "100% 1/1 [00:00<00:00, 15.66it/s]\n",
            "100% 1/1 [00:00<00:00, 15.86it/s]\n",
            "100% 1/1 [00:00<00:00, 11.96it/s]\n",
            "100% 1/1 [00:00<00:00, 14.23it/s]\n",
            "Prediction done, transferring to CPU if needed\n",
            "sending off prediction to background worker for resampling and export\n",
            "done with FRAC_4314\n",
            "\n",
            "Predicting FRAC_4320:\n",
            "perform_everything_on_gpu: True\n",
            "100% 1/1 [00:00<00:00, 14.79it/s]\n",
            "100% 1/1 [00:00<00:00, 13.44it/s]\n",
            "100% 1/1 [00:00<00:00, 12.44it/s]\n",
            "100% 1/1 [00:00<00:00,  8.12it/s]\n",
            "100% 1/1 [00:00<00:00,  7.81it/s]\n",
            "Prediction done, transferring to CPU if needed\n",
            "sending off prediction to background worker for resampling and export\n",
            "done with FRAC_4320\n",
            "\n",
            "Predicting FRAC_4333:\n",
            "perform_everything_on_gpu: True\n",
            "100% 1/1 [00:00<00:00, 11.19it/s]\n",
            "100% 1/1 [00:00<00:00, 10.89it/s]\n",
            "100% 1/1 [00:00<00:00, 12.42it/s]\n",
            "100% 1/1 [00:00<00:00,  8.61it/s]\n",
            "100% 1/1 [00:00<00:00,  9.61it/s]\n",
            "Prediction done, transferring to CPU if needed\n",
            "sending off prediction to background worker for resampling and export\n",
            "done with FRAC_4333\n",
            "\n",
            "Predicting FRAC_4334:\n",
            "perform_everything_on_gpu: True\n",
            "100% 1/1 [00:00<00:00,  9.96it/s]\n",
            "100% 1/1 [00:00<00:00, 10.30it/s]\n",
            "100% 1/1 [00:00<00:00, 10.67it/s]\n",
            "100% 1/1 [00:00<00:00,  8.82it/s]\n",
            "100% 1/1 [00:00<00:00,  9.34it/s]\n",
            "Prediction done, transferring to CPU if needed\n",
            "sending off prediction to background worker for resampling and export\n",
            "done with FRAC_4334\n",
            "\n",
            "Predicting FRAC_4337:\n",
            "perform_everything_on_gpu: True\n",
            "100% 1/1 [00:00<00:00, 10.69it/s]\n",
            "100% 1/1 [00:00<00:00,  9.43it/s]\n",
            "100% 1/1 [00:00<00:00,  8.41it/s]\n",
            "100% 1/1 [00:00<00:00,  7.44it/s]\n",
            "100% 1/1 [00:00<00:00,  9.87it/s]\n",
            "Prediction done, transferring to CPU if needed\n",
            "sending off prediction to background worker for resampling and export\n",
            "done with FRAC_4337\n",
            "\n",
            "Predicting FRAC_4346:\n",
            "perform_everything_on_gpu: True\n",
            "100% 1/1 [00:00<00:00,  8.77it/s]\n",
            "100% 1/1 [00:00<00:00,  8.55it/s]\n",
            "100% 1/1 [00:00<00:00,  8.69it/s]\n",
            "100% 1/1 [00:00<00:00,  8.74it/s]\n",
            "100% 1/1 [00:00<00:00,  8.16it/s]\n",
            "Prediction done, transferring to CPU if needed\n",
            "sending off prediction to background worker for resampling and export\n",
            "done with FRAC_4346\n",
            "\n",
            "Predicting FRAC_4349:\n",
            "perform_everything_on_gpu: True\n",
            "100% 1/1 [00:00<00:00, 14.65it/s]\n",
            "100% 1/1 [00:00<00:00, 15.63it/s]\n",
            "100% 1/1 [00:00<00:00, 13.30it/s]\n",
            "100% 1/1 [00:00<00:00, 15.64it/s]\n",
            "100% 1/1 [00:00<00:00, 14.80it/s]\n",
            "Prediction done, transferring to CPU if needed\n",
            "sending off prediction to background worker for resampling and export\n",
            "done with FRAC_4349\n",
            "\n",
            "Predicting FRAC_4356:\n",
            "perform_everything_on_gpu: True\n",
            "100% 1/1 [00:00<00:00, 15.80it/s]\n",
            "100% 1/1 [00:00<00:00, 15.07it/s]\n",
            "100% 1/1 [00:00<00:00, 15.94it/s]\n",
            "100% 1/1 [00:00<00:00, 15.67it/s]\n",
            "100% 1/1 [00:00<00:00, 15.60it/s]\n",
            "Prediction done, transferring to CPU if needed\n",
            "sending off prediction to background worker for resampling and export\n",
            "done with FRAC_4356\n",
            "\n",
            "Predicting FRAC_4369:\n",
            "perform_everything_on_gpu: True\n",
            "100% 1/1 [00:00<00:00,  8.07it/s]\n",
            "100% 1/1 [00:00<00:00,  9.24it/s]\n",
            "100% 1/1 [00:00<00:00, 11.01it/s]\n",
            "100% 1/1 [00:00<00:00, 13.60it/s]\n",
            "100% 1/1 [00:00<00:00, 13.05it/s]\n",
            "Prediction done, transferring to CPU if needed\n",
            "sending off prediction to background worker for resampling and export\n",
            "done with FRAC_4369\n",
            "\n",
            "Predicting FRAC_4370:\n",
            "perform_everything_on_gpu: True\n",
            "100% 1/1 [00:00<00:00, 13.08it/s]\n",
            "100% 1/1 [00:00<00:00,  6.97it/s]\n",
            "100% 1/1 [00:00<00:00,  8.38it/s]\n",
            "100% 1/1 [00:00<00:00, 10.30it/s]\n",
            "100% 1/1 [00:00<00:00, 14.51it/s]\n",
            "Prediction done, transferring to CPU if needed\n",
            "sending off prediction to background worker for resampling and export\n",
            "done with FRAC_4370\n",
            "\n",
            "Predicting FRAC_4374:\n",
            "perform_everything_on_gpu: True\n",
            "100% 1/1 [00:00<00:00, 13.04it/s]\n",
            "100% 1/1 [00:00<00:00, 11.38it/s]\n",
            "100% 1/1 [00:00<00:00, 12.14it/s]\n",
            "100% 1/1 [00:00<00:00, 12.03it/s]\n",
            "100% 1/1 [00:00<00:00, 15.32it/s]\n",
            "Prediction done, transferring to CPU if needed\n",
            "sending off prediction to background worker for resampling and export\n",
            "done with FRAC_4374\n",
            "\n",
            "Predicting FRAC_4375:\n",
            "perform_everything_on_gpu: True\n",
            "100% 1/1 [00:00<00:00, 14.37it/s]\n",
            "100% 1/1 [00:00<00:00, 16.31it/s]\n",
            "100% 1/1 [00:00<00:00, 15.69it/s]\n",
            "100% 1/1 [00:00<00:00, 18.35it/s]\n",
            "100% 1/1 [00:00<00:00, 17.82it/s]\n",
            "Prediction done, transferring to CPU if needed\n",
            "sending off prediction to background worker for resampling and export\n",
            "done with FRAC_4375\n",
            "\n",
            "Predicting FRAC_4376:\n",
            "perform_everything_on_gpu: True\n",
            "100% 1/1 [00:00<00:00, 18.50it/s]\n",
            "100% 1/1 [00:00<00:00, 18.85it/s]\n",
            "100% 1/1 [00:00<00:00, 19.20it/s]\n",
            "100% 1/1 [00:00<00:00, 16.77it/s]\n",
            "100% 1/1 [00:00<00:00, 15.58it/s]\n",
            "Prediction done, transferring to CPU if needed\n",
            "sending off prediction to background worker for resampling and export\n",
            "done with FRAC_4376\n",
            "\n",
            "Predicting FRAC_4389:\n",
            "perform_everything_on_gpu: True\n",
            "100% 1/1 [00:00<00:00, 19.66it/s]\n",
            "100% 1/1 [00:00<00:00, 15.18it/s]\n",
            "100% 1/1 [00:00<00:00, 16.11it/s]\n",
            "100% 1/1 [00:00<00:00, 15.46it/s]\n",
            "100% 1/1 [00:00<00:00, 13.46it/s]\n",
            "Prediction done, transferring to CPU if needed\n",
            "sending off prediction to background worker for resampling and export\n",
            "done with FRAC_4389\n"
          ]
        }
      ]
    },
    {
      "cell_type": "code",
      "source": [
        "import SimpleITK as sitk\n",
        "import numpy as np\n",
        "import os\n",
        "import cv2\n",
        "from google.colab.patches import cv2_imshow\n",
        "\n",
        "path = '/content/MSD/Dataset100_FracAtles/imagesTs'\n",
        "val_names = os.listdir(path)\n",
        "\n",
        "for i in val_names:\n",
        "  if i != 'summary.json':\n",
        "\n",
        "    # A path to a T1-weighted brain .nii image:\n",
        "    t1_fn = path +'/'+ i\n",
        "\n",
        "    # Read the .nii image containing the volume with SimpleITK:\n",
        "    sitk_t1 = sitk.ReadImage(t1_fn)\n",
        "\n",
        "    # and access the numpy array:\n",
        "    t1 = sitk.GetArrayFromImage(sitk_t1)\n",
        "    image = t1.transpose((2,1,0)).astype(np.float32)\n",
        "\n",
        "    cv2_imshow(image * 255 )"
      ],
      "metadata": {
        "colab": {
          "base_uri": "https://localhost:8080/",
          "height": 1000
        },
        "id": "iC8Soy6jXufT",
        "outputId": "606b56bc-e734-4e05-d3ab-7a002a096f29"
      },
      "execution_count": 16,
      "outputs": [
        {
          "output_type": "display_data",
          "data": {
            "text/plain": [
              "<PIL.Image.Image image mode=RGB size=224x224>"
            ],
            "image/png": "[encoded data removed]"
          },
          "metadata": {}
        },
        {
          "output_type": "display_data",
          "data": {
            "text/plain": [
              "<PIL.Image.Image image mode=RGB size=224x224>"
            ],
            "image/png": "[encoded data removed]"
          },
          "metadata": {}
        },
        {
          "output_type": "display_data",
          "data": {
            "text/plain": [
              "<PIL.Image.Image image mode=RGB size=224x224>"
            ],
            "image/png": "[encoded data removed]"
          },
          "metadata": {}
        },
        {
          "output_type": "display_data",
          "data": {
            "text/plain": [
              "<PIL.Image.Image image mode=RGB size=224x224>"
            ],
            "image/png": "[encoded data removed]"
          },
          "metadata": {}
        },
        {
          "output_type": "display_data",
          "data": {
            "text/plain": [
              "<PIL.Image.Image image mode=RGB size=224x224>"
            ],
            "image/png": "[encoded data removed]"
          },
          "metadata": {}
        },
        {
          "output_type": "display_data",
          "data": {
            "text/plain": [
              "<PIL.Image.Image image mode=RGB size=224x224>"
            ],
            "image/png": "[encoded data removed]"
          },
          "metadata": {}
        },
        {
          "output_type": "display_data",
          "data": {
            "text/plain": [
              "<PIL.Image.Image image mode=RGB size=224x224>"
            ],
            "image/png": "[encoded data removed]"
          },
          "metadata": {}
        },
        {
          "output_type": "display_data",
          "data": {
            "text/plain": [
              "<PIL.Image.Image image mode=RGB size=224x224>"
            ],
            "image/png": "[encoded data removed]"
          },
          "metadata": {}
        },
        {
          "output_type": "display_data",
          "data": {
            "text/plain": [
              "<PIL.Image.Image image mode=RGB size=224x224>"
            ],
            "image/png": "[encoded data removed]"
          },
          "metadata": {}
        },
        {
          "output_type": "display_data",
          "data": {
            "text/plain": [
              "<PIL.Image.Image image mode=RGB size=224x224>"
            ],
            "image/png": "[encoded data removed]"
          },
          "metadata": {}
        },
        {
          "output_type": "display_data",
          "data": {
            "text/plain": [
              "<PIL.Image.Image image mode=RGB size=224x224>"
            ],
            "image/png": "[encoded data removed]"
          },
          "metadata": {}
        },
        {
          "output_type": "display_data",
          "data": {
            "text/plain": [
              "<PIL.Image.Image image mode=RGB size=224x224>"
            ],
            "image/png": "[encoded data removed]"
          },
          "metadata": {}
        },
        {
          "output_type": "display_data",
          "data": {
            "text/plain": [
              "<PIL.Image.Image image mode=RGB size=224x224>"
            ],
            "image/png": "[encoded data removed]"
          },
          "metadata": {}
        },
        {
          "output_type": "display_data",
          "data": {
            "text/plain": [
              "<PIL.Image.Image image mode=RGB size=224x224>"
            ],
            "image/png": "[encoded data removed]"
          },
          "metadata": {}
        },
        {
          "output_type": "display_data",
          "data": {
            "text/plain": [
              "<PIL.Image.Image image mode=RGB size=224x224>"
            ],
            "image/png": "[encoded data removed]"
          },
          "metadata": {}
        },
        {
          "output_type": "display_data",
          "data": {
            "text/plain": [
              "<PIL.Image.Image image mode=RGB size=224x224>"
            ],
            "image/png": "[encoded data removed]"
          },
          "metadata": {}
        },
        {
          "output_type": "display_data",
          "data": {
            "text/plain": [
              "<PIL.Image.Image image mode=RGB size=224x224>"
            ],
            "image/png": "[encoded data removed]"
          },
          "metadata": {}
        },
        {
          "output_type": "display_data",
          "data": {
            "text/plain": [
              "<PIL.Image.Image image mode=RGB size=224x224>"
            ],
            "image/png": "[encoded data removed]"
          },
          "metadata": {}
        },
        {
          "output_type": "display_data",
          "data": {
            "text/plain": [
              "<PIL.Image.Image image mode=RGB size=224x224>"
            ],
            "image/png": "[encoded data removed]"
          },
          "metadata": {}
        },
        {
          "output_type": "display_data",
          "data": {
            "text/plain": [
              "<PIL.Image.Image image mode=RGB size=224x224>"
            ],
            "image/png": "[encoded data removed]"
          },
          "metadata": {}
        },
        {
          "output_type": "display_data",
          "data": {
            "text/plain": [
              "<PIL.Image.Image image mode=RGB size=224x224>"
            ],
            "image/png": "[encoded data removed]"
          },
          "metadata": {}
        },
        {
          "output_type": "display_data",
          "data": {
            "text/plain": [
              "<PIL.Image.Image image mode=RGB size=224x224>"
            ],
            "image/png": "[encoded data removed]"
          },
          "metadata": {}
        },
        {
          "output_type": "display_data",
          "data": {
            "text/plain": [
              "<PIL.Image.Image image mode=RGB size=224x224>"
            ],
            "image/png": "[encoded data removed]"
          },
          "metadata": {}
        },
        {
          "output_type": "display_data",
          "data": {
            "text/plain": [
              "<PIL.Image.Image image mode=RGB size=224x224>"
            ],
            "image/png": "[encoded data removed]"
          },
          "metadata": {}
        },
        {
          "output_type": "display_data",
          "data": {
            "text/plain": [
              "<PIL.Image.Image image mode=RGB size=224x224>"
            ],
            "image/png": "[encoded data removed]"
          },
          "metadata": {}
        },
        {
          "output_type": "display_data",
          "data": {
            "text/plain": [
              "<PIL.Image.Image image mode=RGB size=224x224>"
            ],
            "image/png": "[encoded data removed]"
          },
          "metadata": {}
        },
        {
          "output_type": "display_data",
          "data": {
            "text/plain": [
              "<PIL.Image.Image image mode=RGB size=224x224>"
            ],
            "image/png": "[encoded data removed]"
          },
          "metadata": {}
        },
        {
          "output_type": "display_data",
          "data": {
            "text/plain": [
              "<PIL.Image.Image image mode=RGB size=224x224>"
            ],
            "image/png": "[encoded data removed]"
          },
          "metadata": {}
        },
        {
          "output_type": "display_data",
          "data": {
            "text/plain": [
              "<PIL.Image.Image image mode=RGB size=224x224>"
            ],
            "image/png": "[encoded data removed]"
          },
          "metadata": {}
        },
        {
          "output_type": "display_data",
          "data": {
            "text/plain": [
              "<PIL.Image.Image image mode=RGB size=224x224>"
            ],
            "image/png": "[encoded data removed]"
          },
          "metadata": {}
        },
        {
          "output_type": "display_data",
          "data": {
            "text/plain": [
              "<PIL.Image.Image image mode=RGB size=224x224>"
            ],
            "image/png": "[encoded data removed]"
          },
          "metadata": {}
        },
        {
          "output_type": "display_data",
          "data": {
            "text/plain": [
              "<PIL.Image.Image image mode=RGB size=224x224>"
            ],
            "image/png": "[encoded data removed]"
          },
          "metadata": {}
        },
        {
          "output_type": "display_data",
          "data": {
            "text/plain": [
              "<PIL.Image.Image image mode=RGB size=224x224>"
            ],
            "image/png": "[encoded data removed]"
          },
          "metadata": {}
        },
        {
          "output_type": "display_data",
          "data": {
            "text/plain": [
              "<PIL.Image.Image image mode=RGB size=224x224>"
            ],
            "image/png": "[encoded data removed]"
          },
          "metadata": {}
        },
        {
          "output_type": "display_data",
          "data": {
            "text/plain": [
              "<PIL.Image.Image image mode=RGB size=224x224>"
            ],
            "image/png": "[encoded data removed]"
          },
          "metadata": {}
        },
        {
          "output_type": "display_data",
          "data": {
            "text/plain": [
              "<PIL.Image.Image image mode=RGB size=224x224>"
            ],
            "image/png": "[encoded data removed]"
          },
          "metadata": {}
        },
        {
          "output_type": "display_data",
          "data": {
            "text/plain": [
              "<PIL.Image.Image image mode=RGB size=224x224>"
            ],
            "image/png": "[encoded data removed]"
          },
          "metadata": {}
        },
        {
          "output_type": "display_data",
          "data": {
            "text/plain": [
              "<PIL.Image.Image image mode=RGB size=224x224>"
            ],
            "image/png": "[encoded data removed]"
          },
          "metadata": {}
        },
        {
          "output_type": "display_data",
          "data": {
            "text/plain": [
              "<PIL.Image.Image image mode=RGB size=224x224>"
            ],
            "image/png": "[encoded data removed]"
          },
          "metadata": {}
        },
        {
          "output_type": "display_data",
          "data": {
            "text/plain": [
              "<PIL.Image.Image image mode=RGB size=224x224>"
            ],
            "image/png": "[encoded data removed]"
          },
          "metadata": {}
        },
        {
          "output_type": "display_data",
          "data": {
            "text/plain": [
              "<PIL.Image.Image image mode=RGB size=224x224>"
            ],
            "image/png": "[encoded data removed]"
          },
          "metadata": {}
        },
        {
          "output_type": "display_data",
          "data": {
            "text/plain": [
              "<PIL.Image.Image image mode=RGB size=224x224>"
            ],
            "image/png": "[encoded data removed]"
          },
          "metadata": {}
        },
        {
          "output_type": "display_data",
          "data": {
            "text/plain": [
              "<PIL.Image.Image image mode=RGB size=224x224>"
            ],
            "image/png": "[encoded data removed]"
          },
          "metadata": {}
        },
        {
          "output_type": "display_data",
          "data": {
            "text/plain": [
              "<PIL.Image.Image image mode=RGB size=224x224>"
            ],
            "image/png": "[encoded data removed]"
          },
          "metadata": {}
        },
        {
          "output_type": "display_data",
          "data": {
            "text/plain": [
              "<PIL.Image.Image image mode=RGB size=224x224>"
            ],
            "image/png": "[encoded data removed]"
          },
          "metadata": {}
        },
        {
          "output_type": "display_data",
          "data": {
            "text/plain": [
              "<PIL.Image.Image image mode=RGB size=224x224>"
            ],
            "image/png": "[encoded data removed]"
          },
          "metadata": {}
        },
        {
          "output_type": "display_data",
          "data": {
            "text/plain": [
              "<PIL.Image.Image image mode=RGB size=224x224>"
            ],
            "image/png": "[encoded data removed]"
          },
          "metadata": {}
        },
        {
          "output_type": "display_data",
          "data": {
            "text/plain": [
              "<PIL.Image.Image image mode=RGB size=224x224>"
            ],
            "image/png": "[encoded data removed]"
          },
          "metadata": {}
        },
        {
          "output_type": "display_data",
          "data": {
            "text/plain": [
              "<PIL.Image.Image image mode=RGB size=224x224>"
            ],
            "image/png": "[encoded data removed]"
          },
          "metadata": {}
        },
        {
          "output_type": "display_data",
          "data": {
            "text/plain": [
              "<PIL.Image.Image image mode=RGB size=224x224>"
            ],
            "image/png": "[encoded data removed]"
          },
          "metadata": {}
        },
        {
          "output_type": "display_data",
          "data": {
            "text/plain": [
              "<PIL.Image.Image image mode=RGB size=224x224>"
            ],
            "image/png": "[encoded data removed]"
          },
          "metadata": {}
        },
        {
          "output_type": "display_data",
          "data": {
            "text/plain": [
              "<PIL.Image.Image image mode=RGB size=224x224>"
            ],
            "image/png": "[encoded data removed]"
          },
          "metadata": {}
        },
        {
          "output_type": "display_data",
          "data": {
            "text/plain": [
              "<PIL.Image.Image image mode=RGB size=224x224>"
            ],
            "image/png": "[encoded data removed]"
          },
          "metadata": {}
        },
        {
          "output_type": "display_data",
          "data": {
            "text/plain": [
              "<PIL.Image.Image image mode=RGB size=224x224>"
            ],
            "image/png": "[encoded data removed]"
          },
          "metadata": {}
        },
        {
          "output_type": "display_data",
          "data": {
            "text/plain": [
              "<PIL.Image.Image image mode=RGB size=224x224>"
            ],
            "image/png": "[encoded data removed]"
          },
          "metadata": {}
        },
        {
          "output_type": "display_data",
          "data": {
            "text/plain": [
              "<PIL.Image.Image image mode=RGB size=224x224>"
            ],
            "image/png": "[encoded data removed]"
          },
          "metadata": {}
        },
        {
          "output_type": "display_data",
          "data": {
            "text/plain": [
              "<PIL.Image.Image image mode=RGB size=224x224>"
            ],
            "image/png": "[encoded data removed]"
          },
          "metadata": {}
        },
        {
          "output_type": "display_data",
          "data": {
            "text/plain": [
              "<PIL.Image.Image image mode=RGB size=224x224>"
            ],
            "image/png": "[encoded data removed]"
          },
          "metadata": {}
        },
        {
          "output_type": "display_data",
          "data": {
            "text/plain": [
              "<PIL.Image.Image image mode=RGB size=224x224>"
            ],
            "image/png": "[encoded data removed]"
          },
          "metadata": {}
        },
        {
          "output_type": "display_data",
          "data": {
            "text/plain": [
              "<PIL.Image.Image image mode=RGB size=224x224>"
            ],
            "image/png": "[encoded data removed]"
          },
          "metadata": {}
        },
        {
          "output_type": "display_data",
          "data": {
            "text/plain": [
              "<PIL.Image.Image image mode=RGB size=224x224>"
            ],
            "image/png": "[encoded data removed]"
          },
          "metadata": {}
        },
        {
          "output_type": "display_data",
          "data": {
            "text/plain": [
              "<PIL.Image.Image image mode=RGB size=224x224>"
            ],
            "image/png": "[encoded data removed]"
          },
          "metadata": {}
        },
        {
          "output_type": "display_data",
          "data": {
            "text/plain": [
              "<PIL.Image.Image image mode=RGB size=224x224>"
            ],
            "image/png": "[encoded data removed]"
          },
          "metadata": {}
        },
        {
          "output_type": "display_data",
          "data": {
            "text/plain": [
              "<PIL.Image.Image image mode=RGB size=224x224>"
            ],
            "image/png": "[encoded data removed]"
          },
          "metadata": {}
        },
        {
          "output_type": "display_data",
          "data": {
            "text/plain": [
              "<PIL.Image.Image image mode=RGB size=224x224>"
            ],
            "image/png": "[encoded data removed]"
          },
          "metadata": {}
        },
        {
          "output_type": "display_data",
          "data": {
            "text/plain": [
              "<PIL.Image.Image image mode=RGB size=224x224>"
            ],
            "image/png": "[encoded data removed]"
          },
          "metadata": {}
        },
        {
          "output_type": "display_data",
          "data": {
            "text/plain": [
              "<PIL.Image.Image image mode=RGB size=224x224>"
            ],
            "image/png": "[encoded data removed]"
          },
          "metadata": {}
        },
        {
          "output_type": "display_data",
          "data": {
            "text/plain": [
              "<PIL.Image.Image image mode=RGB size=224x224>"
            ],
            "image/png": "[encoded data removed]"
          },
          "metadata": {}
        },
        {
          "output_type": "display_data",
          "data": {
            "text/plain": [
              "<PIL.Image.Image image mode=RGB size=224x224>"
            ],
            "image/png": "[encoded data removed]"
          },
          "metadata": {}
        },
        {
          "output_type": "display_data",
          "data": {
            "text/plain": [
              "<PIL.Image.Image image mode=RGB size=224x224>"
            ],
            "image/png": "[encoded data removed]"
          },
          "metadata": {}
        },
        {
          "output_type": "display_data",
          "data": {
            "text/plain": [
              "<PIL.Image.Image image mode=RGB size=224x224>"
            ],
            "image/png": "[encoded data removed]"
          },
          "metadata": {}
        },
        {
          "output_type": "display_data",
          "data": {
            "text/plain": [
              "<PIL.Image.Image image mode=RGB size=224x224>"
            ],
            "image/png": "[encoded data removed]"
          },
          "metadata": {}
        },
        {
          "output_type": "display_data",
          "data": {
            "text/plain": [
              "<PIL.Image.Image image mode=RGB size=224x224>"
            ],
            "image/png": "[encoded data removed]"
          },
          "metadata": {}
        },
        {
          "output_type": "display_data",
          "data": {
            "text/plain": [
              "<PIL.Image.Image image mode=RGB size=224x224>"
            ],
            "image/png": "[encoded data removed]"
          },
          "metadata": {}
        },
        {
          "output_type": "display_data",
          "data": {
            "text/plain": [
              "<PIL.Image.Image image mode=RGB size=224x224>"
            ],
            "image/png": "[encoded data removed]"
          },
          "metadata": {}
        },
        {
          "output_type": "display_data",
          "data": {
            "text/plain": [
              "<PIL.Image.Image image mode=RGB size=224x224>"
            ],
            "image/png": "[encoded data removed]"
          },
          "metadata": {}
        },
        {
          "output_type": "display_data",
          "data": {
            "text/plain": [
              "<PIL.Image.Image image mode=RGB size=224x224>"
            ],
            "image/png": "[encoded data removed]"
          },
          "metadata": {}
        },
        {
          "output_type": "display_data",
          "data": {
            "text/plain": [
              "<PIL.Image.Image image mode=RGB size=224x224>"
            ],
            "image/png": "[encoded data removed]"
          },
          "metadata": {}
        },
        {
          "output_type": "display_data",
          "data": {
            "text/plain": [
              "<PIL.Image.Image image mode=RGB size=224x224>"
            ],
            "image/png": "[encoded data removed]"
          },
          "metadata": {}
        },
        {
          "output_type": "display_data",
          "data": {
            "text/plain": [
              "<PIL.Image.Image image mode=RGB size=224x224>"
            ],
            "image/png": "[encoded data removed]"
          },
          "metadata": {}
        },
        {
          "output_type": "display_data",
          "data": {
            "text/plain": [
              "<PIL.Image.Image image mode=RGB size=224x224>"
            ],
            "image/png": "[encoded data removed]"
          },
          "metadata": {}
        },
        {
          "output_type": "display_data",
          "data": {
            "text/plain": [
              "<PIL.Image.Image image mode=RGB size=224x224>"
            ],
            "image/png": "[encoded data removed]"
          },
          "metadata": {}
        },
        {
          "output_type": "display_data",
          "data": {
            "text/plain": [
              "<PIL.Image.Image image mode=RGB size=224x224>"
            ],
            "image/png": "[encoded data removed]"
          },
          "metadata": {}
        },
        {
          "output_type": "display_data",
          "data": {
            "text/plain": [
              "<PIL.Image.Image image mode=RGB size=224x224>"
            ],
            "image/png": "[encoded data removed]"
          },
          "metadata": {}
        },
        {
          "output_type": "display_data",
          "data": {
            "text/plain": [
              "<PIL.Image.Image image mode=RGB size=224x224>"
            ],
            "image/png": "[encoded data removed]"
          },
          "metadata": {}
        },
        {
          "output_type": "display_data",
          "data": {
            "text/plain": [
              "<PIL.Image.Image image mode=RGB size=224x224>"
            ],
            "image/png": "[encoded data removed]"
          },
          "metadata": {}
        },
        {
          "output_type": "display_data",
          "data": {
            "text/plain": [
              "<PIL.Image.Image image mode=RGB size=224x224>"
            ],
            "image/png": "[encoded data removed]"
          },
          "metadata": {}
        },
        {
          "output_type": "display_data",
          "data": {
            "text/plain": [
              "<PIL.Image.Image image mode=RGB size=224x224>"
            ],
            "image/png": "[encoded data removed]"
          },
          "metadata": {}
        },
        {
          "output_type": "display_data",
          "data": {
            "text/plain": [
              "<PIL.Image.Image image mode=RGB size=224x224>"
            ],
            "image/png": "[encoded data removed]"
          },
          "metadata": {}
        },
        {
          "output_type": "display_data",
          "data": {
            "text/plain": [
              "<PIL.Image.Image image mode=RGB size=224x224>"
            ],
            "image/png": "[encoded data removed]"
          },
          "metadata": {}
        },
        {
          "output_type": "display_data",
          "data": {
            "text/plain": [
              "<PIL.Image.Image image mode=RGB size=224x224>"
            ],
            "image/png": "[encoded data removed]"
          },
          "metadata": {}
        },
        {
          "output_type": "display_data",
          "data": {
            "text/plain": [
              "<PIL.Image.Image image mode=RGB size=224x224>"
            ],
            "image/png": "[encoded data removed]"
          },
          "metadata": {}
        },
        {
          "output_type": "display_data",
          "data": {
            "text/plain": [
              "<PIL.Image.Image image mode=RGB size=224x224>"
            ],
            "image/png": "[encoded data removed]"
          },
          "metadata": {}
        },
        {
          "output_type": "display_data",
          "data": {
            "text/plain": [
              "<PIL.Image.Image image mode=RGB size=224x224>"
            ],
            "image/png": "[encoded data removed]"
          },
          "metadata": {}
        },
        {
          "output_type": "display_data",
          "data": {
            "text/plain": [
              "<PIL.Image.Image image mode=RGB size=224x224>"
            ],
            "image/png": "[encoded data removed]"
          },
          "metadata": {}
        },
        {
          "output_type": "display_data",
          "data": {
            "text/plain": [
              "<PIL.Image.Image image mode=RGB size=224x224>"
            ],
            "image/png": "[encoded data removed]"
          },
          "metadata": {}
        },
        {
          "output_type": "display_data",
          "data": {
            "text/plain": [
              "<PIL.Image.Image image mode=RGB size=224x224>"
            ],
            "image/png": "[encoded data removed]"
          },
          "metadata": {}
        },
        {
          "output_type": "display_data",
          "data": {
            "text/plain": [
              "<PIL.Image.Image image mode=RGB size=224x224>"
            ],
            "image/png": "[encoded data removed]"
          },
          "metadata": {}
        },
        {
          "output_type": "display_data",
          "data": {
            "text/plain": [
              "<PIL.Image.Image image mode=RGB size=224x224>"
            ],
            "image/png": "[encoded data removed]"
          },
          "metadata": {}
        },
        {
          "output_type": "display_data",
          "data": {
            "text/plain": [
              "<PIL.Image.Image image mode=RGB size=224x224>"
            ],
            "image/png": "[encoded data removed]"
          },
          "metadata": {}
        },
        {
          "output_type": "display_data",
          "data": {
            "text/plain": [
              "<PIL.Image.Image image mode=RGB size=224x224>"
            ],
            "image/png": "[encoded data removed]"
          },
          "metadata": {}
        },
        {
          "output_type": "display_data",
          "data": {
            "text/plain": [
              "<PIL.Image.Image image mode=RGB size=224x224>"
            ],
            "image/png": "[encoded data removed]"
          },
          "metadata": {}
        },
        {
          "output_type": "display_data",
          "data": {
            "text/plain": [
              "<PIL.Image.Image image mode=RGB size=224x224>"
            ],
            "image/png": "[encoded data removed]"
          },
          "metadata": {}
        },
        {
          "output_type": "display_data",
          "data": {
            "text/plain": [
              "<PIL.Image.Image image mode=RGB size=224x224>"
            ],
            "image/png": "[encoded data removed]"
          },
          "metadata": {}
        },
        {
          "output_type": "display_data",
          "data": {
            "text/plain": [
              "<PIL.Image.Image image mode=RGB size=224x224>"
            ],
            "image/png": "[encoded data removed]"
          },
          "metadata": {}
        },
        {
          "output_type": "display_data",
          "data": {
            "text/plain": [
              "<PIL.Image.Image image mode=RGB size=224x224>"
            ],
            "image/png": "[encoded data removed]"
          },
          "metadata": {}
        },
        {
          "output_type": "display_data",
          "data": {
            "text/plain": [
              "<PIL.Image.Image image mode=RGB size=224x224>"
            ],
            "image/png": "[encoded data removed]"
          },
          "metadata": {}
        },
        {
          "output_type": "display_data",
          "data": {
            "text/plain": [
              "<PIL.Image.Image image mode=RGB size=224x224>"
            ],
            "image/png": "[encoded data removed]"
          },
          "metadata": {}
        },
        {
          "output_type": "display_data",
          "data": {
            "text/plain": [
              "<PIL.Image.Image image mode=RGB size=224x224>"
            ],
            "image/png": "[encoded data removed]"
          },
          "metadata": {}
        },
        {
          "output_type": "display_data",
          "data": {
            "text/plain": [
              "<PIL.Image.Image image mode=RGB size=224x224>"
            ],
            "image/png": "[encoded data removed]"
          },
          "metadata": {}
        },
        {
          "output_type": "display_data",
          "data": {
            "text/plain": [
              "<PIL.Image.Image image mode=RGB size=224x224>"
            ],
            "image/png": "[encoded data removed]"
          },
          "metadata": {}
        },
        {
          "output_type": "display_data",
          "data": {
            "text/plain": [
              "<PIL.Image.Image image mode=RGB size=224x224>"
            ],
            "image/png": "[encoded data removed]"
          },
          "metadata": {}
        },
        {
          "output_type": "display_data",
          "data": {
            "text/plain": [
              "<PIL.Image.Image image mode=RGB size=224x224>"
            ],
            "image/png": "[encoded data removed]"
          },
          "metadata": {}
        },
        {
          "output_type": "display_data",
          "data": {
            "text/plain": [
              "<PIL.Image.Image image mode=RGB size=224x224>"
            ],
            "image/png": "[encoded data removed]"
          },
          "metadata": {}
        },
        {
          "output_type": "display_data",
          "data": {
            "text/plain": [
              "<PIL.Image.Image image mode=RGB size=224x224>"
            ],
            "image/png": "[encoded data removed]"
          },
          "metadata": {}
        },
        {
          "output_type": "display_data",
          "data": {
            "text/plain": [
              "<PIL.Image.Image image mode=RGB size=224x224>"
            ],
            "image/png": "[encoded data removed]"
          },
          "metadata": {}
        },
        {
          "output_type": "display_data",
          "data": {
            "text/plain": [
              "<PIL.Image.Image image mode=RGB size=224x224>"
            ],
            "image/png": "[encoded data removed]"
          },
          "metadata": {}
        },
        {
          "output_type": "display_data",
          "data": {
            "text/plain": [
              "<PIL.Image.Image image mode=RGB size=224x224>"
            ],
            "image/png": "[encoded data removed]"
          },
          "metadata": {}
        },
        {
          "output_type": "display_data",
          "data": {
            "text/plain": [
              "<PIL.Image.Image image mode=RGB size=224x224>"
            ],
            "image/png": "[encoded data removed]"
          },
          "metadata": {}
        },
        {
          "output_type": "display_data",
          "data": {
            "text/plain": [
              "<PIL.Image.Image image mode=RGB size=224x224>"
            ],
            "image/png": "[encoded data removed]"
          },
          "metadata": {}
        },
        {
          "output_type": "display_data",
          "data": {
            "text/plain": [
              "<PIL.Image.Image image mode=RGB size=224x224>"
            ],
            "image/png": "[encoded data removed]"
          },
          "metadata": {}
        },
        {
          "output_type": "display_data",
          "data": {
            "text/plain": [
              "<PIL.Image.Image image mode=RGB size=224x224>"
            ],
            "image/png": "[encoded data removed]"
          },
          "metadata": {}
        },
        {
          "output_type": "display_data",
          "data": {
            "text/plain": [
              "<PIL.Image.Image image mode=RGB size=224x224>"
            ],
            "image/png": "[encoded data removed]"
          },
          "metadata": {}
        },
        {
          "output_type": "display_data",
          "data": {
            "text/plain": [
              "<PIL.Image.Image image mode=RGB size=224x224>"
            ],
            "image/png": "[encoded data removed]"
          },
          "metadata": {}
        },
        {
          "output_type": "display_data",
          "data": {
            "text/plain": [
              "<PIL.Image.Image image mode=RGB size=224x224>"
            ],
            "image/png": "[encoded data removed]"
          },
          "metadata": {}
        },
        {
          "output_type": "display_data",
          "data": {
            "text/plain": [
              "<PIL.Image.Image image mode=RGB size=224x224>"
            ],
            "image/png": "[encoded data removed]"
          },
          "metadata": {}
        },
        {
          "output_type": "display_data",
          "data": {
            "text/plain": [
              "<PIL.Image.Image image mode=RGB size=224x224>"
            ],
            "image/png": "[encoded data removed]"
          },
          "metadata": {}
        },
        {
          "output_type": "display_data",
          "data": {
            "text/plain": [
              "<PIL.Image.Image image mode=RGB size=224x224>"
            ],
            "image/png": "[encoded data removed]"
          },
          "metadata": {}
        },
        {
          "output_type": "display_data",
          "data": {
            "text/plain": [
              "<PIL.Image.Image image mode=RGB size=224x224>"
            ],
            "image/png": "[encoded data removed]"
          },
          "metadata": {}
        },
        {
          "output_type": "display_data",
          "data": {
            "text/plain": [
              "<PIL.Image.Image image mode=RGB size=224x224>"
            ],
            "image/png": "[encoded data removed]"
          },
          "metadata": {}
        },
        {
          "output_type": "display_data",
          "data": {
            "text/plain": [
              "<PIL.Image.Image image mode=RGB size=224x224>"
            ],
            "image/png": "[encoded data removed]"
          },
          "metadata": {}
        },
        {
          "output_type": "display_data",
          "data": {
            "text/plain": [
              "<PIL.Image.Image image mode=RGB size=224x224>"
            ],
            "image/png": "[encoded data removed]"
          },
          "metadata": {}
        },
        {
          "output_type": "display_data",
          "data": {
            "text/plain": [
              "<PIL.Image.Image image mode=RGB size=224x224>"
            ],
            "image/png": "[encoded data removed]"
          },
          "metadata": {}
        },
        {
          "output_type": "display_data",
          "data": {
            "text/plain": [
              "<PIL.Image.Image image mode=RGB size=224x224>"
            ],
            "image/png": "[encoded data removed]"
          },
          "metadata": {}
        },
        {
          "output_type": "display_data",
          "data": {
            "text/plain": [
              "<PIL.Image.Image image mode=RGB size=224x224>"
            ],
            "image/png": "[encoded data removed]"
          },
          "metadata": {}
        },
        {
          "output_type": "display_data",
          "data": {
            "text/plain": [
              "<PIL.Image.Image image mode=RGB size=224x224>"
            ],
            "image/png": "[encoded data removed]"
          },
          "metadata": {}
        },
        {
          "output_type": "display_data",
          "data": {
            "text/plain": [
              "<PIL.Image.Image image mode=RGB size=224x224>"
            ],
            "image/png": "[encoded data removed]"
          },
          "metadata": {}
        },
        {
          "output_type": "display_data",
          "data": {
            "text/plain": [
              "<PIL.Image.Image image mode=RGB size=224x224>"
            ],
            "image/png": "[encoded data removed]"
          },
          "metadata": {}
        },
        {
          "output_type": "display_data",
          "data": {
            "text/plain": [
              "<PIL.Image.Image image mode=RGB size=224x224>"
            ],
            "image/png": "[encoded data removed]"
          },
          "metadata": {}
        },
        {
          "output_type": "display_data",
          "data": {
            "text/plain": [
              "<PIL.Image.Image image mode=RGB size=224x224>"
            ],
            "image/png": "[encoded data removed]"
          },
          "metadata": {}
        },
        {
          "output_type": "display_data",
          "data": {
            "text/plain": [
              "<PIL.Image.Image image mode=RGB size=224x224>"
            ],
            "image/png": "[encoded data removed]"
          },
          "metadata": {}
        },
        {
          "output_type": "display_data",
          "data": {
            "text/plain": [
              "<PIL.Image.Image image mode=RGB size=224x224>"
            ],
            "image/png": "[encoded data removed]"
          },
          "metadata": {}
        },
        {
          "output_type": "display_data",
          "data": {
            "text/plain": [
              "<PIL.Image.Image image mode=RGB size=224x224>"
            ],
            "image/png": "[encoded data removed]"
          },
          "metadata": {}
        },
        {
          "output_type": "display_data",
          "data": {
            "text/plain": [
              "<PIL.Image.Image image mode=RGB size=224x224>"
            ],
            "image/png": "[encoded data removed]"
          },
          "metadata": {}
        },
        {
          "output_type": "display_data",
          "data": {
            "text/plain": [
              "<PIL.Image.Image image mode=RGB size=224x224>"
            ],
            "image/png": "[encoded data removed]"
          },
          "metadata": {}
        },
        {
          "output_type": "display_data",
          "data": {
            "text/plain": [
              "<PIL.Image.Image image mode=RGB size=224x224>"
            ],
            "image/png": "[encoded data removed]"
          },
          "metadata": {}
        },
        {
          "output_type": "display_data",
          "data": {
            "text/plain": [
              "<PIL.Image.Image image mode=RGB size=224x224>"
            ],
            "image/png": "[encoded data removed]"
          },
          "metadata": {}
        },
        {
          "output_type": "display_data",
          "data": {
            "text/plain": [
              "<PIL.Image.Image image mode=RGB size=224x224>"
            ],
            "image/png": "[encoded data removed]"
          },
          "metadata": {}
        },
        {
          "output_type": "display_data",
          "data": {
            "text/plain": [
              "<PIL.Image.Image image mode=RGB size=224x224>"
            ],
            "image/png": "[encoded data removed]"
          },
          "metadata": {}
        },
        {
          "output_type": "display_data",
          "data": {
            "text/plain": [
              "<PIL.Image.Image image mode=RGB size=224x224>"
            ],
            "image/png": "[encoded data removed]"
          },
          "metadata": {}
        },
        {
          "output_type": "display_data",
          "data": {
            "text/plain": [
              "<PIL.Image.Image image mode=RGB size=224x224>"
            ],
            "image/png": "[encoded data removed]"
          },
          "metadata": {}
        },
        {
          "output_type": "display_data",
          "data": {
            "text/plain": [
              "<PIL.Image.Image image mode=RGB size=224x224>"
            ],
            "image/png": "[encoded data removed]"
          },
          "metadata": {}
        },
        {
          "output_type": "display_data",
          "data": {
            "text/plain": [
              "<PIL.Image.Image image mode=RGB size=224x224>"
            ],
            "image/png": "[encoded data removed]"
          },
          "metadata": {}
        },
        {
          "output_type": "display_data",
          "data": {
            "text/plain": [
              "<PIL.Image.Image image mode=RGB size=224x224>"
            ],
            "image/png": "[encoded data removed]"
          },
          "metadata": {}
        },
        {
          "output_type": "display_data",
          "data": {
            "text/plain": [
              "<PIL.Image.Image image mode=RGB size=224x224>"
            ],
            "image/png": "[encoded data removed]"
          },
          "metadata": {}
        },
        {
          "output_type": "display_data",
          "data": {
            "text/plain": [
              "<PIL.Image.Image image mode=RGB size=224x224>"
            ],
            "image/png": "[encoded data removed]"
          },
          "metadata": {}
        },
        {
          "output_type": "display_data",
          "data": {
            "text/plain": [
              "<PIL.Image.Image image mode=RGB size=224x224>"
            ],
            "image/png": "[encoded data removed]"
          },
          "metadata": {}
        },
        {
          "output_type": "display_data",
          "data": {
            "text/plain": [
              "<PIL.Image.Image image mode=RGB size=224x224>"
            ],
            "image/png": "[encoded data removed]"
          },
          "metadata": {}
        },
        {
          "output_type": "display_data",
          "data": {
            "text/plain": [
              "<PIL.Image.Image image mode=RGB size=224x224>"
            ],
            "image/png": "[encoded data removed]"
          },
          "metadata": {}
        },
        {
          "output_type": "display_data",
          "data": {
            "text/plain": [
              "<PIL.Image.Image image mode=RGB size=224x224>"
            ],
            "image/png": "[encoded data removed]"
          },
          "metadata": {}
        },
        {
          "output_type": "display_data",
          "data": {
            "text/plain": [
              "<PIL.Image.Image image mode=RGB size=224x224>"
            ],
            "image/png": "[encoded data removed]"
          },
          "metadata": {}
        },
        {
          "output_type": "display_data",
          "data": {
            "text/plain": [
              "<PIL.Image.Image image mode=RGB size=224x224>"
            ],
            "image/png": "[encoded data removed]"
          },
          "metadata": {}
        },
        {
          "output_type": "display_data",
          "data": {
            "text/plain": [
              "<PIL.Image.Image image mode=RGB size=224x224>"
            ],
            "image/png": "[encoded data removed]"
          },
          "metadata": {}
        },
        {
          "output_type": "display_data",
          "data": {
            "text/plain": [
              "<PIL.Image.Image image mode=RGB size=224x224>"
            ],
            "image/png": "[encoded data removed]"
          },
          "metadata": {}
        },
        {
          "output_type": "display_data",
          "data": {
            "text/plain": [
              "<PIL.Image.Image image mode=RGB size=224x224>"
            ],
            "image/png": "[encoded data removed]"
          },
          "metadata": {}
        },
        {
          "output_type": "display_data",
          "data": {
            "text/plain": [
              "<PIL.Image.Image image mode=RGB size=224x224>"
            ],
            "image/png": "[encoded data removed]"
          },
          "metadata": {}
        },
        {
          "output_type": "display_data",
          "data": {
            "text/plain": [
              "<PIL.Image.Image image mode=RGB size=224x224>"
            ],
            "image/png": "[encoded data removed]"
          },
          "metadata": {}
        },
        {
          "output_type": "display_data",
          "data": {
            "text/plain": [
              "<PIL.Image.Image image mode=RGB size=224x224>"
            ],
            "image/png": "[encoded data removed]"
          },
          "metadata": {}
        },
        {
          "output_type": "display_data",
          "data": {
            "text/plain": [
              "<PIL.Image.Image image mode=RGB size=224x224>"
            ],
            "image/png": "[encoded data removed]"
          },
          "metadata": {}
        },
        {
          "output_type": "display_data",
          "data": {
            "text/plain": [
              "<PIL.Image.Image image mode=RGB size=224x224>"
            ],
            "image/png": "[encoded data removed]"
          },
          "metadata": {}
        },
        {
          "output_type": "display_data",
          "data": {
            "text/plain": [
              "<PIL.Image.Image image mode=RGB size=224x224>"
            ],
            "image/png": "[encoded data removed]"
          },
          "metadata": {}
        },
        {
          "output_type": "display_data",
          "data": {
            "text/plain": [
              "<PIL.Image.Image image mode=RGB size=224x224>"
            ],
            "image/png": "[encoded data removed]"
          },
          "metadata": {}
        },
        {
          "output_type": "display_data",
          "data": {
            "text/plain": [
              "<PIL.Image.Image image mode=RGB size=224x224>"
            ],
            "image/png": "[encoded data removed]"
          },
          "metadata": {}
        },
        {
          "output_type": "display_data",
          "data": {
            "text/plain": [
              "<PIL.Image.Image image mode=RGB size=224x224>"
            ],
            "image/png": "[encoded data removed]"
          },
          "metadata": {}
        },
        {
          "output_type": "display_data",
          "data": {
            "text/plain": [
              "<PIL.Image.Image image mode=RGB size=224x224>"
            ],
            "image/png": "[encoded data removed]"
          },
          "metadata": {}
        },
        {
          "output_type": "display_data",
          "data": {
            "text/plain": [
              "<PIL.Image.Image image mode=RGB size=224x224>"
            ],
            "image/png": "[encoded data removed]"
          },
          "metadata": {}
        },
        {
          "output_type": "display_data",
          "data": {
            "text/plain": [
              "<PIL.Image.Image image mode=RGB size=224x224>"
            ],
            "image/png": "[encoded data removed]"
          },
          "metadata": {}
        },
        {
          "output_type": "display_data",
          "data": {
            "text/plain": [
              "<PIL.Image.Image image mode=RGB size=224x224>"
            ],
            "image/png": "[encoded data removed]"
          },
          "metadata": {}
        },
        {
          "output_type": "display_data",
          "data": {
            "text/plain": [
              "<PIL.Image.Image image mode=RGB size=224x224>"
            ],
            "image/png": "[encoded data removed]"
          },
          "metadata": {}
        },
        {
          "output_type": "display_data",
          "data": {
            "text/plain": [
              "<PIL.Image.Image image mode=RGB size=224x224>"
            ],
            "image/png": "[encoded data removed]"
          },
          "metadata": {}
        },
        {
          "output_type": "display_data",
          "data": {
            "text/plain": [
              "<PIL.Image.Image image mode=RGB size=224x224>"
            ],
            "image/png": "[encoded data removed]"
          },
          "metadata": {}
        },
        {
          "output_type": "display_data",
          "data": {
            "text/plain": [
              "<PIL.Image.Image image mode=RGB size=224x224>"
            ],
            "image/png": "[encoded data removed]"
          },
          "metadata": {}
        },
        {
          "output_type": "display_data",
          "data": {
            "text/plain": [
              "<PIL.Image.Image image mode=RGB size=224x224>"
            ],
            "image/png": "[encoded data removed]"
          },
          "metadata": {}
        },
        {
          "output_type": "display_data",
          "data": {
            "text/plain": [
              "<PIL.Image.Image image mode=RGB size=224x224>"
            ],
            "image/png": "[encoded data removed]"
          },
          "metadata": {}
        },
        {
          "output_type": "display_data",
          "data": {
            "text/plain": [
              "<PIL.Image.Image image mode=RGB size=224x224>"
            ],
            "image/png": "[encoded data removed]"
          },
          "metadata": {}
        },
        {
          "output_type": "display_data",
          "data": {
            "text/plain": [
              "<PIL.Image.Image image mode=RGB size=224x224>"
            ],
            "image/png": "[encoded data removed]"
          },
          "metadata": {}
        },
        {
          "output_type": "display_data",
          "data": {
            "text/plain": [
              "<PIL.Image.Image image mode=RGB size=224x224>"
            ],
            "image/png": "[encoded data removed]"
          },
          "metadata": {}
        },
        {
          "output_type": "display_data",
          "data": {
            "text/plain": [
              "<PIL.Image.Image image mode=RGB size=224x224>"
            ],
            "image/png": "[encoded data removed]"
          },
          "metadata": {}
        },
        {
          "output_type": "display_data",
          "data": {
            "text/plain": [
              "<PIL.Image.Image image mode=RGB size=224x224>"
            ],
            "image/png": "[encoded data removed]"
          },
          "metadata": {}
        },
        {
          "output_type": "display_data",
          "data": {
            "text/plain": [
              "<PIL.Image.Image image mode=RGB size=224x224>"
            ],
            "image/png": "[encoded data removed]"
          },
          "metadata": {}
        },
        {
          "output_type": "display_data",
          "data": {
            "text/plain": [
              "<PIL.Image.Image image mode=RGB size=224x224>"
            ],
            "image/png": "[encoded data removed]"
          },
          "metadata": {}
        },
        {
          "output_type": "display_data",
          "data": {
            "text/plain": [
              "<PIL.Image.Image image mode=RGB size=224x224>"
            ],
            "image/png": "[encoded data removed]"
          },
          "metadata": {}
        },
        {
          "output_type": "display_data",
          "data": {
            "text/plain": [
              "<PIL.Image.Image image mode=RGB size=224x224>"
            ],
            "image/png": "[encoded data removed]"
          },
          "metadata": {}
        },
        {
          "output_type": "display_data",
          "data": {
            "text/plain": [
              "<PIL.Image.Image image mode=RGB size=224x224>"
            ],
            "image/png": "[encoded data removed]"
          },
          "metadata": {}
        },
        {
          "output_type": "display_data",
          "data": {
            "text/plain": [
              "<PIL.Image.Image image mode=RGB size=224x224>"
            ],
            "image/png": "[encoded data removed]"
          },
          "metadata": {}
        },
        {
          "output_type": "display_data",
          "data": {
            "text/plain": [
              "<PIL.Image.Image image mode=RGB size=224x224>"
            ],
            "image/png": "[encoded data removed]"
          },
          "metadata": {}
        },
        {
          "output_type": "display_data",
          "data": {
            "text/plain": [
              "<PIL.Image.Image image mode=RGB size=224x224>"
            ],
            "image/png": "[encoded data removed]"
          },
          "metadata": {}
        },
        {
          "output_type": "display_data",
          "data": {
            "text/plain": [
              "<PIL.Image.Image image mode=RGB size=224x224>"
            ],
            "image/png": "[encoded data removed]"
          },
          "metadata": {}
        },
        {
          "output_type": "display_data",
          "data": {
            "text/plain": [
              "<PIL.Image.Image image mode=RGB size=224x224>"
            ],
            "image/png": "[encoded data removed]"
          },
          "metadata": {}
        },
        {
          "output_type": "display_data",
          "data": {
            "text/plain": [
              "<PIL.Image.Image image mode=RGB size=224x224>"
            ],
            "image/png": "[encoded data removed]"
          },
          "metadata": {}
        },
        {
          "output_type": "display_data",
          "data": {
            "text/plain": [
              "<PIL.Image.Image image mode=RGB size=224x224>"
            ],
            "image/png": "[encoded data removed]"
          },
          "metadata": {}
        },
        {
          "output_type": "display_data",
          "data": {
            "text/plain": [
              "<PIL.Image.Image image mode=RGB size=224x224>"
            ],
            "image/png": "[encoded data removed]"
          },
          "metadata": {}
        },
        {
          "output_type": "display_data",
          "data": {
            "text/plain": [
              "<PIL.Image.Image image mode=RGB size=224x224>"
            ],
            "image/png": "[encoded data removed]"
          },
          "metadata": {}
        },
        {
          "output_type": "display_data",
          "data": {
            "text/plain": [
              "<PIL.Image.Image image mode=RGB size=224x224>"
            ],
            "image/png": "[encoded data removed]"
          },
          "metadata": {}
        },
        {
          "output_type": "display_data",
          "data": {
            "text/plain": [
              "<PIL.Image.Image image mode=RGB size=224x224>"
            ],
            "image/png": "[encoded data removed]"
          },
          "metadata": {}
        },
        {
          "output_type": "display_data",
          "data": {
            "text/plain": [
              "<PIL.Image.Image image mode=RGB size=224x224>"
            ],
            "image/png": "[encoded data removed]"
          },
          "metadata": {}
        },
        {
          "output_type": "display_data",
          "data": {
            "text/plain": [
              "<PIL.Image.Image image mode=RGB size=224x224>"
            ],
            "image/png": "[encoded data removed]"
          },
          "metadata": {}
        },
        {
          "output_type": "display_data",
          "data": {
            "text/plain": [
              "<PIL.Image.Image image mode=RGB size=224x224>"
            ],
            "image/png": "[encoded data removed]"
          },
          "metadata": {}
        },
        {
          "output_type": "display_data",
          "data": {
            "text/plain": [
              "<PIL.Image.Image image mode=RGB size=224x224>"
            ],
            "image/png": "[encoded data removed]"
          },
          "metadata": {}
        },
        {
          "output_type": "display_data",
          "data": {
            "text/plain": [
              "<PIL.Image.Image image mode=RGB size=224x224>"
            ],
            "image/png": "[encoded data removed]"
          },
          "metadata": {}
        },
        {
          "output_type": "display_data",
          "data": {
            "text/plain": [
              "<PIL.Image.Image image mode=RGB size=224x224>"
            ],
            "image/png": "[encoded data removed]"
          },
          "metadata": {}
        },
        {
          "output_type": "display_data",
          "data": {
            "text/plain": [
              "<PIL.Image.Image image mode=RGB size=224x224>"
            ],
            "image/png": "[encoded data removed]"
          },
          "metadata": {}
        },
        {
          "output_type": "display_data",
          "data": {
            "text/plain": [
              "<PIL.Image.Image image mode=RGB size=224x224>"
            ],
            "image/png": "[encoded data removed]"
          },
          "metadata": {}
        },
        {
          "output_type": "display_data",
          "data": {
            "text/plain": [
              "<PIL.Image.Image image mode=RGB size=224x224>"
            ],
            "image/png": "[encoded data removed]"
          },
          "metadata": {}
        },
        {
          "output_type": "display_data",
          "data": {
            "text/plain": [
              "<PIL.Image.Image image mode=RGB size=224x224>"
            ],
            "image/png": "[encoded data removed]"
          },
          "metadata": {}
        },
        {
          "output_type": "display_data",
          "data": {
            "text/plain": [
              "<PIL.Image.Image image mode=RGB size=224x224>"
            ],
            "image/png": "[encoded data removed]"
          },
          "metadata": {}
        },
        {
          "output_type": "display_data",
          "data": {
            "text/plain": [
              "<PIL.Image.Image image mode=RGB size=224x224>"
            ],
            "image/png": "[encoded data removed]"
          },
          "metadata": {}
        },
        {
          "output_type": "display_data",
          "data": {
            "text/plain": [
              "<PIL.Image.Image image mode=RGB size=224x224>"
            ],
            "image/png": "[encoded data removed]"
          },
          "metadata": {}
        },
        {
          "output_type": "display_data",
          "data": {
            "text/plain": [
              "<PIL.Image.Image image mode=RGB size=224x224>"
            ],
            "image/png": "[encoded data removed]"
          },
          "metadata": {}
        },
        {
          "output_type": "display_data",
          "data": {
            "text/plain": [
              "<PIL.Image.Image image mode=RGB size=224x224>"
            ],
            "image/png": "[encoded data removed]"
          },
          "metadata": {}
        },
        {
          "output_type": "display_data",
          "data": {
            "text/plain": [
              "<PIL.Image.Image image mode=RGB size=224x224>"
            ],
            "image/png": "[encoded data removed]"
          },
          "metadata": {}
        },
        {
          "output_type": "display_data",
          "data": {
            "text/plain": [
              "<PIL.Image.Image image mode=RGB size=224x224>"
            ],
            "image/png": "[encoded data removed]"
          },
          "metadata": {}
        },
        {
          "output_type": "display_data",
          "data": {
            "text/plain": [
              "<PIL.Image.Image image mode=RGB size=224x224>"
            ],
            "image/png": "[encoded data removed]"
          },
          "metadata": {}
        },
        {
          "output_type": "display_data",
          "data": {
            "text/plain": [
              "<PIL.Image.Image image mode=RGB size=224x224>"
            ],
            "image/png": "[encoded data removed]"
          },
          "metadata": {}
        },
        {
          "output_type": "display_data",
          "data": {
            "text/plain": [
              "<PIL.Image.Image image mode=RGB size=224x224>"
            ],
            "image/png": "[encoded data removed]"
          },
          "metadata": {}
        },
        {
          "output_type": "display_data",
          "data": {
            "text/plain": [
              "<PIL.Image.Image image mode=RGB size=224x224>"
            ],
            "image/png": "[encoded data removed]"
          },
          "metadata": {}
        },
        {
          "output_type": "display_data",
          "data": {
            "text/plain": [
              "<PIL.Image.Image image mode=RGB size=224x224>"
            ],
            "image/png": "[encoded data removed]"
          },
          "metadata": {}
        },
        {
          "output_type": "display_data",
          "data": {
            "text/plain": [
              "<PIL.Image.Image image mode=RGB size=224x224>"
            ],
            "image/png": "[encoded data removed]"
          },
          "metadata": {}
        },
        {
          "output_type": "display_data",
          "data": {
            "text/plain": [
              "<PIL.Image.Image image mode=RGB size=224x224>"
            ],
            "image/png": "[encoded data removed]"
          },
          "metadata": {}
        },
        {
          "output_type": "display_data",
          "data": {
            "text/plain": [
              "<PIL.Image.Image image mode=RGB size=224x224>"
            ],
            "image/png": "[encoded data removed]"
          },
          "metadata": {}
        },
        {
          "output_type": "display_data",
          "data": {
            "text/plain": [
              "<PIL.Image.Image image mode=RGB size=224x224>"
            ],
            "image/png": "[encoded data removed]"
          },
          "metadata": {}
        },
        {
          "output_type": "display_data",
          "data": {
            "text/plain": [
              "<PIL.Image.Image image mode=RGB size=224x224>"
            ],
            "image/png": "[encoded data removed]"
          },
          "metadata": {}
        },
        {
          "output_type": "display_data",
          "data": {
            "text/plain": [
              "<PIL.Image.Image image mode=RGB size=224x224>"
            ],
            "image/png": "[encoded data removed]"
          },
          "metadata": {}
        },
        {
          "output_type": "display_data",
          "data": {
            "text/plain": [
              "<PIL.Image.Image image mode=RGB size=224x224>"
            ],
            "image/png": "[encoded data removed]"
          },
          "metadata": {}
        },
        {
          "output_type": "display_data",
          "data": {
            "text/plain": [
              "<PIL.Image.Image image mode=RGB size=224x224>"
            ],
            "image/png": "[encoded data removed]"
          },
          "metadata": {}
        },
        {
          "output_type": "display_data",
          "data": {
            "text/plain": [
              "<PIL.Image.Image image mode=RGB size=224x224>"
            ],
            "image/png": "[encoded data removed]"
          },
          "metadata": {}
        },
        {
          "output_type": "display_data",
          "data": {
            "text/plain": [
              "<PIL.Image.Image image mode=RGB size=224x224>"
            ],
            "image/png": "[encoded data removed]"
          },
          "metadata": {}
        },
        {
          "output_type": "display_data",
          "data": {
            "text/plain": [
              "<PIL.Image.Image image mode=RGB size=224x224>"
            ],
            "image/png": "[encoded data removed]"
          },
          "metadata": {}
        },
        {
          "output_type": "display_data",
          "data": {
            "text/plain": [
              "<PIL.Image.Image image mode=RGB size=224x224>"
            ],
            "image/png": "[encoded data removed]"
          },
          "metadata": {}
        },
        {
          "output_type": "display_data",
          "data": {
            "text/plain": [
              "<PIL.Image.Image image mode=RGB size=224x224>"
            ],
            "image/png": "[encoded data removed]"
          },
          "metadata": {}
        },
        {
          "output_type": "display_data",
          "data": {
            "text/plain": [
              "<PIL.Image.Image image mode=RGB size=224x224>"
            ],
            "image/png": "[encoded data removed]"
          },
          "metadata": {}
        },
        {
          "output_type": "display_data",
          "data": {
            "text/plain": [
              "<PIL.Image.Image image mode=RGB size=224x224>"
            ],
            "image/png": "[encoded data removed]"
          },
          "metadata": {}
        },
        {
          "output_type": "display_data",
          "data": {
            "text/plain": [
              "<PIL.Image.Image image mode=RGB size=224x224>"
            ],
            "image/png": "[encoded data removed]"
          },
          "metadata": {}
        },
        {
          "output_type": "display_data",
          "data": {
            "text/plain": [
              "<PIL.Image.Image image mode=RGB size=224x224>"
            ],
            "image/png": "[encoded data removed]"
          },
          "metadata": {}
        },
        {
          "output_type": "display_data",
          "data": {
            "text/plain": [
              "<PIL.Image.Image image mode=RGB size=224x224>"
            ],
            "image/png": "[encoded data removed]"
          },
          "metadata": {}
        },
        {
          "output_type": "display_data",
          "data": {
            "text/plain": [
              "<PIL.Image.Image image mode=RGB size=224x224>"
            ],
            "image/png": "[encoded data removed]"
          },
          "metadata": {}
        },
        {
          "output_type": "display_data",
          "data": {
            "text/plain": [
              "<PIL.Image.Image image mode=RGB size=224x224>"
            ],
            "image/png": "[encoded data removed]"
          },
          "metadata": {}
        },
        {
          "output_type": "display_data",
          "data": {
            "text/plain": [
              "<PIL.Image.Image image mode=RGB size=224x224>"
            ],
            "image/png": "[encoded data removed]"
          },
          "metadata": {}
        },
        {
          "output_type": "display_data",
          "data": {
            "text/plain": [
              "<PIL.Image.Image image mode=RGB size=224x224>"
            ],
            "image/png": "[encoded data removed]"
          },
          "metadata": {}
        },
        {
          "output_type": "display_data",
          "data": {
            "text/plain": [
              "<PIL.Image.Image image mode=RGB size=224x224>"
            ],
            "image/png": "[encoded data removed]"
          },
          "metadata": {}
        },
        {
          "output_type": "display_data",
          "data": {
            "text/plain": [
              "<PIL.Image.Image image mode=RGB size=224x224>"
            ],
            "image/png": "[encoded data removed]"
          },
          "metadata": {}
        },
        {
          "output_type": "display_data",
          "data": {
            "text/plain": [
              "<PIL.Image.Image image mode=RGB size=224x224>"
            ],
            "image/png": "[encoded data removed]"
          },
          "metadata": {}
        },
        {
          "output_type": "display_data",
          "data": {
            "text/plain": [
              "<PIL.Image.Image image mode=RGB size=224x224>"
            ],
            "image/png": "[encoded data removed]"
          },
          "metadata": {}
        },
        {
          "output_type": "display_data",
          "data": {
            "text/plain": [
              "<PIL.Image.Image image mode=RGB size=224x224>"
            ],
            "image/png": "[encoded data removed]"
          },
          "metadata": {}
        },
        {
          "output_type": "display_data",
          "data": {
            "text/plain": [
              "<PIL.Image.Image image mode=RGB size=224x224>"
            ],
            "image/png": "[encoded data removed]"
          },
          "metadata": {}
        },
        {
          "output_type": "display_data",
          "data": {
            "text/plain": [
              "<PIL.Image.Image image mode=RGB size=224x224>"
            ],
            "image/png": "[encoded data removed]"
          },
          "metadata": {}
        },
        {
          "output_type": "display_data",
          "data": {
            "text/plain": [
              "<PIL.Image.Image image mode=RGB size=224x224>"
            ],
            "image/png": "[encoded data removed]"
          },
          "metadata": {}
        },
        {
          "output_type": "display_data",
          "data": {
            "text/plain": [
              "<PIL.Image.Image image mode=RGB size=224x224>"
            ],
            "image/png": "[encoded data removed]"
          },
          "metadata": {}
        },
        {
          "output_type": "display_data",
          "data": {
            "text/plain": [
              "<PIL.Image.Image image mode=RGB size=224x224>"
            ],
            "image/png": "[encoded data removed]"
          },
          "metadata": {}
        },
        {
          "output_type": "display_data",
          "data": {
            "text/plain": [
              "<PIL.Image.Image image mode=RGB size=224x224>"
            ],
            "image/png": "[encoded data removed]"
          },
          "metadata": {}
        },
        {
          "output_type": "display_data",
          "data": {
            "text/plain": [
              "<PIL.Image.Image image mode=RGB size=224x224>"
            ],
            "image/png": "[encoded data removed]"
          },
          "metadata": {}
        },
        {
          "output_type": "display_data",
          "data": {
            "text/plain": [
              "<PIL.Image.Image image mode=RGB size=224x224>"
            ],
            "image/png": "[encoded data removed]"
          },
          "metadata": {}
        },
        {
          "output_type": "display_data",
          "data": {
            "text/plain": [
              "<PIL.Image.Image image mode=RGB size=224x224>"
            ],
            "image/png": "[encoded data removed]"
          },
          "metadata": {}
        },
        {
          "output_type": "display_data",
          "data": {
            "text/plain": [
              "<PIL.Image.Image image mode=RGB size=224x224>"
            ],
            "image/png": "[encoded data removed]"
          },
          "metadata": {}
        },
        {
          "output_type": "display_data",
          "data": {
            "text/plain": [
              "<PIL.Image.Image image mode=RGB size=224x224>"
            ],
            "image/png": "[encoded data removed]"
          },
          "metadata": {}
        },
        {
          "output_type": "display_data",
          "data": {
            "text/plain": [
              "<PIL.Image.Image image mode=RGB size=224x224>"
            ],
            "image/png": "[encoded data removed]"
          },
          "metadata": {}
        },
        {
          "output_type": "display_data",
          "data": {
            "text/plain": [
              "<PIL.Image.Image image mode=RGB size=224x224>"
            ],
            "image/png": "[encoded data removed]"
          },
          "metadata": {}
        },
        {
          "output_type": "display_data",
          "data": {
            "text/plain": [
              "<PIL.Image.Image image mode=RGB size=224x224>"
            ],
            "image/png": "[encoded data removed]"
          },
          "metadata": {}
        },
        {
          "output_type": "display_data",
          "data": {
            "text/plain": [
              "<PIL.Image.Image image mode=RGB size=224x224>"
            ],
            "image/png": "[encoded data removed]"
          },
          "metadata": {}
        },
        {
          "output_type": "display_data",
          "data": {
            "text/plain": [
              "<PIL.Image.Image image mode=RGB size=224x224>"
            ],
            "image/png": "[encoded data removed]"
          },
          "metadata": {}
        },
        {
          "output_type": "display_data",
          "data": {
            "text/plain": [
              "<PIL.Image.Image image mode=RGB size=224x224>"
            ],
            "image/png": "[encoded data removed]"
          },
          "metadata": {}
        },
        {
          "output_type": "display_data",
          "data": {
            "text/plain": [
              "<PIL.Image.Image image mode=RGB size=224x224>"
            ],
            "image/png": "[encoded data removed]"
          },
          "metadata": {}
        },
        {
          "output_type": "display_data",
          "data": {
            "text/plain": [
              "<PIL.Image.Image image mode=RGB size=224x224>"
            ],
            "image/png": "[encoded data removed]"
          },
          "metadata": {}
        },
        {
          "output_type": "display_data",
          "data": {
            "text/plain": [
              "<PIL.Image.Image image mode=RGB size=224x224>"
            ],
            "image/png": "[encoded data removed]"
          },
          "metadata": {}
        },
        {
          "output_type": "display_data",
          "data": {
            "text/plain": [
              "<PIL.Image.Image image mode=RGB size=224x224>"
            ],
            "image/png": "[encoded data removed]"
          },
          "metadata": {}
        },
        {
          "output_type": "display_data",
          "data": {
            "text/plain": [
              "<PIL.Image.Image image mode=RGB size=224x224>"
            ],
            "image/png": "[encoded data removed]"
          },
          "metadata": {}
        },
        {
          "output_type": "display_data",
          "data": {
            "text/plain": [
              "<PIL.Image.Image image mode=RGB size=224x224>"
            ],
            "image/png": "[encoded data removed]"
          },
          "metadata": {}
        },
        {
          "output_type": "display_data",
          "data": {
            "text/plain": [
              "<PIL.Image.Image image mode=RGB size=224x224>"
            ],
            "image/png": "[encoded data removed]"
          },
          "metadata": {}
        },
        {
          "output_type": "display_data",
          "data": {
            "text/plain": [
              "<PIL.Image.Image image mode=RGB size=224x224>"
            ],
            "image/png": "[encoded data removed]"
          },
          "metadata": {}
        },
        {
          "output_type": "display_data",
          "data": {
            "text/plain": [
              "<PIL.Image.Image image mode=RGB size=224x224>"
            ],
            "image/png": "[encoded data removed]"
          },
          "metadata": {}
        },
        {
          "output_type": "display_data",
          "data": {
            "text/plain": [
              "<PIL.Image.Image image mode=RGB size=224x224>"
            ],
            "image/png": "[encoded data removed]"
          },
          "metadata": {}
        },
        {
          "output_type": "display_data",
          "data": {
            "text/plain": [
              "<PIL.Image.Image image mode=RGB size=224x224>"
            ],
            "image/png": "[encoded data removed]"
          },
          "metadata": {}
        },
        {
          "output_type": "display_data",
          "data": {
            "text/plain": [
              "<PIL.Image.Image image mode=RGB size=224x224>"
            ],
            "image/png": "[encoded data removed]"
          },
          "metadata": {}
        },
        {
          "output_type": "display_data",
          "data": {
            "text/plain": [
              "<PIL.Image.Image image mode=RGB size=224x224>"
            ],
            "image/png": "[encoded data removed]"
          },
          "metadata": {}
        },
        {
          "output_type": "display_data",
          "data": {
            "text/plain": [
              "<PIL.Image.Image image mode=RGB size=224x224>"
            ],
            "image/png": "[encoded data removed]"
          },
          "metadata": {}
        },
        {
          "output_type": "display_data",
          "data": {
            "text/plain": [
              "<PIL.Image.Image image mode=RGB size=224x224>"
            ],
            "image/png": "[encoded data removed]"
          },
          "metadata": {}
        },
        {
          "output_type": "display_data",
          "data": {
            "text/plain": [
              "<PIL.Image.Image image mode=RGB size=224x224>"
            ],
            "image/png": "[encoded data removed]"
          },
          "metadata": {}
        },
        {
          "output_type": "display_data",
          "data": {
            "text/plain": [
              "<PIL.Image.Image image mode=RGB size=224x224>"
            ],
            "image/png": "[encoded data removed]"
          },
          "metadata": {}
        },
        {
          "output_type": "display_data",
          "data": {
            "text/plain": [
              "<PIL.Image.Image image mode=RGB size=224x224>"
            ],
            "image/png": "[encoded data removed]"
          },
          "metadata": {}
        },
        {
          "output_type": "display_data",
          "data": {
            "text/plain": [
              "<PIL.Image.Image image mode=RGB size=224x224>"
            ],
            "image/png": "[encoded data removed]"
          },
          "metadata": {}
        },
        {
          "output_type": "display_data",
          "data": {
            "text/plain": [
              "<PIL.Image.Image image mode=RGB size=224x224>"
            ],
            "image/png": "[encoded data removed]"
          },
          "metadata": {}
        },
        {
          "output_type": "display_data",
          "data": {
            "text/plain": [
              "<PIL.Image.Image image mode=RGB size=224x224>"
            ],
            "image/png": "[encoded data removed]"
          },
          "metadata": {}
        },
        {
          "output_type": "display_data",
          "data": {
            "text/plain": [
              "<PIL.Image.Image image mode=RGB size=224x224>"
            ],
            "image/png": "[encoded data removed]"
          },
          "metadata": {}
        },
        {
          "output_type": "display_data",
          "data": {
            "text/plain": [
              "<PIL.Image.Image image mode=RGB size=224x224>"
            ],
            "image/png": "[encoded data removed]"
          },
          "metadata": {}
        },
        {
          "output_type": "display_data",
          "data": {
            "text/plain": [
              "<PIL.Image.Image image mode=RGB size=224x224>"
            ],
            "image/png": "[encoded data removed]"
          },
          "metadata": {}
        },
        {
          "output_type": "display_data",
          "data": {
            "text/plain": [
              "<PIL.Image.Image image mode=RGB size=224x224>"
            ],
            "image/png": "[encoded data removed]"
          },
          "metadata": {}
        },
        {
          "output_type": "display_data",
          "data": {
            "text/plain": [
              "<PIL.Image.Image image mode=RGB size=224x224>"
            ],
            "image/png": "[encoded data removed]"
          },
          "metadata": {}
        },
        {
          "output_type": "display_data",
          "data": {
            "text/plain": [
              "<PIL.Image.Image image mode=RGB size=224x224>"
            ],
            "image/png": "[encoded data removed]"
          },
          "metadata": {}
        },
        {
          "output_type": "display_data",
          "data": {
            "text/plain": [
              "<PIL.Image.Image image mode=RGB size=224x224>"
            ],
            "image/png": "[encoded data removed]"
          },
          "metadata": {}
        },
        {
          "output_type": "display_data",
          "data": {
            "text/plain": [
              "<PIL.Image.Image image mode=RGB size=224x224>"
            ],
            "image/png": "[encoded data removed]"
          },
          "metadata": {}
        },
        {
          "output_type": "display_data",
          "data": {
            "text/plain": [
              "<PIL.Image.Image image mode=RGB size=224x224>"
            ],
            "image/png": "[encoded data removed]"
          },
          "metadata": {}
        },
        {
          "output_type": "display_data",
          "data": {
            "text/plain": [
              "<PIL.Image.Image image mode=RGB size=224x224>"
            ],
            "image/png": "[encoded data removed]"
          },
          "metadata": {}
        },
        {
          "output_type": "display_data",
          "data": {
            "text/plain": [
              "<PIL.Image.Image image mode=RGB size=224x224>"
            ],
            "image/png": "[encoded data removed]"
          },
          "metadata": {}
        },
        {
          "output_type": "display_data",
          "data": {
            "text/plain": [
              "<PIL.Image.Image image mode=RGB size=224x224>"
            ],
            "image/png": "[encoded data removed]"
          },
          "metadata": {}
        },
        {
          "output_type": "display_data",
          "data": {
            "text/plain": [
              "<PIL.Image.Image image mode=RGB size=224x224>"
            ],
            "image/png": "[encoded data removed]"
          },
          "metadata": {}
        },
        {
          "output_type": "display_data",
          "data": {
            "text/plain": [
              "<PIL.Image.Image image mode=RGB size=224x224>"
            ],
            "image/png": "[encoded data removed]"
          },
          "metadata": {}
        },
        {
          "output_type": "display_data",
          "data": {
            "text/plain": [
              "<PIL.Image.Image image mode=RGB size=224x224>"
            ],
            "image/png": "[encoded data removed]"
          },
          "metadata": {}
        },
        {
          "output_type": "display_data",
          "data": {
            "text/plain": [
              "<PIL.Image.Image image mode=RGB size=224x224>"
            ],
            "image/png": "[encoded data removed]"
          },
          "metadata": {}
        },
        {
          "output_type": "display_data",
          "data": {
            "text/plain": [
              "<PIL.Image.Image image mode=RGB size=224x224>"
            ],
            "image/png": "[encoded data removed]"
          },
          "metadata": {}
        },
        {
          "output_type": "display_data",
          "data": {
            "text/plain": [
              "<PIL.Image.Image image mode=RGB size=224x224>"
            ],
            "image/png": "[encoded data removed]"
          },
          "metadata": {}
        },
        {
          "output_type": "display_data",
          "data": {
            "text/plain": [
              "<PIL.Image.Image image mode=RGB size=224x224>"
            ],
            "image/png": "[encoded data removed]"
          },
          "metadata": {}
        },
        {
          "output_type": "display_data",
          "data": {
            "text/plain": [
              "<PIL.Image.Image image mode=RGB size=224x224>"
            ],
            "image/png": "[encoded data removed]"
          },
          "metadata": {}
        },
        {
          "output_type": "display_data",
          "data": {
            "text/plain": [
              "<PIL.Image.Image image mode=RGB size=224x224>"
            ],
            "image/png": "[encoded data removed]"
          },
          "metadata": {}
        },
        {
          "output_type": "display_data",
          "data": {
            "text/plain": [
              "<PIL.Image.Image image mode=RGB size=224x224>"
            ],
            "image/png": "[encoded data removed]"
          },
          "metadata": {}
        },
        {
          "output_type": "display_data",
          "data": {
            "text/plain": [
              "<PIL.Image.Image image mode=RGB size=224x224>"
            ],
            "image/png": "[encoded data removed]"
          },
          "metadata": {}
        },
        {
          "output_type": "display_data",
          "data": {
            "text/plain": [
              "<PIL.Image.Image image mode=RGB size=224x224>"
            ],
            "image/png": "[encoded data removed]"
          },
          "metadata": {}
        },
        {
          "output_type": "display_data",
          "data": {
            "text/plain": [
              "<PIL.Image.Image image mode=RGB size=224x224>"
            ],
            "image/png": "[encoded data removed]"
          },
          "metadata": {}
        },
        {
          "output_type": "display_data",
          "data": {
            "text/plain": [
              "<PIL.Image.Image image mode=RGB size=224x224>"
            ],
            "image/png": "[encoded data removed]"
          },
          "metadata": {}
        },
        {
          "output_type": "display_data",
          "data": {
            "text/plain": [
              "<PIL.Image.Image image mode=RGB size=224x224>"
            ],
            "image/png": "[encoded data removed]"
          },
          "metadata": {}
        },
        {
          "output_type": "display_data",
          "data": {
            "text/plain": [
              "<PIL.Image.Image image mode=RGB size=224x224>"
            ],
            "image/png": "[encoded data removed]"
          },
          "metadata": {}
        },
        {
          "output_type": "display_data",
          "data": {
            "text/plain": [
              "<PIL.Image.Image image mode=RGB size=224x224>"
            ],
            "image/png": "[encoded data removed]"
          },
          "metadata": {}
        },
        {
          "output_type": "display_data",
          "data": {
            "text/plain": [
              "<PIL.Image.Image image mode=RGB size=224x224>"
            ],
            "image/png": "[encoded data removed]"
          },
          "metadata": {}
        },
        {
          "output_type": "display_data",
          "data": {
            "text/plain": [
              "<PIL.Image.Image image mode=RGB size=224x224>"
            ],
            "image/png": "[encoded data removed]"
          },
          "metadata": {}
        },
        {
          "output_type": "display_data",
          "data": {
            "text/plain": [
              "<PIL.Image.Image image mode=RGB size=224x224>"
            ],
            "image/png": "[encoded data removed]"
          },
          "metadata": {}
        },
        {
          "output_type": "display_data",
          "data": {
            "text/plain": [
              "<PIL.Image.Image image mode=RGB size=224x224>"
            ],
            "image/png": "[encoded data removed]"
          },
          "metadata": {}
        },
        {
          "output_type": "display_data",
          "data": {
            "text/plain": [
              "<PIL.Image.Image image mode=RGB size=224x224>"
            ],
            "image/png": "[encoded data removed]"
          },
          "metadata": {}
        },
        {
          "output_type": "display_data",
          "data": {
            "text/plain": [
              "<PIL.Image.Image image mode=RGB size=224x224>"
            ],
            "image/png": "[encoded data removed]"
          },
          "metadata": {}
        },
        {
          "output_type": "display_data",
          "data": {
            "text/plain": [
              "<PIL.Image.Image image mode=RGB size=224x224>"
            ],
            "image/png": "[encoded data removed]"
          },
          "metadata": {}
        },
        {
          "output_type": "display_data",
          "data": {
            "text/plain": [
              "<PIL.Image.Image image mode=RGB size=224x224>"
            ],
            "image/png": "[encoded data removed]"
          },
          "metadata": {}
        },
        {
          "output_type": "display_data",
          "data": {
            "text/plain": [
              "<PIL.Image.Image image mode=RGB size=224x224>"
            ],
            "image/png": "[encoded data removed]"
          },
          "metadata": {}
        },
        {
          "output_type": "display_data",
          "data": {
            "text/plain": [
              "<PIL.Image.Image image mode=RGB size=224x224>"
            ],
            "image/png": "[encoded data removed]"
          },
          "metadata": {}
        },
        {
          "output_type": "display_data",
          "data": {
            "text/plain": [
              "<PIL.Image.Image image mode=RGB size=224x224>"
            ],
            "image/png": "[encoded data removed]"
          },
          "metadata": {}
        },
        {
          "output_type": "display_data",
          "data": {
            "text/plain": [
              "<PIL.Image.Image image mode=RGB size=224x224>"
            ],
            "image/png": "[encoded data removed]"
          },
          "metadata": {}
        },
        {
          "output_type": "display_data",
          "data": {
            "text/plain": [
              "<PIL.Image.Image image mode=RGB size=224x224>"
            ],
            "image/png": "[encoded data removed]"
          },
          "metadata": {}
        },
        {
          "output_type": "display_data",
          "data": {
            "text/plain": [
              "<PIL.Image.Image image mode=RGB size=224x224>"
            ],
            "image/png": "[encoded data removed]"
          },
          "metadata": {}
        },
        {
          "output_type": "display_data",
          "data": {
            "text/plain": [
              "<PIL.Image.Image image mode=RGB size=224x224>"
            ],
            "image/png": "[encoded data removed]"
          },
          "metadata": {}
        },
        {
          "output_type": "display_data",
          "data": {
            "text/plain": [
              "<PIL.Image.Image image mode=RGB size=224x224>"
            ],
            "image/png": "[encoded data removed]"
          },
          "metadata": {}
        },
        {
          "output_type": "display_data",
          "data": {
            "text/plain": [
              "<PIL.Image.Image image mode=RGB size=224x224>"
            ],
            "image/png": "[encoded data removed]"
          },
          "metadata": {}
        },
        {
          "output_type": "display_data",
          "data": {
            "text/plain": [
              "<PIL.Image.Image image mode=RGB size=224x224>"
            ],
            "image/png": "[encoded data removed]"
          },
          "metadata": {}
        },
        {
          "output_type": "display_data",
          "data": {
            "text/plain": [
              "<PIL.Image.Image image mode=RGB size=224x224>"
            ],
            "image/png": "[encoded data removed]"
          },
          "metadata": {}
        },
        {
          "output_type": "display_data",
          "data": {
            "text/plain": [
              "<PIL.Image.Image image mode=RGB size=224x224>"
            ],
            "image/png": "[encoded data removed]"
          },
          "metadata": {}
        },
        {
          "output_type": "display_data",
          "data": {
            "text/plain": [
              "<PIL.Image.Image image mode=RGB size=224x224>"
            ],
            "image/png": "[encoded data removed]"
          },
          "metadata": {}
        },
        {
          "output_type": "display_data",
          "data": {
            "text/plain": [
              "<PIL.Image.Image image mode=RGB size=224x224>"
            ],
            "image/png": "[encoded data removed]"
          },
          "metadata": {}
        },
        {
          "output_type": "display_data",
          "data": {
            "text/plain": [
              "<PIL.Image.Image image mode=RGB size=224x224>"
            ],
            "image/png": "[encoded data removed]"
          },
          "metadata": {}
        },
        {
          "output_type": "display_data",
          "data": {
            "text/plain": [
              "<PIL.Image.Image image mode=RGB size=224x224>"
            ],
            "image/png": "[encoded data removed]"
          },
          "metadata": {}
        },
        {
          "output_type": "display_data",
          "data": {
            "text/plain": [
              "<PIL.Image.Image image mode=RGB size=224x224>"
            ],
            "image/png": "[encoded data removed]"
          },
          "metadata": {}
        },
        {
          "output_type": "display_data",
          "data": {
            "text/plain": [
              "<PIL.Image.Image image mode=RGB size=224x224>"
            ],
            "image/png": "[encoded data removed]"
          },
          "metadata": {}
        },
        {
          "output_type": "display_data",
          "data": {
            "text/plain": [
              "<PIL.Image.Image image mode=RGB size=224x224>"
            ],
            "image/png": "[encoded data removed]"
          },
          "metadata": {}
        },
        {
          "output_type": "display_data",
          "data": {
            "text/plain": [
              "<PIL.Image.Image image mode=RGB size=224x224>"
            ],
            "image/png": "[encoded data removed]"
          },
          "metadata": {}
        },
        {
          "output_type": "display_data",
          "data": {
            "text/plain": [
              "<PIL.Image.Image image mode=RGB size=224x224>"
            ],
            "image/png": "[encoded data removed]"
          },
          "metadata": {}
        },
        {
          "output_type": "display_data",
          "data": {
            "text/plain": [
              "<PIL.Image.Image image mode=RGB size=224x224>"
            ],
            "image/png": "[encoded data removed]"
          },
          "metadata": {}
        },
        {
          "output_type": "display_data",
          "data": {
            "text/plain": [
              "<PIL.Image.Image image mode=RGB size=224x224>"
            ],
            "image/png": "[encoded data removed]"
          },
          "metadata": {}
        },
        {
          "output_type": "display_data",
          "data": {
            "text/plain": [
              "<PIL.Image.Image image mode=RGB size=224x224>"
            ],
            "image/png": "[encoded data removed]"
          },
          "metadata": {}
        },
        {
          "output_type": "display_data",
          "data": {
            "text/plain": [
              "<PIL.Image.Image image mode=RGB size=224x224>"
            ],
            "image/png": "[encoded data removed]"
          },
          "metadata": {}
        },
        {
          "output_type": "display_data",
          "data": {
            "text/plain": [
              "<PIL.Image.Image image mode=RGB size=224x224>"
            ],
            "image/png": "[encoded data removed]"
          },
          "metadata": {}
        },
        {
          "output_type": "display_data",
          "data": {
            "text/plain": [
              "<PIL.Image.Image image mode=RGB size=224x224>"
            ],
            "image/png": "[encoded data removed]"
          },
          "metadata": {}
        },
        {
          "output_type": "display_data",
          "data": {
            "text/plain": [
              "<PIL.Image.Image image mode=RGB size=224x224>"
            ],
            "image/png": "[encoded data removed]"
          },
          "metadata": {}
        },
        {
          "output_type": "display_data",
          "data": {
            "text/plain": [
              "<PIL.Image.Image image mode=RGB size=224x224>"
            ],
            "image/png": "[encoded data removed]"
          },
          "metadata": {}
        },
        {
          "output_type": "display_data",
          "data": {
            "text/plain": [
              "<PIL.Image.Image image mode=RGB size=224x224>"
            ],
            "image/png": "[encoded data removed]"
          },
          "metadata": {}
        },
        {
          "output_type": "display_data",
          "data": {
            "text/plain": [
              "<PIL.Image.Image image mode=RGB size=224x224>"
            ],
            "image/png": "[encoded data removed]"
          },
          "metadata": {}
        },
        {
          "output_type": "display_data",
          "data": {
            "text/plain": [
              "<PIL.Image.Image image mode=RGB size=224x224>"
            ],
            "image/png": "[encoded data removed]"
          },
          "metadata": {}
        },
        {
          "output_type": "display_data",
          "data": {
            "text/plain": [
              "<PIL.Image.Image image mode=RGB size=224x224>"
            ],
            "image/png": "[encoded data removed]"
          },
          "metadata": {}
        },
        {
          "output_type": "display_data",
          "data": {
            "text/plain": [
              "<PIL.Image.Image image mode=RGB size=224x224>"
            ],
            "image/png": "[encoded data removed]"
          },
          "metadata": {}
        },
        {
          "output_type": "display_data",
          "data": {
            "text/plain": [
              "<PIL.Image.Image image mode=RGB size=224x224>"
            ],
            "image/png": "[encoded data removed]"
          },
          "metadata": {}
        },
        {
          "output_type": "display_data",
          "data": {
            "text/plain": [
              "<PIL.Image.Image image mode=RGB size=224x224>"
            ],
            "image/png": "[encoded data removed]"
          },
          "metadata": {}
        },
        {
          "output_type": "display_data",
          "data": {
            "text/plain": [
              "<PIL.Image.Image image mode=RGB size=224x224>"
            ],
            "image/png": "[encoded data removed]"
          },
          "metadata": {}
        },
        {
          "output_type": "display_data",
          "data": {
            "text/plain": [
              "<PIL.Image.Image image mode=RGB size=224x224>"
            ],
            "image/png": "[encoded data removed]"
          },
          "metadata": {}
        },
        {
          "output_type": "display_data",
          "data": {
            "text/plain": [
              "<PIL.Image.Image image mode=RGB size=224x224>"
            ],
            "image/png": "[encoded data removed]"
          },
          "metadata": {}
        },
        {
          "output_type": "display_data",
          "data": {
            "text/plain": [
              "<PIL.Image.Image image mode=RGB size=224x224>"
            ],
            "image/png": "[encoded data removed]"
          },
          "metadata": {}
        },
        {
          "output_type": "display_data",
          "data": {
            "text/plain": [
              "<PIL.Image.Image image mode=RGB size=224x224>"
            ],
            "image/png": "[encoded data removed]"
          },
          "metadata": {}
        },
        {
          "output_type": "display_data",
          "data": {
            "text/plain": [
              "<PIL.Image.Image image mode=RGB size=224x224>"
            ],
            "image/png": "[encoded data removed]"
          },
          "metadata": {}
        },
        {
          "output_type": "display_data",
          "data": {
            "text/plain": [
              "<PIL.Image.Image image mode=RGB size=224x224>"
            ],
            "image/png": "[encoded data removed]"
          },
          "metadata": {}
        },
        {
          "output_type": "display_data",
          "data": {
            "text/plain": [
              "<PIL.Image.Image image mode=RGB size=224x224>"
            ],
            "image/png": "[encoded data removed]"
          },
          "metadata": {}
        },
        {
          "output_type": "display_data",
          "data": {
            "text/plain": [
              "<PIL.Image.Image image mode=RGB size=224x224>"
            ],
            "image/png": "[encoded data removed]"
          },
          "metadata": {}
        },
        {
          "output_type": "display_data",
          "data": {
            "text/plain": [
              "<PIL.Image.Image image mode=RGB size=224x224>"
            ],
            "image/png": "[encoded data removed]"
          },
          "metadata": {}
        },
        {
          "output_type": "display_data",
          "data": {
            "text/plain": [
              "<PIL.Image.Image image mode=RGB size=224x224>"
            ],
            "image/png": "[encoded data removed]"
          },
          "metadata": {}
        },
        {
          "output_type": "display_data",
          "data": {
            "text/plain": [
              "<PIL.Image.Image image mode=RGB size=224x224>"
            ],
            "image/png": "[encoded data removed]"
          },
          "metadata": {}
        },
        {
          "output_type": "display_data",
          "data": {
            "text/plain": [
              "<PIL.Image.Image image mode=RGB size=224x224>"
            ],
            "image/png": "[encoded data removed]"
          },
          "metadata": {}
        },
        {
          "output_type": "display_data",
          "data": {
            "text/plain": [
              "<PIL.Image.Image image mode=RGB size=224x224>"
            ],
            "image/png": "[encoded data removed]"
          },
          "metadata": {}
        },
        {
          "output_type": "display_data",
          "data": {
            "text/plain": [
              "<PIL.Image.Image image mode=RGB size=224x224>"
            ],
            "image/png": "[encoded data removed]"
          },
          "metadata": {}
        },
        {
          "output_type": "display_data",
          "data": {
            "text/plain": [
              "<PIL.Image.Image image mode=RGB size=224x224>"
            ],
            "image/png": "[encoded data removed]"
          },
          "metadata": {}
        },
        {
          "output_type": "display_data",
          "data": {
            "text/plain": [
              "<PIL.Image.Image image mode=RGB size=224x224>"
            ],
            "image/png": "[encoded data removed]"
          },
          "metadata": {}
        },
        {
          "output_type": "display_data",
          "data": {
            "text/plain": [
              "<PIL.Image.Image image mode=RGB size=224x224>"
            ],
            "image/png": "[encoded data removed]"
          },
          "metadata": {}
        },
        {
          "output_type": "display_data",
          "data": {
            "text/plain": [
              "<PIL.Image.Image image mode=RGB size=224x224>"
            ],
            "image/png": "[encoded data removed]"
          },
          "metadata": {}
        },
        {
          "output_type": "display_data",
          "data": {
            "text/plain": [
              "<PIL.Image.Image image mode=RGB size=224x224>"
            ],
            "image/png": "[encoded data removed]"
          },
          "metadata": {}
        },
        {
          "output_type": "display_data",
          "data": {
            "text/plain": [
              "<PIL.Image.Image image mode=RGB size=224x224>"
            ],
            "image/png": "[encoded data removed]"
          },
          "metadata": {}
        },
        {
          "output_type": "display_data",
          "data": {
            "text/plain": [
              "<PIL.Image.Image image mode=RGB size=224x224>"
            ],
            "image/png": "[encoded data removed]"
          },
          "metadata": {}
        },
        {
          "output_type": "display_data",
          "data": {
            "text/plain": [
              "<PIL.Image.Image image mode=RGB size=224x224>"
            ],
            "image/png": "[encoded data removed]"
          },
          "metadata": {}
        },
        {
          "output_type": "display_data",
          "data": {
            "text/plain": [
              "<PIL.Image.Image image mode=RGB size=224x224>"
            ],
            "image/png": "[encoded data removed]"
          },
          "metadata": {}
        },
        {
          "output_type": "display_data",
          "data": {
            "text/plain": [
              "<PIL.Image.Image image mode=RGB size=224x224>"
            ],
            "image/png": "[encoded data removed]"
          },
          "metadata": {}
        },
        {
          "output_type": "display_data",
          "data": {
            "text/plain": [
              "<PIL.Image.Image image mode=RGB size=224x224>"
            ],
            "image/png": "[encoded data removed]"
          },
          "metadata": {}
        },
        {
          "output_type": "display_data",
          "data": {
            "text/plain": [
              "<PIL.Image.Image image mode=RGB size=224x224>"
            ],
            "image/png": "[encoded data removed]"
          },
          "metadata": {}
        },
        {
          "output_type": "display_data",
          "data": {
            "text/plain": [
              "<PIL.Image.Image image mode=RGB size=224x224>"
            ],
            "image/png": "[encoded data removed]"
          },
          "metadata": {}
        },
        {
          "output_type": "display_data",
          "data": {
            "text/plain": [
              "<PIL.Image.Image image mode=RGB size=224x224>"
            ],
            "image/png": "[encoded data removed]"
          },
          "metadata": {}
        },
        {
          "output_type": "display_data",
          "data": {
            "text/plain": [
              "<PIL.Image.Image image mode=RGB size=224x224>"
            ],
            "image/png": "[encoded data removed]"
          },
          "metadata": {}
        },
        {
          "output_type": "display_data",
          "data": {
            "text/plain": [
              "<PIL.Image.Image image mode=RGB size=224x224>"
            ],
            "image/png": "[encoded data removed]"
          },
          "metadata": {}
        },
        {
          "output_type": "display_data",
          "data": {
            "text/plain": [
              "<PIL.Image.Image image mode=RGB size=224x224>"
            ],
            "image/png": "[encoded data removed]"
          },
          "metadata": {}
        },
        {
          "output_type": "display_data",
          "data": {
            "text/plain": [
              "<PIL.Image.Image image mode=RGB size=224x224>"
            ],
            "image/png": "[encoded data removed]"
          },
          "metadata": {}
        },
        {
          "output_type": "display_data",
          "data": {
            "text/plain": [
              "<PIL.Image.Image image mode=RGB size=224x224>"
            ],
            "image/png": "[encoded data removed]"
          },
          "metadata": {}
        },
        {
          "output_type": "display_data",
          "data": {
            "text/plain": [
              "<PIL.Image.Image image mode=RGB size=224x224>"
            ],
            "image/png": "[encoded data removed]"
          },
          "metadata": {}
        },
        {
          "output_type": "display_data",
          "data": {
            "text/plain": [
              "<PIL.Image.Image image mode=RGB size=224x224>"
            ],
            "image/png": "[encoded data removed]"
          },
          "metadata": {}
        },
        {
          "output_type": "display_data",
          "data": {
            "text/plain": [
              "<PIL.Image.Image image mode=RGB size=224x224>"
            ],
            "image/png": "[encoded data removed]"
          },
          "metadata": {}
        },
        {
          "output_type": "display_data",
          "data": {
            "text/plain": [
              "<PIL.Image.Image image mode=RGB size=224x224>"
            ],
            "image/png": "[encoded data removed]"
          },
          "metadata": {}
        },
        {
          "output_type": "display_data",
          "data": {
            "text/plain": [
              "<PIL.Image.Image image mode=RGB size=224x224>"
            ],
            "image/png": "[encoded data removed]"
          },
          "metadata": {}
        },
        {
          "output_type": "display_data",
          "data": {
            "text/plain": [
              "<PIL.Image.Image image mode=RGB size=224x224>"
            ],
            "image/png": "[encoded data removed]"
          },
          "metadata": {}
        },
        {
          "output_type": "display_data",
          "data": {
            "text/plain": [
              "<PIL.Image.Image image mode=RGB size=224x224>"
            ],
            "image/png": "[encoded data removed]"
          },
          "metadata": {}
        },
        {
          "output_type": "display_data",
          "data": {
            "text/plain": [
              "<PIL.Image.Image image mode=RGB size=224x224>"
            ],
            "image/png": "[encoded data removed]"
          },
          "metadata": {}
        },
        {
          "output_type": "display_data",
          "data": {
            "text/plain": [
              "<PIL.Image.Image image mode=RGB size=224x224>"
            ],
            "image/png": "[encoded data removed]"
          },
          "metadata": {}
        },
        {
          "output_type": "display_data",
          "data": {
            "text/plain": [
              "<PIL.Image.Image image mode=RGB size=224x224>"
            ],
            "image/png": "[encoded data removed]"
          },
          "metadata": {}
        },
        {
          "output_type": "display_data",
          "data": {
            "text/plain": [
              "<PIL.Image.Image image mode=RGB size=224x224>"
            ],
            "image/png": "[encoded data removed]"
          },
          "metadata": {}
        },
        {
          "output_type": "display_data",
          "data": {
            "text/plain": [
              "<PIL.Image.Image image mode=RGB size=224x224>"
            ],
            "image/png": "[encoded data removed]"
          },
          "metadata": {}
        },
        {
          "output_type": "display_data",
          "data": {
            "text/plain": [
              "<PIL.Image.Image image mode=RGB size=224x224>"
            ],
            "image/png": "[encoded data removed]"
          },
          "metadata": {}
        },
        {
          "output_type": "display_data",
          "data": {
            "text/plain": [
              "<PIL.Image.Image image mode=RGB size=224x224>"
            ],
            "image/png": "[encoded data removed]"
          },
          "metadata": {}
        },
        {
          "output_type": "display_data",
          "data": {
            "text/plain": [
              "<PIL.Image.Image image mode=RGB size=224x224>"
            ],
            "image/png": "[encoded data removed]"
          },
          "metadata": {}
        },
        {
          "output_type": "display_data",
          "data": {
            "text/plain": [
              "<PIL.Image.Image image mode=RGB size=224x224>"
            ],
            "image/png": "[encoded data removed]"
          },
          "metadata": {}
        },
        {
          "output_type": "display_data",
          "data": {
            "text/plain": [
              "<PIL.Image.Image image mode=RGB size=224x224>"
            ],
            "image/png": "[encoded data removed]"
          },
          "metadata": {}
        },
        {
          "output_type": "display_data",
          "data": {
            "text/plain": [
              "<PIL.Image.Image image mode=RGB size=224x224>"
            ],
            "image/png": "[encoded data removed]"
          },
          "metadata": {}
        },
        {
          "output_type": "display_data",
          "data": {
            "text/plain": [
              "<PIL.Image.Image image mode=RGB size=224x224>"
            ],
            "image/png": "[encoded data removed]"
          },
          "metadata": {}
        },
        {
          "output_type": "display_data",
          "data": {
            "text/plain": [
              "<PIL.Image.Image image mode=RGB size=224x224>"
            ],
            "image/png": "[encoded data removed]"
          },
          "metadata": {}
        },
        {
          "output_type": "display_data",
          "data": {
            "text/plain": [
              "<PIL.Image.Image image mode=RGB size=224x224>"
            ],
            "image/png": "[encoded data removed]"
          },
          "metadata": {}
        },
        {
          "output_type": "display_data",
          "data": {
            "text/plain": [
              "<PIL.Image.Image image mode=RGB size=224x224>"
            ],
            "image/png": "[encoded data removed]"
          },
          "metadata": {}
        },
        {
          "output_type": "display_data",
          "data": {
            "text/plain": [
              "<PIL.Image.Image image mode=RGB size=224x224>"
            ],
            "image/png": "[encoded data removed]"
          },
          "metadata": {}
        },
        {
          "output_type": "display_data",
          "data": {
            "text/plain": [
              "<PIL.Image.Image image mode=RGB size=224x224>"
            ],
            "image/png": "[encoded data removed]"
          },
          "metadata": {}
        },
        {
          "output_type": "display_data",
          "data": {
            "text/plain": [
              "<PIL.Image.Image image mode=RGB size=224x224>"
            ],
            "image/png": "[encoded data removed]"
          },
          "metadata": {}
        },
        {
          "output_type": "display_data",
          "data": {
            "text/plain": [
              "<PIL.Image.Image image mode=RGB size=224x224>"
            ],
            "image/png": "[encoded data removed]"
          },
          "metadata": {}
        },
        {
          "output_type": "display_data",
          "data": {
            "text/plain": [
              "<PIL.Image.Image image mode=RGB size=224x224>"
            ],
            "image/png": "[encoded data removed]"
          },
          "metadata": {}
        },
        {
          "output_type": "display_data",
          "data": {
            "text/plain": [
              "<PIL.Image.Image image mode=RGB size=224x224>"
            ],
            "image/png": "[encoded data removed]"
          },
          "metadata": {}
        },
        {
          "output_type": "display_data",
          "data": {
            "text/plain": [
              "<PIL.Image.Image image mode=RGB size=224x224>"
            ],
            "image/png": "[encoded data removed]"
          },
          "metadata": {}
        },
        {
          "output_type": "display_data",
          "data": {
            "text/plain": [
              "<PIL.Image.Image image mode=RGB size=224x224>"
            ],
            "image/png": "[encoded data removed]"
          },
          "metadata": {}
        },
        {
          "output_type": "display_data",
          "data": {
            "text/plain": [
              "<PIL.Image.Image image mode=RGB size=224x224>"
            ],
            "image/png": "[encoded data removed]"
          },
          "metadata": {}
        },
        {
          "output_type": "display_data",
          "data": {
            "text/plain": [
              "<PIL.Image.Image image mode=RGB size=224x224>"
            ],
            "image/png": "[encoded data removed]"
          },
          "metadata": {}
        },
        {
          "output_type": "display_data",
          "data": {
            "text/plain": [
              "<PIL.Image.Image image mode=RGB size=224x224>"
            ],
            "image/png": "[encoded data removed]"
          },
          "metadata": {}
        },
        {
          "output_type": "display_data",
          "data": {
            "text/plain": [
              "<PIL.Image.Image image mode=RGB size=224x224>"
            ],
            "image/png": "[encoded data removed]"
          },
          "metadata": {}
        },
        {
          "output_type": "display_data",
          "data": {
            "text/plain": [
              "<PIL.Image.Image image mode=RGB size=224x224>"
            ],
            "image/png": "[encoded data removed]"
          },
          "metadata": {}
        },
        {
          "output_type": "display_data",
          "data": {
            "text/plain": [
              "<PIL.Image.Image image mode=RGB size=224x224>"
            ],
            "image/png": "[encoded data removed]"
          },
          "metadata": {}
        },
        {
          "output_type": "display_data",
          "data": {
            "text/plain": [
              "<PIL.Image.Image image mode=RGB size=224x224>"
            ],
            "image/png": "[encoded data removed]"
          },
          "metadata": {}
        },
        {
          "output_type": "display_data",
          "data": {
            "text/plain": [
              "<PIL.Image.Image image mode=RGB size=224x224>"
            ],
            "image/png": "[encoded data removed]"
          },
          "metadata": {}
        },
        {
          "output_type": "display_data",
          "data": {
            "text/plain": [
              "<PIL.Image.Image image mode=RGB size=224x224>"
            ],
            "image/png": "[encoded data removed]"
          },
          "metadata": {}
        },
        {
          "output_type": "display_data",
          "data": {
            "text/plain": [
              "<PIL.Image.Image image mode=RGB size=224x224>"
            ],
            "image/png": "[encoded data removed]"
          },
          "metadata": {}
        },
        {
          "output_type": "display_data",
          "data": {
            "text/plain": [
              "<PIL.Image.Image image mode=RGB size=224x224>"
            ],
            "image/png": "[encoded data removed]"
          },
          "metadata": {}
        },
        {
          "output_type": "display_data",
          "data": {
            "text/plain": [
              "<PIL.Image.Image image mode=RGB size=224x224>"
            ],
            "image/png": "[encoded data removed]"
          },
          "metadata": {}
        },
        {
          "output_type": "display_data",
          "data": {
            "text/plain": [
              "<PIL.Image.Image image mode=RGB size=224x224>"
            ],
            "image/png": "[encoded data removed]"
          },
          "metadata": {}
        },
        {
          "output_type": "display_data",
          "data": {
            "text/plain": [
              "<PIL.Image.Image image mode=RGB size=224x224>"
            ],
            "image/png": "[encoded data removed]"
          },
          "metadata": {}
        },
        {
          "output_type": "display_data",
          "data": {
            "text/plain": [
              "<PIL.Image.Image image mode=RGB size=224x224>"
            ],
            "image/png": "[encoded data removed]"
          },
          "metadata": {}
        },
        {
          "output_type": "display_data",
          "data": {
            "text/plain": [
              "<PIL.Image.Image image mode=RGB size=224x224>"
            ],
            "image/png": "[encoded data removed]"
          },
          "metadata": {}
        },
        {
          "output_type": "display_data",
          "data": {
            "text/plain": [
              "<PIL.Image.Image image mode=RGB size=224x224>"
            ],
            "image/png": "[encoded data removed]"
          },
          "metadata": {}
        },
        {
          "output_type": "display_data",
          "data": {
            "text/plain": [
              "<PIL.Image.Image image mode=RGB size=224x224>"
            ],
            "image/png": "[encoded data removed]"
          },
          "metadata": {}
        },
        {
          "output_type": "display_data",
          "data": {
            "text/plain": [
              "<PIL.Image.Image image mode=RGB size=224x224>"
            ],
            "image/png": "[encoded data removed]"
          },
          "metadata": {}
        },
        {
          "output_type": "display_data",
          "data": {
            "text/plain": [
              "<PIL.Image.Image image mode=RGB size=224x224>"
            ],
            "image/png": "[encoded data removed]"
          },
          "metadata": {}
        },
        {
          "output_type": "display_data",
          "data": {
            "text/plain": [
              "<PIL.Image.Image image mode=RGB size=224x224>"
            ],
            "image/png": "[encoded data removed]"
          },
          "metadata": {}
        },
        {
          "output_type": "display_data",
          "data": {
            "text/plain": [
              "<PIL.Image.Image image mode=RGB size=224x224>"
            ],
            "image/png": "[encoded data removed]"
          },
          "metadata": {}
        },
        {
          "output_type": "display_data",
          "data": {
            "text/plain": [
              "<PIL.Image.Image image mode=RGB size=224x224>"
            ],
            "image/png": "[encoded data removed]"
          },
          "metadata": {}
        },
        {
          "output_type": "display_data",
          "data": {
            "text/plain": [
              "<PIL.Image.Image image mode=RGB size=224x224>"
            ],
            "image/png": "[encoded data removed]"
          },
          "metadata": {}
        },
        {
          "output_type": "display_data",
          "data": {
            "text/plain": [
              "<PIL.Image.Image image mode=RGB size=224x224>"
            ],
            "image/png": "[encoded data removed]"
          },
          "metadata": {}
        },
        {
          "output_type": "display_data",
          "data": {
            "text/plain": [
              "<PIL.Image.Image image mode=RGB size=224x224>"
            ],
            "image/png": "[encoded data removed]"
          },
          "metadata": {}
        },
        {
          "output_type": "display_data",
          "data": {
            "text/plain": [
              "<PIL.Image.Image image mode=RGB size=224x224>"
            ],
            "image/png": "[encoded data removed]"
          },
          "metadata": {}
        },
        {
          "output_type": "display_data",
          "data": {
            "text/plain": [
              "<PIL.Image.Image image mode=RGB size=224x224>"
            ],
            "image/png": "[encoded data removed]"
          },
          "metadata": {}
        },
        {
          "output_type": "display_data",
          "data": {
            "text/plain": [
              "<PIL.Image.Image image mode=RGB size=224x224>"
            ],
            "image/png": "[encoded data removed]"
          },
          "metadata": {}
        },
        {
          "output_type": "display_data",
          "data": {
            "text/plain": [
              "<PIL.Image.Image image mode=RGB size=224x224>"
            ],
            "image/png": "[encoded data removed]"
          },
          "metadata": {}
        },
        {
          "output_type": "display_data",
          "data": {
            "text/plain": [
              "<PIL.Image.Image image mode=RGB size=224x224>"
            ],
            "image/png": "[encoded data removed]"
          },
          "metadata": {}
        },
        {
          "output_type": "display_data",
          "data": {
            "text/plain": [
              "<PIL.Image.Image image mode=RGB size=224x224>"
            ],
            "image/png": "[encoded data removed]"
          },
          "metadata": {}
        },
        {
          "output_type": "display_data",
          "data": {
            "text/plain": [
              "<PIL.Image.Image image mode=RGB size=224x224>"
            ],
            "image/png": "[encoded data removed]"
          },
          "metadata": {}
        },
        {
          "output_type": "display_data",
          "data": {
            "text/plain": [
              "<PIL.Image.Image image mode=RGB size=224x224>"
            ],
            "image/png": "[encoded data removed]"
          },
          "metadata": {}
        },
        {
          "output_type": "display_data",
          "data": {
            "text/plain": [
              "<PIL.Image.Image image mode=RGB size=224x224>"
            ],
            "image/png": "[encoded data removed]"
          },
          "metadata": {}
        },
        {
          "output_type": "display_data",
          "data": {
            "text/plain": [
              "<PIL.Image.Image image mode=RGB size=224x224>"
            ],
            "image/png": "[encoded data removed]"
          },
          "metadata": {}
        },
        {
          "output_type": "display_data",
          "data": {
            "text/plain": [
              "<PIL.Image.Image image mode=RGB size=224x224>"
            ],
            "image/png": "[encoded data removed]"
          },
          "metadata": {}
        },
        {
          "output_type": "display_data",
          "data": {
            "text/plain": [
              "<PIL.Image.Image image mode=RGB size=224x224>"
            ],
            "image/png": "[encoded data removed]"
          },
          "metadata": {}
        },
        {
          "output_type": "display_data",
          "data": {
            "text/plain": [
              "<PIL.Image.Image image mode=RGB size=224x224>"
            ],
            "image/png": "[encoded data removed]"
          },
          "metadata": {}
        },
        {
          "output_type": "display_data",
          "data": {
            "text/plain": [
              "<PIL.Image.Image image mode=RGB size=224x224>"
            ],
            "image/png": "[encoded data removed]"
          },
          "metadata": {}
        },
        {
          "output_type": "display_data",
          "data": {
            "text/plain": [
              "<PIL.Image.Image image mode=RGB size=224x224>"
            ],
            "image/png": "[encoded data removed]"
          },
          "metadata": {}
        },
        {
          "output_type": "display_data",
          "data": {
            "text/plain": [
              "<PIL.Image.Image image mode=RGB size=224x224>"
            ],
            "image/png": "[encoded data removed]"
          },
          "metadata": {}
        },
        {
          "output_type": "display_data",
          "data": {
            "text/plain": [
              "<PIL.Image.Image image mode=RGB size=224x224>"
            ],
            "image/png": "[encoded data removed]"
          },
          "metadata": {}
        },
        {
          "output_type": "display_data",
          "data": {
            "text/plain": [
              "<PIL.Image.Image image mode=RGB size=224x224>"
            ],
            "image/png": "[encoded data removed]"
          },
          "metadata": {}
        },
        {
          "output_type": "display_data",
          "data": {
            "text/plain": [
              "<PIL.Image.Image image mode=RGB size=224x224>"
            ],
            "image/png": "[encoded data removed]"
          },
          "metadata": {}
        },
        {
          "output_type": "display_data",
          "data": {
            "text/plain": [
              "<PIL.Image.Image image mode=RGB size=224x224>"
            ],
            "image/png": "[encoded data removed]"
          },
          "metadata": {}
        },
        {
          "output_type": "display_data",
          "data": {
            "text/plain": [
              "<PIL.Image.Image image mode=RGB size=224x224>"
            ],
            "image/png": "[encoded data removed]"
          },
          "metadata": {}
        },
        {
          "output_type": "display_data",
          "data": {
            "text/plain": [
              "<PIL.Image.Image image mode=RGB size=224x224>"
            ],
            "image/png": "[encoded data removed]"
          },
          "metadata": {}
        },
        {
          "output_type": "display_data",
          "data": {
            "text/plain": [
              "<PIL.Image.Image image mode=RGB size=224x224>"
            ],
            "image/png": "[encoded data removed]"
          },
          "metadata": {}
        },
        {
          "output_type": "display_data",
          "data": {
            "text/plain": [
              "<PIL.Image.Image image mode=RGB size=224x224>"
            ],
            "image/png": "[encoded data removed]"
          },
          "metadata": {}
        },
        {
          "output_type": "display_data",
          "data": {
            "text/plain": [
              "<PIL.Image.Image image mode=RGB size=224x224>"
            ],
            "image/png": "[encoded data removed]"
          },
          "metadata": {}
        },
        {
          "output_type": "display_data",
          "data": {
            "text/plain": [
              "<PIL.Image.Image image mode=RGB size=224x224>"
            ],
            "image/png": "[encoded data removed]"
          },
          "metadata": {}
        },
        {
          "output_type": "display_data",
          "data": {
            "text/plain": [
              "<PIL.Image.Image image mode=RGB size=224x224>"
            ],
            "image/png": "[encoded data removed]"
          },
          "metadata": {}
        },
        {
          "output_type": "display_data",
          "data": {
            "text/plain": [
              "<PIL.Image.Image image mode=RGB size=224x224>"
            ],
            "image/png": "[encoded data removed]"
          },
          "metadata": {}
        },
        {
          "output_type": "display_data",
          "data": {
            "text/plain": [
              "<PIL.Image.Image image mode=RGB size=224x224>"
            ],
            "image/png": "[encoded data removed]"
          },
          "metadata": {}
        },
        {
          "output_type": "display_data",
          "data": {
            "text/plain": [
              "<PIL.Image.Image image mode=RGB size=224x224>"
            ],
            "image/png": "[encoded data removed]"
          },
          "metadata": {}
        },
        {
          "output_type": "display_data",
          "data": {
            "text/plain": [
              "<PIL.Image.Image image mode=RGB size=224x224>"
            ],
            "image/png": "[encoded data removed]"
          },
          "metadata": {}
        },
        {
          "output_type": "display_data",
          "data": {
            "text/plain": [
              "<PIL.Image.Image image mode=RGB size=224x224>"
            ],
            "image/png": "[encoded data removed]"
          },
          "metadata": {}
        },
        {
          "output_type": "display_data",
          "data": {
            "text/plain": [
              "<PIL.Image.Image image mode=RGB size=224x224>"
            ],
            "image/png": "[encoded data removed]"
          },
          "metadata": {}
        },
        {
          "output_type": "display_data",
          "data": {
            "text/plain": [
              "<PIL.Image.Image image mode=RGB size=224x224>"
            ],
            "image/png": "[encoded data removed]"
          },
          "metadata": {}
        },
        {
          "output_type": "display_data",
          "data": {
            "text/plain": [
              "<PIL.Image.Image image mode=RGB size=224x224>"
            ],
            "image/png": "[encoded data removed]"
          },
          "metadata": {}
        },
        {
          "output_type": "display_data",
          "data": {
            "text/plain": [
              "<PIL.Image.Image image mode=RGB size=224x224>"
            ],
            "image/png": "[encoded data removed]"
          },
          "metadata": {}
        },
        {
          "output_type": "display_data",
          "data": {
            "text/plain": [
              "<PIL.Image.Image image mode=RGB size=224x224>"
            ],
            "image/png": "[encoded data removed]"
          },
          "metadata": {}
        },
        {
          "output_type": "display_data",
          "data": {
            "text/plain": [
              "<PIL.Image.Image image mode=RGB size=224x224>"
            ],
            "image/png": "[encoded data removed]"
          },
          "metadata": {}
        },
        {
          "output_type": "display_data",
          "data": {
            "text/plain": [
              "<PIL.Image.Image image mode=RGB size=224x224>"
            ],
            "image/png": "[encoded data removed]"
          },
          "metadata": {}
        },
        {
          "output_type": "display_data",
          "data": {
            "text/plain": [
              "<PIL.Image.Image image mode=RGB size=224x224>"
            ],
            "image/png": "[encoded data removed]"
          },
          "metadata": {}
        },
        {
          "output_type": "display_data",
          "data": {
            "text/plain": [
              "<PIL.Image.Image image mode=RGB size=224x224>"
            ],
            "image/png": "[encoded data removed]"
          },
          "metadata": {}
        },
        {
          "output_type": "display_data",
          "data": {
            "text/plain": [
              "<PIL.Image.Image image mode=RGB size=224x224>"
            ],
            "image/png": "[encoded data removed]"
          },
          "metadata": {}
        },
        {
          "output_type": "display_data",
          "data": {
            "text/plain": [
              "<PIL.Image.Image image mode=RGB size=224x224>"
            ],
            "image/png": "[encoded data removed]"
          },
          "metadata": {}
        },
        {
          "output_type": "display_data",
          "data": {
            "text/plain": [
              "<PIL.Image.Image image mode=RGB size=224x224>"
            ],
            "image/png": "[encoded data removed]"
          },
          "metadata": {}
        },
        {
          "output_type": "display_data",
          "data": {
            "text/plain": [
              "<PIL.Image.Image image mode=RGB size=224x224>"
            ],
            "image/png": "[encoded data removed]"
          },
          "metadata": {}
        },
        {
          "output_type": "display_data",
          "data": {
            "text/plain": [
              "<PIL.Image.Image image mode=RGB size=224x224>"
            ],
            "image/png": "[encoded data removed]"
          },
          "metadata": {}
        },
        {
          "output_type": "display_data",
          "data": {
            "text/plain": [
              "<PIL.Image.Image image mode=RGB size=224x224>"
            ],
            "image/png": "[encoded data removed]"
          },
          "metadata": {}
        },
        {
          "output_type": "display_data",
          "data": {
            "text/plain": [
              "<PIL.Image.Image image mode=RGB size=224x224>"
            ],
            "image/png": "[encoded data removed]"
          },
          "metadata": {}
        },
        {
          "output_type": "display_data",
          "data": {
            "text/plain": [
              "<PIL.Image.Image image mode=RGB size=224x224>"
            ],
            "image/png": "[encoded data removed]"
          },
          "metadata": {}
        },
        {
          "output_type": "display_data",
          "data": {
            "text/plain": [
              "<PIL.Image.Image image mode=RGB size=224x224>"
            ],
            "image/png": "[encoded data removed]"
          },
          "metadata": {}
        },
        {
          "output_type": "display_data",
          "data": {
            "text/plain": [
              "<PIL.Image.Image image mode=RGB size=224x224>"
            ],
            "image/png": "[encoded data removed]"
          },
          "metadata": {}
        },
        {
          "output_type": "display_data",
          "data": {
            "text/plain": [
              "<PIL.Image.Image image mode=RGB size=224x224>"
            ],
            "image/png": "[encoded data removed]"
          },
          "metadata": {}
        },
        {
          "output_type": "display_data",
          "data": {
            "text/plain": [
              "<PIL.Image.Image image mode=RGB size=224x224>"
            ],
            "image/png": "[encoded data removed]"
          },
          "metadata": {}
        },
        {
          "output_type": "display_data",
          "data": {
            "text/plain": [
              "<PIL.Image.Image image mode=RGB size=224x224>"
            ],
            "image/png": "[encoded data removed]"
          },
          "metadata": {}
        },
        {
          "output_type": "display_data",
          "data": {
            "text/plain": [
              "<PIL.Image.Image image mode=RGB size=224x224>"
            ],
            "image/png": "[encoded data removed]"
          },
          "metadata": {}
        },
        {
          "output_type": "display_data",
          "data": {
            "text/plain": [
              "<PIL.Image.Image image mode=RGB size=224x224>"
            ],
            "image/png": "[encoded data removed]"
          },
          "metadata": {}
        },
        {
          "output_type": "display_data",
          "data": {
            "text/plain": [
              "<PIL.Image.Image image mode=RGB size=224x224>"
            ],
            "image/png": "[encoded data removed]"
          },
          "metadata": {}
        },
        {
          "output_type": "display_data",
          "data": {
            "text/plain": [
              "<PIL.Image.Image image mode=RGB size=224x224>"
            ],
            "image/png": "[encoded data removed]"
          },
          "metadata": {}
        },
        {
          "output_type": "display_data",
          "data": {
            "text/plain": [
              "<PIL.Image.Image image mode=RGB size=224x224>"
            ],
            "image/png": "[encoded data removed]"
          },
          "metadata": {}
        },
        {
          "output_type": "display_data",
          "data": {
            "text/plain": [
              "<PIL.Image.Image image mode=RGB size=224x224>"
            ],
            "image/png": "[encoded data removed]"
          },
          "metadata": {}
        },
        {
          "output_type": "display_data",
          "data": {
            "text/plain": [
              "<PIL.Image.Image image mode=RGB size=224x224>"
            ],
            "image/png": "[encoded data removed]"
          },
          "metadata": {}
        },
        {
          "output_type": "display_data",
          "data": {
            "text/plain": [
              "<PIL.Image.Image image mode=RGB size=224x224>"
            ],
            "image/png": "[encoded data removed]"
          },
          "metadata": {}
        },
        {
          "output_type": "display_data",
          "data": {
            "text/plain": [
              "<PIL.Image.Image image mode=RGB size=224x224>"
            ],
            "image/png": "[encoded data removed]"
          },
          "metadata": {}
        },
        {
          "output_type": "display_data",
          "data": {
            "text/plain": [
              "<PIL.Image.Image image mode=RGB size=224x224>"
            ],
            "image/png": "[encoded data removed]"
          },
          "metadata": {}
        },
        {
          "output_type": "display_data",
          "data": {
            "text/plain": [
              "<PIL.Image.Image image mode=RGB size=224x224>"
            ],
            "image/png": "[encoded data removed]"
          },
          "metadata": {}
        },
        {
          "output_type": "display_data",
          "data": {
            "text/plain": [
              "<PIL.Image.Image image mode=RGB size=224x224>"
            ],
            "image/png": "[encoded data removed]"
          },
          "metadata": {}
        },
        {
          "output_type": "display_data",
          "data": {
            "text/plain": [
              "<PIL.Image.Image image mode=RGB size=224x224>"
            ],
            "image/png": "[encoded data removed]"
          },
          "metadata": {}
        },
        {
          "output_type": "display_data",
          "data": {
            "text/plain": [
              "<PIL.Image.Image image mode=RGB size=224x224>"
            ],
            "image/png": "[encoded data removed]"
          },
          "metadata": {}
        },
        {
          "output_type": "display_data",
          "data": {
            "text/plain": [
              "<PIL.Image.Image image mode=RGB size=224x224>"
            ],
            "image/png": "[encoded data removed]"
          },
          "metadata": {}
        },
        {
          "output_type": "display_data",
          "data": {
            "text/plain": [
              "<PIL.Image.Image image mode=RGB size=224x224>"
            ],
            "image/png": "[encoded data removed]"
          },
          "metadata": {}
        },
        {
          "output_type": "display_data",
          "data": {
            "text/plain": [
              "<PIL.Image.Image image mode=RGB size=224x224>"
            ],
            "image/png": "[encoded data removed]"
          },
          "metadata": {}
        },
        {
          "output_type": "display_data",
          "data": {
            "text/plain": [
              "<PIL.Image.Image image mode=RGB size=224x224>"
            ],
            "image/png": "[encoded data removed]"
          },
          "metadata": {}
        },
        {
          "output_type": "display_data",
          "data": {
            "text/plain": [
              "<PIL.Image.Image image mode=RGB size=224x224>"
            ],
            "image/png": "[encoded data removed]"
          },
          "metadata": {}
        },
        {
          "output_type": "display_data",
          "data": {
            "text/plain": [
              "<PIL.Image.Image image mode=RGB size=224x224>"
            ],
            "image/png": "[encoded data removed]"
          },
          "metadata": {}
        },
        {
          "output_type": "display_data",
          "data": {
            "text/plain": [
              "<PIL.Image.Image image mode=RGB size=224x224>"
            ],
            "image/png": "[encoded data removed]"
          },
          "metadata": {}
        },
        {
          "output_type": "display_data",
          "data": {
            "text/plain": [
              "<PIL.Image.Image image mode=RGB size=224x224>"
            ],
            "image/png": "[encoded data removed]"
          },
          "metadata": {}
        },
        {
          "output_type": "display_data",
          "data": {
            "text/plain": [
              "<PIL.Image.Image image mode=RGB size=224x224>"
            ],
            "image/png": "[encoded data removed]"
          },
          "metadata": {}
        },
        {
          "output_type": "display_data",
          "data": {
            "text/plain": [
              "<PIL.Image.Image image mode=RGB size=224x224>"
            ],
            "image/png": "[encoded data removed]"
          },
          "metadata": {}
        },
        {
          "output_type": "display_data",
          "data": {
            "text/plain": [
              "<PIL.Image.Image image mode=RGB size=224x224>"
            ],
            "image/png": "[encoded data removed]"
          },
          "metadata": {}
        },
        {
          "output_type": "display_data",
          "data": {
            "text/plain": [
              "<PIL.Image.Image image mode=RGB size=224x224>"
            ],
            "image/png": "[encoded data removed]"
          },
          "metadata": {}
        },
        {
          "output_type": "display_data",
          "data": {
            "text/plain": [
              "<PIL.Image.Image image mode=RGB size=224x224>"
            ],
            "image/png": "[encoded data removed]"
          },
          "metadata": {}
        },
        {
          "output_type": "display_data",
          "data": {
            "text/plain": [
              "<PIL.Image.Image image mode=RGB size=224x224>"
            ],
            "image/png": "[encoded data removed]"
          },
          "metadata": {}
        },
        {
          "output_type": "display_data",
          "data": {
            "text/plain": [
              "<PIL.Image.Image image mode=RGB size=224x224>"
            ],
            "image/png": "[encoded data removed]"
          },
          "metadata": {}
        },
        {
          "output_type": "display_data",
          "data": {
            "text/plain": [
              "<PIL.Image.Image image mode=RGB size=224x224>"
            ],
            "image/png": "[encoded data removed]"
          },
          "metadata": {}
        },
        {
          "output_type": "display_data",
          "data": {
            "text/plain": [
              "<PIL.Image.Image image mode=RGB size=224x224>"
            ],
            "image/png": "[encoded data removed]"
          },
          "metadata": {}
        },
        {
          "output_type": "display_data",
          "data": {
            "text/plain": [
              "<PIL.Image.Image image mode=RGB size=224x224>"
            ],
            "image/png": "[encoded data removed]"
          },
          "metadata": {}
        },
        {
          "output_type": "display_data",
          "data": {
            "text/plain": [
              "<PIL.Image.Image image mode=RGB size=224x224>"
            ],
            "image/png": "[encoded data removed]"
          },
          "metadata": {}
        },
        {
          "output_type": "display_data",
          "data": {
            "text/plain": [
              "<PIL.Image.Image image mode=RGB size=224x224>"
            ],
            "image/png": "[encoded data removed]"
          },
          "metadata": {}
        },
        {
          "output_type": "display_data",
          "data": {
            "text/plain": [
              "<PIL.Image.Image image mode=RGB size=224x224>"
            ],
            "image/png": "[encoded data removed]"
          },
          "metadata": {}
        },
        {
          "output_type": "display_data",
          "data": {
            "text/plain": [
              "<PIL.Image.Image image mode=RGB size=224x224>"
            ],
            "image/png": "[encoded data removed]"
          },
          "metadata": {}
        },
        {
          "output_type": "display_data",
          "data": {
            "text/plain": [
              "<PIL.Image.Image image mode=RGB size=224x224>"
            ],
            "image/png": "[encoded data removed]"
          },
          "metadata": {}
        },
        {
          "output_type": "display_data",
          "data": {
            "text/plain": [
              "<PIL.Image.Image image mode=RGB size=224x224>"
            ],
            "image/png": "[encoded data removed]"
          },
          "metadata": {}
        },
        {
          "output_type": "display_data",
          "data": {
            "text/plain": [
              "<PIL.Image.Image image mode=RGB size=224x224>"
            ],
            "image/png": "[encoded data removed]"
          },
          "metadata": {}
        },
        {
          "output_type": "display_data",
          "data": {
            "text/plain": [
              "<PIL.Image.Image image mode=RGB size=224x224>"
            ],
            "image/png": "[encoded data removed]"
          },
          "metadata": {}
        },
        {
          "output_type": "display_data",
          "data": {
            "text/plain": [
              "<PIL.Image.Image image mode=RGB size=224x224>"
            ],
            "image/png": "[encoded data removed]"
          },
          "metadata": {}
        },
        {
          "output_type": "display_data",
          "data": {
            "text/plain": [
              "<PIL.Image.Image image mode=RGB size=224x224>"
            ],
            "image/png": "[encoded data removed]"
          },
          "metadata": {}
        },
        {
          "output_type": "display_data",
          "data": {
            "text/plain": [
              "<PIL.Image.Image image mode=RGB size=224x224>"
            ],
            "image/png": "[encoded data removed]"
          },
          "metadata": {}
        },
        {
          "output_type": "display_data",
          "data": {
            "text/plain": [
              "<PIL.Image.Image image mode=RGB size=224x224>"
            ],
            "image/png": "[encoded data removed]"
          },
          "metadata": {}
        },
        {
          "output_type": "display_data",
          "data": {
            "text/plain": [
              "<PIL.Image.Image image mode=RGB size=224x224>"
            ],
            "image/png": "[encoded data removed]"
          },
          "metadata": {}
        },
        {
          "output_type": "display_data",
          "data": {
            "text/plain": [
              "<PIL.Image.Image image mode=RGB size=224x224>"
            ],
            "image/png": "[encoded data removed]"
          },
          "metadata": {}
        },
        {
          "output_type": "display_data",
          "data": {
            "text/plain": [
              "<PIL.Image.Image image mode=RGB size=224x224>"
            ],
            "image/png": "[encoded data removed]"
          },
          "metadata": {}
        },
        {
          "output_type": "display_data",
          "data": {
            "text/plain": [
              "<PIL.Image.Image image mode=RGB size=224x224>"
            ],
            "image/png": "[encoded data removed]"
          },
          "metadata": {}
        },
        {
          "output_type": "display_data",
          "data": {
            "text/plain": [
              "<PIL.Image.Image image mode=RGB size=224x224>"
            ],
            "image/png": "[encoded data removed]"
          },
          "metadata": {}
        },
        {
          "output_type": "display_data",
          "data": {
            "text/plain": [
              "<PIL.Image.Image image mode=RGB size=224x224>"
            ],
            "image/png": "[encoded data removed]"
          },
          "metadata": {}
        },
        {
          "output_type": "display_data",
          "data": {
            "text/plain": [
              "<PIL.Image.Image image mode=RGB size=224x224>"
            ],
            "image/png": "[encoded data removed]"
          },
          "metadata": {}
        },
        {
          "output_type": "display_data",
          "data": {
            "text/plain": [
              "<PIL.Image.Image image mode=RGB size=224x224>"
            ],
            "image/png": "[encoded data removed]"
          },
          "metadata": {}
        },
        {
          "output_type": "display_data",
          "data": {
            "text/plain": [
              "<PIL.Image.Image image mode=RGB size=224x224>"
            ],
            "image/png": "[encoded data removed]"
          },
          "metadata": {}
        },
        {
          "output_type": "display_data",
          "data": {
            "text/plain": [
              "<PIL.Image.Image image mode=RGB size=224x224>"
            ],
            "image/png": "[encoded data removed]"
          },
          "metadata": {}
        },
        {
          "output_type": "display_data",
          "data": {
            "text/plain": [
              "<PIL.Image.Image image mode=RGB size=224x224>"
            ],
            "image/png": "[encoded data removed]"
          },
          "metadata": {}
        },
        {
          "output_type": "display_data",
          "data": {
            "text/plain": [
              "<PIL.Image.Image image mode=RGB size=224x224>"
            ],
            "image/png": "[encoded data removed]"
          },
          "metadata": {}
        },
        {
          "output_type": "display_data",
          "data": {
            "text/plain": [
              "<PIL.Image.Image image mode=RGB size=224x224>"
            ],
            "image/png": "[encoded data removed]"
          },
          "metadata": {}
        },
        {
          "output_type": "display_data",
          "data": {
            "text/plain": [
              "<PIL.Image.Image image mode=RGB size=224x224>"
            ],
            "image/png": "[encoded data removed]"
          },
          "metadata": {}
        },
        {
          "output_type": "display_data",
          "data": {
            "text/plain": [
              "<PIL.Image.Image image mode=RGB size=224x224>"
            ],
            "image/png": "[encoded data removed]"
          },
          "metadata": {}
        },
        {
          "output_type": "display_data",
          "data": {
            "text/plain": [
              "<PIL.Image.Image image mode=RGB size=224x224>"
            ],
            "image/png": "[encoded data removed]"
          },
          "metadata": {}
        },
        {
          "output_type": "display_data",
          "data": {
            "text/plain": [
              "<PIL.Image.Image image mode=RGB size=224x224>"
            ],
            "image/png": "[encoded data removed]"
          },
          "metadata": {}
        },
        {
          "output_type": "display_data",
          "data": {
            "text/plain": [
              "<PIL.Image.Image image mode=RGB size=224x224>"
            ],
            "image/png": "[encoded data removed]"
          },
          "metadata": {}
        },
        {
          "output_type": "display_data",
          "data": {
            "text/plain": [
              "<PIL.Image.Image image mode=RGB size=224x224>"
            ],
            "image/png": "[encoded data removed]"
          },
          "metadata": {}
        },
        {
          "output_type": "display_data",
          "data": {
            "text/plain": [
              "<PIL.Image.Image image mode=RGB size=224x224>"
            ],
            "image/png": "[encoded data removed]"
          },
          "metadata": {}
        },
        {
          "output_type": "display_data",
          "data": {
            "text/plain": [
              "<PIL.Image.Image image mode=RGB size=224x224>"
            ],
            "image/png": "[encoded data removed]"
          },
          "metadata": {}
        },
        {
          "output_type": "display_data",
          "data": {
            "text/plain": [
              "<PIL.Image.Image image mode=RGB size=224x224>"
            ],
            "image/png": "[encoded data removed]"
          },
          "metadata": {}
        },
        {
          "output_type": "display_data",
          "data": {
            "text/plain": [
              "<PIL.Image.Image image mode=RGB size=224x224>"
            ],
            "image/png": "[encoded data removed]"
          },
          "metadata": {}
        },
        {
          "output_type": "display_data",
          "data": {
            "text/plain": [
              "<PIL.Image.Image image mode=RGB size=224x224>"
            ],
            "image/png": "[encoded data removed]"
          },
          "metadata": {}
        },
        {
          "output_type": "display_data",
          "data": {
            "text/plain": [
              "<PIL.Image.Image image mode=RGB size=224x224>"
            ],
            "image/png": "[encoded data removed]"
          },
          "metadata": {}
        },
        {
          "output_type": "display_data",
          "data": {
            "text/plain": [
              "<PIL.Image.Image image mode=RGB size=224x224>"
            ],
            "image/png": "[encoded data removed]"
          },
          "metadata": {}
        },
        {
          "output_type": "display_data",
          "data": {
            "text/plain": [
              "<PIL.Image.Image image mode=RGB size=224x224>"
            ],
            "image/png": "[encoded data removed]"
          },
          "metadata": {}
        },
        {
          "output_type": "display_data",
          "data": {
            "text/plain": [
              "<PIL.Image.Image image mode=RGB size=224x224>"
            ],
            "image/png": "[encoded data removed]"
          },
          "metadata": {}
        },
        {
          "output_type": "display_data",
          "data": {
            "text/plain": [
              "<PIL.Image.Image image mode=RGB size=224x224>"
            ],
            "image/png": "[encoded data removed]"
          },
          "metadata": {}
        },
        {
          "output_type": "display_data",
          "data": {
            "text/plain": [
              "<PIL.Image.Image image mode=RGB size=224x224>"
            ],
            "image/png": "[encoded data removed]"
          },
          "metadata": {}
        },
        {
          "output_type": "display_data",
          "data": {
            "text/plain": [
              "<PIL.Image.Image image mode=RGB size=224x224>"
            ],
            "image/png": "[encoded data removed]"
          },
          "metadata": {}
        },
        {
          "output_type": "display_data",
          "data": {
            "text/plain": [
              "<PIL.Image.Image image mode=RGB size=224x224>"
            ],
            "image/png": "[encoded data removed]"
          },
          "metadata": {}
        },
        {
          "output_type": "display_data",
          "data": {
            "text/plain": [
              "<PIL.Image.Image image mode=RGB size=224x224>"
            ],
            "image/png": "[encoded data removed]"
          },
          "metadata": {}
        },
        {
          "output_type": "display_data",
          "data": {
            "text/plain": [
              "<PIL.Image.Image image mode=RGB size=224x224>"
            ],
            "image/png": "[encoded data removed]"
          },
          "metadata": {}
        },
        {
          "output_type": "display_data",
          "data": {
            "text/plain": [
              "<PIL.Image.Image image mode=RGB size=224x224>"
            ],
            "image/png": "[encoded data removed]"
          },
          "metadata": {}
        },
        {
          "output_type": "display_data",
          "data": {
            "text/plain": [
              "<PIL.Image.Image image mode=RGB size=224x224>"
            ],
            "image/png": "[encoded data removed]"
          },
          "metadata": {}
        },
        {
          "output_type": "display_data",
          "data": {
            "text/plain": [
              "<PIL.Image.Image image mode=RGB size=224x224>"
            ],
            "image/png": "[encoded data removed]"
          },
          "metadata": {}
        },
        {
          "output_type": "display_data",
          "data": {
            "text/plain": [
              "<PIL.Image.Image image mode=RGB size=224x224>"
            ],
            "image/png": "[encoded data removed]"
          },
          "metadata": {}
        },
        {
          "output_type": "display_data",
          "data": {
            "text/plain": [
              "<PIL.Image.Image image mode=RGB size=224x224>"
            ],
            "image/png": "[encoded data removed]"
          },
          "metadata": {}
        },
        {
          "output_type": "display_data",
          "data": {
            "text/plain": [
              "<PIL.Image.Image image mode=RGB size=224x224>"
            ],
            "image/png": "[encoded data removed]"
          },
          "metadata": {}
        },
        {
          "output_type": "display_data",
          "data": {
            "text/plain": [
              "<PIL.Image.Image image mode=RGB size=224x224>"
            ],
            "image/png": "[encoded data removed]"
          },
          "metadata": {}
        },
        {
          "output_type": "display_data",
          "data": {
            "text/plain": [
              "<PIL.Image.Image image mode=RGB size=224x224>"
            ],
            "image/png": "[encoded data removed]"
          },
          "metadata": {}
        },
        {
          "output_type": "display_data",
          "data": {
            "text/plain": [
              "<PIL.Image.Image image mode=RGB size=224x224>"
            ],
            "image/png": "[encoded data removed]"
          },
          "metadata": {}
        },
        {
          "output_type": "display_data",
          "data": {
            "text/plain": [
              "<PIL.Image.Image image mode=RGB size=224x224>"
            ],
            "image/png": "[encoded data removed]"
          },
          "metadata": {}
        },
        {
          "output_type": "display_data",
          "data": {
            "text/plain": [
              "<PIL.Image.Image image mode=RGB size=224x224>"
            ],
            "image/png": "[encoded data removed]"
          },
          "metadata": {}
        },
        {
          "output_type": "display_data",
          "data": {
            "text/plain": [
              "<PIL.Image.Image image mode=RGB size=224x224>"
            ],
            "image/png": "[encoded data removed]"
          },
          "metadata": {}
        },
        {
          "output_type": "display_data",
          "data": {
            "text/plain": [
              "<PIL.Image.Image image mode=RGB size=224x224>"
            ],
            "image/png": "[encoded data removed]"
          },
          "metadata": {}
        },
        {
          "output_type": "display_data",
          "data": {
            "text/plain": [
              "<PIL.Image.Image image mode=RGB size=224x224>"
            ],
            "image/png": "[encoded data removed]"
          },
          "metadata": {}
        },
        {
          "output_type": "display_data",
          "data": {
            "text/plain": [
              "<PIL.Image.Image image mode=RGB size=224x224>"
            ],
            "image/png": "[encoded data removed]"
          },
          "metadata": {}
        },
        {
          "output_type": "display_data",
          "data": {
            "text/plain": [
              "<PIL.Image.Image image mode=RGB size=224x224>"
            ],
            "image/png": "[encoded data removed]"
          },
          "metadata": {}
        },
        {
          "output_type": "display_data",
          "data": {
            "text/plain": [
              "<PIL.Image.Image image mode=RGB size=224x224>"
            ],
            "image/png": "[encoded data removed]"
          },
          "metadata": {}
        },
        {
          "output_type": "display_data",
          "data": {
            "text/plain": [
              "<PIL.Image.Image image mode=RGB size=224x224>"
            ],
            "image/png": "[encoded data removed]"
          },
          "metadata": {}
        },
        {
          "output_type": "display_data",
          "data": {
            "text/plain": [
              "<PIL.Image.Image image mode=RGB size=224x224>"
            ],
            "image/png": "[encoded data removed]"
          },
          "metadata": {}
        },
        {
          "output_type": "display_data",
          "data": {
            "text/plain": [
              "<PIL.Image.Image image mode=RGB size=224x224>"
            ],
            "image/png": "[encoded data removed]"
          },
          "metadata": {}
        },
        {
          "output_type": "display_data",
          "data": {
            "text/plain": [
              "<PIL.Image.Image image mode=RGB size=224x224>"
            ],
            "image/png": "[encoded data removed]"
          },
          "metadata": {}
        },
        {
          "output_type": "display_data",
          "data": {
            "text/plain": [
              "<PIL.Image.Image image mode=RGB size=224x224>"
            ],
            "image/png": "[encoded data removed]"
          },
          "metadata": {}
        },
        {
          "output_type": "display_data",
          "data": {
            "text/plain": [
              "<PIL.Image.Image image mode=RGB size=224x224>"
            ],
            "image/png": "[encoded data removed]"
          },
          "metadata": {}
        },
        {
          "output_type": "display_data",
          "data": {
            "text/plain": [
              "<PIL.Image.Image image mode=RGB size=224x224>"
            ],
            "image/png": "[encoded data removed]"
          },
          "metadata": {}
        },
        {
          "output_type": "display_data",
          "data": {
            "text/plain": [
              "<PIL.Image.Image image mode=RGB size=224x224>"
            ],
            "image/png": "[encoded data removed]"
          },
          "metadata": {}
        },
        {
          "output_type": "display_data",
          "data": {
            "text/plain": [
              "<PIL.Image.Image image mode=RGB size=224x224>"
            ],
            "image/png": "[encoded data removed]"
          },
          "metadata": {}
        },
        {
          "output_type": "display_data",
          "data": {
            "text/plain": [
              "<PIL.Image.Image image mode=RGB size=224x224>"
            ],
            "image/png": "[encoded data removed]"
          },
          "metadata": {}
        },
        {
          "output_type": "display_data",
          "data": {
            "text/plain": [
              "<PIL.Image.Image image mode=RGB size=224x224>"
            ],
            "image/png": "[encoded data removed]"
          },
          "metadata": {}
        },
        {
          "output_type": "display_data",
          "data": {
            "text/plain": [
              "<PIL.Image.Image image mode=RGB size=224x224>"
            ],
            "image/png": "[encoded data removed]"
          },
          "metadata": {}
        },
        {
          "output_type": "display_data",
          "data": {
            "text/plain": [
              "<PIL.Image.Image image mode=RGB size=224x224>"
            ],
            "image/png": "[encoded data removed]"
          },
          "metadata": {}
        },
        {
          "output_type": "display_data",
          "data": {
            "text/plain": [
              "<PIL.Image.Image image mode=RGB size=224x224>"
            ],
            "image/png": "[encoded data removed]"
          },
          "metadata": {}
        },
        {
          "output_type": "display_data",
          "data": {
            "text/plain": [
              "<PIL.Image.Image image mode=RGB size=224x224>"
            ],
            "image/png": "[encoded data removed]"
          },
          "metadata": {}
        },
        {
          "output_type": "display_data",
          "data": {
            "text/plain": [
              "<PIL.Image.Image image mode=RGB size=224x224>"
            ],
            "image/png": "[encoded data removed]"
          },
          "metadata": {}
        },
        {
          "output_type": "display_data",
          "data": {
            "text/plain": [
              "<PIL.Image.Image image mode=RGB size=224x224>"
            ],
            "image/png": "[encoded data removed]"
          },
          "metadata": {}
        },
        {
          "output_type": "display_data",
          "data": {
            "text/plain": [
              "<PIL.Image.Image image mode=RGB size=224x224>"
            ],
            "image/png": "[encoded data removed]"
          },
          "metadata": {}
        },
        {
          "output_type": "display_data",
          "data": {
            "text/plain": [
              "<PIL.Image.Image image mode=RGB size=224x224>"
            ],
            "image/png": "[encoded data removed]"
          },
          "metadata": {}
        },
        {
          "output_type": "display_data",
          "data": {
            "text/plain": [
              "<PIL.Image.Image image mode=RGB size=224x224>"
            ],
            "image/png": "[encoded data removed]"
          },
          "metadata": {}
        },
        {
          "output_type": "display_data",
          "data": {
            "text/plain": [
              "<PIL.Image.Image image mode=RGB size=224x224>"
            ],
            "image/png": "[encoded data removed]"
          },
          "metadata": {}
        },
        {
          "output_type": "display_data",
          "data": {
            "text/plain": [
              "<PIL.Image.Image image mode=RGB size=224x224>"
            ],
            "image/png": "[encoded data removed]"
          },
          "metadata": {}
        },
        {
          "output_type": "display_data",
          "data": {
            "text/plain": [
              "<PIL.Image.Image image mode=RGB size=224x224>"
            ],
            "image/png": "[encoded data removed]"
          },
          "metadata": {}
        },
        {
          "output_type": "display_data",
          "data": {
            "text/plain": [
              "<PIL.Image.Image image mode=RGB size=224x224>"
            ],
            "image/png": "[encoded data removed]"
          },
          "metadata": {}
        },
        {
          "output_type": "display_data",
          "data": {
            "text/plain": [
              "<PIL.Image.Image image mode=RGB size=224x224>"
            ],
            "image/png": "[encoded data removed]"
          },
          "metadata": {}
        },
        {
          "output_type": "display_data",
          "data": {
            "text/plain": [
              "<PIL.Image.Image image mode=RGB size=224x224>"
            ],
            "image/png": "[encoded data removed]"
          },
          "metadata": {}
        },
        {
          "output_type": "display_data",
          "data": {
            "text/plain": [
              "<PIL.Image.Image image mode=RGB size=224x224>"
            ],
            "image/png": "[encoded data removed]"
          },
          "metadata": {}
        },
        {
          "output_type": "display_data",
          "data": {
            "text/plain": [
              "<PIL.Image.Image image mode=RGB size=224x224>"
            ],
            "image/png": "[encoded data removed]"
          },
          "metadata": {}
        },
        {
          "output_type": "display_data",
          "data": {
            "text/plain": [
              "<PIL.Image.Image image mode=RGB size=224x224>"
            ],
            "image/png": "[encoded data removed]"
          },
          "metadata": {}
        },
        {
          "output_type": "display_data",
          "data": {
            "text/plain": [
              "<PIL.Image.Image image mode=RGB size=224x224>"
            ],
            "image/png": "[encoded data removed]"
          },
          "metadata": {}
        },
        {
          "output_type": "display_data",
          "data": {
            "text/plain": [
              "<PIL.Image.Image image mode=RGB size=224x224>"
            ],
            "image/png": "[encoded data removed]"
          },
          "metadata": {}
        },
        {
          "output_type": "display_data",
          "data": {
            "text/plain": [
              "<PIL.Image.Image image mode=RGB size=224x224>"
            ],
            "image/png": "[encoded data removed]"
          },
          "metadata": {}
        },
        {
          "output_type": "display_data",
          "data": {
            "text/plain": [
              "<PIL.Image.Image image mode=RGB size=224x224>"
            ],
            "image/png": "[encoded data removed]"
          },
          "metadata": {}
        },
        {
          "output_type": "display_data",
          "data": {
            "text/plain": [
              "<PIL.Image.Image image mode=RGB size=224x224>"
            ],
            "image/png": "[encoded data removed]"
          },
          "metadata": {}
        },
        {
          "output_type": "display_data",
          "data": {
            "text/plain": [
              "<PIL.Image.Image image mode=RGB size=224x224>"
            ],
            "image/png": "[encoded data removed]"
          },
          "metadata": {}
        },
        {
          "output_type": "display_data",
          "data": {
            "text/plain": [
              "<PIL.Image.Image image mode=RGB size=224x224>"
            ],
            "image/png": "[encoded data removed]"
          },
          "metadata": {}
        },
        {
          "output_type": "display_data",
          "data": {
            "text/plain": [
              "<PIL.Image.Image image mode=RGB size=224x224>"
            ],
            "image/png": "[encoded data removed]"
          },
          "metadata": {}
        },
        {
          "output_type": "display_data",
          "data": {
            "text/plain": [
              "<PIL.Image.Image image mode=RGB size=224x224>"
            ],
            "image/png": "[encoded data removed]"
          },
          "metadata": {}
        },
        {
          "output_type": "display_data",
          "data": {
            "text/plain": [
              "<PIL.Image.Image image mode=RGB size=224x224>"
            ],
            "image/png": "[encoded data removed]"
          },
          "metadata": {}
        },
        {
          "output_type": "display_data",
          "data": {
            "text/plain": [
              "<PIL.Image.Image image mode=RGB size=224x224>"
            ],
            "image/png": "[encoded data removed]"
          },
          "metadata": {}
        },
        {
          "output_type": "display_data",
          "data": {
            "text/plain": [
              "<PIL.Image.Image image mode=RGB size=224x224>"
            ],
            "image/png": "[encoded data removed]"
          },
          "metadata": {}
        },
        {
          "output_type": "display_data",
          "data": {
            "text/plain": [
              "<PIL.Image.Image image mode=RGB size=224x224>"
            ],
            "image/png": "[encoded data removed]"
          },
          "metadata": {}
        },
        {
          "output_type": "display_data",
          "data": {
            "text/plain": [
              "<PIL.Image.Image image mode=RGB size=224x224>"
            ],
            "image/png": "[encoded data removed]"
          },
          "metadata": {}
        },
        {
          "output_type": "display_data",
          "data": {
            "text/plain": [
              "<PIL.Image.Image image mode=RGB size=224x224>"
            ],
            "image/png": "[encoded data removed]"
          },
          "metadata": {}
        },
        {
          "output_type": "display_data",
          "data": {
            "text/plain": [
              "<PIL.Image.Image image mode=RGB size=224x224>"
            ],
            "image/png": "[encoded data removed]"
          },
          "metadata": {}
        },
        {
          "output_type": "display_data",
          "data": {
            "text/plain": [
              "<PIL.Image.Image image mode=RGB size=224x224>"
            ],
            "image/png": "[encoded data removed]"
          },
          "metadata": {}
        },
        {
          "output_type": "display_data",
          "data": {
            "text/plain": [
              "<PIL.Image.Image image mode=RGB size=224x224>"
            ],
            "image/png": "[encoded data removed]"
          },
          "metadata": {}
        },
        {
          "output_type": "display_data",
          "data": {
            "text/plain": [
              "<PIL.Image.Image image mode=RGB size=224x224>"
            ],
            "image/png": "[encoded data removed]"
          },
          "metadata": {}
        },
        {
          "output_type": "display_data",
          "data": {
            "text/plain": [
              "<PIL.Image.Image image mode=RGB size=224x224>"
            ],
            "image/png": "[encoded data removed]"
          },
          "metadata": {}
        },
        {
          "output_type": "display_data",
          "data": {
            "text/plain": [
              "<PIL.Image.Image image mode=RGB size=224x224>"
            ],
            "image/png": "[encoded data removed]"
          },
          "metadata": {}
        },
        {
          "output_type": "display_data",
          "data": {
            "text/plain": [
              "<PIL.Image.Image image mode=RGB size=224x224>"
            ],
            "image/png": "[encoded data removed]"
          },
          "metadata": {}
        },
        {
          "output_type": "display_data",
          "data": {
            "text/plain": [
              "<PIL.Image.Image image mode=RGB size=224x224>"
            ],
            "image/png": "[encoded data removed]"
          },
          "metadata": {}
        },
        {
          "output_type": "display_data",
          "data": {
            "text/plain": [
              "<PIL.Image.Image image mode=RGB size=224x224>"
            ],
            "image/png": "[encoded data removed]"
          },
          "metadata": {}
        },
        {
          "output_type": "display_data",
          "data": {
            "text/plain": [
              "<PIL.Image.Image image mode=RGB size=224x224>"
            ],
            "image/png": "[encoded data removed]"
          },
          "metadata": {}
        },
        {
          "output_type": "display_data",
          "data": {
            "text/plain": [
              "<PIL.Image.Image image mode=RGB size=224x224>"
            ],
            "image/png": "[encoded data removed]"
          },
          "metadata": {}
        },
        {
          "output_type": "display_data",
          "data": {
            "text/plain": [
              "<PIL.Image.Image image mode=RGB size=224x224>"
            ],
            "image/png": "[encoded data removed]"
          },
          "metadata": {}
        },
        {
          "output_type": "display_data",
          "data": {
            "text/plain": [
              "<PIL.Image.Image image mode=RGB size=224x224>"
            ],
            "image/png": "[encoded data removed]"
          },
          "metadata": {}
        },
        {
          "output_type": "display_data",
          "data": {
            "text/plain": [
              "<PIL.Image.Image image mode=RGB size=224x224>"
            ],
            "image/png": "[encoded data removed]"
          },
          "metadata": {}
        },
        {
          "output_type": "display_data",
          "data": {
            "text/plain": [
              "<PIL.Image.Image image mode=RGB size=224x224>"
            ],
            "image/png": "[encoded data removed]"
          },
          "metadata": {}
        },
        {
          "output_type": "display_data",
          "data": {
            "text/plain": [
              "<PIL.Image.Image image mode=RGB size=224x224>"
            ],
            "image/png": "[encoded data removed]"
          },
          "metadata": {}
        },
        {
          "output_type": "display_data",
          "data": {
            "text/plain": [
              "<PIL.Image.Image image mode=RGB size=224x224>"
            ],
            "image/png": "[encoded data removed]"
          },
          "metadata": {}
        },
        {
          "output_type": "display_data",
          "data": {
            "text/plain": [
              "<PIL.Image.Image image mode=RGB size=224x224>"
            ],
            "image/png": "[encoded data removed]"
          },
          "metadata": {}
        },
        {
          "output_type": "display_data",
          "data": {
            "text/plain": [
              "<PIL.Image.Image image mode=RGB size=224x224>"
            ],
            "image/png": "[encoded data removed]"
          },
          "metadata": {}
        },
        {
          "output_type": "display_data",
          "data": {
            "text/plain": [
              "<PIL.Image.Image image mode=RGB size=224x224>"
            ],
            "image/png": "[encoded data removed]"
          },
          "metadata": {}
        },
        {
          "output_type": "display_data",
          "data": {
            "text/plain": [
              "<PIL.Image.Image image mode=RGB size=224x224>"
            ],
            "image/png": "[encoded data removed]"
          },
          "metadata": {}
        },
        {
          "output_type": "display_data",
          "data": {
            "text/plain": [
              "<PIL.Image.Image image mode=RGB size=224x224>"
            ],
            "image/png": "[encoded data removed]"
          },
          "metadata": {}
        },
        {
          "output_type": "display_data",
          "data": {
            "text/plain": [
              "<PIL.Image.Image image mode=RGB size=224x224>"
            ],
            "image/png": "[encoded data removed]"
          },
          "metadata": {}
        },
        {
          "output_type": "display_data",
          "data": {
            "text/plain": [
              "<PIL.Image.Image image mode=RGB size=224x224>"
            ],
            "image/png": "[encoded data removed]"
          },
          "metadata": {}
        },
        {
          "output_type": "display_data",
          "data": {
            "text/plain": [
              "<PIL.Image.Image image mode=RGB size=224x224>"
            ],
            "image/png": "[encoded data removed]"
          },
          "metadata": {}
        },
        {
          "output_type": "display_data",
          "data": {
            "text/plain": [
              "<PIL.Image.Image image mode=RGB size=224x224>"
            ],
            "image/png": "[encoded data removed]"
          },
          "metadata": {}
        },
        {
          "output_type": "display_data",
          "data": {
            "text/plain": [
              "<PIL.Image.Image image mode=RGB size=224x224>"
            ],
            "image/png": "[encoded data removed]"
          },
          "metadata": {}
        },
        {
          "output_type": "display_data",
          "data": {
            "text/plain": [
              "<PIL.Image.Image image mode=RGB size=224x224>"
            ],
            "image/png": "[encoded data removed]"
          },
          "metadata": {}
        },
        {
          "output_type": "display_data",
          "data": {
            "text/plain": [
              "<PIL.Image.Image image mode=RGB size=224x224>"
            ],
            "image/png": "[encoded data removed]"
          },
          "metadata": {}
        },
        {
          "output_type": "display_data",
          "data": {
            "text/plain": [
              "<PIL.Image.Image image mode=RGB size=224x224>"
            ],
            "image/png": "[encoded data removed]"
          },
          "metadata": {}
        },
        {
          "output_type": "display_data",
          "data": {
            "text/plain": [
              "<PIL.Image.Image image mode=RGB size=224x224>"
            ],
            "image/png": "[encoded data removed]"
          },
          "metadata": {}
        },
        {
          "output_type": "display_data",
          "data": {
            "text/plain": [
              "<PIL.Image.Image image mode=RGB size=224x224>"
            ],
            "image/png": "[encoded data removed]"
          },
          "metadata": {}
        },
        {
          "output_type": "display_data",
          "data": {
            "text/plain": [
              "<PIL.Image.Image image mode=RGB size=224x224>"
            ],
            "image/png": "[encoded data removed]"
          },
          "metadata": {}
        },
        {
          "output_type": "display_data",
          "data": {
            "text/plain": [
              "<PIL.Image.Image image mode=RGB size=224x224>"
            ],
            "image/png": "[encoded data removed]"
          },
          "metadata": {}
        },
        {
          "output_type": "display_data",
          "data": {
            "text/plain": [
              "<PIL.Image.Image image mode=RGB size=224x224>"
            ],
            "image/png": "[encoded data removed]"
          },
          "metadata": {}
        },
        {
          "output_type": "display_data",
          "data": {
            "text/plain": [
              "<PIL.Image.Image image mode=RGB size=224x224>"
            ],
            "image/png": "[encoded data removed]"
          },
          "metadata": {}
        },
        {
          "output_type": "display_data",
          "data": {
            "text/plain": [
              "<PIL.Image.Image image mode=RGB size=224x224>"
            ],
            "image/png": "[encoded data removed]"
          },
          "metadata": {}
        },
        {
          "output_type": "display_data",
          "data": {
            "text/plain": [
              "<PIL.Image.Image image mode=RGB size=224x224>"
            ],
            "image/png": "[encoded data removed]"
          },
          "metadata": {}
        },
        {
          "output_type": "display_data",
          "data": {
            "text/plain": [
              "<PIL.Image.Image image mode=RGB size=224x224>"
            ],
            "image/png": "[encoded data removed]"
          },
          "metadata": {}
        },
        {
          "output_type": "display_data",
          "data": {
            "text/plain": [
              "<PIL.Image.Image image mode=RGB size=224x224>"
            ],
            "image/png": "[encoded data removed]"
          },
          "metadata": {}
        },
        {
          "output_type": "display_data",
          "data": {
            "text/plain": [
              "<PIL.Image.Image image mode=RGB size=224x224>"
            ],
            "image/png": "[encoded data removed]"
          },
          "metadata": {}
        },
        {
          "output_type": "display_data",
          "data": {
            "text/plain": [
              "<PIL.Image.Image image mode=RGB size=224x224>"
            ],
            "image/png": "[encoded data removed]"
          },
          "metadata": {}
        },
        {
          "output_type": "display_data",
          "data": {
            "text/plain": [
              "<PIL.Image.Image image mode=RGB size=224x224>"
            ],
            "image/png": "[encoded data removed]"
          },
          "metadata": {}
        },
        {
          "output_type": "display_data",
          "data": {
            "text/plain": [
              "<PIL.Image.Image image mode=RGB size=224x224>"
            ],
            "image/png": "[encoded data removed]"
          },
          "metadata": {}
        },
        {
          "output_type": "display_data",
          "data": {
            "text/plain": [
              "<PIL.Image.Image image mode=RGB size=224x224>"
            ],
            "image/png": "[encoded data removed]"
          },
          "metadata": {}
        },
        {
          "output_type": "display_data",
          "data": {
            "text/plain": [
              "<PIL.Image.Image image mode=RGB size=224x224>"
            ],
            "image/png": "[encoded data removed]"
          },
          "metadata": {}
        },
        {
          "output_type": "display_data",
          "data": {
            "text/plain": [
              "<PIL.Image.Image image mode=RGB size=224x224>"
            ],
            "image/png": "[encoded data removed]"
          },
          "metadata": {}
        },
        {
          "output_type": "display_data",
          "data": {
            "text/plain": [
              "<PIL.Image.Image image mode=RGB size=224x224>"
            ],
            "image/png": "[encoded data removed]"
          },
          "metadata": {}
        },
        {
          "output_type": "display_data",
          "data": {
            "text/plain": [
              "<PIL.Image.Image image mode=RGB size=224x224>"
            ],
            "image/png": "[encoded data removed]"
          },
          "metadata": {}
        },
        {
          "output_type": "display_data",
          "data": {
            "text/plain": [
              "<PIL.Image.Image image mode=RGB size=224x224>"
            ],
            "image/png": "[encoded data removed]"
          },
          "metadata": {}
        },
        {
          "output_type": "display_data",
          "data": {
            "text/plain": [
              "<PIL.Image.Image image mode=RGB size=224x224>"
            ],
            "image/png": "[encoded data removed]"
          },
          "metadata": {}
        },
        {
          "output_type": "display_data",
          "data": {
            "text/plain": [
              "<PIL.Image.Image image mode=RGB size=224x224>"
            ],
            "image/png": "[encoded data removed]"
          },
          "metadata": {}
        },
        {
          "output_type": "display_data",
          "data": {
            "text/plain": [
              "<PIL.Image.Image image mode=RGB size=224x224>"
            ],
            "image/png": "[encoded data removed]"
          },
          "metadata": {}
        },
        {
          "output_type": "display_data",
          "data": {
            "text/plain": [
              "<PIL.Image.Image image mode=RGB size=224x224>"
            ],
            "image/png": "[encoded data removed]"
          },
          "metadata": {}
        },
        {
          "output_type": "display_data",
          "data": {
            "text/plain": [
              "<PIL.Image.Image image mode=RGB size=224x224>"
            ],
            "image/png": "[encoded data removed]"
          },
          "metadata": {}
        },
        {
          "output_type": "display_data",
          "data": {
            "text/plain": [
              "<PIL.Image.Image image mode=RGB size=224x224>"
            ],
            "image/png": "[encoded data removed]"
          },
          "metadata": {}
        },
        {
          "output_type": "display_data",
          "data": {
            "text/plain": [
              "<PIL.Image.Image image mode=RGB size=224x224>"
            ],
            "image/png": "[encoded data removed]"
          },
          "metadata": {}
        },
        {
          "output_type": "display_data",
          "data": {
            "text/plain": [
              "<PIL.Image.Image image mode=RGB size=224x224>"
            ],
            "image/png": "[encoded data removed]"
          },
          "metadata": {}
        },
        {
          "output_type": "display_data",
          "data": {
            "text/plain": [
              "<PIL.Image.Image image mode=RGB size=224x224>"
            ],
            "image/png": "[encoded data removed]"
          },
          "metadata": {}
        },
        {
          "output_type": "display_data",
          "data": {
            "text/plain": [
              "<PIL.Image.Image image mode=RGB size=224x224>"
            ],
            "image/png": "[encoded data removed]"
          },
          "metadata": {}
        },
        {
          "output_type": "display_data",
          "data": {
            "text/plain": [
              "<PIL.Image.Image image mode=RGB size=224x224>"
            ],
            "image/png": "[encoded data removed]"
          },
          "metadata": {}
        },
        {
          "output_type": "display_data",
          "data": {
            "text/plain": [
              "<PIL.Image.Image image mode=RGB size=224x224>"
            ],
            "image/png": "[encoded data removed]"
          },
          "metadata": {}
        },
        {
          "output_type": "display_data",
          "data": {
            "text/plain": [
              "<PIL.Image.Image image mode=RGB size=224x224>"
            ],
            "image/png": "[encoded data removed]"
          },
          "metadata": {}
        },
        {
          "output_type": "display_data",
          "data": {
            "text/plain": [
              "<PIL.Image.Image image mode=RGB size=224x224>"
            ],
            "image/png": "[encoded data removed]"
          },
          "metadata": {}
        },
        {
          "output_type": "display_data",
          "data": {
            "text/plain": [
              "<PIL.Image.Image image mode=RGB size=224x224>"
            ],
            "image/png": "[encoded data removed]"
          },
          "metadata": {}
        },
        {
          "output_type": "display_data",
          "data": {
            "text/plain": [
              "<PIL.Image.Image image mode=RGB size=224x224>"
            ],
            "image/png": "[encoded data removed]"
          },
          "metadata": {}
        },
        {
          "output_type": "display_data",
          "data": {
            "text/plain": [
              "<PIL.Image.Image image mode=RGB size=224x224>"
            ],
            "image/png": "[encoded data removed]"
          },
          "metadata": {}
        },
        {
          "output_type": "display_data",
          "data": {
            "text/plain": [
              "<PIL.Image.Image image mode=RGB size=224x224>"
            ],
            "image/png": "[encoded data removed]"
          },
          "metadata": {}
        },
        {
          "output_type": "display_data",
          "data": {
            "text/plain": [
              "<PIL.Image.Image image mode=RGB size=224x224>"
            ],
            "image/png": "[encoded data removed]"
          },
          "metadata": {}
        },
        {
          "output_type": "display_data",
          "data": {
            "text/plain": [
              "<PIL.Image.Image image mode=RGB size=224x224>"
            ],
            "image/png": "[encoded data removed]"
          },
          "metadata": {}
        },
        {
          "output_type": "display_data",
          "data": {
            "text/plain": [
              "<PIL.Image.Image image mode=RGB size=224x224>"
            ],
            "image/png": "[encoded data removed]"
          },
          "metadata": {}
        },
        {
          "output_type": "display_data",
          "data": {
            "text/plain": [
              "<PIL.Image.Image image mode=RGB size=224x224>"
            ],
            "image/png": "[encoded data removed]"
          },
          "metadata": {}
        },
        {
          "output_type": "display_data",
          "data": {
            "text/plain": [
              "<PIL.Image.Image image mode=RGB size=224x224>"
            ],
            "image/png": "[encoded data removed]"
          },
          "metadata": {}
        },
        {
          "output_type": "display_data",
          "data": {
            "text/plain": [
              "<PIL.Image.Image image mode=RGB size=224x224>"
            ],
            "image/png": "[encoded data removed]"
          },
          "metadata": {}
        },
        {
          "output_type": "display_data",
          "data": {
            "text/plain": [
              "<PIL.Image.Image image mode=RGB size=224x224>"
            ],
            "image/png": "[encoded data removed]"
          },
          "metadata": {}
        },
        {
          "output_type": "display_data",
          "data": {
            "text/plain": [
              "<PIL.Image.Image image mode=RGB size=224x224>"
            ],
            "image/png": "[encoded data removed]"
          },
          "metadata": {}
        },
        {
          "output_type": "display_data",
          "data": {
            "text/plain": [
              "<PIL.Image.Image image mode=RGB size=224x224>"
            ],
            "image/png": "[encoded data removed]"
          },
          "metadata": {}
        },
        {
          "output_type": "display_data",
          "data": {
            "text/plain": [
              "<PIL.Image.Image image mode=RGB size=224x224>"
            ],
            "image/png": "[encoded data removed]"
          },
          "metadata": {}
        },
        {
          "output_type": "display_data",
          "data": {
            "text/plain": [
              "<PIL.Image.Image image mode=RGB size=224x224>"
            ],
            "image/png": "[encoded data removed]"
          },
          "metadata": {}
        },
        {
          "output_type": "display_data",
          "data": {
            "text/plain": [
              "<PIL.Image.Image image mode=RGB size=224x224>"
            ],
            "image/png": "[encoded data removed]"
          },
          "metadata": {}
        },
        {
          "output_type": "display_data",
          "data": {
            "text/plain": [
              "<PIL.Image.Image image mode=RGB size=224x224>"
            ],
            "image/png": "[encoded data removed]"
          },
          "metadata": {}
        },
        {
          "output_type": "display_data",
          "data": {
            "text/plain": [
              "<PIL.Image.Image image mode=RGB size=224x224>"
            ],
            "image/png": "[encoded data removed]"
          },
          "metadata": {}
        },
        {
          "output_type": "display_data",
          "data": {
            "text/plain": [
              "<PIL.Image.Image image mode=RGB size=224x224>"
            ],
            "image/png": "[encoded data removed]"
          },
          "metadata": {}
        },
        {
          "output_type": "error",
          "ename": "RuntimeError",
          "evalue": "ignored",
          "traceback": [
            "\u001b[0;31m---------------------------------------------------------------------------\u001b[0m",
            "\u001b[0;31mRuntimeError\u001b[0m                              Traceback (most recent call last)",
            "\u001b[0;32m<ipython-input-16-bd943e31559c>\u001b[0m in \u001b[0;36m<cell line: 10>\u001b[0;34m()\u001b[0m\n\u001b[1;32m     15\u001b[0m \u001b[0;34m\u001b[0m\u001b[0m\n\u001b[1;32m     16\u001b[0m     \u001b[0;31m# Read the .nii image containing the volume with SimpleITK:\u001b[0m\u001b[0;34m\u001b[0m\u001b[0;34m\u001b[0m\u001b[0m\n\u001b[0;32m---> 17\u001b[0;31m     \u001b[0msitk_t1\u001b[0m \u001b[0;34m=\u001b[0m \u001b[0msitk\u001b[0m\u001b[0;34m.\u001b[0m\u001b[0mReadImage\u001b[0m\u001b[0;34m(\u001b[0m\u001b[0mt1_fn\u001b[0m\u001b[0;34m)\u001b[0m\u001b[0;34m\u001b[0m\u001b[0;34m\u001b[0m\u001b[0m\n\u001b[0m\u001b[1;32m     18\u001b[0m \u001b[0;34m\u001b[0m\u001b[0m\n\u001b[1;32m     19\u001b[0m     \u001b[0;31m# and access the numpy array:\u001b[0m\u001b[0;34m\u001b[0m\u001b[0;34m\u001b[0m\u001b[0m\n",
            "\u001b[0;32m/usr/local/lib/python3.10/dist-packages/SimpleITK/extra.py\u001b[0m in \u001b[0;36mReadImage\u001b[0;34m(fileName, outputPixelType, imageIO)\u001b[0m\n\u001b[1;32m    373\u001b[0m     \u001b[0mreader\u001b[0m\u001b[0;34m.\u001b[0m\u001b[0mSetImageIO\u001b[0m\u001b[0;34m(\u001b[0m\u001b[0mimageIO\u001b[0m\u001b[0;34m)\u001b[0m\u001b[0;34m\u001b[0m\u001b[0;34m\u001b[0m\u001b[0m\n\u001b[1;32m    374\u001b[0m     \u001b[0mreader\u001b[0m\u001b[0;34m.\u001b[0m\u001b[0mSetOutputPixelType\u001b[0m\u001b[0;34m(\u001b[0m\u001b[0moutputPixelType\u001b[0m\u001b[0;34m)\u001b[0m\u001b[0;34m\u001b[0m\u001b[0;34m\u001b[0m\u001b[0m\n\u001b[0;32m--> 375\u001b[0;31m     \u001b[0;32mreturn\u001b[0m \u001b[0mreader\u001b[0m\u001b[0;34m.\u001b[0m\u001b[0mExecute\u001b[0m\u001b[0;34m(\u001b[0m\u001b[0;34m)\u001b[0m\u001b[0;34m\u001b[0m\u001b[0;34m\u001b[0m\u001b[0m\n\u001b[0m\u001b[1;32m    376\u001b[0m \u001b[0;34m\u001b[0m\u001b[0m\n\u001b[1;32m    377\u001b[0m \u001b[0;34m\u001b[0m\u001b[0m\n",
            "\u001b[0;32m/usr/local/lib/python3.10/dist-packages/SimpleITK/SimpleITK.py\u001b[0m in \u001b[0;36mExecute\u001b[0;34m(self)\u001b[0m\n\u001b[1;32m   8428\u001b[0m \u001b[0;34m\u001b[0m\u001b[0m\n\u001b[1;32m   8429\u001b[0m         \"\"\"\n\u001b[0;32m-> 8430\u001b[0;31m         \u001b[0;32mreturn\u001b[0m \u001b[0m_SimpleITK\u001b[0m\u001b[0;34m.\u001b[0m\u001b[0mImageFileReader_Execute\u001b[0m\u001b[0;34m(\u001b[0m\u001b[0mself\u001b[0m\u001b[0;34m)\u001b[0m\u001b[0;34m\u001b[0m\u001b[0;34m\u001b[0m\u001b[0m\n\u001b[0m\u001b[1;32m   8431\u001b[0m \u001b[0;34m\u001b[0m\u001b[0m\n\u001b[1;32m   8432\u001b[0m     \u001b[0;32mdef\u001b[0m \u001b[0mReadImageInformation\u001b[0m\u001b[0;34m(\u001b[0m\u001b[0mself\u001b[0m\u001b[0;34m)\u001b[0m\u001b[0;34m:\u001b[0m\u001b[0;34m\u001b[0m\u001b[0;34m\u001b[0m\u001b[0m\n",
            "\u001b[0;31mRuntimeError\u001b[0m: Exception thrown in SimpleITK ImageFileReader_Execute: /tmp/SimpleITK/Code/IO/src/sitkImageReaderBase.cxx:105:\nsitk::ERROR: Unable to determine ImageIO reader for \"/content/MSD/Dataset100_FracAtles/imagesTs/dataset.json\""
          ]
        }
      ]
    },
    {
      "cell_type": "code",
      "source": [
        "path = '/content/MSD/Dataset100_FracAtles/imagesTs/FRAC_0057.nii.gz'\n",
        "\n",
        "\n",
        "# A path to a T1-weighted brain .nii image:\n",
        "\n",
        "# Read the .nii image containing the volume with SimpleITK:\n",
        "sitk_t1 = sitk.ReadImage(path)\n",
        "\n",
        "# and access the numpy array:\n",
        "t1 = sitk.GetArrayFromImage(sitk_t1)\n",
        "image = t1.transpose((2,1,0)).astype(np.float32)\n",
        "\n",
        "cv2_imshow(image * 255 )"
      ],
      "metadata": {
        "id": "2hGPJLpPyctv"
      },
      "execution_count": null,
      "outputs": []
    },
    {
      "cell_type": "code",
      "source": [
        "!tar -cvf \"/content/drive/MyDrive/bayena/nn_unet_preds.tar\" \"/content/MSD/Dataset100_FracAtles/imagesTs\"  > /dev/null   #[run this cell to create tar files]"
      ],
      "metadata": {
        "id": "ZjOjOFUExq59"
      },
      "execution_count": null,
      "outputs": []
    },
    {
      "cell_type": "code",
      "source": [
        "len(os.listdir('/content/MSD/Dataset100_FracAtles/imagesTs'))"
      ],
      "metadata": {
        "colab": {
          "base_uri": "https://localhost:8080/"
        },
        "id": "wF4ElPTTy_mK",
        "outputId": "57f58096-8bcd-4058-f0d6-349db396d6eb"
      },
      "execution_count": 23,
      "outputs": [
        {
          "output_type": "execute_result",
          "data": {
            "text/plain": [
              "1520"
            ]
          },
          "metadata": {},
          "execution_count": 23
        }
      ]
    },
    {
      "cell_type": "code",
      "source": [
        "train_files = os.listdir('/content/MSD/Dataset100_FracAtles/imagesTs')\n",
        "label_files = os.listdir(train_label_dir)\n",
        "print(\"train image files:\",len(train_files))\n",
        "print(\"train label files:\",len(label_files))\n",
        "print(\"Matches:\",len(set(train_files).intersection(set(label_files))))\n",
        "\n",
        "assert len(set(train_files).intersection(set(label_files))) == 1517"
      ],
      "metadata": {
        "colab": {
          "base_uri": "https://localhost:8080/"
        },
        "id": "7M3UOMDFzIiW",
        "outputId": "c3751338-d4ca-4bf3-f139-e4be9e4c0393"
      },
      "execution_count": 26,
      "outputs": [
        {
          "output_type": "stream",
          "name": "stdout",
          "text": [
            "train image files: 1520\n",
            "train label files: 1517\n",
            "Matches: 1517\n"
          ]
        }
      ]
    },
    {
      "cell_type": "code",
      "source": [
        "# next is to prepare the data for training a classifier."
      ],
      "metadata": {
        "id": "DZemHY8WzmkF"
      },
      "execution_count": null,
      "outputs": []
    }
  ]
}
