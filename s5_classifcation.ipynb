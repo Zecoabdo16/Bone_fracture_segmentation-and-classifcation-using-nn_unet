{
  "nbformat": 4,
  "nbformat_minor": 0,
  "metadata": {
    "colab": {
      "provenance": [],
      "gpuType": "T4"
    },
    "kernelspec": {
      "name": "python3",
      "display_name": "Python 3"
    },
    "language_info": {
      "name": "python"
    },
    "accelerator": "GPU"
  },
  "cells": [
    {
      "cell_type": "code",
      "execution_count": 1,
      "metadata": {
        "id": "gdRL1w0KdQXm"
      },
      "outputs": [],
      "source": [
        "!tar -xvf \"/content/drive/MyDrive/bayena/nn_unet_preds.tar\" -C \"./\"   > /dev/null   #[run this cell to extract tar files]"
      ]
    },
    {
      "cell_type": "code",
      "source": [
        "!pip install SimpleITK > /dev/null"
      ],
      "metadata": {
        "id": "78teVSJknvl3"
      },
      "execution_count": 3,
      "outputs": []
    },
    {
      "cell_type": "code",
      "source": [
        "!pip install timm > /dev/null\n",
        "!pip install evaluate > /dev/null"
      ],
      "metadata": {
        "id": "6TMhGrsDvnxn"
      },
      "execution_count": 4,
      "outputs": []
    },
    {
      "cell_type": "code",
      "source": [
        "import cv2\n",
        "import numpy as np\n",
        "import pandas as pd\n",
        "import evaluate\n",
        "\n",
        "import matplotlib.pyplot as plt\n",
        "from torch.utils.data import Dataset\n",
        "\n",
        "import torch\n",
        "from torch import nn\n",
        "from torchsummary import summary\n",
        "\n",
        "import timm\n",
        "from torch.optim import Adam, lr_scheduler\n",
        "\n",
        "\n",
        "from sklearn.metrics import roc_auc_score\n",
        "import SimpleITK as sitk\n",
        "\n",
        "import os"
      ],
      "metadata": {
        "id": "PfMsyIFUvdcQ"
      },
      "execution_count": 5,
      "outputs": []
    },
    {
      "cell_type": "code",
      "source": [
        "os.rename('/content/content/MSD/Dataset100_FracAtles/imagesTs', '/content/content/MSD/Dataset100_FracAtles/data_masks')\n",
        "#### Renaming for better elaboration"
      ],
      "metadata": {
        "id": "K8kvnfdjeQYt"
      },
      "execution_count": null,
      "outputs": []
    },
    {
      "cell_type": "code",
      "source": [
        "org_image_path = '/content/drive/MyDrive/Colab Notebooks/nnUNet_raw/Dataset100_FracAtles/imagesTr'\n",
        "pred_masks_path =  '/content/content/MSD/Dataset100_FracAtles/data_masks'\n",
        "All_data_csv_path = '/content/drive/MyDrive/bayena/dataset.csv'\n",
        "save_weights_path = '/content/drive/MyDrive/bayena/Z_resnet18_224.pth'\n",
        "load_weights_path = '/content/drive/MyDrive/bayena/Z_resnet18_224.pth'"
      ],
      "metadata": {
        "id": "ioGcJccpensc"
      },
      "execution_count": 8,
      "outputs": []
    },
    {
      "cell_type": "code",
      "source": [
        "all_data_csv = pd.read_csv(All_data_csv_path)\n",
        "all_data_csv = all_data_csv[['image_id' ,'fractured' ]]\n",
        "# correcting image names\n",
        "for i, name in enumerate(all_data_csv['image_id']):\n",
        "  all_data_csv['image_id'][i] = 'FRAC_' + str(name[6:-4]) + '_0000.nii.gz'\n",
        "\n",
        "my_list = os.listdir(org_image_path)\n",
        "final_csv = all_data_csv.loc[all_data_csv[\"image_id\"].isin(my_list)]\n",
        "final_csv.reset_index(inplace= True)\n",
        "final_csv = final_csv[['image_id' ,'fractured' ]]"
      ],
      "metadata": {
        "colab": {
          "base_uri": "https://localhost:8080/"
        },
        "id": "0TISxz5ahRZE",
        "outputId": "8f20847c-d492-43de-eb67-a4f505dff3f5"
      },
      "execution_count": 9,
      "outputs": [
        {
          "output_type": "stream",
          "name": "stderr",
          "text": [
            "<ipython-input-9-67b065020db3>:5: SettingWithCopyWarning: \n",
            "A value is trying to be set on a copy of a slice from a DataFrame\n",
            "\n",
            "See the caveats in the documentation: https://pandas.pydata.org/pandas-docs/stable/user_guide/indexing.html#returning-a-view-versus-a-copy\n",
            "  all_data_csv['image_id'][i] = 'FRAC_' + str(name[6:-4]) + '_0000.nii.gz'\n"
          ]
        }
      ]
    },
    {
      "cell_type": "code",
      "source": [
        "from sklearn.model_selection import train_test_split\n",
        "train_csv , valid_csv = train_test_split(final_csv, test_size=0.10, random_state=42)"
      ],
      "metadata": {
        "id": "2zO2l2JZxjKw"
      },
      "execution_count": 10,
      "outputs": []
    },
    {
      "cell_type": "code",
      "source": [
        "train_csv.reset_index(inplace=True)\n",
        "valid_csv.reset_index(inplace=True)\n",
        "train_csv = train_csv[['image_id' ,'fractured' ]]\n",
        "valid_csv= valid_csv[['image_id' ,'fractured' ]]"
      ],
      "metadata": {
        "id": "dhmCFr11yFFc"
      },
      "execution_count": 11,
      "outputs": []
    },
    {
      "cell_type": "code",
      "source": [
        "# Checks\n",
        "# A path to a T1-weighted brain .nii image:\n",
        "org_img = org_image_path+ '/'+ final_csv['image_id'][1514]\n",
        "mask_img= pred_masks_path + '/' + final_csv['image_id'][1514][:-12] + '.nii.gz'\n",
        "# Read the .nii image containing the volume with SimpleITK:\n",
        "sitk_t1 = sitk.ReadImage(org_img)\n",
        "sitk_t2 = sitk.ReadImage(mask_img)\n",
        "# and access the numpy array:\n",
        "t1 = sitk.GetArrayFromImage(sitk_t1)\n",
        "t2 = sitk.GetArrayFromImage(sitk_t2)"
      ],
      "metadata": {
        "id": "9ikC5jxPnOG2"
      },
      "execution_count": 15,
      "outputs": []
    },
    {
      "cell_type": "code",
      "source": [
        "from google.colab.patches import cv2_imshow\n",
        "image = t1.transpose((2,1,0)).astype(np.float32)\n",
        "mask = t2.transpose((2,1,0)).astype(np.float32)\n",
        "seg_img = image + (mask * 40)\n",
        "# mask = cv2.cvtColor(mask, cv2.COLOR_RGB2GRAY)\n",
        "cv2_imshow(mask * 255)"
      ],
      "metadata": {
        "colab": {
          "base_uri": "https://localhost:8080/",
          "height": 241
        },
        "id": "UBN3mNT7oDiT",
        "outputId": "63cf04ec-2e94-4558-a5f6-89c6d575bae5"
      },
      "execution_count": 16,
      "outputs": [
        {
          "output_type": "display_data",
          "data": {
            "text/plain": [
              "<PIL.Image.Image image mode=RGB size=224x224>"
            ],
            "image/png": "[encoded data removed]"
          },
          "metadata": {}
        }
      ]
    },
    {
      "cell_type": "code",
      "source": [
        "cv2_imshow(seg_img)"
      ],
      "metadata": {
        "colab": {
          "base_uri": "https://localhost:8080/",
          "height": 241
        },
        "id": "NWgaOavmsWQd",
        "outputId": "bad39a77-1483-4264-f04d-4b9f76f21ac2"
      },
      "execution_count": 18,
      "outputs": [
        {
          "output_type": "display_data",
          "data": {
            "text/plain": [
              "<PIL.Image.Image image mode=RGB size=224x224>"
            ],
            "image/png": "[encoded data removed]"
          },
          "metadata": {}
        }
      ]
    },
    {
      "cell_type": "code",
      "source": [
        "## Custom all in one Data_generator\n",
        "class MyGen(Dataset):\n",
        "\n",
        "    def __init__(self,\n",
        "                 org_image_path = '/content/drive/MyDrive/Colab Notebooks/nnUNet_raw/Dataset100_FracAtles/imagesTr',\n",
        "                 pred_masks_path =  '/content/content/MSD/Dataset100_FracAtles/data_masks',\n",
        "                 meta_data = final_csv,\n",
        "                 col_to_train=['fractured']):\n",
        "\n",
        "\n",
        "        self.meta_data = meta_data\n",
        "\n",
        "\n",
        "        self.select_cols = col_to_train\n",
        "\n",
        "    def num_classes(self):\n",
        "        return len(self.select_cols)\n",
        "\n",
        "    def data_size(self):\n",
        "        return self.meta_data.shape[0]\n",
        "\n",
        "    def __len__(self):\n",
        "        return self.meta_data.shape[0]\n",
        "\n",
        "\n",
        "    def __getitem__(self, idx):\n",
        "\n",
        "        # A path to a T1-weighted brain .nii image:\n",
        "        org_img = org_image_path+ '/'+ self.meta_data['image_id'][idx]\n",
        "        mask_img= pred_masks_path + '/' + self.meta_data['image_id'][idx][:-12] + '.nii.gz'\n",
        "        # Read the .nii image containing the volume with SimpleITK:\n",
        "        sitk_t1 = sitk.ReadImage(org_img)\n",
        "        sitk_t2 = sitk.ReadImage(mask_img)\n",
        "        # and access the numpy array:\n",
        "        t1 = sitk.GetArrayFromImage(sitk_t1)\n",
        "        t2 = sitk.GetArrayFromImage(sitk_t2)\n",
        "\n",
        "        image = t1.transpose((2,1,0)).astype(np.float32)\n",
        "        mask = t2.transpose((2,1,0)).astype(np.float32)\n",
        "        seg_img = image + (mask * 40)\n",
        "\n",
        "        seg_img = seg_img.transpose((2,0,1)).astype(np.float32)\n",
        "\n",
        "        label = self.meta_data.loc[idx, self.select_cols].values.astype(np.float32)\n",
        "\n",
        "        return seg_img, label\n",
        ""
      ],
      "metadata": {
        "id": "LVwQSk86f-NW"
      },
      "execution_count": 20,
      "outputs": []
    },
    {
      "cell_type": "code",
      "source": [
        "model = timm.create_model('resnet18', num_classes=1, pretrained=True)\n",
        "model = model.cuda()"
      ],
      "metadata": {
        "id": "sNsa1yVzumPx"
      },
      "execution_count": 21,
      "outputs": []
    },
    {
      "cell_type": "code",
      "source": [
        "def get_lr(optimizer):\n",
        "    for param_group in optimizer.param_groups:\n",
        "        return param_group['lr']"
      ],
      "metadata": {
        "id": "QxWiM5qwv6Pk"
      },
      "execution_count": 22,
      "outputs": []
    },
    {
      "cell_type": "code",
      "source": [
        "accuracy = evaluate.load(\"accuracy\")"
      ],
      "metadata": {
        "id": "DXqzp6Lu6QEB"
      },
      "execution_count": 23,
      "outputs": []
    },
    {
      "cell_type": "code",
      "source": [
        "def compute_metrics(test_pred,test_true):\n",
        "    predictions = test_pred\n",
        "    labels = test_true\n",
        "    acc = accuracy.compute(predictions=predictions, references=labels)\n",
        "    return acc['accuracy']"
      ],
      "metadata": {
        "id": "tAPnjF7k6nQn"
      },
      "execution_count": 24,
      "outputs": []
    },
    {
      "cell_type": "code",
      "source": [
        "\n",
        "trainGen = MyGen(meta_data = train_csv)\n",
        "\n",
        "valGen =  MyGen(meta_data = valid_csv)\n",
        "\n",
        "trainloader =  torch.utils.data.DataLoader(trainGen, batch_size=20, shuffle=True)\n",
        "testloader =  torch.utils.data.DataLoader(valGen, batch_size=1, shuffle=False)\n",
        "\n",
        "# define loss & optimizer\n",
        "Loss = nn.BCELoss()\n",
        "\n",
        "optimizer = Adam(model.parameters(), lr=1e-3)\n",
        "\n",
        "scheduler = lr_scheduler.StepLR(optimizer, step_size=5, gamma=0.5)  # Decay LR by a factor of 0.5 every 5 epochs\n",
        "\n",
        "#model.load_state_dict(torch.load(load_weights_path))\n",
        "\n",
        "# training\n",
        "const_threshold = 5\n",
        "\n",
        "val_acc = 0\n",
        "best_acc = 0\n",
        "const_cnt = 0\n",
        "\n",
        "for epoch in range(5):\n",
        "\n",
        "    for idx, data in enumerate(trainloader):\n",
        "      train_data, train_labels = data\n",
        "      train_data, train_labels  = train_data.cuda(), train_labels.cuda()\n",
        "      y_pred = model(train_data)\n",
        "      y_pred = torch.sigmoid(y_pred)\n",
        "      loss = Loss(y_pred, train_labels)\n",
        "\n",
        "      optimizer.zero_grad()\n",
        "      loss.backward()\n",
        "      optimizer.step()\n",
        "\n",
        "      # validation\n",
        "      if idx % 15 == 0:\n",
        "         model.eval()\n",
        "         with torch.no_grad():\n",
        "              test_pred = []\n",
        "              test_true = []\n",
        "              for data in testloader:\n",
        "                  test_data, test_labels = data\n",
        "                  test_data = test_data.cuda()\n",
        "                  y_pred = model(test_data)\n",
        "                  y_pred = torch.sigmoid(y_pred)\n",
        "                  y_pred = torch.round(y_pred)\n",
        "                  test_pred.append(y_pred.cpu().detach().numpy())\n",
        "                  test_true.append(test_labels.numpy())\n",
        "\n",
        "              test_true = np.concatenate(test_true)\n",
        "              test_pred = np.concatenate(test_pred)\n",
        "              val_acc =  compute_metrics(test_pred, test_true)\n",
        "              model.train()\n",
        "\n",
        "              if best_acc < val_acc:\n",
        "                  const_cnt = 0\n",
        "                  scheduler = lr_scheduler.StepLR(optimizer, step_size=5, gamma=0.5)\n",
        "                  best_acc = val_acc\n",
        "                  torch.save(model.state_dict(), save_weights_path)\n",
        "              else:\n",
        "                  const_cnt += 1\n",
        "                  scheduler.step()\n",
        "\n",
        "              if (const_cnt > const_threshold):\n",
        "                  const_cnt = 0\n",
        "                  scheduler = lr_scheduler.StepLR(optimizer, step_size=5, gamma=0.5)\n",
        "                  model.load_state_dict(torch.load(save_weights_path))\n",
        "\n",
        "              lr = get_lr(optimizer)\n",
        "\n",
        "              print ('Epoch=%s, BatchID=%s, Val_acc=%.4f, Best_Val_acc=%.4f, lr=%f' %(epoch, idx, val_acc, best_acc, lr))\n"
      ],
      "metadata": {
        "colab": {
          "base_uri": "https://localhost:8080/"
        },
        "id": "xf3gDJQ8wI5e",
        "outputId": "adbddc82-5896-44bf-ba35-4fb136627ca6"
      },
      "execution_count": 25,
      "outputs": [
        {
          "output_type": "stream",
          "name": "stdout",
          "text": [
            "Epoch=0, BatchID=0, Val_acc=0.4803, Best_Val_acc=0.4803, lr=0.001000\n",
            "Epoch=0, BatchID=15, Val_acc=0.5395, Best_Val_acc=0.5395, lr=0.001000\n",
            "Epoch=0, BatchID=30, Val_acc=0.6776, Best_Val_acc=0.6776, lr=0.001000\n",
            "Epoch=0, BatchID=45, Val_acc=0.7829, Best_Val_acc=0.7829, lr=0.001000\n",
            "Epoch=0, BatchID=60, Val_acc=0.7632, Best_Val_acc=0.7829, lr=0.001000\n",
            "Epoch=1, BatchID=0, Val_acc=0.6118, Best_Val_acc=0.7829, lr=0.001000\n",
            "Epoch=1, BatchID=15, Val_acc=0.7763, Best_Val_acc=0.7829, lr=0.001000\n",
            "Epoch=1, BatchID=30, Val_acc=0.6908, Best_Val_acc=0.7829, lr=0.001000\n",
            "Epoch=1, BatchID=45, Val_acc=0.7105, Best_Val_acc=0.7829, lr=0.000500\n",
            "Epoch=1, BatchID=60, Val_acc=0.6776, Best_Val_acc=0.7829, lr=0.000500\n",
            "Epoch=2, BatchID=0, Val_acc=0.7763, Best_Val_acc=0.7829, lr=0.000500\n",
            "Epoch=2, BatchID=15, Val_acc=0.7829, Best_Val_acc=0.7829, lr=0.000500\n",
            "Epoch=2, BatchID=30, Val_acc=0.8026, Best_Val_acc=0.8026, lr=0.000500\n",
            "Epoch=2, BatchID=45, Val_acc=0.7763, Best_Val_acc=0.8026, lr=0.000500\n",
            "Epoch=2, BatchID=60, Val_acc=0.7105, Best_Val_acc=0.8026, lr=0.000500\n",
            "Epoch=3, BatchID=0, Val_acc=0.7171, Best_Val_acc=0.8026, lr=0.000500\n",
            "Epoch=3, BatchID=15, Val_acc=0.7500, Best_Val_acc=0.8026, lr=0.000500\n",
            "Epoch=3, BatchID=30, Val_acc=0.7697, Best_Val_acc=0.8026, lr=0.000250\n",
            "Epoch=3, BatchID=45, Val_acc=0.7632, Best_Val_acc=0.8026, lr=0.000250\n",
            "Epoch=3, BatchID=60, Val_acc=0.7697, Best_Val_acc=0.8026, lr=0.000250\n",
            "Epoch=4, BatchID=0, Val_acc=0.7763, Best_Val_acc=0.8026, lr=0.000250\n",
            "Epoch=4, BatchID=15, Val_acc=0.7566, Best_Val_acc=0.8026, lr=0.000250\n",
            "Epoch=4, BatchID=30, Val_acc=0.7895, Best_Val_acc=0.8026, lr=0.000250\n",
            "Epoch=4, BatchID=45, Val_acc=0.8026, Best_Val_acc=0.8026, lr=0.000125\n",
            "Epoch=4, BatchID=60, Val_acc=0.7829, Best_Val_acc=0.8026, lr=0.000125\n"
          ]
        }
      ]
    }
  ]
}